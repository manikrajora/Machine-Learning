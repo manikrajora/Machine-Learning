{
 "cells": [
  {
   "cell_type": "code",
   "execution_count": 1,
   "metadata": {},
   "outputs": [],
   "source": [
    "import gym\n",
    "import gym.spaces\n",
    "import numpy as np\n",
    "from __future__ import division\n",
    "env = gym.make('Taxi-v2')"
   ]
  },
  {
   "cell_type": "code",
   "execution_count": 2,
   "metadata": {},
   "outputs": [],
   "source": [
    "###epsilon greedy##\n",
    "def explore_Greedy(epsilon,count,avg_v):\n",
    "    if np.random.rand()<epsilon:\n",
    "        k=np.random.randint(1,env.action_space.n)\n",
    "    else:\n",
    "        k=np.argmax(avg_v)\n",
    "    return k\n",
    "\n",
    "###Boltzmann-distributed exploration###\n",
    "def boltzmann(theta,count,avg_v):\n",
    "    P=np.zeros(env.action_space.n)\n",
    "    E=np.zeros(env.action_space.n)\n",
    "    #for i in range(env.action_space.n):\n",
    "        #E[i] = np.exp(avg_v[i]/theta)\n",
    "    #for j in range(env.action_space.n):\n",
    "        #P[j]=E[j]/np.sum(E)\n",
    "    #theta_use = theta*np.exp(-np.sum(count)/2500)\n",
    "    theta_use =theta- np.sum(count)*0.001\n",
    "    E = np.exp(avg_v/theta)\n",
    "    P = E/np.sum(E)\n",
    "    P_sum = np.cumsum(P)\n",
    "    ra=np.random.rand()\n",
    "    s = (ra<P_sum)\n",
    "    k = (np.where(s)[0][0])\n",
    "    #k=-1\n",
    "    #while k==-1:\n",
    "        #for i in range(env.action_space.n):\n",
    "            #if i==0 and ra<P[i]:\n",
    "                #k=i\n",
    "            #elif i==(env.action_space.n-1) and ra>=(1-P[env.action_space.n-1]):\n",
    "                #k=i\n",
    "            #elif i!=0 and ra>=np.sum(P[0:i-1]) and ra<np.sum(P[0:i]):\n",
    "                #k=i\n",
    "    return k\n",
    "            "
   ]
  },
  {
   "cell_type": "code",
   "execution_count": 3,
   "metadata": {},
   "outputs": [
    {
     "name": "stdout",
     "output_type": "stream",
     "text": [
      "-11.374402515013013\n",
      "4.348906999999983\n",
      "-0.5856821173000126\n",
      "9.682999999999982\n",
      "-12.823266037161007\n"
     ]
    }
   ],
   "source": [
    "###G-learner###\n",
    "Q = np.zeros([env.observation_space.n, env.action_space.n])\n",
    "count=np.zeros( env.action_space.n)\n",
    "avg_v=np.zeros( env.action_space.n)\n",
    "epsilon=0.15\n",
    "\n",
    "G=0\n",
    "alpha=0.2\n",
    "\n",
    "gamma=0.90  #gamma should not be changed\n",
    "\n",
    "for episode in range(700):\n",
    "    theta=100\n",
    "    done=False\n",
    "    G=0\n",
    "    reward=0\n",
    "    state=env.reset()\n",
    "    while reward!=20:\n",
    "        #action=np.argmax(Q[state])  #try different exploration strategies\n",
    "        #action=explore_Greedy(epsilon,count,avg_v)\n",
    "        action = boltzmann(theta,count,avg_v)\n",
    "        count[action] += 1\n",
    "        state2, reward, done, info = env.step(action)\n",
    "        #avg_v[action] += reward\n",
    "        if reward != 20:\n",
    "            avg_v[action]=(avg_v[action]*(count[action]-1)+reward)/count[action]\n",
    "            Q[state,action] += alpha * (reward + gamma* np.max(Q[state2,:]) - Q[state,action])\n",
    "            G += reward\n",
    "            state = state2\n",
    "        else:\n",
    "            Q[state,action] += alpha * (reward - Q[state,action])\n",
    "        #env.render()\n",
    "\n",
    "print Q[462,4]  #-11.374402515\n",
    "print Q[398,3]  # 4.348907\n",
    "print Q[253,0]  #-0.5856821173\n",
    "print Q[377,1]  # 9.683\n",
    "print Q[83,5]   #-12.8232660372"
   ]
  },
  {
   "cell_type": "code",
   "execution_count": 4,
   "metadata": {},
   "outputs": [
    {
     "name": "stdout",
     "output_type": "stream",
     "text": [
      "+---------+\n",
      "|R: | : :\u001b[35mG\u001b[0m|\n",
      "| : : : : |\n",
      "| : : : : |\n",
      "| | : | : |\n",
      "|\u001b[34;1mY\u001b[0m| :\u001b[43m \u001b[0m|B: |\n",
      "+---------+\n",
      "\n",
      "+---------+\n",
      "|R: | : :\u001b[35mG\u001b[0m|\n",
      "| : : : : |\n",
      "| : : : : |\n",
      "| | :\u001b[43m \u001b[0m| : |\n",
      "|\u001b[34;1mY\u001b[0m| : |B: |\n",
      "+---------+\n",
      "  (North)\n"
     ]
    }
   ],
   "source": [
    "##playing\n",
    "##all states: 0-499\n",
    "env.reset() #the return int is the initial state\n",
    "env.render() #visualize\n",
    "#env.action_space.n  ##6 actions\n",
    "env.step(1)\n",
    "env.render()"
   ]
  },
  {
   "cell_type": "code",
   "execution_count": 5,
   "metadata": {},
   "outputs": [],
   "source": [
    "#from gym import envs\n",
    "#envids = [spec.id for spec in envs.registry.all()]\n",
    "#for envid in sorted(envids):\n",
    "#    print(envid)\n",
    "#np.random.rand()\n",
    "#k=np.random.choice(env.action_space.n,1)\n",
    "#print k\n",
    "A=[1,4,5,68,45,2,5,6]\n",
    "#np.argmax(A)\n",
    "#explore_Greedy(0.5,count,A)\n",
    "#P=np.zeros( env.action_space.n)\n",
    "#print np.exp(avg_v[1]/theta)\n",
    "#print avg_v\n",
    "#P=np.zeros(env.action_space.n)\n",
    "#E=np.zeros(env.action_space.n)\n",
    "#for i in range(env.action_space.n):\n",
    "#    E[i] = np.exp(avg_v[i]/theta)\n",
    "#for j in range(env.action_space.n):\n",
    "#    P[j]=E[j]/np.sum(E)\n",
    "#print E\n",
    "#print np.sum(E)\n",
    "#print P\n",
    "#ra=np.random.rand()\n",
    "#k=-1\n",
    "#while k==-1:\n",
    "#    for i in range(env.action_space.n):\n",
    "#        if i==0 and ra<P[i]:\n",
    "#            k=i\n",
    "#        elif i==(env.action_space.n-1) and ra>=(1-P[env.action_space.n-1]):\n",
    "#            k=i\n",
    "#        elif i!=0 and ra>=np.sum(P[0:i-1]) and ra<np.sum(P[0:i]):\n",
    "#            k=i\n",
    "#print ra,k"
   ]
  },
  {
   "cell_type": "code",
   "execution_count": null,
   "metadata": {},
   "outputs": [],
   "source": []
  }
 ],
 "metadata": {
  "kernelspec": {
   "display_name": "Python 2",
   "language": "python",
   "name": "python2"
  },
  "language_info": {
   "codemirror_mode": {
    "name": "ipython",
    "version": 2
   },
   "file_extension": ".py",
   "mimetype": "text/x-python",
   "name": "python",
   "nbconvert_exporter": "python",
   "pygments_lexer": "ipython2",
   "version": "2.7.14"
  }
 },
 "nbformat": 4,
 "nbformat_minor": 2
}
