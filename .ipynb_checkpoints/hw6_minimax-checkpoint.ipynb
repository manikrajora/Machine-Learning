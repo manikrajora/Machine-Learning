{
 "cells": [
  {
   "cell_type": "code",
   "execution_count": 3,
   "metadata": {},
   "outputs": [],
   "source": [
    "import numpy as np\n",
    "from cvxopt import matrix, solvers"
   ]
  },
  {
   "cell_type": "code",
   "execution_count": 29,
   "metadata": {},
   "outputs": [
    {
     "name": "stdout",
     "output_type": "stream",
     "text": [
      "     pcost       dcost       gap    pres   dres   k/t\n",
      " 0: -5.5031e-17 -0.0000e+00  1e+01  2e+00  5e+00  1e+00\n",
      " 1: -4.1089e-02  2.8429e-03  3e-01  2e-01  5e-01  1e-01\n",
      " 2: -4.7268e-04  1.7725e-04  8e-03  7e-03  1e-02  4e-03\n",
      " 3: -4.7327e-06  1.8099e-06  8e-05  7e-05  1e-04  4e-05\n",
      " 4: -4.7323e-08  1.8098e-08  8e-07  7e-07  1e-06  4e-07\n",
      " 5: -4.7323e-10  1.8098e-10  8e-09  7e-09  1e-08  4e-09\n",
      "Optimal solution found.\n",
      "optimal\n",
      "[ 4.73e-10]\n",
      "[ 3.17e-01]\n",
      "[ 1.82e-01]\n",
      "[ 5.01e-01]\n",
      "\n"
     ]
    }
   ],
   "source": [
    "#Rock, Paper, Scissor, zero-sum, two-player\n",
    "#player A matrix\n",
    "#M=[[0,2,-1],[-2,0,1],[1,-1,0]] \n",
    "M=[[0.0, 4.28, -1.56], [-4.28, 0.0, 2.71], [1.56, -2.71, 0.0]]\n",
    "#output is the probabilty distribution of mixed strategies\n",
    "\n",
    "#objective function is always min,so min max, let max U \n",
    "obj=matrix([-1.,0.,0.,0.]) # U, rock, paper, scissor\n",
    "m0=M[0]\n",
    "m1=M[1]\n",
    "m2=M[2]\n",
    "eq_1=[1.] + [m0[i] for i in range(3)] #U<=constraint\n",
    "eq_2=[1.] + [m1[i] for i in range(3)] #U<=\n",
    "eq_3=[1.] + [m2[i] for i in range(3)] #U<=\n",
    "eq_4=[0.,-1., 0., 0.] #R>=0\n",
    "eq_5=[0., 0.,-1., 0.] #P>=0\n",
    "eq_6=[0., 0., 0.,-1.] #S>=0\n",
    "eq_7=[0., 1., 1., 1.] #R + P + S <= 1 \n",
    "eq_8=[0.,-1.,-1.,-1.] #R + P + S >= 1 \n",
    "A=matrix([[eq_1[0],eq_2[0],eq_3[0],eq_4[0],eq_5[0],eq_6[0],eq_7[0],eq_8[0]],\n",
    "          [eq_1[1],eq_2[1],eq_3[1],eq_4[1],eq_5[1],eq_6[1],eq_7[1],eq_8[1]],\n",
    "          [eq_1[2],eq_2[2],eq_3[2],eq_4[2],eq_5[2],eq_6[2],eq_7[2],eq_8[2]],\n",
    "          [eq_1[3],eq_2[3],eq_3[3],eq_4[3],eq_5[3],eq_6[3],eq_7[3],eq_8[3]]])\n",
    "\n",
    "b=matrix([0.,0.,0.,0.,0.,0.,1.,-1.])\n",
    "\n",
    "#print(A)\n",
    "glpksolver = 'cvxopt_glpk'\n",
    "sol=solvers.lp(obj,A,b, solver=glpksolver)\n",
    "print(sol['status'])\n",
    "print(sol['x'])"
   ]
  },
  {
   "cell_type": "code",
   "execution_count": null,
   "metadata": {},
   "outputs": [],
   "source": []
  }
 ],
 "metadata": {
  "kernelspec": {
   "display_name": "Python 3",
   "language": "python",
   "name": "python3"
  },
  "language_info": {
   "codemirror_mode": {
    "name": "ipython",
    "version": 3
   },
   "file_extension": ".py",
   "mimetype": "text/x-python",
   "name": "python",
   "nbconvert_exporter": "python",
   "pygments_lexer": "ipython3",
   "version": "3.6.1"
  }
 },
 "nbformat": 4,
 "nbformat_minor": 2
}
