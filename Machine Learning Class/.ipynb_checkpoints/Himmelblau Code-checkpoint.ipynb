{
 "cells": [
  {
   "cell_type": "code",
   "execution_count": 93,
   "metadata": {},
   "outputs": [],
   "source": [
    "import numpy as np # linear algebra\n",
    "import pandas as pd # data processing, CSV file I/O (e.g. pd.read_csv)\n",
    "import matplotlib.pyplot as plt\n",
    "import random\n",
    "from sklearn.metrics import accuracy_score, log_loss\n",
    "from scipy import optimize\n",
    "# from keras import losses\n",
    "# from keras import backend as K\n",
    "# import tensorflow as tf\n",
    "from mimicry import Mimic    \n",
    "%matplotlib notebook"
   ]
  },
  {
   "cell_type": "markdown",
   "metadata": {},
   "source": [
    "#  Function"
   ]
  },
  {
   "cell_type": "code",
   "execution_count": 5,
   "metadata": {},
   "outputs": [],
   "source": [
    "class MyTakeStep(object):\n",
    "    def __init__(self, stepsize=0.5):\n",
    "        self.stepsize = stepsize\n",
    "    def __call__(self, x):\n",
    "        s = self.stepsize\n",
    "        x[0:] += np.random.uniform(-2.*s, 2.*s)\n",
    "        return x\n",
    "    \n",
    "def him(x):\n",
    "    er = (x[0]**2+x[1]-11)**2+(x[0]+x[1]**2-7)**2\n",
    "    return er\n",
    "\n"
   ]
  },
  {
   "cell_type": "markdown",
   "metadata": {},
   "source": [
    "# SA"
   ]
  },
  {
   "cell_type": "code",
   "execution_count": 6,
   "metadata": {},
   "outputs": [
    {
     "name": "stdout",
     "output_type": "stream",
     "text": [
      "[0 0]\n",
      "[ 3.5844 -1.8481]\n"
     ]
    }
   ],
   "source": [
    "#mytakestep = MyTakeStep()\n",
    "w0 = 5*np.random.random((1,2))-5\n",
    "w0 = np.array([0,0])\n",
    "print(w0)\n",
    "res = optimize.basinhopping(him, w0, niter=1000,stepsize=5, T=14,disp=False)\n",
    "print(res.x)                          "
   ]
  },
  {
   "cell_type": "markdown",
   "metadata": {},
   "source": [
    "# GA"
   ]
  },
  {
   "cell_type": "code",
   "execution_count": 7,
   "metadata": {},
   "outputs": [
    {
     "name": "stdout",
     "output_type": "stream",
     "text": [
      "differential_evolution step 1: f(x)= 1.5334\n",
      "differential_evolution step 2: f(x)= 0.639848\n",
      "differential_evolution step 3: f(x)= 0.45054\n",
      "differential_evolution step 4: f(x)= 0.45054\n",
      "differential_evolution step 5: f(x)= 0.45054\n",
      "differential_evolution step 6: f(x)= 0.361176\n",
      "differential_evolution step 7: f(x)= 0.0146781\n",
      "differential_evolution step 8: f(x)= 0.0146781\n",
      "differential_evolution step 9: f(x)= 0.0146781\n",
      "differential_evolution step 10: f(x)= 0.00597461\n",
      "differential_evolution step 11: f(x)= 0.00158519\n",
      "differential_evolution step 12: f(x)= 0.00158519\n",
      "differential_evolution step 13: f(x)= 0.000403383\n",
      "differential_evolution step 14: f(x)= 0.000225657\n",
      "differential_evolution step 15: f(x)= 1.65532e-05\n",
      "differential_evolution step 16: f(x)= 7.53182e-06\n",
      "differential_evolution step 17: f(x)= 7.53182e-06\n",
      "differential_evolution step 18: f(x)= 4.46227e-07\n",
      "differential_evolution step 19: f(x)= 4.46227e-07\n",
      "differential_evolution step 20: f(x)= 2.03751e-07\n",
      "differential_evolution step 21: f(x)= 2.03751e-07\n",
      "differential_evolution step 22: f(x)= 5.20501e-08\n",
      "differential_evolution step 23: f(x)= 4.78208e-08\n",
      "differential_evolution step 24: f(x)= 2.84193e-08\n",
      "differential_evolution step 25: f(x)= 3.93736e-09\n",
      "differential_evolution step 26: f(x)= 3.93736e-09\n",
      "differential_evolution step 27: f(x)= 1.5675e-09\n",
      "differential_evolution step 28: f(x)= 1.13839e-09\n",
      "differential_evolution step 29: f(x)= 2.50298e-12\n",
      "differential_evolution step 30: f(x)= 2.50298e-12\n",
      "differential_evolution step 31: f(x)= 2.50298e-12\n",
      "differential_evolution step 32: f(x)= 2.50298e-12\n",
      "differential_evolution step 33: f(x)= 8.31562e-13\n",
      "differential_evolution step 34: f(x)= 8.31562e-13\n",
      "differential_evolution step 35: f(x)= 7.55709e-13\n",
      "differential_evolution step 36: f(x)= 2.28464e-13\n",
      "differential_evolution step 37: f(x)= 2.28464e-13\n",
      "differential_evolution step 38: f(x)= 2.28464e-13\n",
      "differential_evolution step 39: f(x)= 1.34067e-14\n",
      "differential_evolution step 40: f(x)= 1.34067e-14\n",
      "differential_evolution step 41: f(x)= 1.34067e-14\n",
      "differential_evolution step 42: f(x)= 1.34067e-14\n",
      "differential_evolution step 43: f(x)= 3.37335e-15\n",
      "differential_evolution step 44: f(x)= 1.26425e-16\n",
      "differential_evolution step 45: f(x)= 1.26425e-16\n",
      "differential_evolution step 46: f(x)= 9.39484e-17\n",
      "differential_evolution step 47: f(x)= 3.41034e-17\n",
      "differential_evolution step 48: f(x)= 3.41034e-17\n",
      "differential_evolution step 49: f(x)= 7.29925e-18\n",
      "differential_evolution step 50: f(x)= 7.29925e-18\n",
      "differential_evolution step 51: f(x)= 1.63058e-18\n",
      "differential_evolution step 52: f(x)= 1.56864e-19\n",
      "differential_evolution step 53: f(x)= 7.43956e-20\n",
      "differential_evolution step 54: f(x)= 7.43956e-20\n",
      "differential_evolution step 55: f(x)= 7.43956e-20\n",
      "differential_evolution step 56: f(x)= 7.43956e-20\n",
      "differential_evolution step 57: f(x)= 7.43956e-20\n",
      "differential_evolution step 58: f(x)= 5.89679e-20\n",
      "differential_evolution step 59: f(x)= 1.08875e-20\n",
      "differential_evolution step 60: f(x)= 1.08875e-20\n",
      "differential_evolution step 61: f(x)= 4.38288e-21\n",
      "differential_evolution step 62: f(x)= 1.84552e-22\n",
      "differential_evolution step 63: f(x)= 1.84552e-22\n",
      "differential_evolution step 64: f(x)= 1.84552e-22\n",
      "differential_evolution step 65: f(x)= 5.68719e-23\n",
      "differential_evolution step 66: f(x)= 5.68719e-23\n",
      "differential_evolution step 67: f(x)= 3.02994e-23\n",
      "differential_evolution step 68: f(x)= 3.89498e-24\n",
      "differential_evolution step 69: f(x)= 3.89498e-24\n",
      "differential_evolution step 70: f(x)= 1.71782e-25\n",
      "differential_evolution step 71: f(x)= 1.71782e-25\n",
      "differential_evolution step 72: f(x)= 1.71782e-25\n",
      "differential_evolution step 73: f(x)= 1.03764e-25\n",
      "differential_evolution step 74: f(x)= 4.3198e-26\n",
      "differential_evolution step 75: f(x)= 8.91413e-27\n",
      "differential_evolution step 76: f(x)= 4.99901e-27\n",
      "differential_evolution step 77: f(x)= 2.57563e-27\n",
      "differential_evolution step 78: f(x)= 1.29373e-28\n",
      "differential_evolution step 79: f(x)= 1.29373e-28\n",
      "differential_evolution step 80: f(x)= 1.07285e-28\n",
      "differential_evolution step 81: f(x)= 1.00974e-28\n",
      "differential_evolution step 82: f(x)= 6.31089e-30\n",
      "differential_evolution step 83: f(x)= 6.31089e-30\n",
      "differential_evolution step 84: f(x)= 6.31089e-30\n",
      "differential_evolution step 85: f(x)= 6.31089e-30\n",
      "differential_evolution step 86: f(x)= 6.31089e-30\n",
      "differential_evolution step 87: f(x)= 6.31089e-30\n",
      "differential_evolution step 88: f(x)= 6.31089e-30\n",
      "differential_evolution step 89: f(x)= 6.31089e-30\n",
      "differential_evolution step 90: f(x)= 6.31089e-30\n",
      "differential_evolution step 91: f(x)= 6.31089e-30\n",
      "differential_evolution step 92: f(x)= 6.31089e-30\n",
      "differential_evolution step 93: f(x)= 6.31089e-30\n",
      "differential_evolution step 94: f(x)= 6.31089e-30\n",
      "[3. 2.]\n",
      "     fun: 6.310887241768095e-30\n",
      " message: 'Optimization terminated successfully.'\n",
      "    nfev: 3800\n",
      "     nit: 94\n",
      " success: True\n",
      "       x: array([3., 2.])\n"
     ]
    }
   ],
   "source": [
    "bounds = [(-5,5), (-5, 5)]\n",
    "res = optimize.differential_evolution(him,bounds,polish=False,popsize =20,disp=True)\n",
    "print(res.x)\n",
    "print(res)"
   ]
  },
  {
   "cell_type": "markdown",
   "metadata": {},
   "source": [
    "# Fmin"
   ]
  },
  {
   "cell_type": "code",
   "execution_count": 8,
   "metadata": {},
   "outputs": [
    {
     "name": "stdout",
     "output_type": "stream",
     "text": [
      "Optimization terminated successfully.\n",
      "         Current function value: 0.000000\n",
      "         Iterations: 81\n",
      "         Function evaluations: 157\n",
      "[3. 2.]\n"
     ]
    }
   ],
   "source": [
    "res=optimize.fmin(him,w0,disp=True)\n",
    "print(res)\n"
   ]
  },
  {
   "cell_type": "markdown",
   "metadata": {},
   "source": [
    "# Mimic"
   ]
  },
  {
   "cell_type": "code",
   "execution_count": 97,
   "metadata": {},
   "outputs": [
    {
     "name": "stdout",
     "output_type": "stream",
     "text": [
      "0\n",
      "1\n"
     ]
    },
    {
     "ename": "TypeError",
     "evalue": "`bins` must be an integer, a string, or an array",
     "output_type": "error",
     "traceback": [
      "\u001b[1;31m---------------------------------------------------------------------------\u001b[0m",
      "\u001b[1;31mTypeError\u001b[0m                                 Traceback (most recent call last)",
      "\u001b[1;32m<ipython-input-97-c4a1f0dc11fb>\u001b[0m in \u001b[0;36m<module>\u001b[1;34m()\u001b[0m\n\u001b[0;32m      9\u001b[0m \u001b[1;32mfor\u001b[0m \u001b[0mi\u001b[0m \u001b[1;32min\u001b[0m \u001b[0mrange\u001b[0m\u001b[1;33m(\u001b[0m\u001b[1;36m10\u001b[0m\u001b[1;33m)\u001b[0m\u001b[1;33m:\u001b[0m\u001b[1;33m\u001b[0m\u001b[0m\n\u001b[0;32m     10\u001b[0m     \u001b[1;32mprint\u001b[0m\u001b[1;33m(\u001b[0m\u001b[0mi\u001b[0m\u001b[1;33m)\u001b[0m\u001b[1;33m\u001b[0m\u001b[0m\n\u001b[1;32m---> 11\u001b[1;33m     \u001b[0mres\u001b[0m\u001b[1;33m.\u001b[0m\u001b[0mfit\u001b[0m\u001b[1;33m(\u001b[0m\u001b[1;33m)\u001b[0m\u001b[1;33m\u001b[0m\u001b[0m\n\u001b[0m",
      "\u001b[1;32mc:\\users\\manik.rajora\\appdata\\local\\continuum\\anaconda2\\envs\\py27\\lib\\site-packages\\mimicry\\mimic.pyc\u001b[0m in \u001b[0;36mfit\u001b[1;34m(self)\u001b[0m\n\u001b[0;32m     42\u001b[0m \u001b[1;33m\u001b[0m\u001b[0m\n\u001b[0;32m     43\u001b[0m         \u001b[0msamples\u001b[0m \u001b[1;33m=\u001b[0m \u001b[0mself\u001b[0m\u001b[1;33m.\u001b[0m\u001b[0msample_set\u001b[0m\u001b[1;33m.\u001b[0m\u001b[0mget_percentile\u001b[0m\u001b[1;33m(\u001b[0m\u001b[0mself\u001b[0m\u001b[1;33m.\u001b[0m\u001b[0mpercentile\u001b[0m\u001b[1;33m)\u001b[0m\u001b[1;33m\u001b[0m\u001b[0m\n\u001b[1;32m---> 44\u001b[1;33m         \u001b[0mself\u001b[0m\u001b[1;33m.\u001b[0m\u001b[0mdistribution\u001b[0m \u001b[1;33m=\u001b[0m \u001b[0mDistribution\u001b[0m\u001b[1;33m(\u001b[0m\u001b[0msamples\u001b[0m\u001b[1;33m)\u001b[0m\u001b[1;33m\u001b[0m\u001b[0m\n\u001b[0m\u001b[0;32m     45\u001b[0m         self.sample_set = SampleSet(\n\u001b[0;32m     46\u001b[0m             \u001b[0mself\u001b[0m\u001b[1;33m.\u001b[0m\u001b[0mdistribution\u001b[0m\u001b[1;33m.\u001b[0m\u001b[0mgenerate_samples\u001b[0m\u001b[1;33m(\u001b[0m\u001b[0mself\u001b[0m\u001b[1;33m.\u001b[0m\u001b[0msamples\u001b[0m\u001b[1;33m)\u001b[0m\u001b[1;33m,\u001b[0m\u001b[1;33m\u001b[0m\u001b[0m\n",
      "\u001b[1;32mc:\\users\\manik.rajora\\appdata\\local\\continuum\\anaconda2\\envs\\py27\\lib\\site-packages\\mimicry\\mimic.pyc\u001b[0m in \u001b[0;36m__init__\u001b[1;34m(self, samples)\u001b[0m\n\u001b[0;32m     82\u001b[0m         \u001b[0mself\u001b[0m\u001b[1;33m.\u001b[0m\u001b[0mcomplete_graph\u001b[0m \u001b[1;33m=\u001b[0m \u001b[0mself\u001b[0m\u001b[1;33m.\u001b[0m\u001b[0m_generate_mutual_information_graph\u001b[0m\u001b[1;33m(\u001b[0m\u001b[1;33m)\u001b[0m\u001b[1;33m\u001b[0m\u001b[0m\n\u001b[0;32m     83\u001b[0m         \u001b[0mself\u001b[0m\u001b[1;33m.\u001b[0m\u001b[0mspanning_graph\u001b[0m \u001b[1;33m=\u001b[0m \u001b[0mself\u001b[0m\u001b[1;33m.\u001b[0m\u001b[0m_generate_spanning_graph\u001b[0m\u001b[1;33m(\u001b[0m\u001b[1;33m)\u001b[0m\u001b[1;33m\u001b[0m\u001b[0m\n\u001b[1;32m---> 84\u001b[1;33m         \u001b[0mself\u001b[0m\u001b[1;33m.\u001b[0m\u001b[0m_generate_bayes_net\u001b[0m\u001b[1;33m(\u001b[0m\u001b[1;33m)\u001b[0m\u001b[1;33m\u001b[0m\u001b[0m\n\u001b[0m\u001b[0;32m     85\u001b[0m \u001b[1;33m\u001b[0m\u001b[0m\n\u001b[0;32m     86\u001b[0m     \u001b[1;32mdef\u001b[0m \u001b[0mgenerate_samples\u001b[0m\u001b[1;33m(\u001b[0m\u001b[0mself\u001b[0m\u001b[1;33m,\u001b[0m \u001b[0mnumber_to_generate\u001b[0m\u001b[1;33m)\u001b[0m\u001b[1;33m:\u001b[0m\u001b[1;33m\u001b[0m\u001b[0m\n",
      "\u001b[1;32mc:\\users\\manik.rajora\\appdata\\local\\continuum\\anaconda2\\envs\\py27\\lib\\site-packages\\mimicry\\mimic.pyc\u001b[0m in \u001b[0;36m_generate_bayes_net\u001b[1;34m(self)\u001b[0m\n\u001b[0;32m    132\u001b[0m             \u001b[1;32mif\u001b[0m \u001b[1;32mnot\u001b[0m \u001b[0mself\u001b[0m\u001b[1;33m.\u001b[0m\u001b[0mbayes_net\u001b[0m\u001b[1;33m.\u001b[0m\u001b[0mpredecessors\u001b[0m\u001b[1;33m(\u001b[0m\u001b[0mparent\u001b[0m\u001b[1;33m)\u001b[0m\u001b[1;33m:\u001b[0m\u001b[1;33m\u001b[0m\u001b[0m\n\u001b[0;32m    133\u001b[0m                 parent_probs = np.histogram(parent_array,\n\u001b[1;32m--> 134\u001b[1;33m                                             \u001b[1;33m(\u001b[0m\u001b[0mnp\u001b[0m\u001b[1;33m.\u001b[0m\u001b[0mmax\u001b[0m\u001b[1;33m(\u001b[0m\u001b[0mparent_array\u001b[0m\u001b[1;33m)\u001b[0m\u001b[1;33m+\u001b[0m\u001b[1;36m1\u001b[0m\u001b[1;33m)\u001b[0m\u001b[1;33m,\u001b[0m\u001b[1;33m\u001b[0m\u001b[0m\n\u001b[0m\u001b[0;32m    135\u001b[0m                                             )[0] / float(parent_array.shape[0])\n\u001b[0;32m    136\u001b[0m \u001b[1;33m\u001b[0m\u001b[0m\n",
      "\u001b[1;32mc:\\users\\manik.rajora\\appdata\\local\\continuum\\anaconda2\\envs\\py27\\lib\\site-packages\\numpy\\lib\\function_base.pyc\u001b[0m in \u001b[0;36mhistogram\u001b[1;34m(a, bins, range, normed, weights, density)\u001b[0m\n\u001b[0;32m    717\u001b[0m         \u001b[1;32mexcept\u001b[0m \u001b[0mTypeError\u001b[0m\u001b[1;33m:\u001b[0m\u001b[1;33m\u001b[0m\u001b[0m\n\u001b[0;32m    718\u001b[0m             raise TypeError(\n\u001b[1;32m--> 719\u001b[1;33m                 '`bins` must be an integer, a string, or an array')\n\u001b[0m\u001b[0;32m    720\u001b[0m         \u001b[1;32mif\u001b[0m \u001b[0mn_equal_bins\u001b[0m \u001b[1;33m<\u001b[0m \u001b[1;36m1\u001b[0m\u001b[1;33m:\u001b[0m\u001b[1;33m\u001b[0m\u001b[0m\n\u001b[0;32m    721\u001b[0m             \u001b[1;32mraise\u001b[0m \u001b[0mValueError\u001b[0m\u001b[1;33m(\u001b[0m\u001b[1;34m'`bins` must be positive, when an integer'\u001b[0m\u001b[1;33m)\u001b[0m\u001b[1;33m\u001b[0m\u001b[0m\n",
      "\u001b[1;31mTypeError\u001b[0m: `bins` must be an integer, a string, or an array"
     ]
    }
   ],
   "source": [
    "def him2(x):\n",
    "    er = (x[0]**2)**2+(x[0]-7)**2\n",
    "    return er\n",
    "\n",
    "a = (0,1)\n",
    "b = (0,1)\n",
    "res= mimicry.mimic.Mimic([a,b], him)\n",
    "\n",
    "for i in range(10):\n",
    "    print(i)\n",
    "    res.fit()"
   ]
  },
  {
   "cell_type": "code",
   "execution_count": 72,
   "metadata": {},
   "outputs": [],
   "source": [
    "bounds = bounds.astype(int)\n"
   ]
  },
  {
   "cell_type": "code",
   "execution_count": 74,
   "metadata": {},
   "outputs": [],
   "source": [
    "bounds?"
   ]
  },
  {
   "cell_type": "code",
   "execution_count": null,
   "metadata": {},
   "outputs": [],
   "source": []
  },
  {
   "cell_type": "code",
   "execution_count": null,
   "metadata": {},
   "outputs": [],
   "source": []
  }
 ],
 "metadata": {
  "kernelspec": {
   "display_name": "Python 2",
   "language": "python",
   "name": "python2"
  },
  "language_info": {
   "codemirror_mode": {
    "name": "ipython",
    "version": 2
   },
   "file_extension": ".py",
   "mimetype": "text/x-python",
   "name": "python",
   "nbconvert_exporter": "python",
   "pygments_lexer": "ipython2",
   "version": "2.7.15"
  }
 },
 "nbformat": 4,
 "nbformat_minor": 2
}
