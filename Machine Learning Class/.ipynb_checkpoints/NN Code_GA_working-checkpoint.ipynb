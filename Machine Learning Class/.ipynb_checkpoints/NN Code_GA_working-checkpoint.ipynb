{
 "cells": [
  {
   "cell_type": "code",
   "execution_count": 1,
   "metadata": {},
   "outputs": [
    {
     "name": "stderr",
     "output_type": "stream",
     "text": [
      "Using TensorFlow backend.\n"
     ]
    }
   ],
   "source": [
    "import numpy as np # linear algebra\n",
    "import pandas as pd # data processing, CSV file I/O (e.g. pd.read_csv)\n",
    "import seaborn as sns # visualization\n",
    "import matplotlib.pyplot as plt\n",
    "import random\n",
    "from sklearn.metrics import accuracy_score, log_loss\n",
    "from scipy import optimize\n",
    "from keras import losses\n",
    "from keras import backend as K\n",
    "import tensorflow as tf\n",
    "from sklearn import neural_network\n",
    "\n",
    "from keras.models import Sequential\n",
    "from keras.layers import Dense, Activation, Flatten\n",
    "from keras.optimizers import *\n",
    "from keras.wrappers.scikit_learn import KerasClassifier\n",
    "import keras\n",
    "from keras import losses\n",
    "\n",
    "\n",
    "%matplotlib notebook"
   ]
  },
  {
   "cell_type": "markdown",
   "metadata": {},
   "source": [
    "# Preprocessing"
   ]
  },
  {
   "cell_type": "code",
   "execution_count": 2,
   "metadata": {},
   "outputs": [],
   "source": [
    "data = pd.read_csv('leaf.csv', header=None)\n",
    "data.drop([1],inplace=True,axis=1)\n",
    "X = data.values[:,1:]\n",
    "Y_first = data.values[:,0]\n",
    "Y = []\n",
    "out = np.zeros(shape=[36])\n",
    "for i in range(np.shape(Y_first)[0]):\n",
    "    out[int(Y_first[i])-1]=1\n",
    "    Y.append(out)\n",
    "    out = np.zeros(shape=[36])\n",
    "Y = np.array(Y)\n",
    "# min_max_scaler = preprocessing.MinMaxScaler()\n",
    "# X_scaled = min_max_scaler.fit_transform(X)\n",
    "# df_normalized = pd.DataFrame(X_scaled)\n",
    "\n",
    "r,c = np.shape(X)\n",
    "\n",
    "total_samples = list(np.arange(0,r,1))\n",
    "test_samples = random.sample(total_samples,int(np.round(len(total_samples)*0.2)))\n",
    "train_samples = list(set(total_samples) - set(test_samples))"
   ]
  },
  {
   "cell_type": "markdown",
   "metadata": {},
   "source": [
    "# Splitting Data"
   ]
  },
  {
   "cell_type": "code",
   "execution_count": 3,
   "metadata": {},
   "outputs": [
    {
     "name": "stdout",
     "output_type": "stream",
     "text": [
      "14\n",
      "36\n"
     ]
    }
   ],
   "source": [
    "trainX = X[train_samples]\n",
    "trainX_scaled = (trainX-np.min(trainX))/(np.max(trainX)-np.min(trainX))\n",
    "trainY = Y[train_samples]\n",
    "trainY_comp = Y_first[train_samples]\n",
    "\n",
    "testX = X[test_samples]\n",
    "testX_scaled = (testX-np.min(testX))/(np.max(testX)-np.min(testX))\n",
    "testY = Y[test_samples]\n",
    "testY_comp = Y_first[test_samples]\n",
    "print(len(trainX[0]))\n",
    "print(len(trainY[0]))"
   ]
  },
  {
   "cell_type": "code",
   "execution_count": 4,
   "metadata": {},
   "outputs": [],
   "source": [
    "def logloss(true_label, predicted, eps=1e-15):\n",
    "  p = np.clip(predicted, eps, 1 - eps)\n",
    "  if true_label == 1:\n",
    "    return -np.log(p)\n",
    "  else:\n",
    "    return 0"
   ]
  },
  {
   "cell_type": "code",
   "execution_count": 48,
   "metadata": {},
   "outputs": [],
   "source": [
    "def de(fobj, bounds=[-2,2], mut=0.8, crossp=0.7, popsize=50, its=1000):\n",
    "    dimensions = len(bounds)\n",
    "    pop = np.random.rand(popsize, dimensions)\n",
    "    min_b, max_b = np.asarray(bounds).T\n",
    "    diff = np.fabs(min_b - max_b)\n",
    "    pop_denorm = min_b + pop * diff\n",
    "    fitness = np.asarray([fobj(ind) for ind in pop_denorm])\n",
    "    fitness_val = np.asarray([nn_objective_val(ind) for ind in pop_denorm])\n",
    "    best_idx = np.argmin(fitness)\n",
    "    best_idx_val = np.argmin(fitness_val)\n",
    "    best = pop_denorm[best_idx]\n",
    "    best_val_weights = pop_denorm[best_idx_val]\n",
    "    f_all_train = []\n",
    "    f_all_val = []\n",
    "    for i in range(its):\n",
    "        if i == 0:\n",
    "            best_all = best\n",
    "            fitness_best_all = fitness[best_idx]\n",
    "            fitness_best_all_val = fitness_val[best_idx_val]\n",
    "        else:\n",
    "            val_fit_idx = np.argmin(fitness_val)\n",
    "            val_fit_c = fitness_val[val_fit_idx]\n",
    "            if  val_fit_c < fitness_best_all_val:\n",
    "                best_val_weights = pop[val_fit_idx]\n",
    "                fitness_best_all_val = fitness_val[best_idx]\n",
    "\n",
    "        for j in range(popsize):\n",
    "            f_all_train.append(np.mean(fitness))\n",
    "            f_all_val.append(np.mean(fitness_val))\n",
    "            idxs = [idx for idx in range(popsize) if idx != j]\n",
    "            a, b, c = pop[np.random.choice(idxs, 3, replace = False)]\n",
    "            mutant = np.clip(a + mut * (b - c), 0, 1)\n",
    "            cross_points = np.random.rand(dimensions) < crossp\n",
    "            if not np.any(cross_points):\n",
    "                cross_points[np.random.randint(0, dimensions)] = True\n",
    "            trial = np.where(cross_points, mutant, pop[j])\n",
    "            trial_denorm = min_b + trial * diff\n",
    "            f = fobj(trial_denorm)\n",
    "            f_val = nn_objective_val(trial_denorm)\n",
    "            if f < fitness[j]:\n",
    "                fitness[j] = f\n",
    "                fitness_val[j] = f_val\n",
    "                pop[j] = trial\n",
    "                if f < fitness[best_idx]:\n",
    "                    best_idx = j\n",
    "                    best = trial_denorm\n",
    "                if fitness[best_idx]<fitness_best_all:\n",
    "                    best_all = best\n",
    "                    fitness_best_all = fitness[best_idx]\n",
    "        val_fit_idx = np.argmin(fitness_val)\n",
    "        val_fit_c = fitness_val[val_fit_idx]\n",
    "        if  val_fit_c < fitness_best_all_val:\n",
    "            best_val_weights = pop[val_fit_idx]\n",
    "                \n",
    "    return best_all, fitness_best_all, fitness_best_all_val, f_all_train, f_all_val, best_val_weights"
   ]
  },
  {
   "cell_type": "markdown",
   "metadata": {},
   "source": [
    "#  Neural Network"
   ]
  },
  {
   "cell_type": "code",
   "execution_count": 90,
   "metadata": {},
   "outputs": [],
   "source": [
    "def nn_objective_train(x):\n",
    "    num_inputs = 14\n",
    "    num_outputs = 36\n",
    "    hidden_layer_neurons = 405\n",
    "    weights_all = num_inputs*hidden_layer_neurons + hidden_layer_neurons*num_outputs\n",
    "    bias_all = hidden_layer_neurons+num_outputs\n",
    "    iw_size = num_inputs*hidden_layer_neurons\n",
    "    nn_weights = x[:weights_all]\n",
    "    bias_all = x[weights_all:]\n",
    "    iw = nn_weights[0:iw_size]\n",
    "    ow = nn_weights[iw_size:]\n",
    "    b1 = bias_all[:hidden_layer_neurons]\n",
    "    b2 = bias_all[hidden_layer_neurons:]\n",
    "    w1 = np.reshape(iw,(num_inputs, hidden_layer_neurons))\n",
    "    w2 = np.reshape(ow,(hidden_layer_neurons, num_outputs))\n",
    "    l1 = np.maximum(np.dot(trainX[:-82], w1)+b1, 0)\n",
    "    x_i = np.dot(l1, w2)+b2\n",
    "    l2 = np.array(np.exp(x_i)/ np.exp(x_i).sum(axis=1)[:,None])  \n",
    "    l2_act = np.argmax(l2,axis=1)+1\n",
    "    output = np.clip(l2, 1e-15, 1. - 1e-15)\n",
    "    er= -np.sum(trainY[:-82] * np.log(l2))\n",
    "    return er\n",
    "\n",
    "def nn_objective_val(x):\n",
    "    num_inputs = 14\n",
    "    num_outputs = 36\n",
    "    hidden_layer_neurons = 405\n",
    "    weights_all = num_inputs*hidden_layer_neurons + hidden_layer_neurons*num_outputs\n",
    "    bias_all = hidden_layer_neurons+num_outputs\n",
    "    iw_size = num_inputs*hidden_layer_neurons\n",
    "    nn_weights = x[:weights_all]\n",
    "    bias_all = x[weights_all:]\n",
    "    iw = nn_weights[0:iw_size]\n",
    "    ow = nn_weights[iw_size:]\n",
    "    b1 = bias_all[:hidden_layer_neurons]\n",
    "    b2 = bias_all[hidden_layer_neurons:]\n",
    "    w1 = np.reshape(iw,(num_inputs, hidden_layer_neurons))\n",
    "    w2 = np.reshape(ow,(hidden_layer_neurons, num_outputs))\n",
    "    l1 = np.maximum(np.dot(trainX[-82:], w1)+b1, 0)\n",
    "    x_i = np.dot(l1, w2)+b2\n",
    "    l2 = np.array(np.exp(x_i)/ np.exp(x_i).sum(axis=1)[:,None])  \n",
    "    print(l2)\n",
    "    l2_act = np.argmax(l2,axis=1)+1\n",
    "    output = np.clip(l2, 1e-15, 1. - 1e-15)\n",
    "    print(output)\n",
    "    er= -np.sum(trainY[-82:] * np.log(l2))\n",
    "    return er"
   ]
  },
  {
   "cell_type": "markdown",
   "metadata": {},
   "source": [
    "# Mutation "
   ]
  },
  {
   "cell_type": "code",
   "execution_count": 10,
   "metadata": {},
   "outputs": [
    {
     "name": "stdout",
     "output_type": "stream",
     "text": [
      "0\n",
      "1\n",
      "2\n",
      "3\n"
     ]
    },
    {
     "name": "stderr",
     "output_type": "stream",
     "text": [
      "C:\\Users\\Manik.Rajora\\AppData\\Local\\Continuum\\anaconda2\\envs\\Py36\\lib\\site-packages\\ipykernel_launcher.py:44: RuntimeWarning: divide by zero encountered in log\n",
      "C:\\Users\\Manik.Rajora\\AppData\\Local\\Continuum\\anaconda2\\envs\\Py36\\lib\\site-packages\\ipykernel_launcher.py:44: RuntimeWarning: invalid value encountered in multiply\n"
     ]
    },
    {
     "name": "stdout",
     "output_type": "stream",
     "text": [
      "4\n"
     ]
    }
   ],
   "source": [
    "num_inputs = 14\n",
    "num_outputs = 36\n",
    "\n",
    "hidden_layer_neurons = 405\n",
    "\n",
    "weights_all = num_inputs*hidden_layer_neurons + hidden_layer_neurons*num_outputs\n",
    "bias_all = hidden_layer_neurons+num_outputs\n",
    "\n",
    "tw = weights_all+bias_all \n",
    "w0 = 2*np.random.random((1,tw))-2\n",
    "\n",
    "b = [(-1,1)]\n",
    "for i in range(len(w0[0])-1):\n",
    "    b.append((-1,1))\n",
    "\n",
    "#mut_all = np.arange(0.1,1,0.1)\n",
    "mut_all = np.array([0.0,0.2,0.4,0.6,0.8])\n",
    "crossp_all = np.array([0.4,0.6,0.8])\n",
    "popsize_all = np.array([50,100,200])\n",
    "r_all = []\n",
    "v_l = []\n",
    "t_l = []\n",
    "res_all = []\n",
    "for i in range(len(mut_all)):\n",
    "    print(i)\n",
    "    res1 = list(de(nn_objective_train,b,mut=mut_all[i], crossp=0.8, popsize=50, its=500))\n",
    "    r_all.append(np.array([mut_all[i],res1[1]]))\n",
    "    t_l.append(res1[1])\n",
    "    v_l.append(res1[2])\n",
    "    res_all.append(res1)\n",
    "#res = optimize.basinhopping(nn_objective, w0[0], niter=1000,disp=True)\n",
    "# res1 = list(de(nn_objective,b,mut=0.0, crossp=0.9, popsize=50, its=1000))\n"
   ]
  },
  {
   "cell_type": "code",
   "execution_count": 11,
   "metadata": {},
   "outputs": [
    {
     "data": {
      "image/png": "[encoded data removed]",
      "text/plain": [
       "<matplotlib.figure.Figure at 0xf24e5c0>"
      ]
     },
     "metadata": {},
     "output_type": "display_data"
    },
    {
     "name": "stdout",
     "output_type": "stream",
     "text": [
      "[627.602964763817, 281.24528137551215, 654.65125725808571, 2298.6060029534615, 3224.589661164739]\n",
      "[2582.5207814300547, 2535.7443705104806, 1652.968109718702, 2617.7476354221089, 5421.5615332482876]\n"
     ]
    }
   ],
   "source": [
    "plt.plot(mut_all,np.array(t_l),'g',label='Training Set')\n",
    "plt.plot(mut_all,np.array(v_l),'b',label='Validation Set')\n",
    "plt.xlabel('Mutation Rate')\n",
    "plt.ylabel('Loss')\n",
    "plt.title('Loss for Leaf Data Set')\n",
    "\n",
    "plt.legend()\n",
    "plt.show()\n",
    "print(t_l)\n",
    "print(v_l)"
   ]
  },
  {
   "cell_type": "markdown",
   "metadata": {},
   "source": [
    "# Crossover "
   ]
  },
  {
   "cell_type": "code",
   "execution_count": 17,
   "metadata": {},
   "outputs": [
    {
     "name": "stdout",
     "output_type": "stream",
     "text": [
      "0\n",
      "1\n",
      "2\n",
      "3\n",
      "4\n"
     ]
    }
   ],
   "source": [
    "num_inputs = 14\n",
    "num_outputs = 36\n",
    "\n",
    "hidden_layer_neurons = 405\n",
    "\n",
    "weights_all = num_inputs*hidden_layer_neurons + hidden_layer_neurons*num_outputs\n",
    "bias_all = hidden_layer_neurons+num_outputs\n",
    "\n",
    "tw = weights_all+bias_all \n",
    "w0 = 2*np.random.random((1,tw))-2\n",
    "\n",
    "b = [(-1,1)]\n",
    "for i in range(len(w0[0])-1):\n",
    "    b.append((-1,1))\n",
    "\n",
    "#mut_all = np.arange(0.1,1,0.1)\n",
    "mut_all = np.array([0.0,0.2,0.4,0.6,0.8])\n",
    "crossp_all = np.array([0.0, 0.2, 0.4,0.6,0.8])\n",
    "popsize_all = np.array([50,100,200])\n",
    "r_all_2 = []\n",
    "v_l_2 = []\n",
    "t_l_2 = []\n",
    "res_all_2 = []\n",
    "for i in range(len(crossp_all)):\n",
    "    print(i)\n",
    "    res2 = list(de(nn_objective_train,b,mut=0.4, crossp=crossp_all[i], popsize=50, its=500))\n",
    "    r_all_2.append(np.array([crossp_all[i],res2[1]]))\n",
    "    t_l_2.append(res2[1])\n",
    "    v_l_2.append(res2[2])\n",
    "    res_all_2.append(res2)\n",
    "#res = optimize.basinhopping(nn_objective, w0[0], niter=1000,disp=True)\n",
    "# res1 = list(de(nn_objective,b,mut=0.0, crossp=0.9, popsize=50, its=1000))\n"
   ]
  },
  {
   "cell_type": "code",
   "execution_count": 18,
   "metadata": {},
   "outputs": [
    {
     "data": {
      "image/png": "[encoded data removed]",
      "text/plain": [
       "<matplotlib.figure.Figure at 0x5416400>"
      ]
     },
     "metadata": {},
     "output_type": "display_data"
    },
    {
     "name": "stdout",
     "output_type": "stream",
     "text": [
      "[2818.4929784487595, 2457.6549778408471, 2869.5223462061244, 2257.1417615210485, 599.16785828456386]\n",
      "[2526.4865349626652, 3651.4072318210556, 3435.8809746087604, 2792.6598914018314, 1517.3900244272713]\n"
     ]
    }
   ],
   "source": [
    "plt.plot(crossp_all,t_l_2,'g',label='Training Set')\n",
    "plt.plot(crossp_all,v_l_2,'b',label='Validation Set')\n",
    "plt.xlabel('Crossover Rate')\n",
    "plt.ylabel('Loss')\n",
    "plt.title('Loss for Leaf Data Set')\n",
    "\n",
    "plt.legend()\n",
    "plt.show()\n",
    "print(t_l_2)\n",
    "print(v_l_2)"
   ]
  },
  {
   "cell_type": "markdown",
   "metadata": {},
   "source": [
    "# Pop Size"
   ]
  },
  {
   "cell_type": "code",
   "execution_count": 20,
   "metadata": {},
   "outputs": [
    {
     "name": "stdout",
     "output_type": "stream",
     "text": [
      "0\n",
      "1\n",
      "2\n"
     ]
    }
   ],
   "source": [
    "num_inputs = 14\n",
    "num_outputs = 36\n",
    "\n",
    "hidden_layer_neurons = 405\n",
    "\n",
    "weights_all = num_inputs*hidden_layer_neurons + hidden_layer_neurons*num_outputs\n",
    "bias_all = hidden_layer_neurons+num_outputs\n",
    "\n",
    "tw = weights_all+bias_all \n",
    "w0 = 2*np.random.random((1,tw))-2\n",
    "\n",
    "b = [(-1,1)]\n",
    "for i in range(len(w0[0])-1):\n",
    "    b.append((-1,1))\n",
    "\n",
    "#mut_all = np.arange(0.1,1,0.1)\n",
    "#mut_all = np.array([0.0,0.2,0.4,0.6,0.8])\n",
    "#crossp_all = np.array([0.0, 0.2, 0.4,0.6,0.8])\n",
    "popsize_all = np.array([50,100,150])\n",
    "r_all_3 = []\n",
    "v_l_3 = []\n",
    "t_l_3 = []\n",
    "res_all_3 = []\n",
    "for i in range(len(popsize_all)):\n",
    "    print(i)\n",
    "    res3 = list(de(nn_objective_train,b,mut=0.4, crossp=0.8, popsize=popsize_all[i], its=500))\n",
    "    r_all_3.append(np.array([crossp_all[i],res3[1]]))\n",
    "    t_l_3.append(res3[1])\n",
    "    v_l_3.append(res3[2])\n",
    "    res_all_3.append(res3)\n",
    "#res = optimize.basinhopping(nn_objective, w0[0], niter=1000,disp=True)\n",
    "# res1 = list(de(nn_objective,b,mut=0.0, crossp=0.9, popsize=50, its=1000))\n"
   ]
  },
  {
   "cell_type": "code",
   "execution_count": 22,
   "metadata": {},
   "outputs": [
    {
     "data": {
      "image/png": "[encoded data removed]",
      "text/plain": [
       "<matplotlib.figure.Figure at 0x540ccc0>"
      ]
     },
     "metadata": {},
     "output_type": "display_data"
    },
    {
     "name": "stdout",
     "output_type": "stream",
     "text": [
      "[734.33582063495032, 1024.219133332231, 1621.7401665063437]\n",
      "[1797.4184878352335, 1235.5459941343222, 2416.9178338055458]\n"
     ]
    }
   ],
   "source": [
    "plt.plot(popsize_all,t_l_3,'g',label='Training Set')\n",
    "plt.plot(popsize_all,v_l_3,'b',label='Validation Set')\n",
    "plt.xlabel('Population Size Rate')\n",
    "plt.ylabel('Loss')\n",
    "plt.title('Loss for Leaf Data Set')\n",
    "\n",
    "plt.legend()\n",
    "plt.show()\n",
    "print(t_l_3)\n",
    "print(v_l_3)"
   ]
  },
  {
   "cell_type": "markdown",
   "metadata": {},
   "source": [
    "# Grid Seach"
   ]
  },
  {
   "cell_type": "code",
   "execution_count": 24,
   "metadata": {
    "scrolled": true
   },
   "outputs": [
    {
     "name": "stdout",
     "output_type": "stream",
     "text": [
      "0\n",
      "1\n",
      "2\n"
     ]
    },
    {
     "name": "stderr",
     "output_type": "stream",
     "text": [
      "C:\\Users\\Manik.Rajora\\AppData\\Local\\Continuum\\anaconda2\\envs\\Py36\\lib\\site-packages\\ipykernel_launcher.py:44: RuntimeWarning: divide by zero encountered in log\n",
      "C:\\Users\\Manik.Rajora\\AppData\\Local\\Continuum\\anaconda2\\envs\\Py36\\lib\\site-packages\\ipykernel_launcher.py:44: RuntimeWarning: invalid value encountered in multiply\n"
     ]
    }
   ],
   "source": [
    "num_inputs = 14\n",
    "num_outputs = 36\n",
    "\n",
    "hidden_layer_neurons = 405\n",
    "\n",
    "weights_all = num_inputs*hidden_layer_neurons + hidden_layer_neurons*num_outputs\n",
    "bias_all = hidden_layer_neurons+num_outputs\n",
    "\n",
    "tw = weights_all+bias_all \n",
    "w0 = 2*np.random.random((1,tw))-2\n",
    "\n",
    "b = [(-1,1)]\n",
    "for i in range(len(w0[0])-1):\n",
    "    b.append((-1,1))\n",
    "\n",
    "mut_all = np.array([0.0,0.2,0.4])\n",
    "crossp_all = np.array([0.4,0.6,0.8])\n",
    "popsize_all = np.array([50,100,150])\n",
    "r_all = []\n",
    "for i in range(len(mut_all)):\n",
    "    print(i)\n",
    "    for j in range(len(crossp_all)):\n",
    "        for k in range(len(popsize_all)):\n",
    "            res = list(de(nn_objective_train,b,mut=mut_all[i], crossp=crossp_all[j], popsize=popsize_all[k], its=500))\n",
    "            r_all.append(np.array([mut_all[i],crossp_all[j],popsize_all[k],res[1]]))\n",
    "#res = optimize.basinhopping(nn_objective, w0[0], niter=1000,disp=True)\n",
    "# res1 = list(de(nn_objective,b,mut=0.0, crossp=0.9, popsize=50, its=1000))\n"
   ]
  },
  {
   "cell_type": "code",
   "execution_count": 49,
   "metadata": {},
   "outputs": [
    {
     "name": "stdout",
     "output_type": "stream",
     "text": [
      "(27, 4)\n",
      "[  2.00000000e-01   8.00000000e-01   1.00000000e+02   5.13331855e+02]\n"
     ]
    }
   ],
   "source": [
    "print(np.shape(r_all))\n",
    "all_vals = np.reshape(r_all,(27,4))\n",
    "b_idx = np.argmin(all_vals[:,-1])\n",
    "b_vals = all_vals[16,:]\n",
    "print(b_vals)"
   ]
  },
  {
   "cell_type": "code",
   "execution_count": 50,
   "metadata": {},
   "outputs": [],
   "source": [
    "res1_f = list(de(nn_objective_train,b,mut=b_vals[0], crossp=b_vals[1], popsize=int(b_vals[2]), its=1000))"
   ]
  },
  {
   "cell_type": "code",
   "execution_count": 91,
   "metadata": {},
   "outputs": [
    {
     "name": "stdout",
     "output_type": "stream",
     "text": [
      "[[ 3.89765194  5.30872136  4.42246643 ...,  4.9765992   3.84118138\n",
      "   6.12989317]\n",
      " [ 4.1693956   5.39370007  4.95779573 ...,  5.0393876   4.21904737\n",
      "   6.50980416]\n",
      " [ 3.84617457  4.77248069  4.31868138 ...,  4.68720673  3.72230229\n",
      "   5.59961063]\n",
      " ..., \n",
      " [ 3.5443339   4.37648923  3.83186655 ...,  3.66279362  3.99708095\n",
      "   4.62253981]\n",
      " [ 3.51817258  4.95637941  3.62011324 ...,  3.97918621  4.29934486\n",
      "   4.51997694]\n",
      " [ 3.84748567  5.65194747  4.03603291 ...,  4.20750344  5.09705328\n",
      "   5.05260463]]\n",
      "[[ nan  nan  nan ...,  nan  nan  nan]\n",
      " [ nan  nan  nan ...,  nan  nan  nan]\n",
      " [ nan  nan  nan ...,  nan  nan  nan]\n",
      " ..., \n",
      " [ nan  nan  nan ...,  nan  nan  nan]\n",
      " [ nan  nan  nan ...,  nan  nan  nan]\n",
      " [ nan  nan  nan ...,  nan  nan  nan]]\n",
      "nan\n"
     ]
    },
    {
     "name": "stderr",
     "output_type": "stream",
     "text": [
      "C:\\Users\\Manik.Rajora\\AppData\\Local\\Continuum\\anaconda2\\envs\\Py36\\lib\\site-packages\\ipykernel_launcher.py:42: RuntimeWarning: invalid value encountered in true_divide\n",
      "C:\\Users\\Manik.Rajora\\AppData\\Local\\Continuum\\anaconda2\\envs\\Py36\\lib\\site-packages\\ipykernel_launcher.py:46: RuntimeWarning: divide by zero encountered in log\n",
      "C:\\Users\\Manik.Rajora\\AppData\\Local\\Continuum\\anaconda2\\envs\\Py36\\lib\\site-packages\\ipykernel_launcher.py:46: RuntimeWarning: invalid value encountered in multiply\n"
     ]
    },
    {
     "data": {
      "text/plain": [
       "False"
      ]
     },
     "execution_count": 91,
     "metadata": {},
     "output_type": "execute_result"
    }
   ],
   "source": [
    "fitness_best_all_val = res1_f[2]\n",
    "best_val_weights = res1_f[5]\n",
    "print(nn_objective_val(res1_f[5]))\n",
    "\n",
    "import math\n",
    "np.nan in res1_f[5]"
   ]
  },
  {
   "cell_type": "code",
   "execution_count": 76,
   "metadata": {},
   "outputs": [
    {
     "name": "stdout",
     "output_type": "stream",
     "text": [
      "0.970588235294\n"
     ]
    },
    {
     "name": "stderr",
     "output_type": "stream",
     "text": [
      "C:\\Users\\Manik.Rajora\\AppData\\Local\\Continuum\\anaconda2\\envs\\Py36\\lib\\site-packages\\ipykernel_launcher.py:23: RuntimeWarning: invalid value encountered in true_divide\n"
     ]
    }
   ],
   "source": [
    "x = res1_f[5]\n",
    "\n",
    "def nn_objective_test(x):\n",
    "    num_inputs = 14\n",
    "    num_outputs = 36\n",
    "\n",
    "    hidden_layer_neurons = 405\n",
    "    \n",
    "    weights_all = num_inputs*hidden_layer_neurons + hidden_layer_neurons*num_outputs\n",
    "    bias_all = hidden_layer_neurons+num_outputs\n",
    "    iw_size = num_inputs*hidden_layer_neurons\n",
    "    nn_weights = x[:weights_all]\n",
    "    bias_all = x[weights_all:]\n",
    "    iw = nn_weights[0:iw_size]\n",
    "    ow = nn_weights[iw_size:]\n",
    "    b1 = bias_all[:hidden_layer_neurons]\n",
    "    b2 = bias_all[hidden_layer_neurons:]\n",
    "\n",
    "    w1 = np.reshape(iw,(num_inputs, hidden_layer_neurons))\n",
    "    w2 = np.reshape(ow,(hidden_layer_neurons, num_outputs))\n",
    "    l1 = np.maximum(np.dot(testX, w1)+b1, 0)\n",
    "    x_i = np.dot(l1, w2)+b2\n",
    "    l2 = np.array(np.exp(x_i)/ np.exp(x_i).sum(axis=1)[:,None])  \n",
    "    l2_act = np.argmax(l2,axis=1)+1\n",
    "    predict_out = l2_act\n",
    "    predict_out = predict_out.flatten()\n",
    "    acc = 1-accuracy_score(testY_comp,predict_out)\n",
    "    return acc\n",
    "\n",
    "test_miss = nn_objective_test(x)\n",
    "print(test_miss)"
   ]
  },
  {
   "cell_type": "code",
   "execution_count": 40,
   "metadata": {},
   "outputs": [
    {
     "data": {
      "image/png": "[encoded data removed]",
      "text/plain": [
       "<matplotlib.figure.Figure at 0xfb996d8>"
      ]
     },
     "metadata": {},
     "output_type": "display_data"
    },
    {
     "name": "stdout",
     "output_type": "stream",
     "text": [
      "[734.33582063495032, 1024.219133332231, 1621.7401665063437]\n",
      "[1797.4184878352335, 1235.5459941343222, 2416.9178338055458]\n"
     ]
    }
   ],
   "source": [
    "plt.plot(res1_f[3],'g',label='Training Set')\n",
    "plt.plot(res1_f[4],'b',label='Validation Set')\n",
    "plt.xlabel('Loss During Training')\n",
    "plt.ylabel('Loss')\n",
    "plt.title('Loss for Leaf Data Set')\n",
    "\n",
    "plt.legend()\n",
    "plt.show()\n",
    "print(t_l_3)\n",
    "print(v_l_3)"
   ]
  },
  {
   "cell_type": "code",
   "execution_count": 40,
   "metadata": {},
   "outputs": [],
   "source": [
    "x = res1[0]\n",
    "\n",
    "def nn_keras(x):\n",
    "    weights_all = num_inputs*hidden_layer_neurons + hidden_layer_neurons*num_outputs\n",
    "    bias_all = hidden_layer_neurons+num_outputs\n",
    "    iw_size = num_inputs*hidden_layer_neurons\n",
    "    nn_weights = x[:weights_all]\n",
    "    bias_all = x[weights_all:]\n",
    "    iw = nn_weights[0:iw_size]\n",
    "    ow = nn_weights[iw_size:]\n",
    "    b1 = bias_all[:hidden_layer_neurons]\n",
    "    b2 = bias_all[hidden_layer_neurons:]\n",
    "    w1 = np.reshape(iw,(num_inputs, hidden_layer_neurons))\n",
    "    w2 = np.reshape(ow,(hidden_layer_neurons, num_outputs))\n",
    "\n",
    "    w1_all = []\n",
    "    w1_all.append(w1)\n",
    "    w1_all.append(b1)\n",
    "\n",
    "    w2_all = []\n",
    "    w2_all.append(w2)\n",
    "    w2_all.append(b2)\n",
    "\n",
    "    model = Sequential()\n",
    "    model.add(Dense(15, input_dim=14, kernel_initializer='normal', activation='relu'))\n",
    "    model.add(Dense(36, kernel_initializer='normal', activation='softmax'))\n",
    "    model.compile(loss='categorical_crossentropy', optimizer='adam', metrics=['accuracy'])\n",
    "    model.layers[0].set_weights(w1_all)\n",
    "    model.layers[1].set_weights(w2_all)\n",
    "    out = model.predict(trainX)\n",
    "    output = np.clip(out, 1e-15, 1. - 1e-15)\n",
    "    er= -np.sum(trainY * np.log(output))\n",
    "    predict_out = np.argmax(out,axis=1)+1\n",
    "#     acc = 1-accuracy_score(testY_comp,predict_out)\n",
    "#     print(acc)\n",
    "    return er\n",
    "    \n"
   ]
  }
 ],
 "metadata": {
  "kernelspec": {
   "display_name": "Python 3",
   "language": "python",
   "name": "python3"
  },
  "language_info": {
   "codemirror_mode": {
    "name": "ipython",
    "version": 3
   },
   "file_extension": ".py",
   "mimetype": "text/x-python",
   "name": "python",
   "nbconvert_exporter": "python",
   "pygments_lexer": "ipython3",
   "version": "3.6.5"
  }
 },
 "nbformat": 4,
 "nbformat_minor": 2
}
