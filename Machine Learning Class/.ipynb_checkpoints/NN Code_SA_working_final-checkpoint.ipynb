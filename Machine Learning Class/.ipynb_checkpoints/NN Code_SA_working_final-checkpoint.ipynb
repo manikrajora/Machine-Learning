{
 "cells": [
  {
   "cell_type": "code",
   "execution_count": 1,
   "metadata": {},
   "outputs": [
    {
     "name": "stderr",
     "output_type": "stream",
     "text": [
      "Using TensorFlow backend.\n"
     ]
    }
   ],
   "source": [
    "import numpy as np # linear algebra\n",
    "import pandas as pd # data processing, CSV file I/O (e.g. pd.read_csv)\n",
    "import seaborn as sns # visualization\n",
    "import matplotlib.pyplot as plt\n",
    "import random\n",
    "import numpy.random as rn\n",
    "\n",
    "from sklearn.metrics import accuracy_score, log_loss\n",
    "from scipy import optimize\n",
    "from keras import losses\n",
    "from keras import backend as K\n",
    "import tensorflow as tf\n",
    "from sklearn import neural_network\n",
    "\n",
    "from keras.models import Sequential\n",
    "from keras.layers import Dense, Activation, Flatten\n",
    "from keras.optimizers import *\n",
    "from keras.wrappers.scikit_learn import KerasClassifier\n",
    "import keras\n",
    "from keras import losses\n",
    "from functools import partial\n",
    "import math\n",
    "\n",
    "%matplotlib notebook"
   ]
  },
  {
   "cell_type": "markdown",
   "metadata": {},
   "source": [
    "# Preprocessing"
   ]
  },
  {
   "cell_type": "code",
   "execution_count": 2,
   "metadata": {},
   "outputs": [],
   "source": [
    "data = pd.read_csv('leaf.csv', header=None)\n",
    "data.drop([1],inplace=True,axis=1)\n",
    "X = data.values[:,1:]\n",
    "Y_first = data.values[:,0]\n",
    "Y = []\n",
    "out = np.zeros(shape=[36])\n",
    "for i in range(np.shape(Y_first)[0]):\n",
    "    out[int(Y_first[i])-1]=1\n",
    "    Y.append(out)\n",
    "    out = np.zeros(shape=[36])\n",
    "Y = np.array(Y)\n",
    "# min_max_scaler = preprocessing.MinMaxScaler()\n",
    "# X_scaled = min_max_scaler.fit_transform(X)\n",
    "# df_normalized = pd.DataFrame(X_scaled)\n",
    "\n",
    "r,c = np.shape(X)\n",
    "\n",
    "total_samples = list(np.arange(0,r,1))\n",
    "test_samples = random.sample(total_samples,int(np.round(len(total_samples)*0.2)))\n",
    "train_samples = list(set(total_samples) - set(test_samples))"
   ]
  },
  {
   "cell_type": "markdown",
   "metadata": {},
   "source": [
    "# Splitting Data"
   ]
  },
  {
   "cell_type": "code",
   "execution_count": 3,
   "metadata": {},
   "outputs": [],
   "source": [
    "# trainX = X[train_samples]\n",
    "# trainX_scaled = (trainX-np.min(trainX))/(np.max(trainX)-np.min(trainX))\n",
    "# trainY = Y[train_samples]\n",
    "# trainY_comp = Y_first[train_samples]\n",
    "\n",
    "# testX = X[test_samples]\n",
    "# testX_scaled = (testX-np.min(testX))/(np.max(testX)-np.min(testX))\n",
    "# testY = Y[test_samples]\n",
    "# testY_comp = Y_first[test_samples]\n",
    "# print(len(trainX[0]))\n",
    "# print(len(trainY[0]))"
   ]
  },
  {
   "cell_type": "code",
   "execution_count": 67,
   "metadata": {},
   "outputs": [],
   "source": [
    "trainX = np.load('trainX.npy')\n",
    "trainY = np.load('trainY.npy')\n",
    "trainY_comp = np.load('trainY_comp.npy')\n",
    "\n",
    "testX = np.load('testX.npy')\n",
    "testY = np.load('testY.npy')\n",
    "testY_comp = np.load('testY_comp.npy')\n",
    "\n",
    "trainX_val= np.load('trainX_val.npy')\n",
    "trainY_val=np.load('trainY_val.npy')\n",
    "trainY_comp_val=np.load('trainY_comp_val.npy')"
   ]
  },
  {
   "cell_type": "markdown",
   "metadata": {},
   "source": [
    "#  Neural Network"
   ]
  },
  {
   "cell_type": "code",
   "execution_count": 68,
   "metadata": {},
   "outputs": [],
   "source": [
    "def nn_objective_train(x_u):\n",
    "    num_inputs = 14\n",
    "    num_outputs = 36\n",
    "\n",
    "    hidden_layer_neurons = 405\n",
    "    x = x_u[0]\n",
    "    weights_all = num_inputs*hidden_layer_neurons + hidden_layer_neurons*num_outputs\n",
    "    bias_all = hidden_layer_neurons+num_outputs\n",
    "    iw_size = num_inputs*hidden_layer_neurons\n",
    "    nn_weights = x[:weights_all]\n",
    "    bias_all = x[weights_all:]\n",
    "    iw = nn_weights[0:iw_size]\n",
    "    ow = nn_weights[iw_size:]\n",
    "    b1 = bias_all[:hidden_layer_neurons]\n",
    "    b2 = bias_all[hidden_layer_neurons:]\n",
    "    w1 = np.reshape(iw,(num_inputs, hidden_layer_neurons))\n",
    "    w2 = np.reshape(ow,(hidden_layer_neurons, num_outputs))\n",
    "    l1 = np.maximum(np.dot(trainX, w1)+b1, 0)\n",
    "    x_i = np.dot(l1, w2)+b2\n",
    "    l2 = np.array(np.exp(x_i)/ np.exp(x_i).sum(axis=1)[:,None])  \n",
    "    l2_act = np.argmax(l2,axis=1)+1\n",
    "    output = np.clip(l2, 1e-15, 1. - 1e-15)\n",
    "    er= -np.sum(trainY * np.log(output))\n",
    "    return er\n",
    "\n",
    "def nn_objective_val(x_u):\n",
    "    num_inputs = 14\n",
    "    num_outputs = 36\n",
    "\n",
    "    hidden_layer_neurons = 405\n",
    "    x = x_u[0]\n",
    "    weights_all = num_inputs*hidden_layer_neurons + hidden_layer_neurons*num_outputs\n",
    "    bias_all = hidden_layer_neurons+num_outputs\n",
    "    iw_size = num_inputs*hidden_layer_neurons\n",
    "    nn_weights = x[:weights_all]\n",
    "    bias_all = x[weights_all:]\n",
    "    iw = nn_weights[0:iw_size]\n",
    "    ow = nn_weights[iw_size:]\n",
    "    b1 = bias_all[:hidden_layer_neurons]\n",
    "    b2 = bias_all[hidden_layer_neurons:]\n",
    "    w1 = np.reshape(iw,(num_inputs, hidden_layer_neurons))\n",
    "    w2 = np.reshape(ow,(hidden_layer_neurons, num_outputs))\n",
    "    l1 = np.maximum(np.dot(trainX_val, w1)+b1, 0)\n",
    "    x_i = np.dot(l1, w2)+b2\n",
    "    l2 = np.array(np.exp(x_i)/ np.exp(x_i).sum(axis=1)[:,None])  \n",
    "    l2_act = np.argmax(l2,axis=1)+1\n",
    "    output = np.clip(l2, 1e-15, 1. - 1e-15)\n",
    "    er= -np.sum(trainY_val * np.log(output))\n",
    "    return er\n",
    "\n"
   ]
  },
  {
   "cell_type": "markdown",
   "metadata": {},
   "source": [
    "# SA"
   ]
  },
  {
   "cell_type": "code",
   "execution_count": 69,
   "metadata": {},
   "outputs": [],
   "source": [
    "def annealing(random_start,\n",
    "              cost_function,\n",
    "              random_neighbour,\n",
    "              acceptance_probability,\n",
    "              temperature,\n",
    "              maxsteps,\n",
    "              debug,starting_point,ep,f_min):\n",
    "    \"\"\" Optimize the black-box function 'cost_function' with the simulated annealing algorithm.\"\"\"\n",
    "    state = random_start()\n",
    "    cost = cost_function(state)\n",
    "    cost_val = nn_objective_val(state)\n",
    "    costs_val = [cost_val]\n",
    "    if np.isnan(costs_val):\n",
    "        costs_val = [20000.]\n",
    "    states, costs = [state], [cost]\n",
    "    for step in range(maxsteps):\n",
    "        fraction = step / float(maxsteps)\n",
    "        T = temperature(fraction,starting_point,ep)\n",
    "        new_state = random_neighbour(state, fraction,f_min)\n",
    "        new_cost = cost_function(new_state)\n",
    "        new_cost_val = nn_objective_val(new_state)\n",
    "        #if debug: print(\"Step #{:>2}/{:>2} : T = {:>4.3g}, state = {:>4.3g}, cost = {:>4.3g}, new_state = {:>4.3g}, new_cost = {:>4.3g} ...\".format(step, maxsteps, T, state, cost, new_state, new_cost))\n",
    "        if acceptance_probability(cost, new_cost, T) > rn.random():\n",
    "            state, cost = new_state, new_cost\n",
    "            cost_val = new_cost_val\n",
    "            costs_val.append(cost_val)\n",
    "            states.append(state)\n",
    "            costs.append(cost)\n",
    "            # print(\"  ==> Accept it!\")\n",
    "        # else:\n",
    "        #    print(\"  ==> Reject it...\")\n",
    "    return state, cost_function(state),cost_val, states, costs, costs_val\n",
    "\n",
    "def clip(x):\n",
    "    \"\"\" Force x to be in the interval.\"\"\"\n",
    "    \n",
    "    a, b = interval\n",
    "    return np.clip(x, a, b)\n",
    "#     return max(min(x, b), a)\n",
    "\n",
    "def random_start():\n",
    "    \"\"\" Random point in the interval.\"\"\"\n",
    "    a, b = interval\n",
    "    return a + (b - a) * np.random.random((1,tw))\n",
    "\n",
    "def cost_function(x):\n",
    "    \"\"\" Cost of x = f(x).\"\"\"\n",
    "    return nn_objective(x)\n",
    "\n",
    "def random_neighbour(x, fraction,f_min):\n",
    "    \"\"\"Move a little bit x, from the left or the right.\"\"\"\n",
    "    amplitude = (max(interval) - min(interval)) * fraction / f_min\n",
    "    delta = (-amplitude/2.) + amplitude * np.random.random((1,tw))\n",
    "    #delta = f_min* np.random.random((1,tw))\n",
    "    return clip(x + delta)\n",
    "\n",
    "\n",
    "def acceptance_probability(cost, new_cost, temperature):\n",
    "    if new_cost < cost:\n",
    "        # print(\"    - Acceptance probabilty = 1 as new_cost = {} < cost = {}...\".format(new_cost, cost))\n",
    "        return 1\n",
    "    else:\n",
    "        p = np.exp(- (new_cost - cost) / temperature)\n",
    "        # print(\"    - Acceptance probabilty = {:.3g}...\".format(p))\n",
    "        return p\n",
    "\n",
    "def temperature(fraction,starting_point,ep):\n",
    "    \"\"\" Example of temperature decreasing as the process goes on.\"\"\"\n",
    "    return max(ep, min(starting_point, 1 - fraction))\n",
    "\n",
    "num_inputs = 14\n",
    "num_outputs = 36\n",
    "\n",
    "hidden_layer_neurons = 405\n",
    "\n",
    "weights_all = num_inputs*hidden_layer_neurons + hidden_layer_neurons*num_outputs\n",
    "bias_all = hidden_layer_neurons+num_outputs\n",
    "\n",
    "tw = weights_all+bias_all \n",
    "w0 = 2*np.random.random((1,tw))-2\n",
    "b = [(-2,2)]\n",
    "for i in range(len(w0[0])-1):\n",
    "    b.append((-2,2))\n",
    "\n",
    "interval = (-2, 2)\n"
   ]
  },
  {
   "cell_type": "markdown",
   "metadata": {},
   "source": [
    "# Starting Point"
   ]
  },
  {
   "cell_type": "code",
   "execution_count": 73,
   "metadata": {},
   "outputs": [
    {
     "name": "stderr",
     "output_type": "stream",
     "text": [
      "C:\\Users\\Manik.Rajora\\AppData\\Local\\Continuum\\anaconda2\\envs\\Py36\\lib\\site-packages\\ipykernel_launcher.py:20: RuntimeWarning: invalid value encountered in true_divide\n",
      "C:\\Users\\Manik.Rajora\\AppData\\Local\\Continuum\\anaconda2\\envs\\Py36\\lib\\site-packages\\ipykernel_launcher.py:45: RuntimeWarning: invalid value encountered in true_divide\n"
     ]
    }
   ],
   "source": [
    "starting_point = np.array([0.5,0.6,0.7,0.8,0.9,1])\n",
    "\n",
    "ap = acceptance_probability\n",
    "tf = temperature\n",
    "\n",
    "train = []\n",
    "val = []\n",
    "for i in range(np.shape(starting_point)[0]):\n",
    "    state, cfs,cost_val, states, costs, costs_val = annealing(random_start, nn_objective_train, random_neighbour, ap, tf, 5000, True,starting_point[i],0.01,1);\n",
    "    costs_val = np.array(costs_val)\n",
    "    costs_val[np.isnan(costs_val)]=20000\n",
    "    costs = np.array(costs)\n",
    "    costs[np.isnan(costs)]=20000\n",
    "    train.append(np.min(costs))\n",
    "    val.append(np.min(costs_val))"
   ]
  },
  {
   "cell_type": "code",
   "execution_count": 74,
   "metadata": {},
   "outputs": [
    {
     "data": {
      "image/png": "[encoded data removed]",
      "text/plain": [
       "<matplotlib.figure.Figure at 0xf315278>"
      ]
     },
     "metadata": {},
     "output_type": "display_data"
    }
   ],
   "source": [
    "plt.plot(starting_point,np.array(train),'g',label='Training Set')\n",
    "plt.plot(starting_point,np.array(val),'b',label='Validation Set')\n",
    "plt.xlabel('Initial Temperature')\n",
    "plt.ylabel('Loss')\n",
    "plt.title('Loss for Leaf Data Set')\n",
    "plt.legend()\n",
    "plt.show()"
   ]
  },
  {
   "cell_type": "code",
   "execution_count": 75,
   "metadata": {},
   "outputs": [
    {
     "name": "stdout",
     "output_type": "stream",
     "text": [
      "[20000.0, 5029.4793528230784, 20000.0, 4172.8368899467696, 4671.5803426565353, 4990.5600948582251]\n",
      "[20000.0, 2282.7169955497952, 20000.0, 1996.9097373760078, 1970.7467269525216, 2309.0799162446065]\n"
     ]
    }
   ],
   "source": [
    "print(train)\n",
    "print(val)"
   ]
  },
  {
   "cell_type": "markdown",
   "metadata": {},
   "source": [
    "# Ending Point"
   ]
  },
  {
   "cell_type": "code",
   "execution_count": 76,
   "metadata": {},
   "outputs": [
    {
     "name": "stderr",
     "output_type": "stream",
     "text": [
      "C:\\Users\\Manik.Rajora\\AppData\\Local\\Continuum\\anaconda2\\envs\\Py36\\lib\\site-packages\\ipykernel_launcher.py:20: RuntimeWarning: invalid value encountered in true_divide\n",
      "C:\\Users\\Manik.Rajora\\AppData\\Local\\Continuum\\anaconda2\\envs\\Py36\\lib\\site-packages\\ipykernel_launcher.py:45: RuntimeWarning: invalid value encountered in true_divide\n"
     ]
    }
   ],
   "source": [
    "starting_point = np.arange(0.0,0.5,0.05)\n",
    "ap = acceptance_probability\n",
    "tf = temperature\n",
    "\n",
    "train_3 = []\n",
    "val_3 = []\n",
    "for i in range(np.shape(starting_point)[0]):\n",
    "    state, cfs,cost_val, states, costs, costs_val = annealing(random_start, nn_objective_train, random_neighbour, ap, tf, 5000, True,1,starting_point[i],10);\n",
    "    train_3.append(np.min(costs))\n",
    "    costs_val = np.array(costs_val)\n",
    "    costs_val[np.isnan(costs_val)]=20000\n",
    "    val_3.append(np.min(costs_val))"
   ]
  },
  {
   "cell_type": "code",
   "execution_count": 77,
   "metadata": {},
   "outputs": [
    {
     "data": {
      "image/png": "[encoded data removed]",
      "text/plain": [
       "<matplotlib.figure.Figure at 0xf21b4e0>"
      ]
     },
     "metadata": {},
     "output_type": "display_data"
    }
   ],
   "source": [
    "plt.plot(starting_point,np.array(train_3),'g',label='Training Set')\n",
    "plt.plot(starting_point,np.array(val_3),'b',label='Validation Set')\n",
    "plt.xlabel('Ending Temperature')\n",
    "plt.ylabel('Loss')\n",
    "plt.title('Loss for Leaf Data Set')\n",
    "plt.legend()\n",
    "plt.show()"
   ]
  },
  {
   "cell_type": "markdown",
   "metadata": {},
   "source": [
    "# Amplitude"
   ]
  },
  {
   "cell_type": "code",
   "execution_count": 78,
   "metadata": {},
   "outputs": [
    {
     "name": "stderr",
     "output_type": "stream",
     "text": [
      "C:\\Users\\Manik.Rajora\\AppData\\Local\\Continuum\\anaconda2\\envs\\Py36\\lib\\site-packages\\ipykernel_launcher.py:45: RuntimeWarning: invalid value encountered in true_divide\n",
      "C:\\Users\\Manik.Rajora\\AppData\\Local\\Continuum\\anaconda2\\envs\\Py36\\lib\\site-packages\\ipykernel_launcher.py:20: RuntimeWarning: invalid value encountered in true_divide\n"
     ]
    }
   ],
   "source": [
    "f_use = np.arange(0.01,10,1)\n",
    "ap = acceptance_probability\n",
    "tf = temperature\n",
    "\n",
    "train_4 = []\n",
    "val_4 = []\n",
    "for i in range(np.shape(f_use)[0]):\n",
    "    state, cfs,cost_val, states, costs, costs_val = annealing(random_start, nn_objective_train, random_neighbour, ap, tf, 5000, True,1,0.01,f_use[i]);\n",
    "    train_4.append(np.min(costs))\n",
    "    costs_val = np.array(costs_val)\n",
    "    costs_val[np.isnan(costs_val)]=20000\n",
    "    val_4.append(np.min(costs_val))"
   ]
  },
  {
   "cell_type": "code",
   "execution_count": 79,
   "metadata": {},
   "outputs": [
    {
     "data": {
      "image/png": "[encoded data removed]",
      "text/plain": [
       "<matplotlib.figure.Figure at 0xf3ae710>"
      ]
     },
     "metadata": {},
     "output_type": "display_data"
    }
   ],
   "source": [
    "plt.plot(f_use,np.array(train_4),'g',label='Training Set')\n",
    "plt.plot(f_use,np.array(val_4),'b',label='Validation Set')\n",
    "plt.xlabel('Maximum Step Size')\n",
    "plt.ylabel('Loss')\n",
    "plt.title('Loss for Leaf Data Set')\n",
    "plt.legend()\n",
    "plt.show()"
   ]
  },
  {
   "cell_type": "markdown",
   "metadata": {},
   "source": [
    "# Grid Search"
   ]
  },
  {
   "cell_type": "code",
   "execution_count": 80,
   "metadata": {},
   "outputs": [
    {
     "name": "stderr",
     "output_type": "stream",
     "text": [
      "C:\\Users\\Manik.Rajora\\AppData\\Local\\Continuum\\anaconda2\\envs\\Py36\\lib\\site-packages\\ipykernel_launcher.py:45: RuntimeWarning: invalid value encountered in true_divide\n",
      "C:\\Users\\Manik.Rajora\\AppData\\Local\\Continuum\\anaconda2\\envs\\Py36\\lib\\site-packages\\ipykernel_launcher.py:20: RuntimeWarning: invalid value encountered in true_divide\n"
     ]
    }
   ],
   "source": [
    "sp = np.array([0.7,0.8,0.9,1])\n",
    "ep = np.arange(0.0,0.5,0.1)\n",
    "f_use = np.arange(1,10,3)\n",
    "\n",
    "ap = acceptance_probability\n",
    "tf = temperature\n",
    "p_all = []\n",
    "for i in range(np.shape(sp)[0]):\n",
    "    for j in range(np.shape(ep)[0]):\n",
    "        for k in range(np.shape(f_use)[0]):\n",
    "            state, cfs,cost_val, states, costs, costs_val = annealing(random_start, nn_objective_train, random_neighbour, ap, tf, 10000,True,sp[i],ep[j],f_use[k])\n",
    "            p_all.append(np.array([sp[i],ep[j],f_use[k],np.min(costs),np.min(costs_val)]))"
   ]
  },
  {
   "cell_type": "code",
   "execution_count": 81,
   "metadata": {},
   "outputs": [
    {
     "name": "stdout",
     "output_type": "stream",
     "text": [
      "(60, 5)\n",
      "[  9.00000000e-01   4.00000000e-01   7.00000000e+00   4.38475956e+03\n",
      "   1.66448572e+03]\n"
     ]
    }
   ],
   "source": [
    "print(np.shape(p_all))\n",
    "all_vals = np.reshape(p_all,(60,5))\n",
    "val_loss = all_vals[:,-1]\n",
    "val_loss[np.isnan(val_loss)]=100000\n",
    "b_idx = np.argmin(val_loss)\n",
    "b_vals = all_vals[b_idx,:]\n",
    "print(b_vals)"
   ]
  },
  {
   "cell_type": "code",
   "execution_count": 92,
   "metadata": {},
   "outputs": [],
   "source": [
    "def nn_objective_train(x_u):\n",
    "    num_inputs = 14\n",
    "    num_outputs = 36\n",
    "\n",
    "    hidden_layer_neurons = 405\n",
    "    x = x_u[0]\n",
    "    weights_all = num_inputs*hidden_layer_neurons + hidden_layer_neurons*num_outputs\n",
    "    bias_all = hidden_layer_neurons+num_outputs\n",
    "    iw_size = num_inputs*hidden_layer_neurons\n",
    "    nn_weights = x[:weights_all]\n",
    "    bias_all = x[weights_all:]\n",
    "    iw = nn_weights[0:iw_size]\n",
    "    ow = nn_weights[iw_size:]\n",
    "    b1 = bias_all[:hidden_layer_neurons]\n",
    "    b2 = bias_all[hidden_layer_neurons:]\n",
    "    w1 = np.reshape(iw,(num_inputs, hidden_layer_neurons))\n",
    "    w2 = np.reshape(ow,(hidden_layer_neurons, num_outputs))\n",
    "    l1 = np.maximum(np.dot(trainX, w1)+b1, 0)\n",
    "    x_i = np.dot(l1, w2)+b2\n",
    "    l2 = np.array(np.exp(x_i)/ np.exp(x_i).sum(axis=1)[:,None])  \n",
    "    l2_act = np.argmax(l2,axis=1)+1\n",
    "    output = np.clip(l2, 1e-15, 1. - 1e-15)\n",
    "    er= -np.sum(trainY * np.log(l2))\n",
    "    predict_out = l2_act\n",
    "    predict_out = predict_out.flatten()\n",
    "    acc = 1-accuracy_score(trainY_comp,predict_out)\n",
    "    print(predict_out)\n",
    "    print(trainY_comp)\n",
    "    print(acc)\n",
    "    return er\n",
    "\n",
    "def nn_objective_val(x_u):\n",
    "    num_inputs = 14\n",
    "    num_outputs = 36\n",
    "\n",
    "    hidden_layer_neurons = 405\n",
    "    x = x_u[0]\n",
    "    weights_all = num_inputs*hidden_layer_neurons + hidden_layer_neurons*num_outputs\n",
    "    bias_all = hidden_layer_neurons+num_outputs\n",
    "    iw_size = num_inputs*hidden_layer_neurons\n",
    "    nn_weights = x[:weights_all]\n",
    "    bias_all = x[weights_all:]\n",
    "    iw = nn_weights[0:iw_size]\n",
    "    ow = nn_weights[iw_size:]\n",
    "    b1 = bias_all[:hidden_layer_neurons]\n",
    "    b2 = bias_all[hidden_layer_neurons:]\n",
    "    w1 = np.reshape(iw,(num_inputs, hidden_layer_neurons))\n",
    "    w2 = np.reshape(ow,(hidden_layer_neurons, num_outputs))\n",
    "    l1 = np.maximum(np.dot(trainX_val, w1)+b1, 0)\n",
    "    x_i = np.dot(l1, w2)+b2\n",
    "    l2 = np.array(np.exp(x_i)/ np.exp(x_i).sum(axis=1)[:,None])  \n",
    "    l2_act = np.argmax(l2,axis=1)+1\n",
    "    output = np.clip(l2, 1e-15, 1. - 1e-15)\n",
    "    er= -np.sum(trainY_val * np.log(l2))\n",
    "#     predict_out = l2_act\n",
    "#     predict_out = predict_out.flatten()\n",
    "#     print(predict_out)\n",
    "#     print(trainY_comp_val)\n",
    "#     acc = 1-accuracy_score(trainY_comp_val.predict_out)\n",
    "#     print(acc)\n",
    "    return er\n",
    "\n"
   ]
  },
  {
   "cell_type": "code",
   "execution_count": 93,
   "metadata": {},
   "outputs": [
    {
     "name": "stdout",
     "output_type": "stream",
     "text": [
      "[ 3  3  3  3  3  3  3  3  3  3  3  3  3  3  3  3  3  3  3  3  3  3 14 14 14\n",
      " 14 14 14 14  3  3  3  3  3  3  3  3  3  3  3 14  3  3  3  3 14 14 14  3  3\n",
      " 14 14 14 14 14 14 14 14 14 14 14 14  3  3  3  3  3  3  3  3  3  3  3  3  3\n",
      "  3  3  3  3  3  3 14 14 14 14 14 14  3  3 14 14  3 14  3  3  3 14 14 14  3\n",
      "  3 14 14  3  3  3  3  3  3  3  3  3  3  3  3  3 14  3  3  3  3  3  3  3  3\n",
      "  3  3  3  3  3  3  3  3  3  3  3  3  3  3  3  3  3  3  3  3  3  3  3  3  3\n",
      "  3  3 14 14 14  3  3  3  3  3  3  3  3  3  3  3  3  3  3  3  3  3  3  3 14\n",
      "  3  3  3  3  3  3 14 14 14 14 14 14 14 14 14]\n",
      "[  1.   1.   1.   1.   1.   1.   2.   2.   2.   2.   2.   2.   3.   3.   3.\n",
      "   3.   3.   4.   4.   5.   5.   5.   5.   5.   5.   6.   6.   6.   6.   7.\n",
      "   7.   7.   7.   8.   8.   8.   8.   9.   9.   9.   9.   9.   9.   9.   9.\n",
      "  10.  10.  10.  10.  10.  10.  10.  10.  11.  11.  11.  11.  11.  11.  11.\n",
      "  11.  11.  12.  12.  12.  12.  12.  12.  12.  13.  13.  13.  13.  13.  13.\n",
      "  13.  14.  14.  14.  14.  14.  15.  15.  15.  15.  15.  15.  22.  22.  22.\n",
      "  22.  22.  22.  22.  23.  23.  23.  23.  23.  23.  23.  23.  23.  24.  24.\n",
      "  24.  24.  24.  24.  24.  24.  24.  24.  24.  25.  25.  25.  26.  26.  26.\n",
      "  26.  26.  26.  26.  26.  27.  27.  27.  27.  27.  27.  28.  28.  28.  28.\n",
      "  28.  28.  28.  28.  28.  29.  29.  29.  29.  29.  30.  30.  30.  30.  30.\n",
      "  30.  30.  31.  31.  31.  32.  32.  32.  32.  32.  32.  32.  32.  33.  33.\n",
      "  33.  33.  33.  33.  33.  33.  34.  34.  34.  34.  34.  34.  35.  35.  35.\n",
      "  35.  36.  36.  36.  36.  36.  36.  36.  36.  36.]\n",
      "0.973684210526\n",
      "[ 3  3  3  3  3  3  3  3  3  3  3  3  3 14 14  3  3  3  3  3  3  3  3 14  3\n",
      "  3  3  3  3 14 14  3  3 14 14 14  3  3  3 14 14  3 14 14  3  3  3 14  3  3\n",
      " 14 14 14  3  3  3  3  3  3  3  3  3  3  3  3 14  3 14  3  3  3  3  3  3  3\n",
      "  3  3  3 14  3  3  3]\n",
      "[ 25.  29.   9.   9.   5.  26.   8.  35.   3.  30.   4.  12.   4.  11.  34.\n",
      "  25.   2.  25.   1.  35.  24.  22.  12.  10.  29.   9.  35.  34.  14.   5.\n",
      "   9.   1.   9.  11.  10.  10.   1.  29.  24.  31.  11.   7.  11.  31.  14.\n",
      "  27.   7.  10.  35.  29.   6.  23.  36.  35.   2.  29.  13.   9.  25.  13.\n",
      "  12.  32.  13.   7.  32.  11.   3.   5.  31.   3.   1.  22.   4.  32.   7.\n",
      "  34.  29.   2.   6.  27.  26.  28.]\n"
     ]
    },
    {
     "name": "stderr",
     "output_type": "stream",
     "text": [
      "C:\\Users\\Manik.Rajora\\AppData\\Local\\Continuum\\anaconda2\\envs\\Py36\\lib\\site-packages\\ipykernel_launcher.py:23: RuntimeWarning: divide by zero encountered in log\n",
      "C:\\Users\\Manik.Rajora\\AppData\\Local\\Continuum\\anaconda2\\envs\\Py36\\lib\\site-packages\\ipykernel_launcher.py:23: RuntimeWarning: invalid value encountered in multiply\n",
      "C:\\Users\\Manik.Rajora\\AppData\\Local\\Continuum\\anaconda2\\envs\\Py36\\lib\\site-packages\\ipykernel_launcher.py:54: RuntimeWarning: divide by zero encountered in log\n",
      "C:\\Users\\Manik.Rajora\\AppData\\Local\\Continuum\\anaconda2\\envs\\Py36\\lib\\site-packages\\ipykernel_launcher.py:54: RuntimeWarning: invalid value encountered in multiply\n"
     ]
    },
    {
     "ename": "AttributeError",
     "evalue": "'numpy.ndarray' object has no attribute 'predict_out'",
     "output_type": "error",
     "traceback": [
      "\u001b[1;31m---------------------------------------------------------------------------\u001b[0m",
      "\u001b[1;31mAttributeError\u001b[0m                            Traceback (most recent call last)",
      "\u001b[1;32m<ipython-input-93-04c832447c6a>\u001b[0m in \u001b[0;36m<module>\u001b[1;34m()\u001b[0m\n\u001b[0;32m     13\u001b[0m     \u001b[1;32mfor\u001b[0m \u001b[0mj\u001b[0m \u001b[1;32min\u001b[0m \u001b[0mrange\u001b[0m\u001b[1;33m(\u001b[0m\u001b[0mnp\u001b[0m\u001b[1;33m.\u001b[0m\u001b[0mshape\u001b[0m\u001b[1;33m(\u001b[0m\u001b[0mep\u001b[0m\u001b[1;33m)\u001b[0m\u001b[1;33m[\u001b[0m\u001b[1;36m0\u001b[0m\u001b[1;33m]\u001b[0m\u001b[1;33m)\u001b[0m\u001b[1;33m:\u001b[0m\u001b[1;33m\u001b[0m\u001b[0m\n\u001b[0;32m     14\u001b[0m         \u001b[1;32mfor\u001b[0m \u001b[0mk\u001b[0m \u001b[1;32min\u001b[0m \u001b[0mrange\u001b[0m\u001b[1;33m(\u001b[0m\u001b[0mnp\u001b[0m\u001b[1;33m.\u001b[0m\u001b[0mshape\u001b[0m\u001b[1;33m(\u001b[0m\u001b[0mf_use\u001b[0m\u001b[1;33m)\u001b[0m\u001b[1;33m[\u001b[0m\u001b[1;36m0\u001b[0m\u001b[1;33m]\u001b[0m\u001b[1;33m)\u001b[0m\u001b[1;33m:\u001b[0m\u001b[1;33m\u001b[0m\u001b[0m\n\u001b[1;32m---> 15\u001b[1;33m             \u001b[0mstate\u001b[0m\u001b[1;33m,\u001b[0m \u001b[0mcfs\u001b[0m\u001b[1;33m,\u001b[0m\u001b[0mcost_val\u001b[0m\u001b[1;33m,\u001b[0m \u001b[0mstates\u001b[0m\u001b[1;33m,\u001b[0m \u001b[0mcosts\u001b[0m\u001b[1;33m,\u001b[0m \u001b[0mcosts_val\u001b[0m \u001b[1;33m=\u001b[0m \u001b[0mannealing\u001b[0m\u001b[1;33m(\u001b[0m\u001b[0mrandom_start\u001b[0m\u001b[1;33m,\u001b[0m \u001b[0mnn_objective_train\u001b[0m\u001b[1;33m,\u001b[0m \u001b[0mrandom_neighbour\u001b[0m\u001b[1;33m,\u001b[0m \u001b[0map\u001b[0m\u001b[1;33m,\u001b[0m \u001b[0mtf\u001b[0m\u001b[1;33m,\u001b[0m \u001b[1;36m10000\u001b[0m\u001b[1;33m,\u001b[0m\u001b[1;32mTrue\u001b[0m\u001b[1;33m,\u001b[0m\u001b[0msp\u001b[0m\u001b[1;33m[\u001b[0m\u001b[0mi\u001b[0m\u001b[1;33m]\u001b[0m\u001b[1;33m,\u001b[0m\u001b[0mep\u001b[0m\u001b[1;33m[\u001b[0m\u001b[0mj\u001b[0m\u001b[1;33m]\u001b[0m\u001b[1;33m,\u001b[0m\u001b[0mf_use\u001b[0m\u001b[1;33m[\u001b[0m\u001b[0mk\u001b[0m\u001b[1;33m]\u001b[0m\u001b[1;33m)\u001b[0m\u001b[1;33m\u001b[0m\u001b[0m\n\u001b[0m",
      "\u001b[1;32m<ipython-input-69-c5674c2a62c3>\u001b[0m in \u001b[0;36mannealing\u001b[1;34m(random_start, cost_function, random_neighbour, acceptance_probability, temperature, maxsteps, debug, starting_point, ep, f_min)\u001b[0m\n\u001b[0;32m      9\u001b[0m     \u001b[0mstate\u001b[0m \u001b[1;33m=\u001b[0m \u001b[0mrandom_start\u001b[0m\u001b[1;33m(\u001b[0m\u001b[1;33m)\u001b[0m\u001b[1;33m\u001b[0m\u001b[0m\n\u001b[0;32m     10\u001b[0m     \u001b[0mcost\u001b[0m \u001b[1;33m=\u001b[0m \u001b[0mcost_function\u001b[0m\u001b[1;33m(\u001b[0m\u001b[0mstate\u001b[0m\u001b[1;33m)\u001b[0m\u001b[1;33m\u001b[0m\u001b[0m\n\u001b[1;32m---> 11\u001b[1;33m     \u001b[0mcost_val\u001b[0m \u001b[1;33m=\u001b[0m \u001b[0mnn_objective_val\u001b[0m\u001b[1;33m(\u001b[0m\u001b[0mstate\u001b[0m\u001b[1;33m)\u001b[0m\u001b[1;33m\u001b[0m\u001b[0m\n\u001b[0m\u001b[0;32m     12\u001b[0m     \u001b[0mcosts_val\u001b[0m \u001b[1;33m=\u001b[0m \u001b[1;33m[\u001b[0m\u001b[0mcost_val\u001b[0m\u001b[1;33m]\u001b[0m\u001b[1;33m\u001b[0m\u001b[0m\n\u001b[0;32m     13\u001b[0m     \u001b[1;32mif\u001b[0m \u001b[0mnp\u001b[0m\u001b[1;33m.\u001b[0m\u001b[0misnan\u001b[0m\u001b[1;33m(\u001b[0m\u001b[0mcosts_val\u001b[0m\u001b[1;33m)\u001b[0m\u001b[1;33m:\u001b[0m\u001b[1;33m\u001b[0m\u001b[0m\n",
      "\u001b[1;32m<ipython-input-92-6c563c0822b9>\u001b[0m in \u001b[0;36mnn_objective_val\u001b[1;34m(x_u)\u001b[0m\n\u001b[0;32m     57\u001b[0m     \u001b[0mprint\u001b[0m\u001b[1;33m(\u001b[0m\u001b[0mpredict_out\u001b[0m\u001b[1;33m)\u001b[0m\u001b[1;33m\u001b[0m\u001b[0m\n\u001b[0;32m     58\u001b[0m     \u001b[0mprint\u001b[0m\u001b[1;33m(\u001b[0m\u001b[0mtrainY_comp_val\u001b[0m\u001b[1;33m)\u001b[0m\u001b[1;33m\u001b[0m\u001b[0m\n\u001b[1;32m---> 59\u001b[1;33m     \u001b[0macc\u001b[0m \u001b[1;33m=\u001b[0m \u001b[1;36m1\u001b[0m\u001b[1;33m-\u001b[0m\u001b[0maccuracy_score\u001b[0m\u001b[1;33m(\u001b[0m\u001b[0mtrainY_comp_val\u001b[0m\u001b[1;33m.\u001b[0m\u001b[0mpredict_out\u001b[0m\u001b[1;33m)\u001b[0m\u001b[1;33m\u001b[0m\u001b[0m\n\u001b[0m\u001b[0;32m     60\u001b[0m     \u001b[0mprint\u001b[0m\u001b[1;33m(\u001b[0m\u001b[0macc\u001b[0m\u001b[1;33m)\u001b[0m\u001b[1;33m\u001b[0m\u001b[0m\n\u001b[0;32m     61\u001b[0m     \u001b[1;32mreturn\u001b[0m \u001b[0mer\u001b[0m\u001b[1;33m\u001b[0m\u001b[0m\n",
      "\u001b[1;31mAttributeError\u001b[0m: 'numpy.ndarray' object has no attribute 'predict_out'"
     ]
    }
   ],
   "source": [
    "sp = p_all[0]\n",
    "ep = p_all[1]\n",
    "f_use = p_all[2]\n",
    "\n",
    "# sp = np.array([0.8])\n",
    "# ep =np.array([0.2])\n",
    "# f_use = np.array([4])\n",
    "\n",
    "ap = acceptance_probability\n",
    "tf = temperature\n",
    "\n",
    "for i in range(np.shape(sp)[0]):\n",
    "    for j in range(np.shape(ep)[0]):\n",
    "        for k in range(np.shape(f_use)[0]):\n",
    "            state, cfs,cost_val, states, costs, costs_val = annealing(random_start, nn_objective_train, random_neighbour, ap, tf, 10000,True,sp[i],ep[j],f_use[k])\n"
   ]
  },
  {
   "cell_type": "code",
   "execution_count": 84,
   "metadata": {},
   "outputs": [
    {
     "name": "stdout",
     "output_type": "stream",
     "text": [
      "[35  1 24  1  1  1  1  1  1  1  1  1  3 26 26  5 35 33 33 35 35 35  5 35  5\n",
      "  5  5  5  5 35 35  1 35 13  1  1 13 26 35 26  5  3  3 26  3 30  5 30 30  3\n",
      "  5 30  5  5  5  5  5  5  5  5  5  5 35 35 35 35 35 35 35 33 24  3 35 33  3\n",
      " 33 35 35 35  3 35  5  5  5  5  5  5  1  5  5  5  1  5  1 24 24  5  5  5  5\n",
      " 24  5  5 24 24 24  3 24  1 24 33 33 24 24 35  3  5 24 26 31 26 33 24 35 33\n",
      " 33 35 35 35 35 24 35 35 35 35 35 35  4  3  4  1  1  1  1  1  3  3  3 30 26\n",
      "  3 30  5  5  1  1  1  1  1  1  1  1  1 35  3 35  1 33 35 33 35  1  1  1  1\n",
      "  1  1  3 35 35  1  5  5  5  5  5  5  5  5  5]\n",
      "[  1.   1.   1.   1.   1.   1.   2.   2.   2.   2.   2.   2.   3.   3.   3.\n",
      "   3.   3.   4.   4.   5.   5.   5.   5.   5.   5.   6.   6.   6.   6.   7.\n",
      "   7.   7.   7.   8.   8.   8.   8.   9.   9.   9.   9.   9.   9.   9.   9.\n",
      "  10.  10.  10.  10.  10.  10.  10.  10.  11.  11.  11.  11.  11.  11.  11.\n",
      "  11.  11.  12.  12.  12.  12.  12.  12.  12.  13.  13.  13.  13.  13.  13.\n",
      "  13.  14.  14.  14.  14.  14.  15.  15.  15.  15.  15.  15.  22.  22.  22.\n",
      "  22.  22.  22.  22.  23.  23.  23.  23.  23.  23.  23.  23.  23.  24.  24.\n",
      "  24.  24.  24.  24.  24.  24.  24.  24.  24.  25.  25.  25.  26.  26.  26.\n",
      "  26.  26.  26.  26.  26.  27.  27.  27.  27.  27.  27.  28.  28.  28.  28.\n",
      "  28.  28.  28.  28.  28.  29.  29.  29.  29.  29.  30.  30.  30.  30.  30.\n",
      "  30.  30.  31.  31.  31.  32.  32.  32.  32.  32.  32.  32.  32.  33.  33.\n",
      "  33.  33.  33.  33.  33.  33.  34.  34.  34.  34.  34.  34.  35.  35.  35.\n",
      "  35.  36.  36.  36.  36.  36.  36.  36.  36.  36.]\n",
      "0.884210526316\n",
      "nan\n",
      "[35  1  3  3  5  1  1 35 24  3 35 35 35  5  1  3  1  3  1 35 35  1 35  5  1\n",
      "  5 35  1  1  5 30  1 24  5 30  5  1  1 24  1  5  5  5  5 35 35 35 30 35  1\n",
      "  5  5  5 35  1  1 35 26  3 33 35  1 35 35 35  5 26  5  1 33  1  1 24  1 35\n",
      "  1  1  1  5 35 33 35]\n",
      "[ 25.  29.   9.   9.   5.  26.   8.  35.   3.  30.   4.  12.   4.  11.  34.\n",
      "  25.   2.  25.   1.  35.  24.  22.  12.  10.  29.   9.  35.  34.  14.   5.\n",
      "   9.   1.   9.  11.  10.  10.   1.  29.  24.  31.  11.   7.  11.  31.  14.\n",
      "  27.   7.  10.  35.  29.   6.  23.  36.  35.   2.  29.  13.   9.  25.  13.\n",
      "  12.  32.  13.   7.  32.  11.   3.   5.  31.   3.   1.  22.   4.  32.   7.\n",
      "  34.  29.   2.   6.  27.  26.  28.]\n"
     ]
    },
    {
     "name": "stderr",
     "output_type": "stream",
     "text": [
      "C:\\Users\\Manik.Rajora\\AppData\\Local\\Continuum\\anaconda2\\envs\\Py36\\lib\\site-packages\\ipykernel_launcher.py:23: RuntimeWarning: divide by zero encountered in log\n",
      "C:\\Users\\Manik.Rajora\\AppData\\Local\\Continuum\\anaconda2\\envs\\Py36\\lib\\site-packages\\ipykernel_launcher.py:23: RuntimeWarning: invalid value encountered in multiply\n",
      "C:\\Users\\Manik.Rajora\\AppData\\Local\\Continuum\\anaconda2\\envs\\Py36\\lib\\site-packages\\ipykernel_launcher.py:54: RuntimeWarning: divide by zero encountered in log\n",
      "C:\\Users\\Manik.Rajora\\AppData\\Local\\Continuum\\anaconda2\\envs\\Py36\\lib\\site-packages\\ipykernel_launcher.py:54: RuntimeWarning: invalid value encountered in multiply\n"
     ]
    },
    {
     "ename": "AttributeError",
     "evalue": "'numpy.ndarray' object has no attribute 'predict_out'",
     "output_type": "error",
     "traceback": [
      "\u001b[1;31m---------------------------------------------------------------------------\u001b[0m",
      "\u001b[1;31mAttributeError\u001b[0m                            Traceback (most recent call last)",
      "\u001b[1;32m<ipython-input-84-0c03b9e2bac0>\u001b[0m in \u001b[0;36m<module>\u001b[1;34m()\u001b[0m\n\u001b[0;32m      3\u001b[0m \u001b[1;33m\u001b[0m\u001b[0m\n\u001b[0;32m      4\u001b[0m \u001b[0mprint\u001b[0m\u001b[1;33m(\u001b[0m\u001b[0mnn_objective_train\u001b[0m\u001b[1;33m(\u001b[0m\u001b[0mw\u001b[0m\u001b[1;33m)\u001b[0m\u001b[1;33m)\u001b[0m\u001b[1;33m\u001b[0m\u001b[0m\n\u001b[1;32m----> 5\u001b[1;33m \u001b[0mprint\u001b[0m\u001b[1;33m(\u001b[0m\u001b[0mnn_objective_val\u001b[0m\u001b[1;33m(\u001b[0m\u001b[0mw\u001b[0m\u001b[1;33m)\u001b[0m\u001b[1;33m)\u001b[0m\u001b[1;33m\u001b[0m\u001b[0m\n\u001b[0m",
      "\u001b[1;32m<ipython-input-83-6c563c0822b9>\u001b[0m in \u001b[0;36mnn_objective_val\u001b[1;34m(x_u)\u001b[0m\n\u001b[0;32m     57\u001b[0m     \u001b[0mprint\u001b[0m\u001b[1;33m(\u001b[0m\u001b[0mpredict_out\u001b[0m\u001b[1;33m)\u001b[0m\u001b[1;33m\u001b[0m\u001b[0m\n\u001b[0;32m     58\u001b[0m     \u001b[0mprint\u001b[0m\u001b[1;33m(\u001b[0m\u001b[0mtrainY_comp_val\u001b[0m\u001b[1;33m)\u001b[0m\u001b[1;33m\u001b[0m\u001b[0m\n\u001b[1;32m---> 59\u001b[1;33m     \u001b[0macc\u001b[0m \u001b[1;33m=\u001b[0m \u001b[1;36m1\u001b[0m\u001b[1;33m-\u001b[0m\u001b[0maccuracy_score\u001b[0m\u001b[1;33m(\u001b[0m\u001b[0mtrainY_comp_val\u001b[0m\u001b[1;33m.\u001b[0m\u001b[0mpredict_out\u001b[0m\u001b[1;33m)\u001b[0m\u001b[1;33m\u001b[0m\u001b[0m\n\u001b[0m\u001b[0;32m     60\u001b[0m     \u001b[0mprint\u001b[0m\u001b[1;33m(\u001b[0m\u001b[0macc\u001b[0m\u001b[1;33m)\u001b[0m\u001b[1;33m\u001b[0m\u001b[0m\n\u001b[0;32m     61\u001b[0m     \u001b[1;32mreturn\u001b[0m \u001b[0mer\u001b[0m\u001b[1;33m\u001b[0m\u001b[0m\n",
      "\u001b[1;31mAttributeError\u001b[0m: 'numpy.ndarray' object has no attribute 'predict_out'"
     ]
    }
   ],
   "source": [
    "idx = np.argmin(costs_val)\n",
    "w = states[idx]\n",
    "\n",
    "print(nn_objective_train(w))\n",
    "print(nn_objective_val(w))\n"
   ]
  },
  {
   "cell_type": "code",
   "execution_count": null,
   "metadata": {},
   "outputs": [],
   "source": []
  },
  {
   "cell_type": "code",
   "execution_count": null,
   "metadata": {},
   "outputs": [],
   "source": []
  }
 ],
 "metadata": {
  "kernelspec": {
   "display_name": "Python 3",
   "language": "python",
   "name": "python3"
  },
  "language_info": {
   "codemirror_mode": {
    "name": "ipython",
    "version": 3
   },
   "file_extension": ".py",
   "mimetype": "text/x-python",
   "name": "python",
   "nbconvert_exporter": "python",
   "pygments_lexer": "ipython3",
   "version": "3.6.5"
  }
 },
 "nbformat": 4,
 "nbformat_minor": 2
}
