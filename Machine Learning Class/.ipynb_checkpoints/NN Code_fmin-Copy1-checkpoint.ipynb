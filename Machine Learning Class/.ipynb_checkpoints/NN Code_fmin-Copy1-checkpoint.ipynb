{
 "cells": [
  {
   "cell_type": "code",
   "execution_count": 1,
   "metadata": {},
   "outputs": [
    {
     "name": "stderr",
     "output_type": "stream",
     "text": [
      "Using TensorFlow backend.\n"
     ]
    }
   ],
   "source": [
    "import numpy as np # linear algebra\n",
    "import pandas as pd # data processing, CSV file I/O (e.g. pd.read_csv)\n",
    "import seaborn as sns # visualization\n",
    "import matplotlib.pyplot as plt\n",
    "import random\n",
    "from sklearn.metrics import accuracy_score, log_loss\n",
    "from scipy import optimize\n",
    "from keras import losses\n",
    "from keras import backend as K\n",
    "import tensorflow as tf\n",
    "\n",
    "%matplotlib notebook"
   ]
  },
  {
   "cell_type": "markdown",
   "metadata": {},
   "source": [
    "# Preprocessing"
   ]
  },
  {
   "cell_type": "code",
   "execution_count": 2,
   "metadata": {},
   "outputs": [],
   "source": [
    "data = pd.read_csv('winequality-white.csv',sep=';')\n",
    "X = data.values[:,0:-1]\n",
    "Y_first = data.values[:,-1]\n",
    "Y = []\n",
    "out = np.zeros(shape=[7])\n",
    "for i in range(np.shape(Y_first)[0]):\n",
    "    out[int(Y_first[i])-3]=1\n",
    "    Y.append(out)\n",
    "    out = np.zeros(shape=[7])\n",
    "Y = np.array(Y)\n",
    "# min_max_scaler = preprocessing.MinMaxScaler()\n",
    "# X_scaled = min_max_scaler.fit_transform(X)\n",
    "# df_normalized = pd.DataFrame(X_scaled)\n",
    "\n",
    "r,c = np.shape(X)\n",
    "\n",
    "total_samples = list(np.arange(0,r,1))\n",
    "test_samples = random.sample(total_samples,int(np.round(len(total_samples)*0.2)))\n",
    "train_samples = list(set(total_samples) - set(test_samples))"
   ]
  },
  {
   "cell_type": "markdown",
   "metadata": {},
   "source": [
    "# Splitting Data"
   ]
  },
  {
   "cell_type": "code",
   "execution_count": 3,
   "metadata": {},
   "outputs": [
    {
     "name": "stdout",
     "output_type": "stream",
     "text": [
      "11\n",
      "7\n"
     ]
    }
   ],
   "source": [
    "trainX = X[train_samples]\n",
    "trainX_scaled = (trainX-np.min(trainX))/(np.max(trainX)-np.min(trainX))\n",
    "trainY = Y[train_samples]\n",
    "trainY_comp = Y_first[train_samples]\n",
    "\n",
    "testX = X[test_samples]\n",
    "testX_scaled = (testX-np.min(testX))/(np.max(testX)-np.min(testX))\n",
    "testY = Y[test_samples]\n",
    "testY_comp = Y_first[test_samples]\n",
    "print(len(trainX[0]))\n",
    "print(len(trainY[0]))"
   ]
  },
  {
   "cell_type": "code",
   "execution_count": 4,
   "metadata": {},
   "outputs": [],
   "source": [
    "def logloss(true_label, predicted, eps=1e-15):\n",
    "#   p = np.clip(predicted, eps, 1 - eps)\n",
    "#   if true_label == 1:\n",
    "#     return -np.log(p)\n",
    "#   else:\n",
    "#     return 0\n",
    "    epsilon_ = _to_tensor(epsilon(), output.dtype.base_dtype)\n",
    "    output = clip_ops.clip_by_value(output, epsilon_, 1. - epsilon_)\n",
    "    return -math_ops.reduce_sum(target * math_ops.log(output), axis)"
   ]
  },
  {
   "cell_type": "code",
   "execution_count": 5,
   "metadata": {},
   "outputs": [],
   "source": [
    "def de(fobj, bounds, mut=0.8, crossp=0.7, popsize=50, its=1000):\n",
    "    dimensions = len(bounds)\n",
    "    pop = np.random.rand(popsize, dimensions)\n",
    "    min_b, max_b = np.asarray(bounds).T\n",
    "    diff = np.fabs(min_b - max_b)\n",
    "    pop_denorm = min_b + pop * diff\n",
    "    fitness = np.asarray([fobj(ind) for ind in pop_denorm])\n",
    "    best_idx = np.argmin(fitness)\n",
    "    best = pop_denorm[best_idx]\n",
    "    for i in range(its):\n",
    "        print(i)\n",
    "        for j in range(popsize):\n",
    "            idxs = [idx for idx in range(popsize) if idx != j]\n",
    "            a, b, c = pop[np.random.choice(idxs, 3, replace = False)]\n",
    "            mutant = np.clip(a + mut * (b - c), 0, 1)\n",
    "            cross_points = np.random.rand(dimensions) < crossp\n",
    "            if not np.any(cross_points):\n",
    "                cross_points[np.random.randint(0, dimensions)] = True\n",
    "            trial = np.where(cross_points, mutant, pop[j])\n",
    "            trial_denorm = min_b + trial * diff\n",
    "            f = fobj(trial_denorm)\n",
    "            if f < fitness[j]:\n",
    "                fitness[j] = f\n",
    "                pop[j] = trial\n",
    "                if f < fitness[best_idx]:\n",
    "                    best_idx = j\n",
    "                    best = trial_denorm\n",
    "                    print(fitness[best_idx])\n",
    "        yield best, fitness[best_idx]"
   ]
  },
  {
   "cell_type": "markdown",
   "metadata": {},
   "source": [
    "#  Neural Network"
   ]
  },
  {
   "cell_type": "code",
   "execution_count": 16,
   "metadata": {},
   "outputs": [],
   "source": [
    "def nn_objective(x):\n",
    "    num_inputs = 11\n",
    "    num_outputs = 7\n",
    "\n",
    "    hidden_layer_neurons = 40\n",
    "    \n",
    "    weights_all = num_inputs*hidden_layer_neurons + hidden_layer_neurons*num_outputs\n",
    "    bias_all = hidden_layer_neurons+num_outputs\n",
    "    iw_size = num_inputs*hidden_layer_neurons\n",
    "    nn_weights = x[:weights_all]\n",
    "    bias_all = x[weights_all:]\n",
    "    iw = nn_weights[0:iw_size]\n",
    "    ow = nn_weights[iw_size:]\n",
    "    b1 = bias_all[:hidden_layer_neurons]\n",
    "    b2 = bias_all[hidden_layer_neurons:]\n",
    "    w1 = np.reshape(iw,(num_inputs, hidden_layer_neurons))\n",
    "    w2 = np.reshape(ow,(hidden_layer_neurons, num_outputs))\n",
    "#     l1 = 1/(1+np.exp(-(np.dot(trainX,w1)+b1)))\n",
    "    l1 = np.maximum(np.dot(trainX, w1)+b1, 0)\n",
    "    x_i = np.dot(l1, w2)+b2\n",
    "    l2 = np.array(np.exp(x_i)/ np.exp(x_i).sum(axis=1)[:,None])  \n",
    "#     l2 = np.array(np.exp(x_i)/ sum(np.exp(x_i)))\n",
    "#     l2_act = np.argmax(l2,axis=1)+3\n",
    "#     predict_out = l2_act.flatten()\n",
    "#     er = 1-accuracy_score(trainY_comp,predict_out)\n",
    "#     er_t = []\n",
    "#     er_i = 0\n",
    "#     for i in range(np.shape(trainY)[0]):\n",
    "#         for j in range(np.shape(trainY)[1]):\n",
    "#             er_i += logloss(np.array(trainY[i,j]),np.array(l2[i,j]))\n",
    "#         #er_t.append(er_i)\n",
    "#     er = np.mean(er_i)\n",
    "    output = np.clip(l2, 1e-15, 1. - 1e-15)\n",
    "    er= -np.sum(trainY * np.log(l2))\n",
    "    return er\n",
    "\n"
   ]
  },
  {
   "cell_type": "code",
   "execution_count": null,
   "metadata": {
    "scrolled": true
   },
   "outputs": [
    {
     "name": "stdout",
     "output_type": "stream",
     "text": [
      "warning: basinhopping: local minimization failure\n",
      "basinhopping step 0: f 5050.49\n",
      "warning: basinhopping: local minimization failure\n",
      "basinhopping step 1: f 5050.49 trial_f 5050.49 accepted 1  lowest_f 5050.49\n",
      "found new global minimum on step 1 with function value 5050.49\n",
      "warning: basinhopping: local minimization failure\n",
      "basinhopping step 2: f 5050.49 trial_f 5050.49 accepted 1  lowest_f 5050.49\n"
     ]
    }
   ],
   "source": [
    "num_inputs = 11\n",
    "num_outputs = 7\n",
    "\n",
    "hidden_layer_neurons = 40\n",
    "\n",
    "weights_all = num_inputs*hidden_layer_neurons + hidden_layer_neurons*num_outputs\n",
    "bias_all = hidden_layer_neurons+num_outputs\n",
    "#bias_all = 0\n",
    "\n",
    "tw = weights_all+bias_all \n",
    "w0 = 2*np.random.random((1,tw))-2\n",
    "\n",
    "b = [(-0.1,0.1)]\n",
    "for i in range(len(w0[0])-1):\n",
    "    b.append((-0.1,0.1))\n",
    "#res = list(de(nn_objective,b))\n",
    "res = optimize.basinhopping(nn_objective, w0[0], niter=10000,disp=True)\n"
   ]
  },
  {
   "cell_type": "code",
   "execution_count": null,
   "metadata": {},
   "outputs": [],
   "source": [
    "print(res[0][0])\n"
   ]
  },
  {
   "cell_type": "code",
   "execution_count": 152,
   "metadata": {},
   "outputs": [
    {
     "name": "stdout",
     "output_type": "stream",
     "text": [
      "[ 6.  6.  7.  7.  6.  6.  6.  6.  5.  6.  6.  6.  6.  7.  6.  5.  6.  6.\n",
      "  7.  5.  6.  6.  7.  7.  5.  5.  6.  7.  3.  5.  5.  5.  7.  6.  5.  6.\n",
      "  5.  5.  5.  6.  6.  6.  6.  5.  6.  5.  7.  6.  5.  5.  5.  8.  7.  6.\n",
      "  6.  6.  5.  7.  6.  6.  7.  7.  6.  7.  8.  9.  5.  6.  5.  7.  6.  6.\n",
      "  7.  5.  5.  7.  6.  6.  6.  5.  7.  6.  6.  6.  6.  6.  6.  4.  4.  6.\n",
      "  6.  6.  6.  8.  6.  4.  7.  5.  4.  6.  6.  5.  6.  7.  5.  7.  5.  5.\n",
      "  6.  6.  7.  5.  6.  6.  7.  4.  6.  6.  6.  5.  6.  5.  6.  5.  7.  5.\n",
      "  5.  6.  5.  5.  5.  5.  6.  6.  5.  5.  5.  6.  6.  5.  6.  7.  8.  6.\n",
      "  5.  7.  5.  5.  8.  6.  6.  5.  6.  5.  7.  6.  7.  5.  6.  5.  6.  6.\n",
      "  6.  6.  6.  6.  5.  6.  6.  6.  8.  6.  6.  5.  5.  4.  7.  5.  7.  6.\n",
      "  5.  5.  7.  6.  8.  6.  7.  6.  5.  6.  6.  6.  6.  5.  5.  5.  6.  5.\n",
      "  6.  6.  6.  4.  5.  6.  6.  5.  5.  6.  6.  5.  8.  5.  5.  5.  7.  5.\n",
      "  6.  5.  5.  6.  6.  6.  6.  5.  8.  8.  5.  7.  7.  6.  7.  5.  7.  6.\n",
      "  5.  5.  7.  6.  6.  5.  7.  5.  6.  5.  7.  7.  6.  7.  6.  6.  4.  6.\n",
      "  5.  6.  4.  7.  7.  6.  5.  6.  6.  6.  5.  5.  4.  7.  7.  5.  5.  7.\n",
      "  6.  5.  8.  7.  7.  6.  6.  6.  6.  5.  6.  6.  5.  5.  5.  7.  6.  7.\n",
      "  7.  5.  6.  4.  5.  6.  6.  6.  6.  5.  6.  5.  6.  6.  6.  6.  5.  5.\n",
      "  5.  8.  6.  6.  7.  6.  5.  5.  5.  5.  7.  6.  6.  5.  6.  5.  5.  7.\n",
      "  6.  6.  6.  5.  4.  5.  6.  4.  7.  6.  6.  5.  5.  6.  6.  5.  6.  6.\n",
      "  7.  5.  6.  5.  5.  6.  7.  6.  7.  7.  6.  5.  7.  6.  7.  6.  6.  5.\n",
      "  7.  5.  7.  6.  6.  6.  6.  7.  7.  5.  7.  8.  5.  5.  6.  5.  5.  5.\n",
      "  6.  5.  5.  7.  5.  5.  6.  5.  7.  6.  6.  6.  8.  5.  6.  5.  6.  6.\n",
      "  7.  6.  6.  6.  8.  6.  7.  6.  6.  7.  7.  7.  6.  7.  6.  5.  4.  5.\n",
      "  6.  8.  7.  7.  6.  4.  6.  6.  6.  5.  6.  6.  5.  5.  5.  6.  5.  7.\n",
      "  5.  7.  6.  5.  6.  4.  5.  6.  6.  6.  5.  6.  6.  5.  3.  6.  5.  6.\n",
      "  6.  4.  7.  5.  7.  5.  6.  6.  6.  8.  5.  6.  6.  7.  6.  4.  5.  6.\n",
      "  5.  6.  6.  6.  6.  5.  7.  5.  6.  5.  7.  5.  6.  5.  6.  5.  5.  5.\n",
      "  5.  7.  5.  6.  8.  5.  5.  7.  6.  5.  6.  6.  7.  6.  8.  5.  6.  6.\n",
      "  7.  6.  6.  6.  6.  6.  6.  6.  6.  4.  6.  5.  7.  6.  6.  6.  5.  7.\n",
      "  7.  6.  7.  4.  5.  7.  3.  6.  5.  6.  6.  5.  8.  7.  5.  6.  6.  8.\n",
      "  6.  4.  6.  7.  5.  6.  6.  5.  6.  5.  5.  5.  4.  5.  7.  6.  6.  6.\n",
      "  5.  5.  6.  6.  8.  5.  6.  6.  6.  6.  6.  6.  5.  6.  5.  6.  7.  6.\n",
      "  5.  6.  6.  4.  7.  5.  6.  6.  6.  5.  4.  7.  6.  5.  7.  6.  6.  7.\n",
      "  6.  6.  6.  8.  7.  6.  7.  6.  5.  7.  8.  7.  8.  6.  5.  6.  7.  5.\n",
      "  6.  5.  7.  5.  8.  6.  6.  6.  5.  6.  5.  6.  6.  6.  6.  4.  7.  5.\n",
      "  5.  4.  7.  5.  7.  6.  5.  7.  5.  6.  5.  6.  6.  8.  5.  7.  5.  6.\n",
      "  6.  6.  5.  7.  5.  5.  8.  5.  6.  6.  6.  8.  5.  6.  7.  6.  5.  6.\n",
      "  5.  6.  5.  7.  6.  7.  5.  6.  5.  5.  4.  6.  6.  5.  6.  7.  6.  6.\n",
      "  6.  5.  5.  5.  4.  6.  6.  8.  6.  6.  5.  6.  6.  7.  6.  6.  6.  5.\n",
      "  5.  8.  5.  6.  7.  5.  7.  6.  5.  6.  6.  6.  6.  5.  6.  5.  6.  5.\n",
      "  5.  6.  7.  5.  6.  6.  5.  6.  6.  7.  6.  6.  7.  7.  5.  5.  7.  5.\n",
      "  5.  6.  5.  6.  6.  6.  6.  7.  5.  6.  5.  6.  5.  6.  7.  5.  6.  6.\n",
      "  5.  7.  5.  6.  6.  5.  5.  5.  7.  7.  8.  6.  4.  7.  6.  5.  6.  5.\n",
      "  5.  6.  4.  6.  6.  6.  5.  6.  6.  5.  7.  6.  6.  5.  7.  6.  6.  5.\n",
      "  6.  6.  5.  7.  6.  6.  4.  5.  6.  6.  6.  7.  6.  4.  5.  6.  6.  5.\n",
      "  6.  6.  6.  8.  6.  6.  6.  6.  5.  6.  6.  6.  6.  7.  6.  6.  7.  5.\n",
      "  7.  4.  6.  5.  8.  6.  5.  5.  7.  6.  5.  5.  6.  5.  6.  6.  7.  6.\n",
      "  7.  4.  5.  6.  5.  5.  6.  5.  6.  6.  5.  7.  7.  6.  3.  6.  5.  5.\n",
      "  6.  5.  6.  5.  7.  6.  5.  5.  7.  6.  6.  5.  6.  6.  6.  5.  7.  6.\n",
      "  4.  6.  6.  5.  7.  5.  6.  5.  6.  5.  6.  6.  5.  7.  6.  5.  6.  5.\n",
      "  5.  5.  6.  6.  7.  6.  5.  7.  5.  6.  6.  5.  5.  6.  6.  6.  6.  7.\n",
      "  6.  5.  8.  5.  7.  6.  5.  6.  7.  6.  6.  5.  5.  8.  5.  5.  7.  6.\n",
      "  5.  5.  7.  7.  5.  5.  7.  6.  6.  7.  6.  8.  7.  5.  6.  6.  5.  6.\n",
      "  6.  6.  6.  7.  5.  6.  6.  5.  5.  6.  7.  6.  6.  6.  7.  5.  6.  5.\n",
      "  7.  6.  5.  5.  5.  5.  5.  6.]\n",
      "[ 6.  6.  6.  6.  6.  6.  6.  6.  6.  6.  6.  6.  6.  6.  6.  6.  6.  6.\n",
      "  6.  6.  6.  6.  6.  6.  6.  6.  6.  6.  6.  6.  6.  6.  6.  7.  6.  6.\n",
      "  6.  6.  6.  6.  6.  6.  6.  6.  6.  6.  6.  6.  6.  6.  5.  6.  6.  6.\n",
      "  6.  6.  6.  6.  6.  6.  6.  6.  6.  6.  6.  6.  6.  6.  6.  6.  6.  6.\n",
      "  6.  6.  6.  6.  6.  6.  6.  6.  6.  6.  6.  6.  6.  6.  6.  6.  6.  6.\n",
      "  6.  6.  6.  6.  6.  6.  6.  6.  6.  6.  6.  6.  6.  6.  6.  6.  6.  6.\n",
      "  6.  6.  6.  6.  6.  6.  6.  6.  6.  6.  6.  6.  6.  6.  6.  6.  6.  6.\n",
      "  6.  6.  6.  6.  6.  6.  6.  6.  6.  6.  6.  6.  6.  5.  6.  6.  6.  6.\n",
      "  6.  6.  6.  6.  6.  6.  6.  6.  6.  6.  6.  6.  6.  6.  6.  6.  6.  6.\n",
      "  6.  6.  6.  6.  6.  6.  6.  6.  6.  6.  6.  6.  6.  6.  6.  6.  6.  6.\n",
      "  6.  6.  6.  6.  6.  6.  6.  6.  6.  6.  6.  6.  6.  6.  6.  6.  6.  6.\n",
      "  6.  6.  6.  6.  6.  6.  6.  6.  6.  6.  6.  6.  6.  6.  6.  6.  6.  5.\n",
      "  6.  6.  6.  6.  6.  6.  6.  6.  6.  6.  6.  6.  6.  6.  6.  6.  6.  6.\n",
      "  6.  6.  6.  6.  6.  6.  6.  6.  6.  6.  6.  6.  6.  6.  6.  6.  6.  6.\n",
      "  6.  6.  6.  6.  6.  6.  6.  6.  6.  6.  6.  6.  6.  6.  6.  6.  6.  6.\n",
      "  6.  6.  6.  6.  6.  6.  6.  6.  6.  6.  6.  6.  6.  6.  6.  6.  6.  6.\n",
      "  6.  6.  6.  6.  6.  6.  6.  6.  6.  6.  6.  6.  6.  6.  6.  6.  6.  6.\n",
      "  6.  6.  6.  6.  6.  6.  5.  6.  6.  6.  6.  6.  6.  6.  6.  6.  6.  6.\n",
      "  6.  6.  6.  6.  6.  6.  6.  6.  6.  6.  6.  6.  6.  6.  6.  6.  6.  6.\n",
      "  6.  6.  6.  6.  6.  6.  6.  6.  6.  6.  6.  6.  6.  6.  6.  6.  6.  6.\n",
      "  6.  6.  6.  6.  6.  6.  6.  6.  6.  6.  6.  6.  6.  6.  6.  6.  6.  6.\n",
      "  6.  6.  6.  6.  6.  6.  6.  5.  6.  6.  6.  6.  6.  6.  6.  6.  6.  6.\n",
      "  6.  6.  6.  6.  6.  6.  6.  6.  6.  6.  6.  6.  6.  6.  6.  6.  6.  6.\n",
      "  6.  6.  6.  6.  6.  6.  6.  6.  6.  6.  6.  6.  6.  6.  6.  6.  6.  6.\n",
      "  6.  6.  6.  6.  6.  6.  6.  6.  6.  6.  6.  6.  6.  6.  6.  6.  5.  6.\n",
      "  6.  5.  6.  6.  6.  6.  6.  6.  6.  6.  6.  6.  6.  6.  6.  6.  6.  6.\n",
      "  6.  6.  6.  6.  6.  6.  6.  6.  6.  6.  6.  6.  6.  6.  6.  6.  6.  6.\n",
      "  6.  6.  6.  6.  6.  6.  6.  6.  6.  6.  6.  6.  6.  6.  6.  6.  6.  6.\n",
      "  6.  6.  6.  6.  6.  6.  6.  6.  6.  6.  6.  6.  6.  6.  6.  6.  6.  6.\n",
      "  6.  6.  6.  5.  6.  6.  6.  6.  6.  6.  6.  6.  6.  6.  6.  6.  6.  6.\n",
      "  6.  6.  6.  6.  6.  6.  6.  6.  6.  6.  6.  6.  6.  6.  6.  6.  6.  6.\n",
      "  6.  6.  6.  6.  6.  6.  6.  6.  6.  6.  6.  6.  6.  6.  6.  6.  6.  6.\n",
      "  6.  6.  6.  6.  6.  6.  6.  6.  6.  6.  6.  6.  6.  6.  6.  6.  6.  6.\n",
      "  6.  6.  6.  6.  6.  6.  6.  6.  5.  6.  6.  6.  6.  6.  6.  5.  6.  6.\n",
      "  6.  6.  6.  6.  6.  6.  6.  6.  6.  6.  6.  6.  6.  6.  6.  6.  6.  6.\n",
      "  6.  6.  6.  6.  6.  6.  6.  6.  6.  6.  6.  6.  6.  6.  6.  6.  6.  6.\n",
      "  6.  6.  6.  6.  6.  6.  6.  6.  6.  6.  6.  6.  6.  6.  6.  6.  6.  6.\n",
      "  5.  6.  6.  6.  6.  6.  6.  6.  6.  6.  6.  5.  6.  6.  6.  6.  6.  6.\n",
      "  6.  6.  6.  6.  6.  6.  6.  6.  6.  6.  6.  6.  6.  6.  6.  6.  6.  6.\n",
      "  6.  6.  6.  6.  6.  6.  6.  6.  6.  6.  6.  6.  6.  6.  6.  6.  6.  6.\n",
      "  6.  6.  6.  6.  6.  6.  6.  6.  6.  6.  6.  6.  6.  6.  6.  6.  6.  6.\n",
      "  6.  6.  6.  6.  6.  6.  6.  6.  6.  6.  6.  6.  6.  6.  6.  6.  6.  6.\n",
      "  6.  6.  6.  6.  6.  6.  6.  6.  6.  6.  6.  6.  6.  6.  6.  6.  6.  6.\n",
      "  6.  6.  6.  6.  6.  6.  6.  6.  6.  6.  6.  6.  6.  6.  6.  6.  6.  6.\n",
      "  6.  6.  6.  6.  6.  6.  6.  6.  6.  6.  6.  6.  6.  6.  6.  6.  6.  6.\n",
      "  6.  6.  6.  6.  6.  6.  6.  6.  6.  6.  6.  6.  6.  6.  6.  6.  6.  6.\n",
      "  6.  6.  6.  5.  6.  6.  6.  6.  6.  6.  5.  6.  6.  6.  6.  6.  6.  6.\n",
      "  6.  6.  6.  6.  6.  6.  6.  6.  6.  6.  6.  6.  6.  6.  6.  6.  6.  6.\n",
      "  6.  6.  6.  6.  6.  6.  6.  6.  6.  6.  6.  6.  6.  6.  6.  6.  6.  6.\n",
      "  6.  6.  6.  6.  6.  6.  6.  6.  6.  6.  6.  6.  6.  6.  6.  6.  6.  6.\n",
      "  6.  6.  6.  5.  6.  6.  6.  6.  6.  6.  6.  6.  6.  6.  6.  6.  6.  6.\n",
      "  6.  6.  6.  6.  6.  6.  6.  6.  6.  6.  6.  6.  6.  6.  6.  6.  6.  6.\n",
      "  6.  6.  6.  6.  6.  6.  6.  6.  6.  6.  6.  6.  6.  6.  6.  6.  6.  6.\n",
      "  6.  6.  6.  6.  6.  6.  6.  6.  6.  6.  6.  6.  6.  6.  6.  6.  6.  6.\n",
      "  6.  6.  6.  6.  6.  6.  6.  6.]\n",
      "0.548979591837\n"
     ]
    }
   ],
   "source": [
    "x = res[0][0]\n",
    "\n",
    "def nn_objective_test(x):\n",
    "    num_inputs = 11\n",
    "    num_outputs = 1\n",
    "\n",
    "    hidden_layer_neurons = 5\n",
    "    \n",
    "    weights_all = num_inputs*hidden_layer_neurons + hidden_layer_neurons*num_outputs\n",
    "    bias_all = hidden_layer_neurons+num_outputs\n",
    "    iw_size = num_inputs*hidden_layer_neurons\n",
    "    nn_weights = x[:weights_all]\n",
    "    bias_all = x[weights_all:]\n",
    "    iw = nn_weights[0:iw_size]\n",
    "    ow = nn_weights[iw_size:]\n",
    "    b1 = bias_all[:hidden_layer_neurons]\n",
    "    b2 = bias_all[hidden_layer_neurons:]\n",
    "    w1 = np.reshape(iw,(num_inputs, hidden_layer_neurons))\n",
    "    w2 = np.reshape(ow,(hidden_layer_neurons, num_outputs))\n",
    "    l1 = 1/(1+np.exp(-(np.dot(testX,w1)+b1)))\n",
    "#     l1 = np.maximum(np.dot(trainX, w1)+b1, 0)\n",
    "    x_i = np.dot(l1, w2)+b2\n",
    "#     l2 = np.array(np.exp(x_i)/ sum(np.exp(x_i)))\n",
    "    l2 = np.exp(x_i) / (1 + np.exp(x_i))\n",
    "    l2_act = np.round(l2*6+3)\n",
    "    predict_out = l2_act\n",
    "    predict_out = predict_out.flatten()\n",
    "    acc = 1-accuracy_score(testY_comp,predict_out)\n",
    "    print(testY_comp)\n",
    "    print(predict_out)\n",
    "    return acc\n",
    "\n",
    "test_miss = nn_objective_test(x)\n",
    "print(test_miss)"
   ]
  },
  {
   "cell_type": "code",
   "execution_count": null,
   "metadata": {},
   "outputs": [],
   "source": []
  },
  {
   "cell_type": "code",
   "execution_count": null,
   "metadata": {},
   "outputs": [],
   "source": [
    "import h5py\n",
    "file_name = \"weights.best_leaf.hdf5\"\n",
    "data = h5py.File(file_name,'r')\n",
    "\n",
    "for key in data.keys():\n",
    "    print(key) #Names of the groups in HDF5 file.\n",
    "\n",
    "# group = data['model_weights']\n",
    "# data = group['model_weights']\n",
    "\n",
    "d = list(data['model_weights'])\n",
    "print(d[:])"
   ]
  },
  {
   "cell_type": "code",
   "execution_count": null,
   "metadata": {},
   "outputs": [],
   "source": [
    "from keras.models import load_model\n",
    "model = load_model(\"weights.best_leaf.hdf5\")\n",
    "print(model.keys())"
   ]
  },
  {
   "cell_type": "code",
   "execution_count": null,
   "metadata": {},
   "outputs": [],
   "source": [
    "import h5py\n",
    "f = h5py.File(\"weights.best_leaf.hdf5\", 'r')\n",
    "print(list(f.keys()))\n",
    "#will get a list of layer names which you can use as index\n",
    "d = f['model_weights']['dense_1']\n",
    "print(list(d.get('dense_1').keys()))\n",
    "d.get('dense_1').get('bias:0')[()]"
   ]
  },
  {
   "cell_type": "code",
   "execution_count": null,
   "metadata": {},
   "outputs": [],
   "source": []
  },
  {
   "cell_type": "code",
   "execution_count": null,
   "metadata": {},
   "outputs": [],
   "source": []
  }
 ],
 "metadata": {
  "kernelspec": {
   "display_name": "Python 3",
   "language": "python",
   "name": "python3"
  },
  "language_info": {
   "codemirror_mode": {
    "name": "ipython",
    "version": 3
   },
   "file_extension": ".py",
   "mimetype": "text/x-python",
   "name": "python",
   "nbconvert_exporter": "python",
   "pygments_lexer": "ipython3",
   "version": "3.6.5"
  }
 },
 "nbformat": 4,
 "nbformat_minor": 2
}
