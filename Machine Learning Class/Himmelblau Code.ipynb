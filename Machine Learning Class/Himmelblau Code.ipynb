{
 "cells": [
  {
   "cell_type": "code",
   "execution_count": 25,
   "metadata": {},
   "outputs": [],
   "source": [
    "import numpy as np # linear algebra\n",
    "import pandas as pd # data processing, CSV file I/O (e.g. pd.read_csv)\n",
    "import matplotlib.pyplot as plt\n",
    "import random\n",
    "from sklearn.metrics import accuracy_score, log_loss\n",
    "from scipy import optimize\n",
    "# from keras import losses\n",
    "# from keras import backend as K\n",
    "# import tensorflow as tf\n",
    "from mimicry import mimic    \n",
    "%matplotlib notebook"
   ]
  },
  {
   "cell_type": "markdown",
   "metadata": {},
   "source": [
    "#  Function"
   ]
  },
  {
   "cell_type": "code",
   "execution_count": 2,
   "metadata": {},
   "outputs": [],
   "source": [
    "class MyTakeStep(object):\n",
    "    def __init__(self, stepsize=0.5):\n",
    "        self.stepsize = stepsize\n",
    "    def __call__(self, x):\n",
    "        s = self.stepsize\n",
    "        x[0:] += np.random.uniform(-2.*s, 2.*s)\n",
    "        return x\n",
    "    \n",
    "def him(x):\n",
    "    er = (x[0]**2+x[1]-11)**2+(x[0]+x[1]**2-7)**2\n",
    "    return er\n",
    "\n"
   ]
  },
  {
   "cell_type": "markdown",
   "metadata": {},
   "source": [
    "# SA"
   ]
  },
  {
   "cell_type": "code",
   "execution_count": 3,
   "metadata": {},
   "outputs": [
    {
     "name": "stdout",
     "output_type": "stream",
     "text": [
      "[0 0]\n",
      "[ 3.5844 -1.8481]\n"
     ]
    }
   ],
   "source": [
    "#mytakestep = MyTakeStep()\n",
    "w0 = 5*np.random.random((1,2))-5\n",
    "w0 = np.array([0,0])\n",
    "print(w0)\n",
    "res = optimize.basinhopping(him, w0, niter=1000,stepsize=5, T=14,disp=False)\n",
    "print(res.x)                          "
   ]
  },
  {
   "cell_type": "markdown",
   "metadata": {},
   "source": [
    "# GA"
   ]
  },
  {
   "cell_type": "code",
   "execution_count": 4,
   "metadata": {},
   "outputs": [
    {
     "name": "stdout",
     "output_type": "stream",
     "text": [
      "differential_evolution step 1: f(x)= 5.70551\n",
      "differential_evolution step 2: f(x)= 5.70551\n",
      "differential_evolution step 3: f(x)= 3.1811\n",
      "differential_evolution step 4: f(x)= 3.1811\n",
      "differential_evolution step 5: f(x)= 2.37656\n",
      "differential_evolution step 6: f(x)= 0.0408561\n",
      "differential_evolution step 7: f(x)= 0.0408561\n",
      "differential_evolution step 8: f(x)= 0.0408561\n",
      "differential_evolution step 9: f(x)= 0.0408561\n",
      "differential_evolution step 10: f(x)= 0.0408561\n",
      "differential_evolution step 11: f(x)= 0.0408561\n",
      "differential_evolution step 12: f(x)= 0.0133887\n",
      "differential_evolution step 13: f(x)= 0.0133887\n",
      "differential_evolution step 14: f(x)= 0.00359082\n",
      "differential_evolution step 15: f(x)= 0.00359082\n",
      "differential_evolution step 16: f(x)= 0.00105616\n",
      "differential_evolution step 17: f(x)= 0.000692295\n",
      "differential_evolution step 18: f(x)= 0.00046468\n",
      "differential_evolution step 19: f(x)= 0.000230358\n",
      "differential_evolution step 20: f(x)= 7.55427e-06\n",
      "differential_evolution step 21: f(x)= 7.55427e-06\n",
      "differential_evolution step 22: f(x)= 7.55427e-06\n",
      "differential_evolution step 23: f(x)= 7.55427e-06\n",
      "differential_evolution step 24: f(x)= 6.0101e-06\n",
      "differential_evolution step 25: f(x)= 1.21736e-06\n",
      "differential_evolution step 26: f(x)= 1.21736e-06\n",
      "differential_evolution step 27: f(x)= 1.21736e-06\n",
      "differential_evolution step 28: f(x)= 1.22449e-07\n",
      "differential_evolution step 29: f(x)= 1.22449e-07\n",
      "differential_evolution step 30: f(x)= 3.75813e-09\n",
      "differential_evolution step 31: f(x)= 3.75813e-09\n",
      "differential_evolution step 32: f(x)= 3.75813e-09\n",
      "differential_evolution step 33: f(x)= 3.45403e-09\n",
      "differential_evolution step 34: f(x)= 1.67237e-09\n",
      "differential_evolution step 35: f(x)= 5.56453e-11\n",
      "differential_evolution step 36: f(x)= 5.56453e-11\n",
      "differential_evolution step 37: f(x)= 5.56453e-11\n",
      "differential_evolution step 38: f(x)= 5.56453e-11\n",
      "differential_evolution step 39: f(x)= 2.28596e-11\n",
      "differential_evolution step 40: f(x)= 2.28596e-11\n",
      "differential_evolution step 41: f(x)= 2.24849e-11\n",
      "differential_evolution step 42: f(x)= 4.87939e-12\n",
      "differential_evolution step 43: f(x)= 4.87939e-12\n",
      "differential_evolution step 44: f(x)= 9.63362e-14\n",
      "differential_evolution step 45: f(x)= 9.63362e-14\n",
      "differential_evolution step 46: f(x)= 9.63362e-14\n",
      "differential_evolution step 47: f(x)= 9.63362e-14\n",
      "differential_evolution step 48: f(x)= 9.63362e-14\n",
      "differential_evolution step 49: f(x)= 4.16367e-14\n",
      "differential_evolution step 50: f(x)= 7.22072e-15\n",
      "differential_evolution step 51: f(x)= 2.67787e-15\n",
      "differential_evolution step 52: f(x)= 2.67787e-15\n",
      "differential_evolution step 53: f(x)= 1.8526e-16\n",
      "differential_evolution step 54: f(x)= 1.8526e-16\n",
      "differential_evolution step 55: f(x)= 4.44811e-17\n",
      "differential_evolution step 56: f(x)= 4.44811e-17\n",
      "differential_evolution step 57: f(x)= 4.44811e-17\n",
      "differential_evolution step 58: f(x)= 1.39309e-17\n",
      "differential_evolution step 59: f(x)= 1.39309e-17\n",
      "differential_evolution step 60: f(x)= 1.39309e-17\n",
      "differential_evolution step 61: f(x)= 3.95708e-18\n",
      "differential_evolution step 62: f(x)= 1.09854e-18\n",
      "differential_evolution step 63: f(x)= 1.17973e-19\n",
      "differential_evolution step 64: f(x)= 1.17973e-19\n",
      "differential_evolution step 65: f(x)= 1.05669e-19\n",
      "differential_evolution step 66: f(x)= 1.05669e-19\n",
      "differential_evolution step 67: f(x)= 1.05021e-19\n",
      "differential_evolution step 68: f(x)= 1.05021e-19\n",
      "differential_evolution step 69: f(x)= 2.5671e-21\n",
      "differential_evolution step 70: f(x)= 2.5671e-21\n",
      "differential_evolution step 71: f(x)= 1.95857e-22\n",
      "differential_evolution step 72: f(x)= 1.95857e-22\n",
      "differential_evolution step 73: f(x)= 1.95857e-22\n",
      "differential_evolution step 74: f(x)= 1.95857e-22\n",
      "differential_evolution step 75: f(x)= 1.95857e-22\n",
      "differential_evolution step 76: f(x)= 1.95857e-22\n",
      "differential_evolution step 77: f(x)= 3.16123e-23\n",
      "differential_evolution step 78: f(x)= 1.88678e-23\n",
      "differential_evolution step 79: f(x)= 1.06892e-23\n",
      "differential_evolution step 80: f(x)= 1.06892e-23\n",
      "differential_evolution step 81: f(x)= 8.20233e-25\n",
      "differential_evolution step 82: f(x)= 3.34139e-25\n",
      "differential_evolution step 83: f(x)= 3.34139e-25\n",
      "differential_evolution step 84: f(x)= 3.34139e-25\n",
      "differential_evolution step 85: f(x)= 2.17312e-25\n",
      "differential_evolution step 86: f(x)= 7.89176e-27\n",
      "differential_evolution step 87: f(x)= 7.89176e-27\n",
      "differential_evolution step 88: f(x)= 3.76839e-27\n",
      "differential_evolution step 89: f(x)= 3.04895e-27\n",
      "differential_evolution step 90: f(x)= 7.17075e-28\n",
      "differential_evolution step 91: f(x)= 6.38977e-29\n",
      "differential_evolution step 92: f(x)= 6.38977e-29\n",
      "differential_evolution step 93: f(x)= 6.38977e-29\n",
      "differential_evolution step 94: f(x)= 4.10208e-29\n",
      "differential_evolution step 95: f(x)= 4.10208e-29\n",
      "differential_evolution step 96: f(x)= 2.8399e-29\n",
      "differential_evolution step 97: f(x)= 1.97215e-29\n",
      "differential_evolution step 98: f(x)= 7.88861e-31\n",
      "differential_evolution step 99: f(x)= 7.88861e-31\n",
      "differential_evolution step 100: f(x)= 7.88861e-31\n",
      "differential_evolution step 101: f(x)= 7.88861e-31\n",
      "differential_evolution step 102: f(x)= 7.88861e-31\n",
      "differential_evolution step 103: f(x)= 7.88861e-31\n",
      "differential_evolution step 104: f(x)= 7.88861e-31\n",
      "differential_evolution step 105: f(x)= 7.88861e-31\n",
      "differential_evolution step 106: f(x)= 7.88861e-31\n",
      "differential_evolution step 107: f(x)= 7.88861e-31\n",
      "[-3.7793 -3.2832]\n",
      "     fun: 7.888609052210118e-31\n",
      " message: 'Optimization terminated successfully.'\n",
      "    nfev: 4320\n",
      "     nit: 107\n",
      " success: True\n",
      "       x: array([-3.7793, -3.2832])\n"
     ]
    }
   ],
   "source": [
    "bounds = [(-5,5), (-5, 5)]\n",
    "res = optimize.differential_evolution(him,bounds,polish=False,popsize =20,disp=True)\n",
    "print(res.x)\n",
    "print(res)"
   ]
  },
  {
   "cell_type": "markdown",
   "metadata": {},
   "source": [
    "# Fmin"
   ]
  },
  {
   "cell_type": "code",
   "execution_count": 5,
   "metadata": {},
   "outputs": [
    {
     "name": "stdout",
     "output_type": "stream",
     "text": [
      "Optimization terminated successfully.\n",
      "         Current function value: 0.000000\n",
      "         Iterations: 81\n",
      "         Function evaluations: 157\n",
      "[3. 2.]\n"
     ]
    }
   ],
   "source": [
    "res=optimize.fmin(him,w0,disp=True)\n",
    "print(res)\n"
   ]
  },
  {
   "cell_type": "markdown",
   "metadata": {},
   "source": [
    "# Mimic"
   ]
  },
  {
   "cell_type": "code",
   "execution_count": 37,
   "metadata": {},
   "outputs": [
    {
     "ename": "KeyError",
     "evalue": "'probabilities'",
     "output_type": "error",
     "traceback": [
      "\u001b[1;31m---------------------------------------------------------------------------\u001b[0m",
      "\u001b[1;31mKeyError\u001b[0m                                  Traceback (most recent call last)",
      "\u001b[1;32m<ipython-input-37-7eb0c3ccbd9e>\u001b[0m in \u001b[0;36m<module>\u001b[1;34m()\u001b[0m\n\u001b[0;32m      7\u001b[0m \u001b[1;33m\u001b[0m\u001b[0m\n\u001b[0;32m      8\u001b[0m \u001b[1;32mfor\u001b[0m \u001b[0mi\u001b[0m \u001b[1;32min\u001b[0m \u001b[0mxrange\u001b[0m\u001b[1;33m(\u001b[0m\u001b[1;36m25\u001b[0m\u001b[1;33m)\u001b[0m\u001b[1;33m:\u001b[0m\u001b[1;33m\u001b[0m\u001b[0m\n\u001b[1;32m----> 9\u001b[1;33m     \u001b[0mm\u001b[0m\u001b[1;33m.\u001b[0m\u001b[0mfit\u001b[0m\u001b[1;33m(\u001b[0m\u001b[1;33m)\u001b[0m\u001b[1;33m\u001b[0m\u001b[0m\n\u001b[0m",
      "\u001b[1;32mc:\\users\\manik.rajora\\appdata\\local\\continuum\\anaconda2\\envs\\py27\\lib\\site-packages\\mimicry\\mimic.pyc\u001b[0m in \u001b[0;36mfit\u001b[1;34m(self)\u001b[0m\n\u001b[0;32m     44\u001b[0m         \u001b[0mself\u001b[0m\u001b[1;33m.\u001b[0m\u001b[0mdistribution\u001b[0m \u001b[1;33m=\u001b[0m \u001b[0mDistribution\u001b[0m\u001b[1;33m(\u001b[0m\u001b[0msamples\u001b[0m\u001b[1;33m)\u001b[0m\u001b[1;33m\u001b[0m\u001b[0m\n\u001b[0;32m     45\u001b[0m         self.sample_set = SampleSet(\n\u001b[1;32m---> 46\u001b[1;33m             \u001b[0mself\u001b[0m\u001b[1;33m.\u001b[0m\u001b[0mdistribution\u001b[0m\u001b[1;33m.\u001b[0m\u001b[0mgenerate_samples\u001b[0m\u001b[1;33m(\u001b[0m\u001b[0mself\u001b[0m\u001b[1;33m.\u001b[0m\u001b[0msamples\u001b[0m\u001b[1;33m)\u001b[0m\u001b[1;33m,\u001b[0m\u001b[1;33m\u001b[0m\u001b[0m\n\u001b[0m\u001b[0;32m     47\u001b[0m             \u001b[0mself\u001b[0m\u001b[1;33m.\u001b[0m\u001b[0mfitness_function\u001b[0m\u001b[1;33m,\u001b[0m\u001b[1;33m\u001b[0m\u001b[0m\n\u001b[0;32m     48\u001b[0m         )\n",
      "\u001b[1;32mc:\\users\\manik.rajora\\appdata\\local\\continuum\\anaconda2\\envs\\py27\\lib\\site-packages\\mimicry\\mimic.pyc\u001b[0m in \u001b[0;36mgenerate_samples\u001b[1;34m(self, number_to_generate)\u001b[0m\n\u001b[0;32m     88\u001b[0m         \u001b[0msample_len\u001b[0m \u001b[1;33m=\u001b[0m \u001b[0mlen\u001b[0m\u001b[1;33m(\u001b[0m\u001b[0mself\u001b[0m\u001b[1;33m.\u001b[0m\u001b[0mbayes_net\u001b[0m\u001b[1;33m.\u001b[0m\u001b[0mnode\u001b[0m\u001b[1;33m)\u001b[0m\u001b[1;33m\u001b[0m\u001b[0m\n\u001b[0;32m     89\u001b[0m         \u001b[0msamples\u001b[0m \u001b[1;33m=\u001b[0m \u001b[0mnp\u001b[0m\u001b[1;33m.\u001b[0m\u001b[0mzeros\u001b[0m\u001b[1;33m(\u001b[0m\u001b[1;33m(\u001b[0m\u001b[0mnumber_to_generate\u001b[0m\u001b[1;33m,\u001b[0m \u001b[0msample_len\u001b[0m\u001b[1;33m)\u001b[0m\u001b[1;33m)\u001b[0m\u001b[1;33m\u001b[0m\u001b[0m\n\u001b[1;32m---> 90\u001b[1;33m         \u001b[0mvalues\u001b[0m \u001b[1;33m=\u001b[0m \u001b[0mself\u001b[0m\u001b[1;33m.\u001b[0m\u001b[0mbayes_net\u001b[0m\u001b[1;33m.\u001b[0m\u001b[0mnode\u001b[0m\u001b[1;33m[\u001b[0m\u001b[0mroot\u001b[0m\u001b[1;33m]\u001b[0m\u001b[1;33m[\u001b[0m\u001b[1;34m\"probabilities\"\u001b[0m\u001b[1;33m]\u001b[0m\u001b[1;33m.\u001b[0m\u001b[0mkeys\u001b[0m\u001b[1;33m(\u001b[0m\u001b[1;33m)\u001b[0m\u001b[1;33m\u001b[0m\u001b[0m\n\u001b[0m\u001b[0;32m     91\u001b[0m         \u001b[0mprobabilities\u001b[0m \u001b[1;33m=\u001b[0m \u001b[0mself\u001b[0m\u001b[1;33m.\u001b[0m\u001b[0mbayes_net\u001b[0m\u001b[1;33m.\u001b[0m\u001b[0mnode\u001b[0m\u001b[1;33m[\u001b[0m\u001b[0mroot\u001b[0m\u001b[1;33m]\u001b[0m\u001b[1;33m[\u001b[0m\u001b[1;34m\"probabilities\"\u001b[0m\u001b[1;33m]\u001b[0m\u001b[1;33m.\u001b[0m\u001b[0mvalues\u001b[0m\u001b[1;33m(\u001b[0m\u001b[1;33m)\u001b[0m\u001b[1;33m\u001b[0m\u001b[0m\n\u001b[0;32m     92\u001b[0m         \u001b[0mdist\u001b[0m \u001b[1;33m=\u001b[0m \u001b[0mstats\u001b[0m\u001b[1;33m.\u001b[0m\u001b[0mrv_discrete\u001b[0m\u001b[1;33m(\u001b[0m\u001b[0mname\u001b[0m\u001b[1;33m=\u001b[0m\u001b[1;34m\"dist\"\u001b[0m\u001b[1;33m,\u001b[0m \u001b[0mvalues\u001b[0m\u001b[1;33m=\u001b[0m\u001b[1;33m(\u001b[0m\u001b[0mvalues\u001b[0m\u001b[1;33m,\u001b[0m \u001b[0mprobabilities\u001b[0m\u001b[1;33m)\u001b[0m\u001b[1;33m)\u001b[0m\u001b[1;33m\u001b[0m\u001b[0m\n",
      "\u001b[1;31mKeyError\u001b[0m: 'probabilities'"
     ]
    }
   ],
   "source": [
    "def him2(x):\n",
    "    er = (x[0]**2)**2+(x[0]-7)**2\n",
    "    return er\n",
    "\n",
    "domain = [(0.,1.)*2]\n",
    "m = mimic.Mimic(domain, sum, samples=100)\n",
    "\n",
    "for i in xrange(25):\n",
    "    m.fit()"
   ]
  },
  {
   "cell_type": "code",
   "execution_count": 16,
   "metadata": {},
   "outputs": [
    {
     "name": "stdout",
     "output_type": "stream",
     "text": [
      "[0. 1.]\n"
     ]
    }
   ],
   "source": [
    "print(x[1])"
   ]
  },
  {
   "cell_type": "code",
   "execution_count": null,
   "metadata": {},
   "outputs": [],
   "source": [
    "bounds?"
   ]
  },
  {
   "cell_type": "code",
   "execution_count": null,
   "metadata": {},
   "outputs": [],
   "source": []
  },
  {
   "cell_type": "code",
   "execution_count": null,
   "metadata": {},
   "outputs": [],
   "source": []
  }
 ],
 "metadata": {
  "kernelspec": {
   "display_name": "Python 2",
   "language": "python",
   "name": "python2"
  },
  "language_info": {
   "codemirror_mode": {
    "name": "ipython",
    "version": 2
   },
   "file_extension": ".py",
   "mimetype": "text/x-python",
   "name": "python",
   "nbconvert_exporter": "python",
   "pygments_lexer": "ipython2",
   "version": "2.7.15"
  }
 },
 "nbformat": 4,
 "nbformat_minor": 2
}
