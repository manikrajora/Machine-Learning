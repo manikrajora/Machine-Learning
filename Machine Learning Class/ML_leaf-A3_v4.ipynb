{
 "cells": [
  {
   "cell_type": "markdown",
   "metadata": {},
   "source": [
    "# Imports"
   ]
  },
  {
   "cell_type": "code",
   "execution_count": 112,
   "metadata": {},
   "outputs": [],
   "source": [
    "import pandas as pd\n",
    "import numpy as np\n",
    "import matplotlib.pyplot as plt\n",
    "import logging \n",
    "import csv\n",
    "from sklearn import mixture\n",
    "import itertools\n",
    "from scipy import linalg\n",
    "import matplotlib as mpl\n",
    "\n",
    "from keras.models import Sequential\n",
    "from keras.layers import Dense, Activation, Flatten\n",
    "from keras.optimizers import *\n",
    "from keras.wrappers.scikit_learn import KerasClassifier\n",
    "import keras\n",
    "\n",
    "import random\n",
    "import math\n",
    "from sklearn import tree, preprocessing\n",
    "from sklearn.neighbors import KNeighborsClassifier, DistanceMetric\n",
    "from sklearn.model_selection import cross_val_score, GridSearchCV, cross_validate, train_test_split\n",
    "from sklearn.ensemble import AdaBoostClassifier\n",
    "from keras.callbacks import EarlyStopping, ModelCheckpoint, Callback, CSVLogger\n",
    "from sklearn.metrics import accuracy_score, silhouette_score\n",
    "from sklearn.tree import DecisionTreeClassifier\n",
    "from sklearn.model_selection import StratifiedKFold\n",
    "from sklearn.svm import SVC\n",
    "from sklearn.cluster import KMeans\n",
    "from sklearn.mixture import GaussianMixture\n",
    "from sklearn.model_selection import KFold\n",
    "from sklearn.preprocessing import StandardScaler, OneHotEncoder\n",
    "from sklearn.decomposition import FastICA, PCA\n",
    "from scipy.stats import kurtosis, skew\n",
    "from sklearn.random_projection import SparseRandomProjection, GaussianRandomProjection\n",
    "\n",
    "import timeit\n",
    "\n",
    "#from imblearn.over_sampling import RandomOverSampler"
   ]
  },
  {
   "cell_type": "markdown",
   "metadata": {},
   "source": [
    "# Functions"
   ]
  },
  {
   "cell_type": "code",
   "execution_count": 11,
   "metadata": {},
   "outputs": [],
   "source": [
    "def MAPE(pred,act):\n",
    "    return np.mean(np.abs(pred-act)/act)*100\n",
    "\n",
    "def Pred_correct(pred,act):\n",
    "    correct = np.abs(pred-act)\n",
    "    return len(correct[correct==0])/len(act)\n",
    "\n",
    "def convert_out(data):\n",
    "    output = []\n",
    "    for i in range(np.shape(data)[0]):\n",
    "        loc = np.where(data[i,]==max(data[i,]))[0]\n",
    "        output.append(loc[0]+1)\n",
    "    return(output)\n",
    "\n",
    "def create_model_nn(neurons=1,optimizer='adam'):\n",
    "# create model\n",
    "    model = Sequential()\n",
    "    model.add(Dense(neurons, input_dim=14, kernel_initializer='normal', activation='relu'))\n",
    "    model.add(Dense(36, kernel_initializer='normal', activation='softmax'))\n",
    "    # Compile model\n",
    "    model.compile(loss='categorical_crossentropy', optimizer=optimizer, metrics=['accuracy'])\n",
    "    return model\n",
    "\n",
    "def create_model_tree():\n",
    "    dtree = tree.DecisionTreeClassifier(criterion = \"entropy\", splitter = 'best', max_leaf_nodes = 90, min_samples_leaf = 1, max_depth=3)\n",
    "\n",
    "    "
   ]
  },
  {
   "cell_type": "markdown",
   "metadata": {},
   "source": [
    "# Preprocessing data"
   ]
  },
  {
   "cell_type": "code",
   "execution_count": 12,
   "metadata": {},
   "outputs": [],
   "source": [
    "data = pd.read_csv('leaf.csv', header=None)\n",
    "data.drop([1],inplace=True,axis=1)\n",
    "X = data.values[:,1:]\n",
    "Y_first = data.values[:,0]\n",
    "Y = []\n",
    "out = np.zeros(shape=[36])\n",
    "for i in range(np.shape(Y_first)[0]):\n",
    "    out[int(Y_first[i])-1]=1\n",
    "    Y.append(out)\n",
    "    out = np.zeros(shape=[36])\n",
    "Y = np.array(Y)\n",
    "min_max_scaler = preprocessing.MinMaxScaler()\n",
    "X_scaled = min_max_scaler.fit_transform(X)\n",
    "df_normalized = pd.DataFrame(X_scaled)\n",
    "\n",
    "r,c = np.shape(df_normalized)\n",
    "\n",
    "total_samples = list(np.arange(0,r,1))\n",
    "test_samples = random.sample(total_samples,int(np.round(len(total_samples)*0.2)))\n",
    "train_samples = list(set(total_samples) - set(test_samples))"
   ]
  },
  {
   "cell_type": "markdown",
   "metadata": {},
   "source": [
    "# Splitting data"
   ]
  },
  {
   "cell_type": "code",
   "execution_count": 13,
   "metadata": {},
   "outputs": [],
   "source": [
    "trainX = X[train_samples]\n",
    "trainY = Y[train_samples]\n",
    "trainY_comp = Y_first[train_samples]\n",
    "trainX_scaled = X_scaled[train_samples]\n",
    "\n",
    "testX = X[test_samples]\n",
    "testY = Y[test_samples]\n",
    "testY_comp = Y_first[test_samples]\n",
    "testX_scaled = X_scaled[train_samples]\n"
   ]
  },
  {
   "cell_type": "markdown",
   "metadata": {},
   "source": [
    "# KMeans"
   ]
  },
  {
   "cell_type": "code",
   "execution_count": 14,
   "metadata": {},
   "outputs": [
    {
     "ename": "IndexError",
     "evalue": "index 272 is out of bounds for axis 1 with size 272",
     "output_type": "error",
     "traceback": [
      "\u001b[1;31m---------------------------------------------------------------------------\u001b[0m",
      "\u001b[1;31mIndexError\u001b[0m                                Traceback (most recent call last)",
      "\u001b[1;32m<ipython-input-14-cdca5bb8e79f>\u001b[0m in \u001b[0;36m<module>\u001b[1;34m()\u001b[0m\n\u001b[0;32m      9\u001b[0m     \u001b[0midx\u001b[0m \u001b[1;33m=\u001b[0m \u001b[0mnp\u001b[0m\u001b[1;33m.\u001b[0m\u001b[0mwhere\u001b[0m\u001b[1;33m(\u001b[0m\u001b[0mY_first\u001b[0m\u001b[1;33m==\u001b[0m\u001b[0munique_Y\u001b[0m\u001b[1;33m[\u001b[0m\u001b[0mi\u001b[0m\u001b[1;33m]\u001b[0m\u001b[1;33m)\u001b[0m\u001b[1;33m[\u001b[0m\u001b[1;36m0\u001b[0m\u001b[1;33m]\u001b[0m\u001b[1;33m\u001b[0m\u001b[0m\n\u001b[0;32m     10\u001b[0m     \u001b[0mc_size\u001b[0m\u001b[1;33m[\u001b[0m\u001b[1;36m0\u001b[0m\u001b[1;33m,\u001b[0m\u001b[0mi\u001b[0m\u001b[1;33m]\u001b[0m \u001b[1;33m=\u001b[0m \u001b[0mlen\u001b[0m\u001b[1;33m(\u001b[0m\u001b[0mY_first\u001b[0m\u001b[1;33m[\u001b[0m\u001b[0mY_first\u001b[0m\u001b[1;33m==\u001b[0m\u001b[0munique_Y\u001b[0m\u001b[1;33m[\u001b[0m\u001b[0mi\u001b[0m\u001b[1;33m]\u001b[0m\u001b[1;33m]\u001b[0m\u001b[1;33m)\u001b[0m\u001b[1;33m\u001b[0m\u001b[0m\n\u001b[1;32m---> 11\u001b[1;33m     \u001b[0mnew_clusters\u001b[0m \u001b[1;33m=\u001b[0m \u001b[0mnew_labels\u001b[0m\u001b[1;33m[\u001b[0m\u001b[0midx\u001b[0m\u001b[1;33m]\u001b[0m\u001b[1;33m\u001b[0m\u001b[0m\n\u001b[0m\u001b[0;32m     12\u001b[0m     \u001b[0munique_list\u001b[0m \u001b[1;33m=\u001b[0m \u001b[1;33m(\u001b[0m\u001b[0mlist\u001b[0m\u001b[1;33m(\u001b[0m\u001b[0mset\u001b[0m\u001b[1;33m(\u001b[0m\u001b[0mnew_clusters\u001b[0m\u001b[1;33m)\u001b[0m\u001b[1;33m)\u001b[0m\u001b[1;33m)\u001b[0m\u001b[1;33m\u001b[0m\u001b[0m\n\u001b[0;32m     13\u001b[0m     \u001b[0mnc_occ\u001b[0m \u001b[1;33m=\u001b[0m \u001b[1;33m[\u001b[0m\u001b[0mlen\u001b[0m\u001b[1;33m(\u001b[0m\u001b[0mnp\u001b[0m\u001b[1;33m.\u001b[0m\u001b[0mwhere\u001b[0m\u001b[1;33m(\u001b[0m\u001b[0mnew_clusters\u001b[0m\u001b[1;33m==\u001b[0m\u001b[0munique_list\u001b[0m\u001b[1;33m[\u001b[0m\u001b[0mk\u001b[0m\u001b[1;33m]\u001b[0m\u001b[1;33m)\u001b[0m\u001b[1;33m[\u001b[0m\u001b[1;36m0\u001b[0m\u001b[1;33m]\u001b[0m\u001b[1;33m)\u001b[0m \u001b[1;32mfor\u001b[0m \u001b[0mk\u001b[0m \u001b[1;32min\u001b[0m \u001b[0mrange\u001b[0m\u001b[1;33m(\u001b[0m\u001b[0mlen\u001b[0m\u001b[1;33m(\u001b[0m\u001b[0munique_list\u001b[0m\u001b[1;33m)\u001b[0m\u001b[1;33m)\u001b[0m\u001b[1;33m]\u001b[0m\u001b[1;33m\u001b[0m\u001b[0m\n",
      "\u001b[1;31mIndexError\u001b[0m: index 272 is out of bounds for axis 1 with size 272"
     ]
    }
   ],
   "source": [
    "unique_Y = (list(set(Y_first)))\n",
    "\n",
    "\n",
    "kmeans = KMeans(n_clusters=len(unique_Y),random_state=1).fit(trainX_scaled)\n",
    "new_labels = kmeans.labels_\n",
    "\n",
    "c_size = np.zeros((2,len(unique_Y)))\n",
    "for i in range(len(unique_Y)):\n",
    "    idx = np.where(Y_first==unique_Y[i])[0]\n",
    "    c_size[0,i] = len(Y_first[Y_first==unique_Y[i]])\n",
    "    new_clusters = new_labels[idx]\n",
    "    unique_list = (list(set(new_clusters)))\n",
    "    nc_occ = [len(np.where(new_clusters==unique_list[k])[0]) for k in range(len(unique_list))]\n",
    "    max_num = unique_list[np.where(nc_occ==np.max(nc_occ))[0][0]]\n",
    "    c_size[1,i] = len(np.where(new_clusters==max_num)[0])\n",
    "print(c_size)\n",
    "print(np.sum(c_size,1))\n",
    "avg = c_size[1,:]/c_size[0,:]\n",
    "np.mean(avg)"
   ]
  },
  {
   "cell_type": "markdown",
   "metadata": {},
   "source": [
    "# K means elbow method"
   ]
  },
  {
   "cell_type": "code",
   "execution_count": 15,
   "metadata": {},
   "outputs": [
    {
     "name": "stderr",
     "output_type": "stream",
     "text": [
      "No handles with labels found to put in legend.\n"
     ]
    },
    {
     "data": {
      "image/png": "[encoded data removed]",
      "text/plain": [
       "<matplotlib.figure.Figure at 0x5415dd8>"
      ]
     },
     "metadata": {},
     "output_type": "display_data"
    }
   ],
   "source": [
    "sse = {}\n",
    "for k in range(1, 20):\n",
    "    kmeans = KMeans(n_clusters=k,random_state=1).fit(trainX)\n",
    "    #print(data[\"clusters\"])\n",
    "    sse[k] = kmeans.inertia_ # Inertia: Sum of distances of samples to their closest cluster center\n",
    "plt.figure()\n",
    "plt.plot(list(sse.keys()), list(sse.values()),'o')\n",
    "plt.xlabel(\"Number of cluster\")\n",
    "plt.ylabel(\"SSE\")\n",
    "plt.xticks(list(sse.keys()))\n",
    "plt.legend()\n",
    "plt.show()"
   ]
  },
  {
   "cell_type": "code",
   "execution_count": 16,
   "metadata": {},
   "outputs": [
    {
     "data": {
      "image/png": "[encoded data removed]",
      "text/plain": [
       "<matplotlib.figure.Figure at 0x5415710>"
      ]
     },
     "metadata": {},
     "output_type": "display_data"
    }
   ],
   "source": [
    "kmeans = KMeans(n_clusters=2,random_state=1).fit(trainX_scaled)\n",
    "labels =  kmeans.predict(trainX_scaled)\n",
    "res=kmeans.__dict__\n",
    "plt.scatter(trainX_scaled[:, 2], trainX_scaled[:, 5], c=labels,\n",
    "             cmap='viridis');\n",
    "\n"
   ]
  },
  {
   "cell_type": "code",
   "execution_count": 17,
   "metadata": {},
   "outputs": [
    {
     "data": {
      "image/png": "[encoded data removed]",
      "text/plain": [
       "<matplotlib.figure.Figure at 0xf8d2c88>"
      ]
     },
     "metadata": {},
     "output_type": "display_data"
    }
   ],
   "source": [
    "xplot = np.zeros((2,14))\n",
    "xplot[:,:] = np.arange(0,14,1)\n",
    "c=['red','green','blue']\n",
    "l=['Cluster 1', 'Cluster 2', 'Cluster 3']\n",
    "for i in range(np.shape(res['cluster_centers_'])[0]):\n",
    "    plt.scatter(xplot[i,:],np.transpose(res['cluster_centers_'][i,:]),color = c[i],label=l[i])\n",
    "    \n",
    "plt.xticks(np.arange(0,14,1))\n",
    "plt.xlabel('Feature Number')\n",
    "plt.ylabel('Mean Value')\n",
    "plt.legend()\n",
    "plt.show()"
   ]
  },
  {
   "cell_type": "code",
   "execution_count": 18,
   "metadata": {},
   "outputs": [
    {
     "data": {
      "image/png": "[encoded data removed]",
      "text/plain": [
       "<matplotlib.figure.Figure at 0xf9221d0>"
      ]
     },
     "metadata": {},
     "output_type": "display_data"
    }
   ],
   "source": [
    "idx_zero = np.where(kmeans.labels_==0)\n",
    "zeros_array = trainX_scaled[idx_zero]\n",
    "vars_zero = np.var(zeros_array,axis=0)\n",
    "idx_ones = np.where(kmeans.labels_==1)\n",
    "ones_array = trainX_scaled[idx_ones]\n",
    "vars_ones = np.var(ones_array,axis=0)\n",
    "c=['red','green','blue']\n",
    "l=['Cluster 1', 'Cluster 2', 'Cluster 3']\n",
    "\n",
    "\n",
    "plt.scatter(xplot[0,:],np.reshape(vars_zero,[1,-1]),color = c[0],label=l[0])\n",
    "plt.scatter(xplot[1,:],np.transpose(vars_ones),color = c[1],label=l[1])\n",
    "\n",
    "plt.xticks(np.arange(0,14,1))\n",
    "plt.xlabel('Feature Number')\n",
    "plt.ylabel('Variance')\n",
    "plt.legend()\n",
    "plt.show()"
   ]
  },
  {
   "cell_type": "markdown",
   "metadata": {},
   "source": [
    "# K Means Silhouette"
   ]
  },
  {
   "cell_type": "code",
   "execution_count": 19,
   "metadata": {},
   "outputs": [
    {
     "name": "stdout",
     "output_type": "stream",
     "text": [
      "For n_clusters=2, The Silhouette Coefficient is 0.7756632333185297\n",
      "For n_clusters=3, The Silhouette Coefficient is 0.5710259005784233\n",
      "For n_clusters=4, The Silhouette Coefficient is 0.5820506990095486\n",
      "For n_clusters=5, The Silhouette Coefficient is 0.591850836877975\n",
      "For n_clusters=6, The Silhouette Coefficient is 0.3585034199094298\n",
      "For n_clusters=7, The Silhouette Coefficient is 0.37670673827495177\n",
      "For n_clusters=8, The Silhouette Coefficient is 0.40051443935825354\n",
      "For n_clusters=9, The Silhouette Coefficient is 0.3830341295519247\n",
      "For n_clusters=10, The Silhouette Coefficient is 0.37778312506878725\n",
      "For n_clusters=11, The Silhouette Coefficient is 0.3666189586693501\n",
      "For n_clusters=12, The Silhouette Coefficient is 0.37630152632511465\n",
      "For n_clusters=13, The Silhouette Coefficient is 0.3640203038102311\n",
      "For n_clusters=14, The Silhouette Coefficient is 0.33292207825452147\n",
      "For n_clusters=15, The Silhouette Coefficient is 0.33686063564248175\n",
      "For n_clusters=16, The Silhouette Coefficient is 0.34341103158758424\n",
      "For n_clusters=17, The Silhouette Coefficient is 0.3269917018095852\n",
      "For n_clusters=18, The Silhouette Coefficient is 0.3413821563436099\n",
      "For n_clusters=19, The Silhouette Coefficient is 0.3296766267899141\n"
     ]
    }
   ],
   "source": [
    "for n_cluster in range(2, 20):\n",
    "    kmeans = KMeans(n_clusters=n_cluster,random_state=1).fit(trainX)\n",
    "    label = kmeans.labels_\n",
    "    sil_coeff = silhouette_score(trainX, label, metric='euclidean')\n",
    "    print(\"For n_clusters={}, The Silhouette Coefficient is {}\".format(n_cluster, sil_coeff))"
   ]
  },
  {
   "cell_type": "markdown",
   "metadata": {},
   "source": [
    "# EM"
   ]
  },
  {
   "cell_type": "code",
   "execution_count": 20,
   "metadata": {},
   "outputs": [
    {
     "name": "stdout",
     "output_type": "stream",
     "text": [
      "[[ 12.  10.  10.   8.  12.   8.  10.  11.  14.  13.  16.  12.  13.  12.\n",
      "   10.  12.  11.  13.   9.  12.  11.  12.  12.  12.  11.  11.  11.  11.\n",
      "   11.  10.]\n",
      " [  7.   4.   6.   4.  11.   5.   4.  11.   6.   7.   9.   6.   6.   7.\n",
      "    8.   5.   5.   4.   9.   3.   5.   4.  12.   5.   3.   6.   5.   7.\n",
      "    8.   6.]]\n",
      "[ 340.  188.]\n"
     ]
    },
    {
     "data": {
      "text/plain": [
       "0.55897394272394285"
      ]
     },
     "execution_count": 20,
     "metadata": {},
     "output_type": "execute_result"
    }
   ],
   "source": [
    "gmm = GaussianMixture(n_components=len(unique_Y),random_state=1)\n",
    "gmm.fit(X)\n",
    "new_labels = gmm.predict(X)+1\n",
    "c_size = np.zeros((2,len(unique_Y)))\n",
    "for i in range(len(unique_Y)):\n",
    "    idx = np.where(Y_first==unique_Y[i])[0]\n",
    "    c_size[0,i] = len(Y_first[Y_first==unique_Y[i]])\n",
    "    new_clusters = new_labels[idx]\n",
    "    unique_list = (list(set(new_clusters)))\n",
    "    nc_occ = [len(np.where(new_clusters==unique_list[k])[0]) for k in range(len(unique_list))]\n",
    "    max_num = unique_list[np.where(nc_occ==np.max(nc_occ))[0][0]]\n",
    "    c_size[1,i] = len(np.where(new_clusters==max_num)[0])\n",
    "print(c_size)\n",
    "print(np.sum(c_size,1))\n",
    "avg = c_size[1,:]/c_size[0,:]\n",
    "np.mean(avg)"
   ]
  },
  {
   "cell_type": "code",
   "execution_count": 21,
   "metadata": {},
   "outputs": [
    {
     "data": {
      "image/png": "[encoded data removed]",
      "text/plain": [
       "<matplotlib.figure.Figure at 0xf8cbd30>"
      ]
     },
     "metadata": {},
     "output_type": "display_data"
    }
   ],
   "source": [
    "lowest_bic = np.infty\n",
    "\n",
    "bic = []\n",
    "n_components_range = range(1, 20)\n",
    "cv_types = ['full']\n",
    "#cv_types = ['spherical', 'tied', 'diag','full']\n",
    "\n",
    "for n_components in n_components_range:\n",
    "    # Fit a Gaussian mixture with EM\n",
    "    gmm = mixture.GaussianMixture(n_components=n_components,random_state=4)\n",
    "    gmm.fit(trainX_scaled)\n",
    "    bic.append(gmm.bic(trainX_scaled))\n",
    "    if bic[-1] < lowest_bic:\n",
    "        lowest_bic = bic[-1]\n",
    "        best_gmm = gmm\n",
    "\n",
    "bic = np.array(bic)\n",
    "color_iter = itertools.cycle(['navy', 'turquoise', 'cornflowerblue',\n",
    "                              'darkorange'])\n",
    "clf = best_gmm\n",
    "bars = []\n",
    "\n",
    "# Plot the BIC scores\n",
    "plt.figure(figsize=(8, 6))\n",
    "spl = plt.subplot(2, 1, 1)\n",
    "for i, (cv_type, color) in enumerate(zip(cv_types, color_iter)):\n",
    "    xpos = np.array(n_components_range) + .2 * (i - 0.05)\n",
    "    bars.append(plt.bar(xpos, bic[i * len(n_components_range):\n",
    "                                  (i + 1) * len(n_components_range)],\n",
    "                        width=.2, color=color))\n",
    "\n",
    "plt.xticks(n_components_range)\n",
    "#plt.ylim([bic.min() * 1.01 - .01 * bic.max(), bic.max()])\n",
    "plt.title('BIC score per model')\n",
    "xpos = np.mod(bic.argmin(), len(n_components_range)) + .65 +\\\n",
    "    .2 * np.floor(bic.argmin() / len(n_components_range))\n",
    "plt.text(xpos+0.5, bic.min() * 0.97 + .03 * bic.max(), '*', fontsize=14)\n",
    "spl.set_xlabel('Number of components')\n",
    "#spl.legend([b[0] for b in bars], cv_types)\n",
    "\n",
    "Y_ = clf.predict(trainX)\n",
    "# # Plot the winner\n",
    "# splot = plt.subplot(2, 1, 2)\n",
    "# Y_ = clf.predict(trainX)\n",
    "\n",
    "# for i, (mean, cov, color) in enumerate(zip(clf.means_, clf.covariances_,\n",
    "#                                            color_iter)):\n",
    "#     v, w = linalg.eigh(cov)\n",
    "#     if not np.any(Y_ == i):\n",
    "#         continue\n",
    "#     plt.scatter(X[Y_ == i, 5], X[Y_ == i, 6], .8, color=color)\n",
    "\n",
    "#     # Plot an ellipse to show the Gaussian component\n",
    "#     angle = np.arctan2(w[0][1], w[0][0])\n",
    "#     angle = 180. * angle / np.pi  # convert to degrees\n",
    "#     v = 2. * np.sqrt(2.) * np.sqrt(v)\n",
    "#     ell = mpl.patches.Ellipse(mean, v[0], v[1], 180. + angle, color=color)\n",
    "#     ell.set_clip_box(splot.bbox)\n",
    "#     ell.set_alpha(.5)\n",
    "#     splot.add_artist(ell)\n",
    "\n",
    "# plt.xticks(())\n",
    "# plt.yticks(())\n",
    "# plt.title('Selected GMM: full model, 2 components')\n",
    "# plt.subplots_adjust(hspace=.35, bottom=.02)\n",
    "# plt.show()"
   ]
  },
  {
   "cell_type": "code",
   "execution_count": 22,
   "metadata": {},
   "outputs": [
    {
     "name": "stdout",
     "output_type": "stream",
     "text": [
      "4\n",
      "14\n"
     ]
    },
    {
     "data": {
      "image/png": "[encoded data removed]",
      "text/plain": [
       "<matplotlib.figure.Figure at 0xfe7cd68>"
      ]
     },
     "metadata": {},
     "output_type": "display_data"
    }
   ],
   "source": [
    "r,c = np.shape(clf.means_)\n",
    "print(r)\n",
    "print(c)\n",
    "xplot = np.zeros((r,14))\n",
    "xplot[:,:] = np.arange(0,14,1)\n",
    "c=['red','green','blue','yellow','purple']\n",
    "l=['Cluster 1', 'Cluster 2', 'Cluster 3','Cluster 4', 'Cluster 5']\n",
    "for i in range(r):\n",
    "    plt.scatter(xplot[i,:],np.transpose(clf.means_[i,:]),color = c[i],label=l[i])\n",
    "    \n",
    "plt.xticks(np.arange(0,14,1))\n",
    "plt.xlabel('Feature Number')\n",
    "plt.ylabel('Mean Value')\n",
    "plt.legend()\n",
    "plt.show()\n",
    "\n"
   ]
  },
  {
   "cell_type": "code",
   "execution_count": 23,
   "metadata": {},
   "outputs": [
    {
     "name": "stdout",
     "output_type": "stream",
     "text": [
      "4 14 14\n"
     ]
    },
    {
     "data": {
      "image/png": "[encoded data removed]",
      "text/plain": [
       "<matplotlib.figure.Figure at 0xf996be0>"
      ]
     },
     "metadata": {},
     "output_type": "display_data"
    }
   ],
   "source": [
    "r,c,n = np.shape(clf.covariances_)\n",
    "print(r,c,n)\n",
    "xplot = np.zeros((r,14))\n",
    "xplot[:,:] = np.arange(0,14,1)\n",
    "c=['red','green','blue','yellow','purple']\n",
    "l=['Cluster 1', 'Cluster 2', 'Cluster 3','Cluster 4', 'Cluster 5']\n",
    "for i in range(r):\n",
    "    vals = np.diagonal((clf.covariances_[i,:,:]))\n",
    "    plt.scatter(xplot[i,:],np.transpose(vals),color = c[i],label=l[i])\n",
    "    \n",
    "plt.xticks(np.arange(0,14,1))\n",
    "plt.xlabel('Feature Number')\n",
    "plt.ylabel('Variance')\n",
    "plt.legend()\n",
    "plt.show()"
   ]
  },
  {
   "cell_type": "code",
   "execution_count": 24,
   "metadata": {},
   "outputs": [
    {
     "data": {
      "text/plain": [
       "<matplotlib.legend.Legend at 0x102eb6d8>"
      ]
     },
     "execution_count": 24,
     "metadata": {},
     "output_type": "execute_result"
    },
    {
     "data": {
      "image/png": "[encoded data removed]",
      "text/plain": [
       "<matplotlib.figure.Figure at 0xf89e828>"
      ]
     },
     "metadata": {},
     "output_type": "display_data"
    }
   ],
   "source": [
    "lowest_aic = np.infty\n",
    "\n",
    "aic = []\n",
    "n_components_range = range(1, 20)\n",
    "cv_types = ['full']\n",
    "\n",
    "for cv_type in cv_types:\n",
    "    for n_components in n_components_range:\n",
    "        # Fit a Gaussian mixture with EM\n",
    "        gmm = mixture.GaussianMixture(n_components=n_components,\n",
    "                                      covariance_type=cv_type,random_state=1)\n",
    "        gmm.fit(trainX_scaled)\n",
    "        aic.append(gmm.aic(trainX_scaled))\n",
    "        if aic[-1] < lowest_aic:\n",
    "            lowest_aic = aic[-1]\n",
    "            best_gmm = gmm\n",
    "            \n",
    "\n",
    "aic = np.array(aic)\n",
    "color_iter = itertools.cycle(['navy', 'turquoise', 'cornflowerblue',\n",
    "                              'darkorange'])\n",
    "clf = best_gmm\n",
    "bars = []\n",
    "\n",
    "# Plot the AIC scores\n",
    "plt.figure(figsize=(8, 6))\n",
    "spl = plt.subplot(2, 1, 1)\n",
    "for i, (cv_type, color) in enumerate(zip(cv_types, color_iter)):\n",
    "    xpos = np.array(n_components_range) + .2 * (i - 0.05)\n",
    "    bars.append(plt.bar(xpos, aic[i * len(n_components_range):\n",
    "                                  (i + 1) * len(n_components_range)],\n",
    "                        width=.2, color=color))\n",
    "plt.xticks(n_components_range)\n",
    "#plt.ylim([aic.min() * 1.01 - .01 * aic.max(), aic.max()])\n",
    "plt.title('AIC score per model')\n",
    "xpos = np.mod(aic.argmin(), len(n_components_range)) + .65 +\\\n",
    "    .2 * np.floor(aic.argmin() / len(n_components_range))\n",
    "plt.text(xpos, aic.min() * 0.97 + .03 * aic.max(), '*', fontsize=14)\n",
    "spl.set_xlabel('Number of components')\n",
    "spl.legend([b[0] for b in bars], cv_types)\n",
    "\n",
    "\n",
    "# # Plot the winner\n",
    "# splot = plt.subplot(2, 1, 2)\n",
    "# Y_ = clf.predict(X)\n",
    "# for i, (mean, cov, color) in enumerate(zip(clf.means_, clf.covariances_,\n",
    "#                                            color_iter)):\n",
    "#     v, w = linalg.eigh(cov)\n",
    "#     if not np.any(Y_ == i):\n",
    "#         continue\n",
    "#     plt.scatter(X[Y_ == i, 2], X[Y_ == i, 6], .8, color=color)\n",
    "\n",
    "#     # Plot an ellipse to show the Gaussian component\n",
    "#     angle = np.arctan2(w[0][1], w[0][0])\n",
    "#     angle = 180. * angle / np.pi  # convert to degrees\n",
    "#     v = 2. * np.sqrt(2.) * np.sqrt(v)\n",
    "#     ell = mpl.patches.Ellipse(mean, v[0], v[1], 180. + angle, color=color)\n",
    "#     ell.set_clip_box(splot.bbox)\n",
    "#     ell.set_alpha(.5)\n",
    "#     splot.add_artist(ell)\n",
    "\n",
    "# plt.xticks(())\n",
    "# plt.yticks(())\n",
    "# plt.title('Selected GMM: full model, 2 components')\n",
    "# plt.subplots_adjust(hspace=.35, bottom=.02)\n",
    "# plt.show()"
   ]
  },
  {
   "cell_type": "markdown",
   "metadata": {},
   "source": [
    "# ICA"
   ]
  },
  {
   "cell_type": "code",
   "execution_count": 102,
   "metadata": {},
   "outputs": [
    {
     "name": "stdout",
     "output_type": "stream",
     "text": [
      "1\n"
     ]
    },
    {
     "name": "stderr",
     "output_type": "stream",
     "text": [
      "C:\\Users\\Manik.Rajora\\AppData\\Local\\Continuum\\anaconda2\\envs\\Py36\\lib\\site-packages\\ipykernel_launcher.py:52: UserWarning: The `nb_epoch` argument in `fit` has been renamed `epochs`.\n"
     ]
    },
    {
     "name": "stdout",
     "output_type": "stream",
     "text": [
      "2\n"
     ]
    },
    {
     "name": "stderr",
     "output_type": "stream",
     "text": [
      "C:\\Users\\Manik.Rajora\\AppData\\Local\\Continuum\\anaconda2\\envs\\Py36\\lib\\site-packages\\ipykernel_launcher.py:52: UserWarning: The `nb_epoch` argument in `fit` has been renamed `epochs`.\n"
     ]
    },
    {
     "name": "stdout",
     "output_type": "stream",
     "text": [
      "3\n"
     ]
    },
    {
     "name": "stderr",
     "output_type": "stream",
     "text": [
      "C:\\Users\\Manik.Rajora\\AppData\\Local\\Continuum\\anaconda2\\envs\\Py36\\lib\\site-packages\\ipykernel_launcher.py:52: UserWarning: The `nb_epoch` argument in `fit` has been renamed `epochs`.\n"
     ]
    },
    {
     "name": "stdout",
     "output_type": "stream",
     "text": [
      "4\n"
     ]
    },
    {
     "name": "stderr",
     "output_type": "stream",
     "text": [
      "C:\\Users\\Manik.Rajora\\AppData\\Local\\Continuum\\anaconda2\\envs\\Py36\\lib\\site-packages\\ipykernel_launcher.py:52: UserWarning: The `nb_epoch` argument in `fit` has been renamed `epochs`.\n"
     ]
    },
    {
     "name": "stdout",
     "output_type": "stream",
     "text": [
      "5\n"
     ]
    },
    {
     "name": "stderr",
     "output_type": "stream",
     "text": [
      "C:\\Users\\Manik.Rajora\\AppData\\Local\\Continuum\\anaconda2\\envs\\Py36\\lib\\site-packages\\ipykernel_launcher.py:52: UserWarning: The `nb_epoch` argument in `fit` has been renamed `epochs`.\n"
     ]
    },
    {
     "name": "stdout",
     "output_type": "stream",
     "text": [
      "6\n"
     ]
    },
    {
     "name": "stderr",
     "output_type": "stream",
     "text": [
      "C:\\Users\\Manik.Rajora\\AppData\\Local\\Continuum\\anaconda2\\envs\\Py36\\lib\\site-packages\\ipykernel_launcher.py:52: UserWarning: The `nb_epoch` argument in `fit` has been renamed `epochs`.\n"
     ]
    },
    {
     "name": "stdout",
     "output_type": "stream",
     "text": [
      "7\n"
     ]
    },
    {
     "name": "stderr",
     "output_type": "stream",
     "text": [
      "C:\\Users\\Manik.Rajora\\AppData\\Local\\Continuum\\anaconda2\\envs\\Py36\\lib\\site-packages\\ipykernel_launcher.py:52: UserWarning: The `nb_epoch` argument in `fit` has been renamed `epochs`.\n"
     ]
    },
    {
     "name": "stdout",
     "output_type": "stream",
     "text": [
      "8\n"
     ]
    },
    {
     "name": "stderr",
     "output_type": "stream",
     "text": [
      "C:\\Users\\Manik.Rajora\\AppData\\Local\\Continuum\\anaconda2\\envs\\Py36\\lib\\site-packages\\ipykernel_launcher.py:52: UserWarning: The `nb_epoch` argument in `fit` has been renamed `epochs`.\n"
     ]
    },
    {
     "name": "stdout",
     "output_type": "stream",
     "text": [
      "9\n"
     ]
    },
    {
     "name": "stderr",
     "output_type": "stream",
     "text": [
      "C:\\Users\\Manik.Rajora\\AppData\\Local\\Continuum\\anaconda2\\envs\\Py36\\lib\\site-packages\\ipykernel_launcher.py:52: UserWarning: The `nb_epoch` argument in `fit` has been renamed `epochs`.\n"
     ]
    },
    {
     "name": "stdout",
     "output_type": "stream",
     "text": [
      "10\n"
     ]
    },
    {
     "name": "stderr",
     "output_type": "stream",
     "text": [
      "C:\\Users\\Manik.Rajora\\AppData\\Local\\Continuum\\anaconda2\\envs\\Py36\\lib\\site-packages\\ipykernel_launcher.py:52: UserWarning: The `nb_epoch` argument in `fit` has been renamed `epochs`.\n"
     ]
    },
    {
     "name": "stdout",
     "output_type": "stream",
     "text": [
      "11\n"
     ]
    },
    {
     "name": "stderr",
     "output_type": "stream",
     "text": [
      "C:\\Users\\Manik.Rajora\\AppData\\Local\\Continuum\\anaconda2\\envs\\Py36\\lib\\site-packages\\sklearn\\decomposition\\fastica_.py:118: UserWarning: FastICA did not converge. Consider increasing tolerance or the maximum number of iterations.\n",
      "  warnings.warn('FastICA did not converge. Consider increasing '\n",
      "C:\\Users\\Manik.Rajora\\AppData\\Local\\Continuum\\anaconda2\\envs\\Py36\\lib\\site-packages\\ipykernel_launcher.py:52: UserWarning: The `nb_epoch` argument in `fit` has been renamed `epochs`.\n"
     ]
    },
    {
     "name": "stdout",
     "output_type": "stream",
     "text": [
      "12\n"
     ]
    },
    {
     "name": "stderr",
     "output_type": "stream",
     "text": [
      "C:\\Users\\Manik.Rajora\\AppData\\Local\\Continuum\\anaconda2\\envs\\Py36\\lib\\site-packages\\ipykernel_launcher.py:52: UserWarning: The `nb_epoch` argument in `fit` has been renamed `epochs`.\n"
     ]
    },
    {
     "name": "stdout",
     "output_type": "stream",
     "text": [
      "13\n"
     ]
    },
    {
     "name": "stderr",
     "output_type": "stream",
     "text": [
      "C:\\Users\\Manik.Rajora\\AppData\\Local\\Continuum\\anaconda2\\envs\\Py36\\lib\\site-packages\\ipykernel_launcher.py:52: UserWarning: The `nb_epoch` argument in `fit` has been renamed `epochs`.\n"
     ]
    },
    {
     "name": "stdout",
     "output_type": "stream",
     "text": [
      "14\n"
     ]
    },
    {
     "name": "stderr",
     "output_type": "stream",
     "text": [
      "C:\\Users\\Manik.Rajora\\AppData\\Local\\Continuum\\anaconda2\\envs\\Py36\\lib\\site-packages\\ipykernel_launcher.py:52: UserWarning: The `nb_epoch` argument in `fit` has been renamed `epochs`.\n"
     ]
    }
   ],
   "source": [
    "\n",
    "# Compute ICA\n",
    "\n",
    "# ica = FastICA(n_components=11)\n",
    "# S_ = ica.fit_transform(trainX_scaled)  # Reconstruct signals\n",
    "# A_ = ica.mixing_  # Get estimated mixing matrix\n",
    "\n",
    "# print(kurtosis(S_,axis=0))\n",
    "scalar = StandardScaler()\n",
    "trainX_S = scalar.fit_transform(trainX)\n",
    "testX_S = scalar.transform(testX)\n",
    "\n",
    "ica = FastICA(random_state=1)\n",
    "comp_to_check = 14\n",
    "kurt_sp = np.zeros((comp_to_check,3))\n",
    "\n",
    "train_all = []\n",
    "test_all = []\n",
    "train_acc_ica = []\n",
    "val_acc_ica = []\n",
    "test_acc_ica = []\n",
    "\n",
    "\n",
    "for i in range(1,comp_to_check+1):\n",
    "    print(i)\n",
    "    ica.set_params(n_components=i)\n",
    "    S_ = ica.fit_transform(trainX_S)\n",
    "    proj = ica.inverse_transform(S_)\n",
    "    loss_all = ((trainX_S - proj)**2).mean()\n",
    "    kurt_sp[i-2,:] = np.array([i,np.mean(np.abs(kurtosis(S_,axis=0))),loss_all])\n",
    "    \n",
    "    trainX_transformed = ica.transform(trainX_S)\n",
    "    testX_transformed = ica.transform(testX_S)\n",
    "    \n",
    "    trainX_S_use = trainX_transformed[:,:i]\n",
    "    testX_S_use = testX_transformed[:,:i]\n",
    "    \n",
    "    trainX_use = trainX_S_use[values,:]\n",
    "    trainY_use = trainY[values,:]\n",
    "    trainY_comp_use = trainY_comp[values]\n",
    "\n",
    "    \n",
    "\n",
    "    model = Sequential()\n",
    "    model.add(Dense(250, input_dim=i, kernel_initializer='normal', activation='relu'))\n",
    "    model.add(Dense(36, kernel_initializer='normal', activation='softmax'))\n",
    "    model.compile(loss='categorical_crossentropy', optimizer='adam', metrics=['accuracy'])\n",
    "    # checkpoint\n",
    "    filepath=\"weights.best_leaf.h5\"\n",
    "    checkpoint = ModelCheckpoint(filepath, monitor='val_acc', verbose=0, save_best_only=True, mode='max')\n",
    "    callbacks_list = [checkpoint, TestCallback((testX_S_use,testY)),CSVLogger('1.log')]\n",
    "    hist = model.fit(trainX_use[:-82,:],trainY_use[:-82,:], validation_data=(trainX_use[-82:,:],trainY_use[-82:,:]), nb_epoch=2500, batch_size=40,verbose=0,callbacks=callbacks_list)\n",
    "    \n",
    "    model1 = Sequential()\n",
    "    model1.add(Dense(250, input_dim=i, kernel_initializer='normal', activation='relu'))\n",
    "    model1.add(Dense(36, kernel_initializer='normal', activation='softmax'))\n",
    "    model1.compile(loss='categorical_crossentropy', optimizer='adam', metrics=['accuracy'])\n",
    "    model1.load_weights(\"weights.best_leaf.h5\")\n",
    "\n",
    "\n",
    "    train_pred = convert_out(model1.predict(trainX_use[:-82,:]))\n",
    "    train_act = trainY_comp_use[:-82]\n",
    "    train_acc_ica.append((1-Pred_correct(train_pred,train_act)))\n",
    "\n",
    "    val_pred = convert_out(model1.predict(trainX_use[-82:,:]))\n",
    "    val_act = trainY_comp_use[-82:]\n",
    "    val_acc_ica.append((1-Pred_correct(val_pred,val_act)))\n",
    "\n",
    "    test_pred = convert_out(model1.predict(testX_S_use))\n",
    "    test_acc_ica.append((1-Pred_correct(test_pred,testY_comp)))\n",
    " \n",
    "\n"
   ]
  },
  {
   "cell_type": "code",
   "execution_count": 103,
   "metadata": {},
   "outputs": [
    {
     "data": {
      "image/png": "[encoded data removed]",
      "text/plain": [
       "<matplotlib.figure.Figure at 0x655e4e48>"
      ]
     },
     "metadata": {},
     "output_type": "display_data"
    },
    {
     "data": {
      "image/png": "[encoded data removed]",
      "text/plain": [
       "<matplotlib.figure.Figure at 0x6f84fe80>"
      ]
     },
     "metadata": {},
     "output_type": "display_data"
    },
    {
     "data": {
      "image/png": "[encoded data removed]",
      "text/plain": [
       "<matplotlib.figure.Figure at 0x6f88b550>"
      ]
     },
     "metadata": {},
     "output_type": "display_data"
    },
    {
     "name": "stdout",
     "output_type": "stream",
     "text": [
      "    Training Set  Validation Set  Testing Set\n",
      "0      81.052632       86.585366    86.764706\n",
      "1      54.736842       57.317073    54.411765\n",
      "2      30.000000       47.560976    45.588235\n",
      "3      18.421053       31.707317    35.294118\n",
      "4      20.526316       34.146341    33.823529\n",
      "5      11.578947       32.926829    33.823529\n",
      "6       6.842105       20.731707    25.000000\n",
      "7      10.000000       20.731707    17.647059\n",
      "8       7.894737       18.292683    16.176471\n",
      "9       0.000000       17.073171    23.529412\n",
      "10      5.789474        8.536585    22.058824\n",
      "11      5.789474       12.195122    20.588235\n",
      "12      5.263158       12.195122    17.647059\n",
      "13      3.157895       10.975610    20.588235\n"
     ]
    }
   ],
   "source": [
    "plt.scatter(kurt_sp[:,0],kurt_sp[:,1])\n",
    "plt.xlabel('Number of components')\n",
    "plt.ylabel('Average Absolute Kurtosis')\n",
    "plt.show()\n",
    "\n",
    "\n",
    "plt.scatter(kurt_sp[:,0],kurt_sp[:,2])\n",
    "plt.xlabel('Number of components')\n",
    "plt.ylabel('Reconstruction Error')\n",
    "plt.show()\n",
    "\n",
    "fig = plt.figure()\n",
    "ax = fig.gca()\n",
    "ax.set_yticks(np.arange(0, 100, 10))\n",
    "ax.set_xticks(np.arange(1,len(train_acc_ica)+1))\n",
    "\n",
    "plt.scatter(np.arange(1,len(train_acc_ica)+1),np.array(train_acc_ica)*100,label='Training Set Accuracy')\n",
    "plt.scatter(np.arange(1,len(train_acc_ica)+1),np.array(val_acc_ica)*100,label='Validation Set Accuracy')\n",
    "plt.scatter(np.arange(1,len(train_acc_ica)+1),np.array(test_acc_ica)*100,label='Testing Set Accuracy')\n",
    "plt.xlabel('Number of Components')\n",
    "plt.ylabel('Misclassification Error (%)')\n",
    "plt.legend()\n",
    "plt.grid(True)\n",
    "plt.show()\n",
    "\n",
    "results = pd.DataFrame(data = np.transpose([np.array(train_acc_ica)*100,np.array(val_acc_ica)*100,np.array(test_acc_ica)*100]),columns=['Training Set', 'Validation Set', 'Testing Set'])\n",
    "print(results)"
   ]
  },
  {
   "cell_type": "markdown",
   "metadata": {},
   "source": [
    "# K Means"
   ]
  },
  {
   "cell_type": "code",
   "execution_count": 131,
   "metadata": {},
   "outputs": [
    {
     "name": "stdout",
     "output_type": "stream",
     "text": [
      "For n_clusters=2, The Silhouette Coefficient is 0.25564296257530356\n",
      "For n_clusters=3, The Silhouette Coefficient is 0.1415655772206138\n",
      "For n_clusters=4, The Silhouette Coefficient is 0.1768055991269605\n",
      "For n_clusters=5, The Silhouette Coefficient is 0.1292072244055944\n",
      "For n_clusters=6, The Silhouette Coefficient is 0.11984848919709018\n",
      "For n_clusters=7, The Silhouette Coefficient is 0.13702158735097877\n",
      "For n_clusters=8, The Silhouette Coefficient is 0.13986522614701744\n",
      "For n_clusters=9, The Silhouette Coefficient is 0.151098697300292\n",
      "For n_clusters=10, The Silhouette Coefficient is 0.16619116828396693\n",
      "For n_clusters=11, The Silhouette Coefficient is 0.17330342846251204\n",
      "For n_clusters=12, The Silhouette Coefficient is 0.18859239416814613\n",
      "For n_clusters=13, The Silhouette Coefficient is 0.19636586942679177\n",
      "For n_clusters=14, The Silhouette Coefficient is 0.20480142859680275\n",
      "For n_clusters=15, The Silhouette Coefficient is 0.20702708786618243\n",
      "For n_clusters=16, The Silhouette Coefficient is 0.20570980851810927\n"
     ]
    },
    {
     "name": "stderr",
     "output_type": "stream",
     "text": [
      "No handles with labels found to put in legend.\n"
     ]
    },
    {
     "name": "stdout",
     "output_type": "stream",
     "text": [
      "For n_clusters=17, The Silhouette Coefficient is 0.2154490758160468\n",
      "For n_clusters=18, The Silhouette Coefficient is 0.20761459963851875\n",
      "For n_clusters=19, The Silhouette Coefficient is 0.22624869932485406\n"
     ]
    },
    {
     "data": {
      "image/png": "[encoded data removed]",
      "text/plain": [
       "<matplotlib.figure.Figure at 0x6ff65908>"
      ]
     },
     "metadata": {},
     "output_type": "display_data"
    }
   ],
   "source": [
    "sse = {}\n",
    "\n",
    "ica.set_params(n_components=13)\n",
    "S_ = ica.fit_transform(trainX_S)\n",
    "proj = ica.inverse_transform(S_)\n",
    "trainX_transformed = ica.transform(trainX_S)\n",
    "testX_transformed = ica.transform(testX_S)\n",
    "\n",
    "trainX_S_use = trainX_transformed[:,:i]\n",
    "testX_S_use = testX_transformed[:,:i]\n",
    "\n",
    "trainX_use = trainX_S_use[values,:]\n",
    "trainY_use = trainY[values,:]\n",
    "trainY_comp_use = trainY_comp[values]\n",
    "\n",
    "sse = {}\n",
    "for k in range(2, 20):\n",
    "    kmeans = KMeans(n_clusters=k,random_state=1).fit(trainX_use)\n",
    "    #print(data[\"clusters\"])\n",
    "    label = kmeans.labels_\n",
    "    sil_coeff = silhouette_score(trainX_use, label, metric='euclidean')\n",
    "    print(\"For n_clusters={}, The Silhouette Coefficient is {}\".format(k, sil_coeff))\n",
    "    sse[k] = kmeans.inertia_ # Inertia: Sum of distances of samples to their closest cluster center\n",
    "plt.figure()\n",
    "plt.plot(list(sse.keys()), list(sse.values()),'o')\n",
    "plt.xlabel(\"Number of cluster\")\n",
    "plt.ylabel(\"SSE\")\n",
    "plt.xticks(list(sse.keys()))\n",
    "plt.legend()\n",
    "plt.show()\n",
    "    "
   ]
  },
  {
   "cell_type": "markdown",
   "metadata": {},
   "source": [
    "# K Means + ICA + NN"
   ]
  },
  {
   "cell_type": "code",
   "execution_count": 184,
   "metadata": {},
   "outputs": [
    {
     "name": "stderr",
     "output_type": "stream",
     "text": [
      "C:\\Users\\Manik.Rajora\\AppData\\Local\\Continuum\\anaconda2\\envs\\Py36\\lib\\site-packages\\ipykernel_launcher.py:33: UserWarning: The `nb_epoch` argument in `fit` has been renamed `epochs`.\n"
     ]
    }
   ],
   "source": [
    "l_use = 2\n",
    "km = KMeans(n_clusters=l_use,random_state=2)\n",
    "km.fit(trainX_use)\n",
    "# print(km.labels_)\n",
    "# plt.hist(km.labels_,l_use)\n",
    "# plt.show()\n",
    "lab_tr = km.predict(trainX_use)\n",
    "lab_te = km.predict(testX_S_use)\n",
    "\n",
    "enc = OneHotEncoder(handle_unknown='ignore')\n",
    "enc.fit(lab_tr.reshape(-1, 1))\n",
    "lab_train=enc.transform(lab_tr.reshape(-1, 1)).toarray()\n",
    "lab_test = enc.transform(lab_te.reshape(-1, 1)).toarray()\n",
    "\n",
    "r,c = np.shape(trainX_use)\n",
    "trainX_use_n = np.hstack((trainX_use,lab_train))\n",
    "testX_use_n = np.hstack((testX_S_use,lab_test))\n",
    "\n",
    "model = Sequential()\n",
    "model.add(Dense(250, input_dim=c+l_use, kernel_initializer='normal', activation='relu'))\n",
    "model.add(Dense(36, kernel_initializer='normal', activation='softmax'))\n",
    "model.compile(loss='categorical_crossentropy', optimizer='adam', metrics=['accuracy'])\n",
    "# checkpoint\n",
    "\n",
    "train_acc_ica_f = []\n",
    "val_acc_ica_f = []\n",
    "test_acc_ica_f = []\n",
    "\n",
    "\n",
    "filepath=\"weights.best_leaf.h5\"\n",
    "checkpoint = ModelCheckpoint(filepath, monitor='val_acc', verbose=0, save_best_only=True, mode='max')\n",
    "callbacks_list = [checkpoint, TestCallback((testX_use_n,testY)),CSVLogger('1.log')]\n",
    "hist = model.fit(trainX_use_n[:-82,:],trainY_use[:-82,:], validation_data=(trainX_use_n[-82:,:],trainY_use[-82:,:]), nb_epoch=2500, batch_size=40,verbose=0,callbacks=callbacks_list)\n",
    "\n",
    "model1 = Sequential()\n",
    "model1.add(Dense(250, input_dim=c+l_use, kernel_initializer='normal', activation='relu'))\n",
    "model1.add(Dense(36, kernel_initializer='normal', activation='softmax'))\n",
    "model1.compile(loss='categorical_crossentropy', optimizer='adam', metrics=['accuracy'])\n",
    "model1.load_weights(\"weights.best_leaf.h5\")\n",
    "\n",
    "\n",
    "train_pred = convert_out(model1.predict(trainX_use_n[:-82,:]))\n",
    "train_act = trainY_comp_use[:-82]\n",
    "train_acc_ica_f.append((1-Pred_correct(train_pred,train_act)))\n",
    "\n",
    "val_pred = convert_out(model1.predict(trainX_use_n[-82:,:]))\n",
    "val_act = trainY_comp_use[-82:]\n",
    "val_acc_ica_f.append((1-Pred_correct(val_pred,val_act)))\n",
    "\n",
    "test_pred = convert_out(model1.predict(testX_use_n))\n",
    "test_acc_ica_f.append((1-Pred_correct(test_pred,testY_comp)))\n",
    "\n",
    "print(np.array(train_acc_ica_f)*100,np.array(val_acc_ica_f)*100,np.array(test_acc_ica_f)*100)"
   ]
  },
  {
   "cell_type": "markdown",
   "metadata": {},
   "source": [
    "# EM + ICA + NN"
   ]
  },
  {
   "cell_type": "code",
   "execution_count": 187,
   "metadata": {},
   "outputs": [
    {
     "data": {
      "text/plain": [
       "Text(0.5,0,'Number of components')"
      ]
     },
     "execution_count": 187,
     "metadata": {},
     "output_type": "execute_result"
    },
    {
     "data": {
      "image/png": "[encoded data removed]",
      "text/plain": [
       "<matplotlib.figure.Figure at 0xfe6b6d8>"
      ]
     },
     "metadata": {},
     "output_type": "display_data"
    }
   ],
   "source": [
    "lowest_bic = np.infty\n",
    "\n",
    "bic = []\n",
    "n_components_range = range(1, 20)\n",
    "cv_types = ['full']\n",
    "#cv_types = ['spherical', 'tied', 'diag','full']\n",
    "\n",
    "for n_components in n_components_range:\n",
    "    # Fit a Gaussian mixture with EM\n",
    "    gmm = mixture.GaussianMixture(n_components=n_components,random_state=4)\n",
    "    gmm.fit(trainX_use)\n",
    "    bic.append(gmm.bic(trainX_use))\n",
    "    if bic[-1] < lowest_bic:\n",
    "        lowest_bic = bic[-1]\n",
    "        best_gmm = gmm\n",
    "\n",
    "bic = np.array(bic)\n",
    "color_iter = itertools.cycle(['navy', 'turquoise', 'cornflowerblue',\n",
    "                              'darkorange'])\n",
    "clf = best_gmm\n",
    "bars = []\n",
    "\n",
    "# Plot the BIC scores\n",
    "plt.figure(figsize=(8, 6))\n",
    "spl = plt.subplot(2, 1, 1)\n",
    "for i, (cv_type, color) in enumerate(zip(cv_types, color_iter)):\n",
    "    xpos = np.array(n_components_range) + .2 * (i - 0.05)\n",
    "    bars.append(plt.bar(xpos, bic[i * len(n_components_range):\n",
    "                                  (i + 1) * len(n_components_range)],\n",
    "                        width=.2, color=color))\n",
    "\n",
    "plt.xticks(n_components_range)\n",
    "#plt.ylim([bic.min() * 1.01 - .01 * bic.max(), bic.max()])\n",
    "plt.title('BIC score per model')\n",
    "xpos = np.mod(bic.argmin(), len(n_components_range)) + .65 +\\\n",
    "    .2 * np.floor(bic.argmin() / len(n_components_range))\n",
    "plt.text(xpos+0.5, bic.min() * 0.97 + .03 * bic.max(), '*', fontsize=14)\n",
    "spl.set_xlabel('Number of components')\n",
    "#spl.legend([b[0] for b in bars], cv_types)\n",
    "\n",
    "# # Plot the winner\n",
    "# splot = plt.subplot(2, 1, 2)\n",
    "# Y_ = clf.predict(trainX)\n",
    "\n",
    "# for i, (mean, cov, color) in enumerate(zip(clf.means_, clf.covariances_,\n",
    "#                                            color_iter)):\n",
    "#     v, w = linalg.eigh(cov)\n",
    "#     if not np.any(Y_ == i):\n",
    "#         continue\n",
    "#     plt.scatter(X[Y_ == i, 5], X[Y_ == i, 6], .8, color=color)\n",
    "\n",
    "#     # Plot an ellipse to show the Gaussian component\n",
    "#     angle = np.arctan2(w[0][1], w[0][0])\n",
    "#     angle = 180. * angle / np.pi  # convert to degrees\n",
    "#     v = 2. * np.sqrt(2.) * np.sqrt(v)\n",
    "#     ell = mpl.patches.Ellipse(mean, v[0], v[1], 180. + angle, color=color)\n",
    "#     ell.set_clip_box(splot.bbox)\n",
    "#     ell.set_alpha(.5)\n",
    "#     splot.add_artist(ell)\n",
    "\n",
    "# plt.xticks(())\n",
    "# plt.yticks(())\n",
    "# plt.title('Selected GMM: full model, 2 components')\n",
    "# plt.subplots_adjust(hspace=.35, bottom=.02)\n",
    "# plt.show()"
   ]
  },
  {
   "cell_type": "code",
   "execution_count": 193,
   "metadata": {},
   "outputs": [
    {
     "name": "stderr",
     "output_type": "stream",
     "text": [
      "C:\\Users\\Manik.Rajora\\AppData\\Local\\Continuum\\anaconda2\\envs\\Py36\\lib\\site-packages\\ipykernel_launcher.py:30: UserWarning: The `nb_epoch` argument in `fit` has been renamed `epochs`.\n"
     ]
    },
    {
     "name": "stdout",
     "output_type": "stream",
     "text": [
      "[ 2.10526316] [ 18.29268293] [ 27.94117647]\n"
     ]
    }
   ],
   "source": [
    "l_use = 5\n",
    "\n",
    "gmm = GaussianMixture(n_components=l_use,random_state=1)\n",
    "gmm.fit(trainX_use)\n",
    "tr_lab = gmm.predict(trainX_use)\n",
    "test_lab = gmm.predict(testX_S_use)\n",
    "\n",
    "enc = OneHotEncoder(handle_unknown='ignore')\n",
    "enc.fit(tr_lab.reshape(-1, 1))\n",
    "lab_train=enc.transform(tr_lab.reshape(-1, 1)).toarray()\n",
    "lab_test = enc.transform(test_lab.reshape(-1, 1)).toarray()\n",
    "\n",
    "r,c = np.shape(trainX_use)\n",
    "trainX_use_n = np.hstack((trainX_use,lab_train))\n",
    "testX_use_n = np.hstack((testX_S_use,lab_test))\n",
    "\n",
    "model = Sequential()\n",
    "model.add(Dense(250, input_dim=c+l_use, kernel_initializer='normal', activation='relu'))\n",
    "model.add(Dense(36, kernel_initializer='normal', activation='softmax'))\n",
    "model.compile(loss='categorical_crossentropy', optimizer='adam', metrics=['accuracy'])\n",
    "# checkpoint\n",
    "\n",
    "train_acc_ica_f_2 = []\n",
    "val_acc_ica_f_2 = []\n",
    "test_acc_ica_f_2 = []\n",
    "\n",
    "filepath=\"weights.best_leaf.h5\"\n",
    "checkpoint = ModelCheckpoint(filepath, monitor='val_acc', verbose=0, save_best_only=True, mode='max')\n",
    "callbacks_list = [checkpoint, TestCallback((testX_use_n,testY)),CSVLogger('1.log')]\n",
    "hist = model.fit(trainX_use_n[:-82,:],trainY_use[:-82,:], validation_data=(trainX_use_n[-82:,:],trainY_use[-82:,:]), nb_epoch=2500, batch_size=40,verbose=0,callbacks=callbacks_list)\n",
    "\n",
    "model1 = Sequential()\n",
    "model1.add(Dense(250, input_dim=c+l_use, kernel_initializer='normal', activation='relu'))\n",
    "model1.add(Dense(36, kernel_initializer='normal', activation='softmax'))\n",
    "model1.compile(loss='categorical_crossentropy', optimizer='adam', metrics=['accuracy'])\n",
    "model1.load_weights(\"weights.best_leaf.h5\")\n",
    "\n",
    "\n",
    "train_pred = convert_out(model1.predict(trainX_use_n[:-82,:]))\n",
    "train_act = trainY_comp_use[:-82]\n",
    "train_acc_ica_f_2.append((1-Pred_correct(train_pred,train_act)))\n",
    "\n",
    "val_pred = convert_out(model1.predict(trainX_use_n[-82:,:]))\n",
    "val_act = trainY_comp_use[-82:]\n",
    "val_acc_ica_f_2.append((1-Pred_correct(val_pred,val_act)))\n",
    "\n",
    "test_pred = convert_out(model1.predict(testX_use_n))\n",
    "test_acc_ica_f_2.append((1-Pred_correct(test_pred,testY_comp)))\n",
    "\n",
    "print(np.array(train_acc_ica_f_2)*100,np.array(val_acc_ica_f_2)*100,np.array(test_acc_ica_f_2)*100)"
   ]
  },
  {
   "cell_type": "markdown",
   "metadata": {},
   "source": [
    "# PCA"
   ]
  },
  {
   "cell_type": "code",
   "execution_count": 26,
   "metadata": {},
   "outputs": [
    {
     "name": "stdout",
     "output_type": "stream",
     "text": [
      "1     0.390744\n",
      "2     0.702312\n",
      "3     0.858042\n",
      "4     0.911453\n",
      "5     0.940156\n",
      "6     0.966665\n",
      "7     0.979260\n",
      "8     0.987713\n",
      "9     0.992923\n",
      "10    0.996102\n",
      "11    0.997912\n",
      "12    0.999179\n",
      "13    0.999984\n",
      "14    1.000000\n",
      "dtype: float64\n"
     ]
    },
    {
     "data": {
      "image/png": "[encoded data removed]",
      "text/plain": [
       "<matplotlib.figure.Figure at 0x1034c898>"
      ]
     },
     "metadata": {},
     "output_type": "display_data"
    }
   ],
   "source": [
    "# Compute ICA\n",
    "\n",
    "# ica = FastICA(n_components=11)\n",
    "# S_ = ica.fit_transform(trainX_scaled)  # Reconstruct signals\n",
    "# A_ = ica.mixing_  # Get estimated mixing matrix\n",
    "\n",
    "# print(kurtosis(S_,axis=0))\n",
    "n_comp = 14\n",
    "pca = PCA(n_components=n_comp,random_state=1)\n",
    "trainX_transformed = pca.fit_transform(trainX_S)\n",
    "testX_transformed = pca.transform(testX_S)\n",
    "\n",
    "tmp = pd.Series(data = pca.explained_variance_ratio_ ,index = range(1,n_comp+1))\n",
    "tmp2 = pd.Series(data = pca.explained_variance_ ,index = range(1,n_comp+1))\n",
    "\n",
    "\n",
    "mat = np.cumsum(tmp2)/np.sum(tmp2)\n",
    "print(mat)\n",
    "plt.plot(np.cumsum(tmp2)/np.sum(tmp2))\n",
    "plt.xlabel('Number of components')\n",
    "plt.ylabel('Reconstruction Error (%)')\n",
    "plt.show()\n",
    "\n"
   ]
  },
  {
   "cell_type": "markdown",
   "metadata": {},
   "source": [
    "# PCA + NN"
   ]
  },
  {
   "cell_type": "code",
   "execution_count": 70,
   "metadata": {},
   "outputs": [
    {
     "name": "stdout",
     "output_type": "stream",
     "text": [
      "1\n"
     ]
    },
    {
     "name": "stderr",
     "output_type": "stream",
     "text": [
      "C:\\Users\\Manik.Rajora\\AppData\\Local\\Continuum\\anaconda2\\envs\\Py36\\lib\\site-packages\\ipykernel_launcher.py:37: UserWarning: The `nb_epoch` argument in `fit` has been renamed `epochs`.\n"
     ]
    },
    {
     "name": "stdout",
     "output_type": "stream",
     "text": [
      "2\n",
      "3\n",
      "4\n",
      "5\n",
      "6\n",
      "7\n",
      "8\n",
      "9\n",
      "10\n",
      "11\n",
      "12\n",
      "13\n",
      "14\n"
     ]
    }
   ],
   "source": [
    "class TestCallback(Callback):\n",
    "    def __init__(self, test_data):\n",
    "        self.test_data = test_data\n",
    "    def on_epoch_end(self, epoch, logs):\n",
    "        x, y = self.test_data\n",
    "        loss, acc = self.model.evaluate(x, y, verbose=0)\n",
    "        logs['test_acc'] = acc\n",
    "        \n",
    "values = random.sample(list(np.arange(0,len(trainX_S),1)),len(trainX_S))\n",
    "\n",
    "\n",
    "train_all = []\n",
    "test_all = []\n",
    "train_acc = []\n",
    "val_acc = []\n",
    "test_acc = []\n",
    "\n",
    "for i in range(1,15):\n",
    "    print(i)\n",
    "    trainX_S_use = trainX_transformed[:,:i]\n",
    "    testX_S_use = testX_transformed[:,:i]\n",
    "    \n",
    "    trainX_use = trainX_S_use[values,:]\n",
    "    trainY_use = trainY[values,:]\n",
    "    trainY_comp_use = trainY_comp[values]\n",
    "\n",
    "    \n",
    "\n",
    "    model = Sequential()\n",
    "    model.add(Dense(250, input_dim=i, kernel_initializer='normal', activation='relu'))\n",
    "    model.add(Dense(36, kernel_initializer='normal', activation='softmax'))\n",
    "    model.compile(loss='categorical_crossentropy', optimizer='adam', metrics=['accuracy'])\n",
    "    # checkpoint\n",
    "    filepath=\"weights.best_leaf.h5\"\n",
    "    checkpoint = ModelCheckpoint(filepath, monitor='val_acc', verbose=0, save_best_only=True, mode='max')\n",
    "    callbacks_list = [checkpoint, TestCallback((testX_S_use,testY)),CSVLogger('1.log')]\n",
    "    hist = model.fit(trainX_use[:-82,:],trainY_use[:-82,:], validation_data=(trainX_use[-82:,:],trainY_use[-82:,:]), nb_epoch=2500, batch_size=40,verbose=0,callbacks=callbacks_list)\n",
    "    \n",
    "    model1 = Sequential()\n",
    "    model1.add(Dense(250, input_dim=i, kernel_initializer='normal', activation='relu'))\n",
    "    model1.add(Dense(36, kernel_initializer='normal', activation='softmax'))\n",
    "    model1.compile(loss='categorical_crossentropy', optimizer='adam', metrics=['accuracy'])\n",
    "    model1.load_weights(\"weights.best_leaf.h5\")\n",
    "\n",
    "\n",
    "    train_pred = convert_out(model1.predict(trainX_use[:-82,:]))\n",
    "    train_act = trainY_comp_use[:-82]\n",
    "    train_acc.append((1-Pred_correct(train_pred,train_act)))\n",
    "\n",
    "    val_pred = convert_out(model1.predict(trainX_use[-82:,:]))\n",
    "    val_act = trainY_comp_use[-82:]\n",
    "    val_acc.append((1-Pred_correct(val_pred,val_act)))\n",
    "\n",
    "    test_pred = convert_out(model1.predict(testX_S_use))\n",
    "    test_acc.append((1-Pred_correct(test_pred,testY_comp)))\n"
   ]
  },
  {
   "cell_type": "code",
   "execution_count": 74,
   "metadata": {},
   "outputs": [
    {
     "data": {
      "image/png": "[encoded data removed]",
      "text/plain": [
       "<matplotlib.figure.Figure at 0x3888b128>"
      ]
     },
     "metadata": {},
     "output_type": "display_data"
    },
    {
     "name": "stdout",
     "output_type": "stream",
     "text": [
      "            0          1          2\n",
      "0   73.684211  82.926829  82.352941\n",
      "1   57.368421  58.536585  58.823529\n",
      "2    0.526316  42.682927  45.588235\n",
      "3   11.578947  34.146341  38.235294\n",
      "4    3.684211  29.268293  27.941176\n",
      "5    0.000000  28.048780  25.000000\n",
      "6    7.894737  23.170732  27.941176\n",
      "7    0.000000  21.951220  22.058824\n",
      "8    0.000000  21.951220  20.588235\n",
      "9    0.000000  18.292683  20.588235\n",
      "10   0.000000  14.634146  22.058824\n",
      "11   0.000000  13.414634  20.588235\n",
      "12   0.000000  15.853659  17.647059\n",
      "13   0.000000  17.073171  17.647059\n"
     ]
    }
   ],
   "source": [
    "fig = plt.figure()\n",
    "ax = fig.gca()\n",
    "ax.set_yticks(np.arange(0, 100, 10))\n",
    "ax.set_xticks(np.arange(1,len(train_acc)+1))\n",
    "\n",
    "plt.scatter(np.arange(1,len(train_acc)+1),np.array(train_acc)*100,label='Training Set Accuracy')\n",
    "plt.scatter(np.arange(1,len(train_acc)+1),np.array(val_acc)*100,label='Validation Set Accuracy')\n",
    "plt.scatter(np.arange(1,len(train_acc)+1),np.array(test_acc)*100,label='Testing Set Accuracy')\n",
    "plt.xlabel('Number of Components')\n",
    "plt.ylabel('Misclassification Error (%)')\n",
    "plt.legend()\n",
    "plt.grid(True)\n",
    "plt.show()\n",
    "\n",
    "results = pd.DataFrame(data = np.transpose([np.array(train_acc)*100,np.array(val_acc)*100,np.array(test_acc)*100]))\n",
    "print(results)"
   ]
  },
  {
   "cell_type": "markdown",
   "metadata": {},
   "source": [
    "# PCA + NN"
   ]
  },
  {
   "cell_type": "code",
   "execution_count": 75,
   "metadata": {},
   "outputs": [
    {
     "name": "stderr",
     "output_type": "stream",
     "text": [
      "C:\\Users\\Manik.Rajora\\AppData\\Local\\Continuum\\anaconda2\\envs\\Py36\\lib\\site-packages\\ipykernel_launcher.py:27: UserWarning: The `nb_epoch` argument in `fit` has been renamed `epochs`.\n"
     ]
    },
    {
     "data": {
      "image/png": "[encoded data removed]",
      "text/plain": [
       "<matplotlib.figure.Figure at 0x36ed5080>"
      ]
     },
     "metadata": {},
     "output_type": "display_data"
    },
    {
     "name": "stdout",
     "output_type": "stream",
     "text": [
      "Training Set Misclassification Error is [0.0625]\n",
      "Testing Set Misclassification Error is [0.20588235294117652]\n"
     ]
    }
   ],
   "source": [
    "class TestCallback(Callback):\n",
    "    def __init__(self, test_data):\n",
    "        self.test_data = test_data\n",
    "    def on_epoch_end(self, epoch, logs):\n",
    "        x, y = self.test_data\n",
    "        loss, acc = self.model.evaluate(x, y, verbose=0)\n",
    "        logs['test_acc'] = acc\n",
    "\n",
    "\n",
    "    \n",
    "train_all = []\n",
    "test_all = []\n",
    "\n",
    "#values = random.sample(list(np.arange(0,len(trainX_S),1)),len(trainX_S))\n",
    "\n",
    "trainX_use = trainX_S[values,:]\n",
    "trainY_use = trainY[values,:]\n",
    "\n",
    "model = Sequential()\n",
    "model.add(Dense(250, input_dim=14, kernel_initializer='normal', activation='relu'))\n",
    "model.add(Dense(36, kernel_initializer='normal', activation='softmax'))\n",
    "model.compile(loss='categorical_crossentropy', optimizer='adam', metrics=['accuracy'])\n",
    "# checkpoint\n",
    "filepath=\"weights.best_leaf.h5\"\n",
    "checkpoint = ModelCheckpoint(filepath, monitor='val_acc', verbose=0, save_best_only=True, mode='max')\n",
    "callbacks_list = [checkpoint, TestCallback((testX_S,testY)),CSVLogger('1.log')]\n",
    "hist = model.fit(trainX_use[:-82,:],trainY_use[:-82,:], validation_data=(trainX_use[-82:,:],trainY_use[-82:,:]), nb_epoch=2500, batch_size=40,verbose=0,callbacks=callbacks_list)\n",
    "plt.plot(100*np.array(1-np.array(hist.history['acc'])),'g')\n",
    "plt.plot(100*np.array(1-np.array(hist.history['val_acc'])),'b')\n",
    "plt.plot(100*np.array(1-np.array(hist.history['test_acc'])),'r')\n",
    "plt.title('Neural Network Misclassification Error for Leaf Data Set')\n",
    "plt.ylabel('Misclassification Error (%)')\n",
    "plt.xlabel('Epoch')\n",
    "plt.legend(['Training Set', 'Validation Set', 'Testing Set'])\n",
    "plt.ylim([0,100])\n",
    "plt.show()\n",
    "\n",
    "train_pred_NN = convert_out(model.predict(trainX_use))\n",
    "train_all.append(1-Pred_correct(train_pred_NN,trainY_comp_use))\n",
    "\n",
    "test_pred_NN = convert_out(model.predict(testX_S))\n",
    "test_all.append(1-Pred_correct(test_pred_NN,testY_comp))\n",
    "\n",
    "print('Training Set Misclassification Error is', train_all)\n",
    "print('Testing Set Misclassification Error is', test_all)    \n",
    "                            "
   ]
  },
  {
   "cell_type": "code",
   "execution_count": 77,
   "metadata": {},
   "outputs": [
    {
     "name": "stdout",
     "output_type": "stream",
     "text": [
      "           0\n",
      "0   0.000000\n",
      "1  20.731707\n",
      "2  20.588235\n"
     ]
    }
   ],
   "source": [
    "model1 = Sequential()\n",
    "model1.add(Dense(250, input_dim=14, kernel_initializer='normal', activation='relu'))\n",
    "model1.add(Dense(36, kernel_initializer='normal', activation='softmax'))\n",
    "model1.compile(loss='categorical_crossentropy', optimizer='adam', metrics=['accuracy'])\n",
    "model1.load_weights(\"weights.best_leaf.h5\")\n",
    "\n",
    "\n",
    "\n",
    "train_pred = convert_out(model1.predict(trainX_use[:-82]))\n",
    "train_act = trainY_comp_use[:-82]\n",
    "train_acc_1= (1-Pred_correct(train_pred,train_act))\n",
    "\n",
    "val_pred = convert_out(model1.predict(trainX_use[-82:]))\n",
    "val_act = trainY_comp_use[-82:]\n",
    "val_acc_1 = (1-Pred_correct(val_pred,val_act))\n",
    "\n",
    "test_pred = convert_out(model1.predict(testX_S))\n",
    "test_acc_1 = (1-Pred_correct(test_pred,testY_comp))\n",
    "\n",
    "results1 = pd.DataFrame(data = np.transpose([np.array(train_acc_1)*100,np.array(val_acc_1)*100,np.array(test_acc_1)*100]))\n",
    "print(results1)\n"
   ]
  },
  {
   "cell_type": "markdown",
   "metadata": {},
   "source": [
    "# Random Projections"
   ]
  },
  {
   "cell_type": "code",
   "execution_count": null,
   "metadata": {},
   "outputs": [],
   "source": [
    "class TestCallback(Callback):\n",
    "    def __init__(self, test_data):\n",
    "        self.test_data = test_data\n",
    "    def on_epoch_end(self, epoch, logs):\n",
    "        x, y = self.test_data\n",
    "        loss, acc = self.model.evaluate(x, y, verbose=0)\n",
    "        logs['test_acc'] = acc\n",
    "\n",
    "comp_to_check = 14\n",
    "rp_sp = np.zeros((comp_to_check-2,2))\n",
    "\n",
    "train_all = []\n",
    "test_all = []\n",
    "train_acc_rp = []\n",
    "val_acc_rp = []\n",
    "test_acc_rp = []\n",
    "\n",
    "\n",
    "for i in range(2,comp_to_check+1):\n",
    "    print(i)\n",
    "    proj = GaussianRandomProjection(n_components=i)\n",
    "    rp1 = proj.fit(trainX_S)\n",
    "    rp_ = proj.transform(trainX_S)\n",
    "    \n",
    "    trainX_transformed = proj.transform(trainX_S)\n",
    "    testX_transformed = proj.transform(testX_S)\n",
    "    \n",
    "    randMat = proj.components_\n",
    "    X_Proj = rp_.dot(randMat)\n",
    "    rp_sp[i-2,:] = [i,((X_Proj - trainX_scaled)**2).mean()]\n",
    "\n",
    "    trainX_S_use = trainX_transformed[:,:i]\n",
    "    testX_S_use = testX_transformed[:,:i]\n",
    "    \n",
    "    trainX_use = trainX_S_use[values,:]\n",
    "    trainY_use = trainY[values,:]\n",
    "    trainY_comp_use = trainY_comp[values]\n",
    "\n",
    "    \n",
    "\n",
    "    model = Sequential()\n",
    "    model.add(Dense(250, input_dim=i, kernel_initializer='normal', activation='relu'))\n",
    "    model.add(Dense(36, kernel_initializer='normal', activation='softmax'))\n",
    "    model.compile(loss='categorical_crossentropy', optimizer='adam', metrics=['accuracy'])\n",
    "    # checkpoint\n",
    "    filepath=\"weights.best_leaf.h5\"\n",
    "    checkpoint = ModelCheckpoint(filepath, monitor='val_acc', verbose=0, save_best_only=True, mode='max')\n",
    "    callbacks_list = [checkpoint, TestCallback((testX_S_use,testY)),CSVLogger('1.log')]\n",
    "    hist = model.fit(trainX_use[:-82,:],trainY_use[:-82,:], validation_data=(trainX_use[-82:,:],trainY_use[-82:,:]), nb_epoch=2500, batch_size=40,verbose=0,callbacks=callbacks_list)\n",
    "    \n",
    "    model1 = Sequential()\n",
    "    model1.add(Dense(250, input_dim=i, kernel_initializer='normal', activation='relu'))\n",
    "    model1.add(Dense(36, kernel_initializer='normal', activation='softmax'))\n",
    "    model1.compile(loss='categorical_crossentropy', optimizer='adam', metrics=['accuracy'])\n",
    "    model1.load_weights(\"weights.best_leaf.h5\")\n",
    "\n",
    "\n",
    "    train_pred = convert_out(model1.predict(trainX_use[:-82,:]))\n",
    "    train_act = trainY_comp_use[:-82]\n",
    "    train_acc_rp.append((1-Pred_correct(train_pred,train_act)))\n",
    "\n",
    "    val_pred = convert_out(model1.predict(trainX_use[-82:,:]))\n",
    "    val_act = trainY_comp_use[-82:]\n",
    "    val_acc_rp.append((1-Pred_correct(val_pred,val_act)))\n",
    "\n",
    "    test_pred = convert_out(model1.predict(testX_S_use))\n",
    "    test_acc_rp.append((1-Pred_correct(test_pred,testY_comp)))"
   ]
  },
  {
   "cell_type": "code",
   "execution_count": 85,
   "metadata": {},
   "outputs": [
    {
     "data": {
      "image/png": "[encoded data removed]",
      "text/plain": [
       "<matplotlib.figure.Figure at 0x410cd390>"
      ]
     },
     "metadata": {},
     "output_type": "display_data"
    },
    {
     "name": "stdout",
     "output_type": "stream",
     "text": [
      "            0          1          2\n",
      "0   45.789474  67.073171  61.764706\n",
      "1   25.263158  41.463415  52.941176\n",
      "2    2.631579  32.926829  38.235294\n",
      "3   15.789474  30.487805  45.588235\n",
      "4    2.105263  28.048780  32.352941\n",
      "5   12.105263  23.170732  27.941176\n",
      "6    0.000000  26.829268  29.411765\n",
      "7    0.000000  26.829268  25.000000\n",
      "8    0.526316  23.170732  29.411765\n",
      "9    7.894737  24.390244  26.470588\n",
      "10   8.947368  23.170732  29.411765\n",
      "11   1.052632  23.170732  30.882353\n"
     ]
    },
    {
     "data": {
      "image/png": "[encoded data removed]",
      "text/plain": [
       "<matplotlib.figure.Figure at 0x4109aac8>"
      ]
     },
     "metadata": {},
     "output_type": "display_data"
    }
   ],
   "source": [
    "fig = plt.figure()\n",
    "ax = fig.gca()\n",
    "ax.set_yticks(np.arange(0, 100, 10))\n",
    "ax.set_xticks(np.arange(1,len(train_acc)+1))\n",
    "\n",
    "plt.scatter(np.arange(1,len(train_acc_rp)+1),np.array(train_acc_rp)*100,label='Training Set Accuracy')\n",
    "plt.scatter(np.arange(1,len(train_acc_rp)+1),np.array(val_acc_rp)*100,label='Validation Set Accuracy')\n",
    "plt.scatter(np.arange(1,len(train_acc_rp)+1),np.array(test_acc_rp)*100,label='Testing Set Accuracy')\n",
    "plt.xlabel('Number of Components')\n",
    "plt.ylabel('Misclassification Error (%)')\n",
    "plt.legend()\n",
    "plt.grid(True)\n",
    "plt.show()\n",
    "\n",
    "results = pd.DataFrame(data = np.transpose([np.array(train_acc_rp)*100,np.array(val_acc_rp)*100,np.array(test_acc_rp)*100]))\n",
    "print(results)\n",
    "\n",
    "plt.scatter(rp_sp[:,0],rp_sp[:,1])\n",
    "plt.xlabel('Number of Components')\n",
    "plt.ylabel('Reconstruction MSE')\n",
    "plt.show()"
   ]
  }
 ],
 "metadata": {
  "kernelspec": {
   "display_name": "Python 3",
   "language": "python",
   "name": "python3"
  },
  "language_info": {
   "codemirror_mode": {
    "name": "ipython",
    "version": 3
   },
   "file_extension": ".py",
   "mimetype": "text/x-python",
   "name": "python",
   "nbconvert_exporter": "python",
   "pygments_lexer": "ipython3",
   "version": "3.6.5"
  }
 },
 "nbformat": 4,
 "nbformat_minor": 2
}
