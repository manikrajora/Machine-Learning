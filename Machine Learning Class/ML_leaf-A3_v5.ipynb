{
 "cells": [
  {
   "cell_type": "markdown",
   "metadata": {},
   "source": [
    "# Imports"
   ]
  },
  {
   "cell_type": "code",
   "execution_count": 1,
   "metadata": {},
   "outputs": [
    {
     "name": "stderr",
     "output_type": "stream",
     "text": [
      "Using TensorFlow backend.\n"
     ]
    }
   ],
   "source": [
    "import pandas as pd\n",
    "import numpy as np\n",
    "import matplotlib.pyplot as plt\n",
    "import logging \n",
    "import csv\n",
    "from sklearn import mixture\n",
    "import itertools\n",
    "from scipy import linalg\n",
    "import matplotlib as mpl\n",
    "\n",
    "from keras.models import Sequential\n",
    "from keras.layers import Dense, Activation, Flatten\n",
    "from keras.optimizers import *\n",
    "from keras.wrappers.scikit_learn import KerasClassifier\n",
    "import keras\n",
    "\n",
    "import random\n",
    "import math\n",
    "from sklearn import tree, preprocessing\n",
    "from sklearn.neighbors import KNeighborsClassifier, DistanceMetric\n",
    "from sklearn.model_selection import cross_val_score, GridSearchCV, cross_validate, train_test_split\n",
    "from sklearn.ensemble import AdaBoostClassifier\n",
    "from keras.callbacks import EarlyStopping, ModelCheckpoint, Callback, CSVLogger\n",
    "from sklearn.metrics import accuracy_score, silhouette_score\n",
    "from sklearn.tree import DecisionTreeClassifier\n",
    "from sklearn.model_selection import StratifiedKFold\n",
    "from sklearn.svm import SVC\n",
    "from sklearn.cluster import KMeans\n",
    "from sklearn.mixture import GaussianMixture\n",
    "from sklearn.model_selection import KFold\n",
    "from sklearn.preprocessing import StandardScaler, OneHotEncoder\n",
    "from sklearn.decomposition import FastICA, PCA\n",
    "from scipy.stats import kurtosis, skew\n",
    "from sklearn.random_projection import SparseRandomProjection, GaussianRandomProjection\n",
    "from sklearn.discriminant_analysis import LinearDiscriminantAnalysis\n",
    "\n",
    "import timeit\n",
    "\n",
    "#from imblearn.over_sampling import RandomOverSampler"
   ]
  },
  {
   "cell_type": "markdown",
   "metadata": {},
   "source": [
    "# Functions"
   ]
  },
  {
   "cell_type": "code",
   "execution_count": 2,
   "metadata": {},
   "outputs": [],
   "source": [
    "def MAPE(pred,act):\n",
    "    return np.mean(np.abs(pred-act)/act)*100\n",
    "\n",
    "def Pred_correct(pred,act):\n",
    "    correct = np.abs(pred-act)\n",
    "    return len(correct[correct==0])/len(act)\n",
    "\n",
    "def convert_out(data):\n",
    "    output = []\n",
    "    for i in range(np.shape(data)[0]):\n",
    "        loc = np.where(data[i,]==max(data[i,]))[0]\n",
    "        output.append(loc[0]+1)\n",
    "    return(output)\n",
    "\n",
    "def create_model_nn(neurons=1,optimizer='adam'):\n",
    "# create model\n",
    "    model = Sequential()\n",
    "    model.add(Dense(neurons, input_dim=14, kernel_initializer='normal', activation='relu'))\n",
    "    model.add(Dense(36, kernel_initializer='normal', activation='softmax'))\n",
    "    # Compile model\n",
    "    model.compile(loss='categorical_crossentropy', optimizer=optimizer, metrics=['accuracy'])\n",
    "    return model\n",
    "\n",
    "def create_model_tree():\n",
    "    dtree = tree.DecisionTreeClassifier(criterion = \"entropy\", splitter = 'best', max_leaf_nodes = 90, min_samples_leaf = 1, max_depth=3)\n",
    "\n",
    "class TestCallback(Callback):\n",
    "    def __init__(self, test_data):\n",
    "        self.test_data = test_data\n",
    "    def on_epoch_end(self, epoch, logs):\n",
    "        x, y = self.test_data\n",
    "        loss, acc = self.model.evaluate(x, y, verbose=0)\n",
    "        logs['test_acc'] = acc\n",
    "\n",
    "\n",
    " "
   ]
  },
  {
   "cell_type": "markdown",
   "metadata": {},
   "source": [
    "# Preprocessing data"
   ]
  },
  {
   "cell_type": "code",
   "execution_count": 3,
   "metadata": {},
   "outputs": [],
   "source": [
    "data = pd.read_csv('leaf.csv', header=None)\n",
    "data.drop([1],inplace=True,axis=1)\n",
    "X = data.values[:,1:]\n",
    "Y_first = data.values[:,0]\n",
    "Y = []\n",
    "out = np.zeros(shape=[36])\n",
    "for i in range(np.shape(Y_first)[0]):\n",
    "    out[int(Y_first[i])-1]=1\n",
    "    Y.append(out)\n",
    "    out = np.zeros(shape=[36])\n",
    "Y = np.array(Y)\n",
    "min_max_scaler = preprocessing.MinMaxScaler()\n",
    "X_scaled = min_max_scaler.fit_transform(X)\n",
    "df_normalized = pd.DataFrame(X_scaled)\n",
    "\n",
    "r,c = np.shape(df_normalized)\n",
    "\n",
    "total_samples = list(np.arange(0,r,1))\n",
    "test_samples = random.sample(total_samples,int(np.round(len(total_samples)*0.2)))\n",
    "train_samples = list(set(total_samples) - set(test_samples))"
   ]
  },
  {
   "cell_type": "markdown",
   "metadata": {},
   "source": [
    "# Splitting data"
   ]
  },
  {
   "cell_type": "code",
   "execution_count": 4,
   "metadata": {},
   "outputs": [],
   "source": [
    "trainX = X[train_samples]\n",
    "trainY = Y[train_samples]\n",
    "trainY_comp = Y_first[train_samples]\n",
    "trainX_scaled = X_scaled[train_samples]\n",
    "\n",
    "testX = X[test_samples]\n",
    "testY = Y[test_samples]\n",
    "testY_comp = Y_first[test_samples]\n",
    "testX_scaled = X_scaled[train_samples]\n",
    "\n",
    "scalar = StandardScaler()\n",
    "trainX_S = scalar.fit_transform(trainX)\n",
    "testX_S = scalar.transform(testX)\n",
    "\n",
    "values = random.sample(list(np.arange(0,len(trainX_S),1)),len(trainX_S))"
   ]
  },
  {
   "cell_type": "markdown",
   "metadata": {},
   "source": [
    "# NN"
   ]
  },
  {
   "cell_type": "code",
   "execution_count": 5,
   "metadata": {},
   "outputs": [
    {
     "data": {
      "image/png": "[encoded data removed]",
      "text/plain": [
       "<matplotlib.figure.Figure at 0xf23d438>"
      ]
     },
     "metadata": {},
     "output_type": "display_data"
    },
    {
     "name": "stdout",
     "output_type": "stream",
     "text": [
      "Training Set Misclassification Error is [0.11029411764705888]\n",
      "Testing Set Misclassification Error is [0.27941176470588236]\n",
      "           0\n",
      "0   0.526316\n",
      "1  30.487805\n",
      "2  23.529412\n"
     ]
    }
   ],
   "source": [
    "   \n",
    "train_all = []\n",
    "test_all = []\n",
    "\n",
    "trainX_use = trainX_S[values,:]\n",
    "trainY_use = trainY[values,:]\n",
    "trainY_comp_use = trainY_comp[values]\n",
    "\n",
    "model = Sequential()\n",
    "model.add(Dense(250, input_dim=14, kernel_initializer='normal', activation='relu'))\n",
    "model.add(Dense(36, kernel_initializer='normal', activation='softmax'))\n",
    "model.compile(loss='categorical_crossentropy', optimizer='adam', metrics=['accuracy'])\n",
    "# checkpoint\n",
    "filepath=\"weights.best_leaf.h5\"\n",
    "checkpoint = ModelCheckpoint(filepath, monitor='val_acc', verbose=0, save_best_only=True, mode='max')\n",
    "callbacks_list = [checkpoint, TestCallback((testX_S,testY)),CSVLogger('1.log')]\n",
    "hist = model.fit(trainX_use[:-82,:],trainY_use[:-82,:], validation_data=(trainX_use[-82:,:],trainY_use[-82:,:]), epochs=5000, batch_size=40,verbose=0,callbacks=callbacks_list)\n",
    "plt.plot(100*np.array(1-np.array(hist.history['acc'])),'g')\n",
    "plt.plot(100*np.array(1-np.array(hist.history['val_acc'])),'b')\n",
    "plt.plot(100*np.array(1-np.array(hist.history['test_acc'])),'r')\n",
    "plt.title('Neural Network Misclassification Error for Leaf Data Set')\n",
    "plt.ylabel('Misclassification Error (%)')\n",
    "plt.xlabel('Epoch')\n",
    "plt.legend(['Training Set', 'Validation Set', 'Testing Set'])\n",
    "plt.ylim([0,100])\n",
    "plt.show()\n",
    "\n",
    "train_pred_NN = convert_out(model.predict(trainX_use))\n",
    "train_all.append(1-Pred_correct(train_pred_NN,trainY_comp_use))\n",
    "\n",
    "test_pred_NN = convert_out(model.predict(testX_S))\n",
    "test_all.append(1-Pred_correct(test_pred_NN,testY_comp))\n",
    "\n",
    "print('Training Set Misclassification Error is', train_all)\n",
    "print('Testing Set Misclassification Error is', test_all)    \n",
    "\n",
    "model1 = Sequential()\n",
    "model1.add(Dense(250, input_dim=14, kernel_initializer='normal', activation='relu'))\n",
    "model1.add(Dense(36, kernel_initializer='normal', activation='softmax'))\n",
    "model1.compile(loss='categorical_crossentropy', optimizer='adam', metrics=['accuracy'])\n",
    "model1.load_weights(\"weights.best_leaf.h5\")\n",
    "\n",
    "\n",
    "\n",
    "train_pred = convert_out(model1.predict(trainX_use[:-82]))\n",
    "train_act = trainY_comp_use[:-82]\n",
    "train_acc_1= (1-Pred_correct(train_pred,train_act))\n",
    "\n",
    "val_pred = convert_out(model1.predict(trainX_use[-82:]))\n",
    "val_act = trainY_comp_use[-82:]\n",
    "val_acc_1 = (1-Pred_correct(val_pred,val_act))\n",
    "\n",
    "test_pred = convert_out(model1.predict(testX_S))\n",
    "test_acc_1 = (1-Pred_correct(test_pred,testY_comp))\n",
    "\n",
    "results1 = pd.DataFrame(data = np.transpose([np.array(train_acc_1)*100,np.array(val_acc_1)*100,np.array(test_acc_1)*100]))\n",
    "print(results1)"
   ]
  },
  {
   "cell_type": "markdown",
   "metadata": {},
   "source": [
    "# KMeans"
   ]
  },
  {
   "cell_type": "code",
   "execution_count": 6,
   "metadata": {},
   "outputs": [
    {
     "ename": "IndexError",
     "evalue": "index 272 is out of bounds for axis 1 with size 272",
     "output_type": "error",
     "traceback": [
      "\u001b[1;31m---------------------------------------------------------------------------\u001b[0m",
      "\u001b[1;31mIndexError\u001b[0m                                Traceback (most recent call last)",
      "\u001b[1;32m<ipython-input-6-cdca5bb8e79f>\u001b[0m in \u001b[0;36m<module>\u001b[1;34m()\u001b[0m\n\u001b[0;32m      9\u001b[0m     \u001b[0midx\u001b[0m \u001b[1;33m=\u001b[0m \u001b[0mnp\u001b[0m\u001b[1;33m.\u001b[0m\u001b[0mwhere\u001b[0m\u001b[1;33m(\u001b[0m\u001b[0mY_first\u001b[0m\u001b[1;33m==\u001b[0m\u001b[0munique_Y\u001b[0m\u001b[1;33m[\u001b[0m\u001b[0mi\u001b[0m\u001b[1;33m]\u001b[0m\u001b[1;33m)\u001b[0m\u001b[1;33m[\u001b[0m\u001b[1;36m0\u001b[0m\u001b[1;33m]\u001b[0m\u001b[1;33m\u001b[0m\u001b[0m\n\u001b[0;32m     10\u001b[0m     \u001b[0mc_size\u001b[0m\u001b[1;33m[\u001b[0m\u001b[1;36m0\u001b[0m\u001b[1;33m,\u001b[0m\u001b[0mi\u001b[0m\u001b[1;33m]\u001b[0m \u001b[1;33m=\u001b[0m \u001b[0mlen\u001b[0m\u001b[1;33m(\u001b[0m\u001b[0mY_first\u001b[0m\u001b[1;33m[\u001b[0m\u001b[0mY_first\u001b[0m\u001b[1;33m==\u001b[0m\u001b[0munique_Y\u001b[0m\u001b[1;33m[\u001b[0m\u001b[0mi\u001b[0m\u001b[1;33m]\u001b[0m\u001b[1;33m]\u001b[0m\u001b[1;33m)\u001b[0m\u001b[1;33m\u001b[0m\u001b[0m\n\u001b[1;32m---> 11\u001b[1;33m     \u001b[0mnew_clusters\u001b[0m \u001b[1;33m=\u001b[0m \u001b[0mnew_labels\u001b[0m\u001b[1;33m[\u001b[0m\u001b[0midx\u001b[0m\u001b[1;33m]\u001b[0m\u001b[1;33m\u001b[0m\u001b[0m\n\u001b[0m\u001b[0;32m     12\u001b[0m     \u001b[0munique_list\u001b[0m \u001b[1;33m=\u001b[0m \u001b[1;33m(\u001b[0m\u001b[0mlist\u001b[0m\u001b[1;33m(\u001b[0m\u001b[0mset\u001b[0m\u001b[1;33m(\u001b[0m\u001b[0mnew_clusters\u001b[0m\u001b[1;33m)\u001b[0m\u001b[1;33m)\u001b[0m\u001b[1;33m)\u001b[0m\u001b[1;33m\u001b[0m\u001b[0m\n\u001b[0;32m     13\u001b[0m     \u001b[0mnc_occ\u001b[0m \u001b[1;33m=\u001b[0m \u001b[1;33m[\u001b[0m\u001b[0mlen\u001b[0m\u001b[1;33m(\u001b[0m\u001b[0mnp\u001b[0m\u001b[1;33m.\u001b[0m\u001b[0mwhere\u001b[0m\u001b[1;33m(\u001b[0m\u001b[0mnew_clusters\u001b[0m\u001b[1;33m==\u001b[0m\u001b[0munique_list\u001b[0m\u001b[1;33m[\u001b[0m\u001b[0mk\u001b[0m\u001b[1;33m]\u001b[0m\u001b[1;33m)\u001b[0m\u001b[1;33m[\u001b[0m\u001b[1;36m0\u001b[0m\u001b[1;33m]\u001b[0m\u001b[1;33m)\u001b[0m \u001b[1;32mfor\u001b[0m \u001b[0mk\u001b[0m \u001b[1;32min\u001b[0m \u001b[0mrange\u001b[0m\u001b[1;33m(\u001b[0m\u001b[0mlen\u001b[0m\u001b[1;33m(\u001b[0m\u001b[0munique_list\u001b[0m\u001b[1;33m)\u001b[0m\u001b[1;33m)\u001b[0m\u001b[1;33m]\u001b[0m\u001b[1;33m\u001b[0m\u001b[0m\n",
      "\u001b[1;31mIndexError\u001b[0m: index 272 is out of bounds for axis 1 with size 272"
     ]
    }
   ],
   "source": [
    "unique_Y = (list(set(Y_first)))\n",
    "\n",
    "\n",
    "kmeans = KMeans(n_clusters=len(unique_Y),random_state=1).fit(trainX_scaled)\n",
    "new_labels = kmeans.labels_\n",
    "\n",
    "c_size = np.zeros((2,len(unique_Y)))\n",
    "for i in range(len(unique_Y)):\n",
    "    idx = np.where(Y_first==unique_Y[i])[0]\n",
    "    c_size[0,i] = len(Y_first[Y_first==unique_Y[i]])\n",
    "    new_clusters = new_labels[idx]\n",
    "    unique_list = (list(set(new_clusters)))\n",
    "    nc_occ = [len(np.where(new_clusters==unique_list[k])[0]) for k in range(len(unique_list))]\n",
    "    max_num = unique_list[np.where(nc_occ==np.max(nc_occ))[0][0]]\n",
    "    c_size[1,i] = len(np.where(new_clusters==max_num)[0])\n",
    "print(c_size)\n",
    "print(np.sum(c_size,1))\n",
    "avg = c_size[1,:]/c_size[0,:]\n",
    "np.mean(avg)"
   ]
  },
  {
   "cell_type": "markdown",
   "metadata": {},
   "source": [
    "# K means elbow method"
   ]
  },
  {
   "cell_type": "code",
   "execution_count": 7,
   "metadata": {},
   "outputs": [
    {
     "name": "stderr",
     "output_type": "stream",
     "text": [
      "No handles with labels found to put in legend.\n"
     ]
    },
    {
     "data": {
      "image/png": "[encoded data removed]",
      "text/plain": [
       "<matplotlib.figure.Figure at 0x10b05940>"
      ]
     },
     "metadata": {},
     "output_type": "display_data"
    }
   ],
   "source": [
    "sse = {}\n",
    "for k in range(1, 20):\n",
    "    kmeans = KMeans(n_clusters=k,random_state=1).fit(trainX)\n",
    "    #print(data[\"clusters\"])\n",
    "    sse[k] = kmeans.inertia_ # Inertia: Sum of distances of samples to their closest cluster center\n",
    "plt.figure()\n",
    "plt.plot(list(sse.keys()), list(sse.values()),'o')\n",
    "plt.xlabel(\"Number of cluster\")\n",
    "plt.ylabel(\"SSE\")\n",
    "plt.xticks(list(sse.keys()))\n",
    "plt.legend()\n",
    "plt.show()"
   ]
  },
  {
   "cell_type": "code",
   "execution_count": 1,
   "metadata": {},
   "outputs": [
    {
     "ename": "NameError",
     "evalue": "name 'KMeans' is not defined",
     "output_type": "error",
     "traceback": [
      "\u001b[1;31m---------------------------------------------------------------------------\u001b[0m",
      "\u001b[1;31mNameError\u001b[0m                                 Traceback (most recent call last)",
      "\u001b[1;32m<ipython-input-1-b691a18eca3e>\u001b[0m in \u001b[0;36m<module>\u001b[1;34m()\u001b[0m\n\u001b[1;32m----> 1\u001b[1;33m \u001b[0mkmeans\u001b[0m \u001b[1;33m=\u001b[0m \u001b[0mKMeans\u001b[0m\u001b[1;33m(\u001b[0m\u001b[0mn_clusters\u001b[0m\u001b[1;33m=\u001b[0m\u001b[1;36m2\u001b[0m\u001b[1;33m,\u001b[0m\u001b[0mrandom_state\u001b[0m\u001b[1;33m=\u001b[0m\u001b[1;36m1\u001b[0m\u001b[1;33m)\u001b[0m\u001b[1;33m.\u001b[0m\u001b[0mfit\u001b[0m\u001b[1;33m(\u001b[0m\u001b[0mtrainX_scaled\u001b[0m\u001b[1;33m)\u001b[0m\u001b[1;33m\u001b[0m\u001b[0m\n\u001b[0m\u001b[0;32m      2\u001b[0m \u001b[0mlabels\u001b[0m \u001b[1;33m=\u001b[0m  \u001b[0mkmeans\u001b[0m\u001b[1;33m.\u001b[0m\u001b[0mpredict\u001b[0m\u001b[1;33m(\u001b[0m\u001b[0mtrainX_scaled\u001b[0m\u001b[1;33m)\u001b[0m\u001b[1;33m\u001b[0m\u001b[0m\n\u001b[0;32m      3\u001b[0m \u001b[0mres\u001b[0m\u001b[1;33m=\u001b[0m\u001b[0mkmeans\u001b[0m\u001b[1;33m.\u001b[0m\u001b[0m__dict__\u001b[0m\u001b[1;33m\u001b[0m\u001b[0m\n\u001b[0;32m      4\u001b[0m plt.scatter(trainX_scaled[:, 2],trainX_scaled[:, 4], trainX_scaled[:, 5], c=labels,\n\u001b[0;32m      5\u001b[0m              cmap='viridis');\n",
      "\u001b[1;31mNameError\u001b[0m: name 'KMeans' is not defined"
     ]
    }
   ],
   "source": [
    "kmeans = KMeans(n_clusters=2,random_state=1).fit(trainX_scaled)\n",
    "labels =  kmeans.predict(trainX_scaled)\n",
    "res=kmeans.__dict__\n",
    "plt.scatter(trainX_scaled[:, 2], trainX_scaled[:, 5], c=labels,\n",
    "             cmap='viridis');\n",
    "\n"
   ]
  },
  {
   "cell_type": "code",
   "execution_count": 9,
   "metadata": {},
   "outputs": [
    {
     "data": {
      "image/png": "[encoded data removed]",
      "text/plain": [
       "<matplotlib.figure.Figure at 0x54a9c88>"
      ]
     },
     "metadata": {},
     "output_type": "display_data"
    }
   ],
   "source": [
    "xplot = np.zeros((2,14))\n",
    "xplot[:,:] = np.arange(0,14,1)\n",
    "c=['red','green','blue']\n",
    "l=['Cluster 1', 'Cluster 2', 'Cluster 3']\n",
    "for i in range(np.shape(res['cluster_centers_'])[0]):\n",
    "    plt.scatter(xplot[i,:],np.transpose(res['cluster_centers_'][i,:]),color = c[i],label=l[i])\n",
    "    \n",
    "plt.xticks(np.arange(0,14,1))\n",
    "plt.xlabel('Feature Number')\n",
    "plt.ylabel('Mean Value')\n",
    "plt.legend()\n",
    "plt.show()"
   ]
  },
  {
   "cell_type": "code",
   "execution_count": 10,
   "metadata": {},
   "outputs": [
    {
     "data": {
      "image/png": "[encoded data removed]",
      "text/plain": [
       "<matplotlib.figure.Figure at 0x5502908>"
      ]
     },
     "metadata": {},
     "output_type": "display_data"
    }
   ],
   "source": [
    "idx_zero = np.where(kmeans.labels_==0)\n",
    "zeros_array = trainX_scaled[idx_zero]\n",
    "vars_zero = np.var(zeros_array,axis=0)\n",
    "idx_ones = np.where(kmeans.labels_==1)\n",
    "ones_array = trainX_scaled[idx_ones]\n",
    "vars_ones = np.var(ones_array,axis=0)\n",
    "c=['red','green','blue']\n",
    "l=['Cluster 1', 'Cluster 2', 'Cluster 3']\n",
    "\n",
    "\n",
    "plt.scatter(xplot[0,:],np.reshape(vars_zero,[1,-1]),color = c[0],label=l[0])\n",
    "plt.scatter(xplot[1,:],np.transpose(vars_ones),color = c[1],label=l[1])\n",
    "\n",
    "plt.xticks(np.arange(0,14,1))\n",
    "plt.xlabel('Feature Number')\n",
    "plt.ylabel('Variance')\n",
    "plt.legend()\n",
    "plt.show()"
   ]
  },
  {
   "cell_type": "markdown",
   "metadata": {},
   "source": [
    "# K Means Silhouette"
   ]
  },
  {
   "cell_type": "code",
   "execution_count": 11,
   "metadata": {},
   "outputs": [
    {
     "name": "stdout",
     "output_type": "stream",
     "text": [
      "For n_clusters=2, The Silhouette Coefficient is 0.7782587816712142\n",
      "For n_clusters=3, The Silhouette Coefficient is 0.5690888601161244\n",
      "For n_clusters=4, The Silhouette Coefficient is 0.5760527416325252\n",
      "For n_clusters=5, The Silhouette Coefficient is 0.5848026464793967\n",
      "For n_clusters=6, The Silhouette Coefficient is 0.37891939056144475\n",
      "For n_clusters=7, The Silhouette Coefficient is 0.3868439045365962\n",
      "For n_clusters=8, The Silhouette Coefficient is 0.3953125830735025\n",
      "For n_clusters=9, The Silhouette Coefficient is 0.37585348401636176\n",
      "For n_clusters=10, The Silhouette Coefficient is 0.37524378661798397\n",
      "For n_clusters=11, The Silhouette Coefficient is 0.354190539629073\n",
      "For n_clusters=12, The Silhouette Coefficient is 0.34099621653242496\n",
      "For n_clusters=13, The Silhouette Coefficient is 0.34393311227697926\n",
      "For n_clusters=14, The Silhouette Coefficient is 0.35138661389936166\n",
      "For n_clusters=15, The Silhouette Coefficient is 0.36134253075037703\n",
      "For n_clusters=16, The Silhouette Coefficient is 0.35595316203716765\n",
      "For n_clusters=17, The Silhouette Coefficient is 0.3582191412184005\n",
      "For n_clusters=18, The Silhouette Coefficient is 0.33159035512672785\n",
      "For n_clusters=19, The Silhouette Coefficient is 0.3441662008313277\n"
     ]
    }
   ],
   "source": [
    "for n_cluster in range(2, 20):\n",
    "    kmeans = KMeans(n_clusters=n_cluster,random_state=1).fit(trainX)\n",
    "    label = kmeans.labels_\n",
    "    sil_coeff = silhouette_score(trainX, label, metric='euclidean')\n",
    "    print(\"For n_clusters={}, The Silhouette Coefficient is {}\".format(n_cluster, sil_coeff))"
   ]
  },
  {
   "cell_type": "markdown",
   "metadata": {},
   "source": [
    "# EM + PCA"
   ]
  },
  {
   "cell_type": "code",
   "execution_count": 12,
   "metadata": {},
   "outputs": [
    {
     "name": "stdout",
     "output_type": "stream",
     "text": [
      "[[ 12.  10.  10.   8.  12.   8.  10.  11.  14.  13.  16.  12.  13.  12.\n",
      "   10.  12.  11.  13.   9.  12.  11.  12.  12.  12.  11.  11.  11.  11.\n",
      "   11.  10.]\n",
      " [  7.   4.   6.   4.  11.   5.   4.  11.   6.   7.   9.   6.   6.   7.\n",
      "    8.   5.   5.   4.   9.   3.   5.   4.  12.   5.   3.   6.   5.   7.\n",
      "    8.   6.]]\n",
      "[ 340.  188.]\n"
     ]
    },
    {
     "data": {
      "text/plain": [
       "0.55897394272394285"
      ]
     },
     "execution_count": 12,
     "metadata": {},
     "output_type": "execute_result"
    }
   ],
   "source": [
    "gmm = GaussianMixture(n_components=len(unique_Y),random_state=1)\n",
    "gmm.fit(X)\n",
    "new_labels = gmm.predict(X)+1\n",
    "c_size = np.zeros((2,len(unique_Y)))\n",
    "for i in range(len(unique_Y)):\n",
    "    idx = np.where(Y_first==unique_Y[i])[0]\n",
    "    c_size[0,i] = len(Y_first[Y_first==unique_Y[i]])\n",
    "    new_clusters = new_labels[idx]\n",
    "    unique_list = (list(set(new_clusters)))\n",
    "    nc_occ = [len(np.where(new_clusters==unique_list[k])[0]) for k in range(len(unique_list))]\n",
    "    max_num = unique_list[np.where(nc_occ==np.max(nc_occ))[0][0]]\n",
    "    c_size[1,i] = len(np.where(new_clusters==max_num)[0])\n",
    "print(c_size)\n",
    "print(np.sum(c_size,1))\n",
    "avg = c_size[1,:]/c_size[0,:]\n",
    "np.mean(avg)"
   ]
  },
  {
   "cell_type": "code",
   "execution_count": 13,
   "metadata": {},
   "outputs": [
    {
     "data": {
      "image/png": "[encoded data removed]",
      "text/plain": [
       "<matplotlib.figure.Figure at 0x5585710>"
      ]
     },
     "metadata": {},
     "output_type": "display_data"
    }
   ],
   "source": [
    "lowest_bic = np.infty\n",
    "\n",
    "bic = []\n",
    "n_components_range = range(1, 20)\n",
    "cv_types = ['full']\n",
    "#cv_types = ['spherical', 'tied', 'diag','full']\n",
    "\n",
    "for n_components in n_components_range:\n",
    "    # Fit a Gaussian mixture with EM\n",
    "    gmm = mixture.GaussianMixture(n_components=n_components,random_state=4)\n",
    "    gmm.fit(trainX_scaled)\n",
    "    bic.append(gmm.bic(trainX_scaled))\n",
    "    if bic[-1] < lowest_bic:\n",
    "        lowest_bic = bic[-1]\n",
    "        best_gmm = gmm\n",
    "\n",
    "bic = np.array(bic)\n",
    "color_iter = itertools.cycle(['navy', 'turquoise', 'cornflowerblue',\n",
    "                              'darkorange'])\n",
    "clf = best_gmm\n",
    "bars = []\n",
    "\n",
    "# Plot the BIC scores\n",
    "plt.figure(figsize=(8, 6))\n",
    "spl = plt.subplot(2, 1, 1)\n",
    "for i, (cv_type, color) in enumerate(zip(cv_types, color_iter)):\n",
    "    xpos = np.array(n_components_range) + .2 * (i - 0.05)\n",
    "    bars.append(plt.bar(xpos, bic[i * len(n_components_range):\n",
    "                                  (i + 1) * len(n_components_range)],\n",
    "                        width=.2, color=color))\n",
    "\n",
    "plt.xticks(n_components_range)\n",
    "#plt.ylim([bic.min() * 1.01 - .01 * bic.max(), bic.max()])\n",
    "plt.title('BIC score per model')\n",
    "xpos = np.mod(bic.argmin(), len(n_components_range)) + .65 +\\\n",
    "    .2 * np.floor(bic.argmin() / len(n_components_range))\n",
    "plt.text(xpos+0.5, bic.min() * 0.97 + .03 * bic.max(), '*', fontsize=14)\n",
    "spl.set_xlabel('Number of components')\n",
    "#spl.legend([b[0] for b in bars], cv_types)\n",
    "\n",
    "Y_ = clf.predict(trainX)\n",
    "# # Plot the winner\n",
    "# splot = plt.subplot(2, 1, 2)\n",
    "# Y_ = clf.predict(trainX)\n",
    "\n",
    "# for i, (mean, cov, color) in enumerate(zip(clf.means_, clf.covariances_,\n",
    "#                                            color_iter)):\n",
    "#     v, w = linalg.eigh(cov)\n",
    "#     if not np.any(Y_ == i):\n",
    "#         continue\n",
    "#     plt.scatter(X[Y_ == i, 5], X[Y_ == i, 6], .8, color=color)\n",
    "\n",
    "#     # Plot an ellipse to show the Gaussian component\n",
    "#     angle = np.arctan2(w[0][1], w[0][0])\n",
    "#     angle = 180. * angle / np.pi  # convert to degrees\n",
    "#     v = 2. * np.sqrt(2.) * np.sqrt(v)\n",
    "#     ell = mpl.patches.Ellipse(mean, v[0], v[1], 180. + angle, color=color)\n",
    "#     ell.set_clip_box(splot.bbox)\n",
    "#     ell.set_alpha(.5)\n",
    "#     splot.add_artist(ell)\n",
    "\n",
    "# plt.xticks(())\n",
    "# plt.yticks(())\n",
    "# plt.title('Selected GMM: full model, 2 components')\n",
    "# plt.subplots_adjust(hspace=.35, bottom=.02)\n",
    "# plt.show()"
   ]
  },
  {
   "cell_type": "markdown",
   "metadata": {},
   "source": [
    "# EM Plot (Means)"
   ]
  },
  {
   "cell_type": "code",
   "execution_count": 14,
   "metadata": {},
   "outputs": [
    {
     "name": "stdout",
     "output_type": "stream",
     "text": [
      "4\n",
      "14\n"
     ]
    },
    {
     "data": {
      "image/png": "[encoded data removed]",
      "text/plain": [
       "<matplotlib.figure.Figure at 0x110f5e10>"
      ]
     },
     "metadata": {},
     "output_type": "display_data"
    }
   ],
   "source": [
    "r,c = np.shape(clf.means_)\n",
    "print(r)\n",
    "print(c)\n",
    "xplot = np.zeros((r,14))\n",
    "xplot[:,:] = np.arange(0,14,1)\n",
    "c=['red','green','blue','yellow','purple']\n",
    "l=['Cluster 1', 'Cluster 2', 'Cluster 3','Cluster 4', 'Cluster 5']\n",
    "for i in range(r):\n",
    "    plt.scatter(xplot[i,:],np.transpose(clf.means_[i,:]),color = c[i],label=l[i])\n",
    "    \n",
    "plt.xticks(np.arange(0,14,1))\n",
    "plt.xlabel('Feature Number')\n",
    "plt.ylabel('Mean Value')\n",
    "plt.legend()\n",
    "plt.show()\n",
    "\n"
   ]
  },
  {
   "cell_type": "markdown",
   "metadata": {},
   "source": [
    "# EM Plot (Deviation)"
   ]
  },
  {
   "cell_type": "code",
   "execution_count": 15,
   "metadata": {},
   "outputs": [
    {
     "name": "stdout",
     "output_type": "stream",
     "text": [
      "4 14 14\n"
     ]
    },
    {
     "data": {
      "image/png": "[encoded data removed]",
      "text/plain": [
       "<matplotlib.figure.Figure at 0x11197b38>"
      ]
     },
     "metadata": {},
     "output_type": "display_data"
    }
   ],
   "source": [
    "r,c,n = np.shape(clf.covariances_)\n",
    "print(r,c,n)\n",
    "xplot = np.zeros((r,14))\n",
    "xplot[:,:] = np.arange(0,14,1)\n",
    "c=['red','green','blue','yellow','purple']\n",
    "l=['Cluster 1', 'Cluster 2', 'Cluster 3','Cluster 4', 'Cluster 5']\n",
    "for i in range(r):\n",
    "    vals = np.diagonal((clf.covariances_[i,:,:]))\n",
    "    plt.scatter(xplot[i,:],np.transpose(vals),color = c[i],label=l[i])\n",
    "    \n",
    "plt.xticks(np.arange(0,14,1))\n",
    "plt.xlabel('Feature Number')\n",
    "plt.ylabel('Variance')\n",
    "plt.legend()\n",
    "plt.show()"
   ]
  },
  {
   "cell_type": "markdown",
   "metadata": {},
   "source": [
    "# EM Validation with AIC"
   ]
  },
  {
   "cell_type": "code",
   "execution_count": 16,
   "metadata": {},
   "outputs": [
    {
     "data": {
      "text/plain": [
       "<matplotlib.legend.Legend at 0x114924e0>"
      ]
     },
     "execution_count": 16,
     "metadata": {},
     "output_type": "execute_result"
    },
    {
     "data": {
      "image/png": "[encoded data removed]",
      "text/plain": [
       "<matplotlib.figure.Figure at 0x10b1bc88>"
      ]
     },
     "metadata": {},
     "output_type": "display_data"
    }
   ],
   "source": [
    "lowest_aic = np.infty\n",
    "\n",
    "aic = []\n",
    "n_components_range = range(1, 20)\n",
    "cv_types = ['full']\n",
    "\n",
    "for cv_type in cv_types:\n",
    "    for n_components in n_components_range:\n",
    "        # Fit a Gaussian mixture with EM\n",
    "        gmm = mixture.GaussianMixture(n_components=n_components,\n",
    "                                      covariance_type=cv_type,random_state=1)\n",
    "        gmm.fit(trainX_scaled)\n",
    "        aic.append(gmm.aic(trainX_scaled))\n",
    "        if aic[-1] < lowest_aic:\n",
    "            lowest_aic = aic[-1]\n",
    "            best_gmm = gmm\n",
    "            \n",
    "\n",
    "aic = np.array(aic)\n",
    "color_iter = itertools.cycle(['navy', 'turquoise', 'cornflowerblue',\n",
    "                              'darkorange'])\n",
    "clf = best_gmm\n",
    "bars = []\n",
    "\n",
    "# Plot the AIC scores\n",
    "plt.figure(figsize=(8, 6))\n",
    "spl = plt.subplot(2, 1, 1)\n",
    "for i, (cv_type, color) in enumerate(zip(cv_types, color_iter)):\n",
    "    xpos = np.array(n_components_range) + .2 * (i - 0.05)\n",
    "    bars.append(plt.bar(xpos, aic[i * len(n_components_range):\n",
    "                                  (i + 1) * len(n_components_range)],\n",
    "                        width=.2, color=color))\n",
    "plt.xticks(n_components_range)\n",
    "#plt.ylim([aic.min() * 1.01 - .01 * aic.max(), aic.max()])\n",
    "plt.title('AIC score per model')\n",
    "xpos = np.mod(aic.argmin(), len(n_components_range)) + .65 +\\\n",
    "    .2 * np.floor(aic.argmin() / len(n_components_range))\n",
    "plt.text(xpos, aic.min() * 0.97 + .03 * aic.max(), '*', fontsize=14)\n",
    "spl.set_xlabel('Number of components')\n",
    "spl.legend([b[0] for b in bars], cv_types)\n",
    "\n",
    "\n",
    "# # Plot the winner\n",
    "# splot = plt.subplot(2, 1, 2)\n",
    "# Y_ = clf.predict(X)\n",
    "# for i, (mean, cov, color) in enumerate(zip(clf.means_, clf.covariances_,\n",
    "#                                            color_iter)):\n",
    "#     v, w = linalg.eigh(cov)\n",
    "#     if not np.any(Y_ == i):\n",
    "#         continue\n",
    "#     plt.scatter(X[Y_ == i, 2], X[Y_ == i, 6], .8, color=color)\n",
    "\n",
    "#     # Plot an ellipse to show the Gaussian component\n",
    "#     angle = np.arctan2(w[0][1], w[0][0])\n",
    "#     angle = 180. * angle / np.pi  # convert to degrees\n",
    "#     v = 2. * np.sqrt(2.) * np.sqrt(v)\n",
    "#     ell = mpl.patches.Ellipse(mean, v[0], v[1], 180. + angle, color=color)\n",
    "#     ell.set_clip_box(splot.bbox)\n",
    "#     ell.set_alpha(.5)\n",
    "#     splot.add_artist(ell)\n",
    "\n",
    "# plt.xticks(())\n",
    "# plt.yticks(())\n",
    "# plt.title('Selected GMM: full model, 2 components')\n",
    "# plt.subplots_adjust(hspace=.35, bottom=.02)\n",
    "# plt.show()"
   ]
  },
  {
   "cell_type": "markdown",
   "metadata": {},
   "source": [
    "# ICA"
   ]
  },
  {
   "cell_type": "code",
   "execution_count": 17,
   "metadata": {
    "scrolled": false
   },
   "outputs": [
    {
     "name": "stdout",
     "output_type": "stream",
     "text": [
      "1\n",
      "2\n",
      "3\n",
      "4\n",
      "5\n",
      "6\n",
      "7\n",
      "8\n"
     ]
    },
    {
     "name": "stderr",
     "output_type": "stream",
     "text": [
      "C:\\Users\\Manik.Rajora\\AppData\\Local\\Continuum\\anaconda2\\envs\\Py36\\lib\\site-packages\\sklearn\\decomposition\\fastica_.py:118: UserWarning: FastICA did not converge. Consider increasing tolerance or the maximum number of iterations.\n",
      "  warnings.warn('FastICA did not converge. Consider increasing '\n"
     ]
    },
    {
     "name": "stdout",
     "output_type": "stream",
     "text": [
      "9\n",
      "10\n",
      "11\n",
      "12\n",
      "13\n",
      "14\n"
     ]
    }
   ],
   "source": [
    "class TestCallback(Callback):\n",
    "    def __init__(self, test_data):\n",
    "        self.test_data = test_data\n",
    "    def on_epoch_end(self, epoch, logs):\n",
    "        x, y = self.test_data\n",
    "        loss, acc = self.model.evaluate(x, y, verbose=0)\n",
    "        logs['test_acc'] = acc\n",
    "# Compute ICA\n",
    "\n",
    "# ica = FastICA(n_components=11)\n",
    "# S_ = ica.fit_transform(trainX_scaled)  # Reconstruct signals\n",
    "# A_ = ica.mixing_  # Get estimated mixing matrix\n",
    "\n",
    "# print(kurtosis(S_,axis=0))\n",
    "\n",
    "ica = FastICA(random_state=1)\n",
    "comp_to_check = 14\n",
    "kurt_sp = np.zeros((comp_to_check,3))\n",
    "\n",
    "train_all = []\n",
    "test_all = []\n",
    "train_acc_ica = []\n",
    "val_acc_ica = []\n",
    "test_acc_ica = []\n",
    "\n",
    "\n",
    "for i in range(1,comp_to_check+1):\n",
    "    print(i)\n",
    "    ica.set_params(n_components=i)\n",
    "    S_ = ica.fit_transform(trainX_S)\n",
    "    proj = ica.inverse_transform(S_)\n",
    "    loss_all = ((trainX_S - proj)**2).mean()\n",
    "    kurt_sp[i-2,:] = np.array([i,np.mean(np.abs(kurtosis(S_,axis=0))),loss_all])\n",
    "    \n",
    "    trainX_transformed = ica.transform(trainX_S)\n",
    "    testX_transformed = ica.transform(testX_S)\n",
    "    \n",
    "    trainX_S_use = trainX_transformed\n",
    "    testX_S_use = testX_transformed\n",
    "    \n",
    "    trainX_use = trainX_S_use[values,:]\n",
    "    trainY_use = trainY[values,:]\n",
    "\n",
    "    \n",
    "\n",
    "    model = Sequential()\n",
    "    model.add(Dense(250, input_dim=i, kernel_initializer='normal', activation='relu'))\n",
    "    model.add(Dense(36, kernel_initializer='normal', activation='softmax'))\n",
    "    model.compile(loss='categorical_crossentropy', optimizer='adam', metrics=['accuracy'])\n",
    "    # checkpoint\n",
    "    filepath=\"weights.best_leaf.h5\"\n",
    "    checkpoint = ModelCheckpoint(filepath, monitor='val_acc', verbose=0, save_best_only=True, mode='max')\n",
    "    callbacks_list = [checkpoint, TestCallback((testX_S_use,testY)),CSVLogger('1.log')]\n",
    "    hist = model.fit(trainX_use[:-82,:],trainY_use[:-82,:], validation_data=(trainX_use[-82:,:],trainY_use[-82:,:]), epochs=5000, batch_size=40,verbose=0,callbacks=callbacks_list)\n",
    "    \n",
    "    model1 = Sequential()\n",
    "    model1.add(Dense(250, input_dim=i, kernel_initializer='normal', activation='relu'))\n",
    "    model1.add(Dense(36, kernel_initializer='normal', activation='softmax'))\n",
    "    model1.compile(loss='categorical_crossentropy', optimizer='adam', metrics=['accuracy'])\n",
    "    model1.load_weights(\"weights.best_leaf.h5\")\n",
    "\n",
    "\n",
    "    train_pred = convert_out(model1.predict(trainX_use[:-82,:]))\n",
    "    train_act = trainY_comp_use[:-82]\n",
    "    train_acc_ica.append((1-Pred_correct(train_pred,train_act)))\n",
    "\n",
    "    val_pred = convert_out(model1.predict(trainX_use[-82:,:]))\n",
    "    val_act = trainY_comp_use[-82:]\n",
    "    val_acc_ica.append((1-Pred_correct(val_pred,val_act)))\n",
    "\n",
    "    test_pred = convert_out(model1.predict(testX_S_use))\n",
    "    test_acc_ica.append((1-Pred_correct(test_pred,testY_comp)))\n",
    " \n",
    "\n"
   ]
  },
  {
   "cell_type": "markdown",
   "metadata": {},
   "source": [
    "# ICA Plots"
   ]
  },
  {
   "cell_type": "code",
   "execution_count": 18,
   "metadata": {},
   "outputs": [
    {
     "data": {
      "image/png": "[encoded data removed]",
      "text/plain": [
       "<matplotlib.figure.Figure at 0x11498390>"
      ]
     },
     "metadata": {},
     "output_type": "display_data"
    },
    {
     "data": {
      "image/png": "[encoded data removed]",
      "text/plain": [
       "<matplotlib.figure.Figure at 0x11458ba8>"
      ]
     },
     "metadata": {},
     "output_type": "display_data"
    },
    {
     "data": {
      "image/png": "[encoded data removed]",
      "text/plain": [
       "<matplotlib.figure.Figure at 0x1ce2d6a0>"
      ]
     },
     "metadata": {},
     "output_type": "display_data"
    },
    {
     "name": "stdout",
     "output_type": "stream",
     "text": [
      "    Training Set  Validation Set  Testing Set\n",
      "0      82.105263       80.487805    86.764706\n",
      "1      42.631579       59.756098    61.764706\n",
      "2      23.157895       40.243902    41.176471\n",
      "3      11.578947       34.146341    26.470588\n",
      "4      18.421053       39.024390    32.352941\n",
      "5       8.947368       36.585366    26.470588\n",
      "6      10.000000       23.170732    25.000000\n",
      "7      13.684211       23.170732    25.000000\n",
      "8       8.947368       20.731707    23.529412\n",
      "9       3.157895       24.390244    23.529412\n",
      "10     11.052632       25.609756    30.882353\n",
      "11     10.000000       24.390244    30.882353\n",
      "12      9.473684       26.829268    29.411765\n",
      "13      6.842105       29.268293    25.000000\n",
      "9\n"
     ]
    }
   ],
   "source": [
    "plt.scatter(kurt_sp[:,0],kurt_sp[:,1])\n",
    "plt.xlabel('Number of components')\n",
    "plt.ylabel('Average Absolute Kurtosis')\n",
    "plt.show()\n",
    "\n",
    "\n",
    "plt.scatter(kurt_sp[:,0],kurt_sp[:,2])\n",
    "plt.xlabel('Number of components')\n",
    "plt.ylabel('Reconstruction Error')\n",
    "plt.show()\n",
    "\n",
    "fig = plt.figure()\n",
    "ax = fig.gca()\n",
    "ax.set_yticks(np.arange(0, 100, 10))\n",
    "ax.set_xticks(np.arange(1,len(train_acc_ica)+1))\n",
    "\n",
    "plt.scatter(np.arange(1,len(train_acc_ica)+1),np.array(train_acc_ica)*100,label='Training Set Accuracy')\n",
    "plt.scatter(np.arange(1,len(train_acc_ica)+1),np.array(val_acc_ica)*100,label='Validation Set Accuracy')\n",
    "plt.scatter(np.arange(1,len(train_acc_ica)+1),np.array(test_acc_ica)*100,label='Testing Set Accuracy')\n",
    "plt.xlabel('Number of Components')\n",
    "plt.ylabel('Misclassification Error (%)')\n",
    "plt.legend()\n",
    "plt.grid(True)\n",
    "plt.show()\n",
    "\n",
    "results = pd.DataFrame(data = np.transpose([np.array(train_acc_ica)*100,np.array(val_acc_ica)*100,np.array(test_acc_ica)*100]),columns=['Training Set', 'Validation Set', 'Testing Set'])\n",
    "print(results)\n",
    "\n",
    "best_c = np.where(val_acc_ica==np.min(val_acc_ica))[0]+1\n",
    "print(best_c[0])"
   ]
  },
  {
   "cell_type": "markdown",
   "metadata": {},
   "source": [
    "# K Means + ICA"
   ]
  },
  {
   "cell_type": "code",
   "execution_count": 19,
   "metadata": {},
   "outputs": [
    {
     "name": "stdout",
     "output_type": "stream",
     "text": [
      "For n_clusters=2, The Silhouette Coefficient is 0.25099563145544784\n",
      "For n_clusters=3, The Silhouette Coefficient is 0.1938400558848384\n",
      "For n_clusters=4, The Silhouette Coefficient is 0.19719981425956204\n",
      "For n_clusters=5, The Silhouette Coefficient is 0.16787584146747309\n",
      "For n_clusters=6, The Silhouette Coefficient is 0.18542249169503008\n",
      "For n_clusters=7, The Silhouette Coefficient is 0.20516715686025963\n",
      "For n_clusters=8, The Silhouette Coefficient is 0.23126063519681828\n",
      "For n_clusters=9, The Silhouette Coefficient is 0.22891104826447192\n",
      "For n_clusters=10, The Silhouette Coefficient is 0.21877667007786505\n",
      "For n_clusters=11, The Silhouette Coefficient is 0.2450163840840061\n",
      "For n_clusters=12, The Silhouette Coefficient is 0.2247317072900909\n",
      "For n_clusters=13, The Silhouette Coefficient is 0.2481670437952468\n",
      "For n_clusters=14, The Silhouette Coefficient is 0.23935455785061924\n",
      "For n_clusters=15, The Silhouette Coefficient is 0.26754952743834637\n",
      "For n_clusters=16, The Silhouette Coefficient is 0.25766083829534075\n",
      "For n_clusters=17, The Silhouette Coefficient is 0.2670994496173032\n"
     ]
    },
    {
     "name": "stderr",
     "output_type": "stream",
     "text": [
      "No handles with labels found to put in legend.\n"
     ]
    },
    {
     "name": "stdout",
     "output_type": "stream",
     "text": [
      "For n_clusters=18, The Silhouette Coefficient is 0.27755043364174004\n",
      "For n_clusters=19, The Silhouette Coefficient is 0.26507397195712856\n"
     ]
    },
    {
     "data": {
      "image/png": "[encoded data removed]",
      "text/plain": [
       "<matplotlib.figure.Figure at 0x11416b00>"
      ]
     },
     "metadata": {},
     "output_type": "display_data"
    }
   ],
   "source": [
    "ica.set_params(n_components=best_c[0])\n",
    "S_ = ica.fit_transform(trainX_S)\n",
    "proj = ica.inverse_transform(S_)\n",
    "loss_all = ((trainX_S - proj)**2).mean()\n",
    "kurt_sp[i-2,:] = np.array([i,np.mean(np.abs(kurtosis(S_,axis=0))),loss_all])\n",
    "\n",
    "trainX_transformed = ica.transform(trainX_S)\n",
    "testX_transformed = ica.transform(testX_S)\n",
    "\n",
    "trainX_S_use = trainX_transformed\n",
    "testX_S_use = testX_transformed\n",
    "\n",
    "trainX_use = trainX_S_use[values,:]\n",
    "trainY_use = trainY[values,:]\n",
    "\n",
    "sse = {}\n",
    "for k in range(2, 20):\n",
    "    kmeans = KMeans(n_clusters=k,random_state=1).fit(trainX_use)\n",
    "    #print(data[\"clusters\"])\n",
    "    label = kmeans.labels_\n",
    "    sil_coeff = silhouette_score(trainX_use, label, metric='euclidean')\n",
    "    print(\"For n_clusters={}, The Silhouette Coefficient is {}\".format(k, sil_coeff))\n",
    "    sse[k] = kmeans.inertia_ # Inertia: Sum of distances of samples to their closest cluster center\n",
    "plt.figure()\n",
    "plt.plot(list(sse.keys()), list(sse.values()),'o')\n",
    "plt.xlabel(\"Number of cluster\")\n",
    "plt.ylabel(\"SSE\")\n",
    "plt.xticks(list(sse.keys()))\n",
    "plt.legend()\n",
    "plt.show()\n",
    "    "
   ]
  },
  {
   "cell_type": "markdown",
   "metadata": {},
   "source": [
    "# K Means + ICA + NN"
   ]
  },
  {
   "cell_type": "code",
   "execution_count": 20,
   "metadata": {},
   "outputs": [
    {
     "name": "stdout",
     "output_type": "stream",
     "text": [
      "0\n",
      "1\n",
      "2\n",
      "3\n",
      "4\n",
      "5\n",
      "6\n",
      "7\n"
     ]
    }
   ],
   "source": [
    "l_use = np.arange(2,10)\n",
    "\n",
    "train_acc_ica_f = []\n",
    "val_acc_ica_f = []\n",
    "test_acc_ica_f = []\n",
    "\n",
    "for i in range(len(l_use)):\n",
    "    print(i)\n",
    "    km = KMeans(n_clusters=l_use[i],random_state=2)\n",
    "    km.fit(trainX_use)\n",
    "    # print(km.labels_)\n",
    "    # plt.hist(km.labels_,l_use)\n",
    "    # plt.show()\n",
    "    lab_tr = km.predict(trainX_use)\n",
    "    lab_te = km.predict(testX_S_use)\n",
    "\n",
    "    enc = OneHotEncoder(handle_unknown='ignore')\n",
    "    enc.fit(lab_tr.reshape(-1, 1))\n",
    "    lab_train=enc.transform(lab_tr.reshape(-1, 1)).toarray()\n",
    "    lab_test = enc.transform(lab_te.reshape(-1, 1)).toarray()\n",
    "\n",
    "    r,c = np.shape(trainX_use)\n",
    "    trainX_use_n = np.hstack((trainX_use,lab_train))\n",
    "    testX_use_n = np.hstack((testX_S_use,lab_test))\n",
    "\n",
    "    model = Sequential()\n",
    "    model.add(Dense(250, input_dim=c+l_use[i], kernel_initializer='normal', activation='relu'))\n",
    "    model.add(Dense(36, kernel_initializer='normal', activation='softmax'))\n",
    "    model.compile(loss='categorical_crossentropy', optimizer='adam', metrics=['accuracy'])\n",
    "    # checkpoint\n",
    "\n",
    "    filepath=\"weights.best_leaf.h5\"\n",
    "    checkpoint = ModelCheckpoint(filepath, monitor='val_acc', verbose=0, save_best_only=True, mode='max')\n",
    "    callbacks_list = [checkpoint, TestCallback((testX_use_n,testY)),CSVLogger('1.log')]\n",
    "    hist = model.fit(trainX_use_n[:-82,:],trainY_use[:-82,:], validation_data=(trainX_use_n[-82:,:],trainY_use[-82:,:]), epochs=5000, batch_size=40,verbose=0,callbacks=callbacks_list)\n",
    "\n",
    "    model1 = Sequential()\n",
    "    model1.add(Dense(250, input_dim=c+l_use[i], kernel_initializer='normal', activation='relu'))\n",
    "    model1.add(Dense(36, kernel_initializer='normal', activation='softmax'))\n",
    "    model1.compile(loss='categorical_crossentropy', optimizer='adam', metrics=['accuracy'])\n",
    "    model1.load_weights(\"weights.best_leaf.h5\")\n",
    "\n",
    "\n",
    "    train_pred = convert_out(model1.predict(trainX_use_n[:-82,:]))\n",
    "    train_act = trainY_comp_use[:-82]\n",
    "    train_acc_ica_f.append((1-Pred_correct(train_pred,train_act)))\n",
    "\n",
    "    val_pred = convert_out(model1.predict(trainX_use_n[-82:,:]))\n",
    "    val_act = trainY_comp_use[-82:]\n",
    "    val_acc_ica_f.append((1-Pred_correct(val_pred,val_act)))\n",
    "\n",
    "    test_pred = convert_out(model1.predict(testX_use_n))\n",
    "    test_acc_ica_f.append((1-Pred_correct(test_pred,testY_comp)))\n",
    "\n"
   ]
  },
  {
   "cell_type": "markdown",
   "metadata": {},
   "source": [
    "# K Means + ICA + NN Plots"
   ]
  },
  {
   "cell_type": "code",
   "execution_count": 21,
   "metadata": {},
   "outputs": [
    {
     "name": "stdout",
     "output_type": "stream",
     "text": [
      "   Training Set  Validation Set  Testing Set\n",
      "0      8.947368       19.512195    23.529412\n",
      "1     11.052632       23.170732    32.352941\n",
      "2      8.421053       20.731707    26.470588\n",
      "3      9.473684       21.951220    26.470588\n",
      "4     10.526316       24.390244    30.882353\n",
      "5     10.526316       25.609756    35.294118\n",
      "6      6.842105       24.390244    30.882353\n",
      "7      5.789474       20.731707    35.294118\n"
     ]
    },
    {
     "data": {
      "image/png": "[encoded data removed]",
      "text/plain": [
       "<matplotlib.figure.Figure at 0x1ef05d30>"
      ]
     },
     "metadata": {},
     "output_type": "display_data"
    }
   ],
   "source": [
    "fig = plt.figure()\n",
    "ax = fig.gca()\n",
    "ax.set_yticks(np.arange(0, 100, 10))\n",
    "ax.set_xticks(np.arange(1,len(train_acc_ica_f)+1))\n",
    "\n",
    "plt.scatter(np.arange(1,len(train_acc_ica_f)+1),np.array(train_acc_ica_f)*100,label='Training Set Accuracy')\n",
    "plt.scatter(np.arange(1,len(train_acc_ica_f)+1),np.array(val_acc_ica_f)*100,label='Validation Set Accuracy')\n",
    "plt.scatter(np.arange(1,len(train_acc_ica_f)+1),np.array(test_acc_ica_f)*100,label='Testing Set Accuracy')\n",
    "plt.xlabel('Number of Clusters')\n",
    "plt.ylabel('Misclassification Error (%)')\n",
    "plt.ylim([0,50])\n",
    "plt.legend()\n",
    "plt.grid(True)\n",
    "\n",
    "results_f = pd.DataFrame(data = np.transpose([np.array(train_acc_ica_f)*100,np.array(val_acc_ica_f)*100,np.array(test_acc_ica_f)*100]),columns=['Training Set', 'Validation Set', 'Testing Set'])\n",
    "print(results_f)"
   ]
  },
  {
   "cell_type": "markdown",
   "metadata": {},
   "source": [
    "# EM + ICA "
   ]
  },
  {
   "cell_type": "code",
   "execution_count": 22,
   "metadata": {},
   "outputs": [
    {
     "data": {
      "text/plain": [
       "Text(0.5,0,'Number of Clusters')"
      ]
     },
     "execution_count": 22,
     "metadata": {},
     "output_type": "execute_result"
    },
    {
     "data": {
      "image/png": "[encoded data removed]",
      "text/plain": [
       "<matplotlib.figure.Figure at 0x111022b0>"
      ]
     },
     "metadata": {},
     "output_type": "display_data"
    }
   ],
   "source": [
    "lowest_bic = np.infty\n",
    "\n",
    "bic = []\n",
    "n_components_range = range(1, 20)\n",
    "cv_types = ['full']\n",
    "#cv_types = ['spherical', 'tied', 'diag','full']\n",
    "\n",
    "for n_components in n_components_range:\n",
    "    # Fit a Gaussian mixture with EM\n",
    "    gmm = mixture.GaussianMixture(n_components=n_components,random_state=4)\n",
    "    gmm.fit(trainX_use)\n",
    "    bic.append(gmm.bic(trainX_use))\n",
    "    if bic[-1] < lowest_bic:\n",
    "        lowest_bic = bic[-1]\n",
    "        best_gmm = gmm\n",
    "\n",
    "bic = np.array(bic)\n",
    "color_iter = itertools.cycle(['navy', 'turquoise', 'cornflowerblue',\n",
    "                              'darkorange'])\n",
    "clf = best_gmm\n",
    "bars = []\n",
    "\n",
    "# Plot the BIC scores\n",
    "plt.figure(figsize=(8, 6))\n",
    "spl = plt.subplot(2, 1, 1)\n",
    "for i, (cv_type, color) in enumerate(zip(cv_types, color_iter)):\n",
    "    xpos = np.array(n_components_range) + .2 * (i - 0.05)\n",
    "    bars.append(plt.bar(xpos, bic[i * len(n_components_range):\n",
    "                                  (i + 1) * len(n_components_range)],\n",
    "                        width=.2, color=color))\n",
    "\n",
    "plt.xticks(n_components_range)\n",
    "#plt.ylim([bic.min() * 1.01 - .01 * bic.max(), bic.max()])\n",
    "plt.title('BIC score per model')\n",
    "xpos = np.mod(bic.argmin(), len(n_components_range)) + .65 +\\\n",
    "    .2 * np.floor(bic.argmin() / len(n_components_range))\n",
    "plt.text(xpos+0.5, bic.min() * 0.97 + .03 * bic.max(), '*', fontsize=14)\n",
    "spl.set_xlabel('Number of Clusters')\n",
    "#spl.legend([b[0] for b in bars], cv_types)\n",
    "\n",
    "# # Plot the winner\n",
    "# splot = plt.subplot(2, 1, 2)\n",
    "# Y_ = clf.predict(trainX)\n",
    "\n",
    "# for i, (mean, cov, color) in enumerate(zip(clf.means_, clf.covariances_,\n",
    "#                                            color_iter)):\n",
    "#     v, w = linalg.eigh(cov)\n",
    "#     if not np.any(Y_ == i):\n",
    "#         continue\n",
    "#     plt.scatter(X[Y_ == i, 5], X[Y_ == i, 6], .8, color=color)\n",
    "\n",
    "#     # Plot an ellipse to show the Gaussian component\n",
    "#     angle = np.arctan2(w[0][1], w[0][0])\n",
    "#     angle = 180. * angle / np.pi  # convert to degrees\n",
    "#     v = 2. * np.sqrt(2.) * np.sqrt(v)\n",
    "#     ell = mpl.patches.Ellipse(mean, v[0], v[1], 180. + angle, color=color)\n",
    "#     ell.set_clip_box(splot.bbox)\n",
    "#     ell.set_alpha(.5)\n",
    "#     splot.add_artist(ell)\n",
    "\n",
    "# plt.xticks(())\n",
    "# plt.yticks(())\n",
    "# plt.title('Selected GMM: full model, 2 components')\n",
    "# plt.subplots_adjust(hspace=.35, bottom=.02)\n",
    "# plt.show()"
   ]
  },
  {
   "cell_type": "markdown",
   "metadata": {},
   "source": [
    "# EM + ICA + NN "
   ]
  },
  {
   "cell_type": "code",
   "execution_count": 23,
   "metadata": {},
   "outputs": [
    {
     "name": "stdout",
     "output_type": "stream",
     "text": [
      "0\n",
      "1\n",
      "2\n",
      "3\n",
      "4\n",
      "5\n",
      "6\n",
      "7\n"
     ]
    }
   ],
   "source": [
    "l_use = np.arange(2,10)\n",
    "\n",
    "train_acc_ica_f_2 = []\n",
    "val_acc_ica_f_2 = []\n",
    "test_acc_ica_f_2 = []\n",
    "\n",
    "for i in range(len(l_use)):\n",
    "    print(i)\n",
    "    gmm = GaussianMixture(n_components=l_use[i],random_state=1)\n",
    "    gmm.fit(trainX_use)\n",
    "    tr_lab = gmm.predict(trainX_use)\n",
    "    test_lab = gmm.predict(testX_S_use)\n",
    "\n",
    "    enc = OneHotEncoder(handle_unknown='ignore')\n",
    "    enc.fit(tr_lab.reshape(-1, 1))\n",
    "    lab_train=enc.transform(tr_lab.reshape(-1, 1)).toarray()\n",
    "    lab_test = enc.transform(test_lab.reshape(-1, 1)).toarray()\n",
    "\n",
    "    r,c = np.shape(trainX_use)\n",
    "    trainX_use_n = np.hstack((trainX_use,lab_train))\n",
    "    testX_use_n = np.hstack((testX_S_use,lab_test))\n",
    "\n",
    "    model = Sequential()\n",
    "    model.add(Dense(250, input_dim=c+l_use[i], kernel_initializer='normal', activation='relu'))\n",
    "    model.add(Dense(36, kernel_initializer='normal', activation='softmax'))\n",
    "    model.compile(loss='categorical_crossentropy', optimizer='adam', metrics=['accuracy'])\n",
    "    # checkpoint\n",
    "\n",
    "    filepath=\"weights.best_leaf.h5\"\n",
    "    checkpoint = ModelCheckpoint(filepath, monitor='val_acc', verbose=0, save_best_only=True, mode='max')\n",
    "    callbacks_list = [checkpoint, TestCallback((testX_use_n,testY)),CSVLogger('1.log')]\n",
    "    hist = model.fit(trainX_use_n[:-82,:],trainY_use[:-82,:], validation_data=(trainX_use_n[-82:,:],trainY_use[-82:,:]), epochs=5000, batch_size=40,verbose=0,callbacks=callbacks_list)\n",
    "\n",
    "    model1 = Sequential()\n",
    "    model1.add(Dense(250, input_dim=c+l_use[i], kernel_initializer='normal', activation='relu'))\n",
    "    model1.add(Dense(36, kernel_initializer='normal', activation='softmax'))\n",
    "    model1.compile(loss='categorical_crossentropy', optimizer='adam', metrics=['accuracy'])\n",
    "    model1.load_weights(\"weights.best_leaf.h5\")\n",
    "\n",
    "\n",
    "    train_pred = convert_out(model1.predict(trainX_use_n[:-82,:]))\n",
    "    train_act = trainY_comp_use[:-82]\n",
    "    train_acc_ica_f_2.append((1-Pred_correct(train_pred,train_act)))\n",
    "\n",
    "    val_pred = convert_out(model1.predict(trainX_use_n[-82:,:]))\n",
    "    val_act = trainY_comp_use[-82:]\n",
    "    val_acc_ica_f_2.append((1-Pred_correct(val_pred,val_act)))\n",
    "\n",
    "    test_pred = convert_out(model1.predict(testX_use_n))\n",
    "    test_acc_ica_f_2.append((1-Pred_correct(test_pred,testY_comp)))\n"
   ]
  },
  {
   "cell_type": "markdown",
   "metadata": {},
   "source": [
    "# EM + ICA + NN Plots"
   ]
  },
  {
   "cell_type": "code",
   "execution_count": 24,
   "metadata": {},
   "outputs": [
    {
     "name": "stdout",
     "output_type": "stream",
     "text": [
      "   Training Set  Validation Set  Testing Set\n",
      "0      7.368421       21.951220    26.470588\n",
      "1     11.578947       23.170732    33.823529\n",
      "2      7.368421       21.951220    27.941176\n",
      "3     11.052632       26.829268    32.352941\n",
      "4      0.000000       26.829268    22.058824\n",
      "5      0.000000       25.609756    20.588235\n",
      "6     11.052632       30.487805    35.294118\n",
      "7     11.052632       23.170732    35.294118\n"
     ]
    },
    {
     "data": {
      "image/png": "[encoded data removed]",
      "text/plain": [
       "<matplotlib.figure.Figure at 0x55bc8d0>"
      ]
     },
     "metadata": {},
     "output_type": "display_data"
    }
   ],
   "source": [
    "plt.scatter(np.arange(2,len(train_acc_ica_f_2)+2),np.array(train_acc_ica_f_2)*100,label='Training Set Accuracy')\n",
    "plt.scatter(np.arange(2,len(train_acc_ica_f_2)+2),np.array(val_acc_ica_f_2)*100,label='Validation Set Accuracy')\n",
    "plt.scatter(np.arange(2,len(train_acc_ica_f_2)+2),np.array(test_acc_ica_f_2)*100,label='Testing Set Accuracy')\n",
    "plt.xlabel('Number of Components')\n",
    "plt.ylabel('Misclassification Error (%)')\n",
    "plt.ylim([0,50])\n",
    "plt.legend()\n",
    "plt.grid(True)\n",
    "\n",
    "results_f = pd.DataFrame(data = np.transpose([np.array(train_acc_ica_f_2)*100,np.array(val_acc_ica_f_2)*100,np.array(test_acc_ica_f_2)*100]),columns=['Training Set', 'Validation Set', 'Testing Set'])\n",
    "print(results_f)"
   ]
  },
  {
   "cell_type": "markdown",
   "metadata": {},
   "source": [
    "# PCA"
   ]
  },
  {
   "cell_type": "code",
   "execution_count": 25,
   "metadata": {},
   "outputs": [
    {
     "name": "stdout",
     "output_type": "stream",
     "text": [
      "1     0.410184\n",
      "2     0.706411\n",
      "3     0.856949\n",
      "4     0.911470\n",
      "5     0.941464\n",
      "6     0.967757\n",
      "7     0.979939\n",
      "8     0.987934\n",
      "9     0.993222\n",
      "10    0.996390\n",
      "11    0.998017\n",
      "12    0.999150\n",
      "13    0.999983\n",
      "14    1.000000\n",
      "dtype: float64\n"
     ]
    },
    {
     "data": {
      "image/png": "[encoded data removed]",
      "text/plain": [
       "<matplotlib.figure.Figure at 0x55b2dd8>"
      ]
     },
     "metadata": {},
     "output_type": "display_data"
    }
   ],
   "source": [
    "# Compute ICA\n",
    "\n",
    "# ica = FastICA(n_components=11)\n",
    "# S_ = ica.fit_transform(trainX_scaled)  # Reconstruct signals\n",
    "# A_ = ica.mixing_  # Get estimated mixing matrix\n",
    "\n",
    "# print(kurtosis(S_,axis=0))\n",
    "n_comp = 14\n",
    "pca = PCA(n_components=n_comp,random_state=1)\n",
    "trainX_transformed = pca.fit_transform(trainX_S)\n",
    "testX_transformed = pca.transform(testX_S)\n",
    "\n",
    "tmp = pd.Series(data = pca.explained_variance_ratio_ ,index = range(1,n_comp+1))\n",
    "tmp2 = pd.Series(data = pca.explained_variance_ ,index = range(1,n_comp+1))\n",
    "\n",
    "\n",
    "mat = np.cumsum(tmp2)/np.sum(tmp2)\n",
    "print(mat)\n",
    "plt.plot(np.cumsum(tmp2)/np.sum(tmp2))\n",
    "plt.xlabel('Number of components')\n",
    "plt.ylabel('Reconstruction Error (%)')\n",
    "plt.show()\n",
    "\n"
   ]
  },
  {
   "cell_type": "markdown",
   "metadata": {},
   "source": [
    "# PCA + NN"
   ]
  },
  {
   "cell_type": "code",
   "execution_count": 26,
   "metadata": {},
   "outputs": [
    {
     "name": "stdout",
     "output_type": "stream",
     "text": [
      "1\n",
      "2\n",
      "3\n",
      "4\n",
      "5\n",
      "6\n",
      "7\n",
      "8\n",
      "9\n",
      "10\n",
      "11\n",
      "12\n",
      "13\n",
      "14\n"
     ]
    }
   ],
   "source": [
    "train_all = []\n",
    "test_all = []\n",
    "train_acc = []\n",
    "val_acc = []\n",
    "test_acc = []\n",
    "\n",
    "for i in range(1,15):\n",
    "    print(i)\n",
    "    trainX_S_use = trainX_transformed[:,:i]\n",
    "    testX_S_use = testX_transformed[:,:i]\n",
    "    \n",
    "    trainX_use = trainX_S_use[values,:]\n",
    "    trainY_use = trainY[values,:]\n",
    "\n",
    "    \n",
    "\n",
    "    model = Sequential()\n",
    "    model.add(Dense(250, input_dim=i, kernel_initializer='normal', activation='relu'))\n",
    "    model.add(Dense(36, kernel_initializer='normal', activation='softmax'))\n",
    "    model.compile(loss='categorical_crossentropy', optimizer='adam', metrics=['accuracy'])\n",
    "    # checkpoint\n",
    "    filepath=\"weights.best_leaf.h5\"\n",
    "    checkpoint = ModelCheckpoint(filepath, monitor='val_acc', verbose=0, save_best_only=True, mode='max')\n",
    "    callbacks_list = [checkpoint, TestCallback((testX_S_use,testY)),CSVLogger('1.log')]\n",
    "    hist = model.fit(trainX_use[:-82,:],trainY_use[:-82,:], validation_data=(trainX_use[-82:,:],trainY_use[-82:,:]), epochs=5000, batch_size=40,verbose=0,callbacks=callbacks_list)\n",
    "    \n",
    "    model1 = Sequential()\n",
    "    model1.add(Dense(250, input_dim=i, kernel_initializer='normal', activation='relu'))\n",
    "    model1.add(Dense(36, kernel_initializer='normal', activation='softmax'))\n",
    "    model1.compile(loss='categorical_crossentropy', optimizer='adam', metrics=['accuracy'])\n",
    "    model1.load_weights(\"weights.best_leaf.h5\")\n",
    "\n",
    "\n",
    "    train_pred = convert_out(model1.predict(trainX_use[:-82,:]))\n",
    "    train_act = trainY_comp_use[:-82]\n",
    "    train_acc.append((1-Pred_correct(train_pred,train_act)))\n",
    "\n",
    "    val_pred = convert_out(model1.predict(trainX_use[-82:,:]))\n",
    "    val_act = trainY_comp_use[-82:]\n",
    "    val_acc.append((1-Pred_correct(val_pred,val_act)))\n",
    "\n",
    "    test_pred = convert_out(model1.predict(testX_S_use))\n",
    "    test_acc.append((1-Pred_correct(test_pred,testY_comp)))\n"
   ]
  },
  {
   "cell_type": "markdown",
   "metadata": {},
   "source": [
    "# PCA + NN Plot"
   ]
  },
  {
   "cell_type": "code",
   "execution_count": 27,
   "metadata": {},
   "outputs": [
    {
     "data": {
      "image/png": "[encoded data removed]",
      "text/plain": [
       "<matplotlib.figure.Figure at 0x2b240358>"
      ]
     },
     "metadata": {},
     "output_type": "display_data"
    },
    {
     "name": "stdout",
     "output_type": "stream",
     "text": [
      "            0          1          2\n",
      "0   67.368421  76.829268  85.294118\n",
      "1   50.000000  60.975610  66.176471\n",
      "2    4.736842  47.560976  45.588235\n",
      "3    4.736842  45.121951  35.294118\n",
      "4    0.000000  42.682927  33.823529\n",
      "5    0.000000  41.463415  36.764706\n",
      "6    0.000000  32.926829  26.470588\n",
      "7    4.736842  30.487805  26.470588\n",
      "8    0.526316  30.487805  25.000000\n",
      "9    4.736842  28.048780  23.529412\n",
      "10   0.000000  29.268293  23.529412\n",
      "11   6.842105  29.268293  23.529412\n",
      "12   0.000000  30.487805  30.882353\n",
      "13   7.368421  29.268293  20.588235\n",
      "10\n"
     ]
    }
   ],
   "source": [
    "fig = plt.figure()\n",
    "ax = fig.gca()\n",
    "ax.set_yticks(np.arange(0, 100, 10))\n",
    "ax.set_xticks(np.arange(1,len(train_acc)+1))\n",
    "\n",
    "plt.scatter(np.arange(1,len(train_acc)+1),np.array(train_acc)*100,label='Training Set Accuracy')\n",
    "plt.scatter(np.arange(1,len(train_acc)+1),np.array(val_acc)*100,label='Validation Set Accuracy')\n",
    "plt.scatter(np.arange(1,len(train_acc)+1),np.array(test_acc)*100,label='Testing Set Accuracy')\n",
    "plt.xlabel('Number of Components')\n",
    "plt.ylabel('Misclassification Error (%)')\n",
    "plt.legend()\n",
    "plt.grid(True)\n",
    "plt.show()\n",
    "\n",
    "results = pd.DataFrame(data = np.transpose([np.array(train_acc)*100,np.array(val_acc)*100,np.array(test_acc)*100]))\n",
    "print(results)\n",
    "\n",
    "best_p = np.where(val_acc==np.min(val_acc))[0]+1\n",
    "print(best_p[0])"
   ]
  },
  {
   "cell_type": "markdown",
   "metadata": {},
   "source": [
    "# K Means + PCA"
   ]
  },
  {
   "cell_type": "code",
   "execution_count": 28,
   "metadata": {},
   "outputs": [
    {
     "name": "stdout",
     "output_type": "stream",
     "text": [
      "For n_clusters=2, The Silhouette Coefficient is 0.2611259167054306\n",
      "For n_clusters=3, The Silhouette Coefficient is 0.32478508349195345\n",
      "For n_clusters=4, The Silhouette Coefficient is 0.36265789423122363\n",
      "For n_clusters=5, The Silhouette Coefficient is 0.28879201673351435\n",
      "For n_clusters=6, The Silhouette Coefficient is 0.3029854108597623\n",
      "For n_clusters=7, The Silhouette Coefficient is 0.3133134738983501\n",
      "For n_clusters=8, The Silhouette Coefficient is 0.3242448404887688\n",
      "For n_clusters=9, The Silhouette Coefficient is 0.3378718103105118\n",
      "For n_clusters=10, The Silhouette Coefficient is 0.31031075058951185\n",
      "For n_clusters=11, The Silhouette Coefficient is 0.32332541864882003\n",
      "For n_clusters=12, The Silhouette Coefficient is 0.30992285879086623\n",
      "For n_clusters=13, The Silhouette Coefficient is 0.29850994191970753\n",
      "For n_clusters=14, The Silhouette Coefficient is 0.2952994177535594\n",
      "For n_clusters=15, The Silhouette Coefficient is 0.29029609273524243\n",
      "For n_clusters=16, The Silhouette Coefficient is 0.2980350092254192\n"
     ]
    },
    {
     "name": "stderr",
     "output_type": "stream",
     "text": [
      "No handles with labels found to put in legend.\n"
     ]
    },
    {
     "name": "stdout",
     "output_type": "stream",
     "text": [
      "For n_clusters=17, The Silhouette Coefficient is 0.29695250393941247\n",
      "For n_clusters=18, The Silhouette Coefficient is 0.2990924938488429\n",
      "For n_clusters=19, The Silhouette Coefficient is 0.29483472849923004\n"
     ]
    },
    {
     "data": {
      "image/png": "[encoded data removed]",
      "text/plain": [
       "<matplotlib.figure.Figure at 0x2b256780>"
      ]
     },
     "metadata": {},
     "output_type": "display_data"
    }
   ],
   "source": [
    "trainX_S_use = trainX_transformed[:,:best_p[0]]\n",
    "testX_S_use = testX_transformed[:,:best_p[0]]\n",
    "\n",
    "trainX_use = trainX_S_use[values,:]\n",
    "trainY_use = trainY[values,:]\n",
    "\n",
    "sse = {}\n",
    "for k in range(2, 20):\n",
    "    kmeans = KMeans(n_clusters=k,random_state=1).fit(trainX_use)\n",
    "    #print(data[\"clusters\"])\n",
    "    label = kmeans.labels_\n",
    "    sil_coeff = silhouette_score(trainX_use, label, metric='euclidean')\n",
    "    print(\"For n_clusters={}, The Silhouette Coefficient is {}\".format(k, sil_coeff))\n",
    "    sse[k] = kmeans.inertia_ # Inertia: Sum of distances of samples to their closest cluster center\n",
    "plt.figure()\n",
    "plt.plot(list(sse.keys()), list(sse.values()),'o')\n",
    "plt.xlabel(\"Number of cluster\")\n",
    "plt.ylabel(\"SSE\")\n",
    "plt.xticks(list(sse.keys()))\n",
    "plt.legend()\n",
    "plt.show()\n",
    "    "
   ]
  },
  {
   "cell_type": "markdown",
   "metadata": {},
   "source": [
    "# K Means + PCA + NN"
   ]
  },
  {
   "cell_type": "code",
   "execution_count": 29,
   "metadata": {},
   "outputs": [
    {
     "name": "stdout",
     "output_type": "stream",
     "text": [
      "0\n",
      "1\n",
      "2\n",
      "3\n",
      "4\n",
      "5\n",
      "6\n",
      "7\n"
     ]
    }
   ],
   "source": [
    "l_use = np.arange(2,10)\n",
    "\n",
    "train_acc_ica_p = []\n",
    "val_acc_ica_p = []\n",
    "test_acc_ica_p = []\n",
    "\n",
    "for i in range(len(l_use)):\n",
    "    print(i)\n",
    "    km = KMeans(n_clusters=l_use[i],random_state=2)\n",
    "    km.fit(trainX_use)\n",
    "    # print(km.labels_)\n",
    "    # plt.hist(km.labels_,l_use)\n",
    "    # plt.show()\n",
    "    lab_tr = km.predict(trainX_use)\n",
    "    lab_te = km.predict(testX_S_use)\n",
    "\n",
    "    enc = OneHotEncoder(handle_unknown='ignore')\n",
    "    enc.fit(lab_tr.reshape(-1, 1))\n",
    "    lab_train=enc.transform(lab_tr.reshape(-1, 1)).toarray()\n",
    "    lab_test = enc.transform(lab_te.reshape(-1, 1)).toarray()\n",
    "\n",
    "    r,c = np.shape(trainX_use)\n",
    "    trainX_use_n = np.hstack((trainX_use,lab_train))\n",
    "    testX_use_n = np.hstack((testX_S_use,lab_test))\n",
    "\n",
    "    model = Sequential()\n",
    "    model.add(Dense(250, input_dim=c+l_use[i], kernel_initializer='normal', activation='relu'))\n",
    "    model.add(Dense(36, kernel_initializer='normal', activation='softmax'))\n",
    "    model.compile(loss='categorical_crossentropy', optimizer='adam', metrics=['accuracy'])\n",
    "    # checkpoint\n",
    "\n",
    "    filepath=\"weights.best_leaf.h5\"\n",
    "    checkpoint = ModelCheckpoint(filepath, monitor='val_acc', verbose=0, save_best_only=True, mode='max')\n",
    "    callbacks_list = [checkpoint, TestCallback((testX_use_n,testY)),CSVLogger('1.log')]\n",
    "    hist = model.fit(trainX_use_n[:-82,:],trainY_use[:-82,:], validation_data=(trainX_use_n[-82:,:],trainY_use[-82:,:]), epochs=5000, batch_size=40,verbose=0,callbacks=callbacks_list)\n",
    "\n",
    "    model1 = Sequential()\n",
    "    model1.add(Dense(250, input_dim=c+l_use[i], kernel_initializer='normal', activation='relu'))\n",
    "    model1.add(Dense(36, kernel_initializer='normal', activation='softmax'))\n",
    "    model1.compile(loss='categorical_crossentropy', optimizer='adam', metrics=['accuracy'])\n",
    "    model1.load_weights(\"weights.best_leaf.h5\")\n",
    "\n",
    "\n",
    "    train_pred = convert_out(model1.predict(trainX_use_n[:-82,:]))\n",
    "    train_act = trainY_comp_use[:-82]\n",
    "    train_acc_ica_p.append((1-Pred_correct(train_pred,train_act)))\n",
    "\n",
    "    val_pred = convert_out(model1.predict(trainX_use_n[-82:,:]))\n",
    "    val_act = trainY_comp_use[-82:]\n",
    "    val_acc_ica_p.append((1-Pred_correct(val_pred,val_act)))\n",
    "\n",
    "    test_pred = convert_out(model1.predict(testX_use_n))\n",
    "    test_acc_ica_p.append((1-Pred_correct(test_pred,testY_comp)))\n",
    "\n"
   ]
  },
  {
   "cell_type": "markdown",
   "metadata": {},
   "source": [
    "# K Means + PCA + NN Plot"
   ]
  },
  {
   "cell_type": "code",
   "execution_count": 30,
   "metadata": {},
   "outputs": [
    {
     "name": "stdout",
     "output_type": "stream",
     "text": [
      "   Training Set  Validation Set  Testing Set\n",
      "0      2.105263       29.268293    23.529412\n",
      "1      5.263158       30.487805    20.588235\n",
      "2      3.157895       24.390244    22.058824\n",
      "3      0.000000       30.487805    20.588235\n",
      "4      1.578947       30.487805    22.058824\n",
      "5      6.315789       28.048780    22.058824\n",
      "6      1.578947       25.609756    20.588235\n",
      "7      8.947368       28.048780    26.470588\n"
     ]
    },
    {
     "data": {
      "image/png": "[encoded data removed]",
      "text/plain": [
       "<matplotlib.figure.Figure at 0x34bdcd30>"
      ]
     },
     "metadata": {},
     "output_type": "display_data"
    }
   ],
   "source": [
    "fig = plt.figure()\n",
    "ax = fig.gca()\n",
    "ax.set_yticks(np.arange(0, 100, 10))\n",
    "ax.set_xticks(np.arange(1,len(train_acc_ica_p)+1))\n",
    "\n",
    "plt.scatter(np.arange(1,len(train_acc_ica_p)+1),np.array(train_acc_ica_p)*100,label='Training Set Accuracy')\n",
    "plt.scatter(np.arange(1,len(train_acc_ica_p)+1),np.array(val_acc_ica_p)*100,label='Validation Set Accuracy')\n",
    "plt.scatter(np.arange(1,len(train_acc_ica_p)+1),np.array(test_acc_ica_p)*100,label='Testing Set Accuracy')\n",
    "plt.xlabel('Number of Components')\n",
    "plt.ylabel('Misclassification Error (%)')\n",
    "plt.ylim([0,50])\n",
    "plt.legend()\n",
    "plt.grid(True)\n",
    "\n",
    "results_f = pd.DataFrame(data = np.transpose([np.array(train_acc_ica_p)*100,np.array(val_acc_ica_p)*100,np.array(test_acc_ica_p)*100]),columns=['Training Set', 'Validation Set', 'Testing Set'])\n",
    "print(results_f)"
   ]
  },
  {
   "cell_type": "markdown",
   "metadata": {},
   "source": [
    "# EM + PCA"
   ]
  },
  {
   "cell_type": "code",
   "execution_count": 31,
   "metadata": {},
   "outputs": [
    {
     "name": "stdout",
     "output_type": "stream",
     "text": [
      "(272, 10)\n"
     ]
    },
    {
     "data": {
      "text/plain": [
       "Text(0.5,0,'Number of components')"
      ]
     },
     "execution_count": 31,
     "metadata": {},
     "output_type": "execute_result"
    },
    {
     "data": {
      "image/png": "[encoded data removed]",
      "text/plain": [
       "<matplotlib.figure.Figure at 0x1eef4f60>"
      ]
     },
     "metadata": {},
     "output_type": "display_data"
    }
   ],
   "source": [
    "lowest_bic = np.infty\n",
    "print(np.shape(trainX_use))\n",
    "bic = []\n",
    "n_components_range = range(1, 20)\n",
    "cv_types = ['full']\n",
    "#cv_types = ['spherical', 'tied', 'diag','full']\n",
    "\n",
    "for n_components in n_components_range:\n",
    "    # Fit a Gaussian mixture with EM\n",
    "    gmm = mixture.GaussianMixture(n_components=n_components,random_state=4)\n",
    "    gmm.fit(trainX_use)\n",
    "    bic.append(gmm.bic(trainX_use))\n",
    "    if bic[-1] < lowest_bic:\n",
    "        lowest_bic = bic[-1]\n",
    "        best_gmm = gmm\n",
    "\n",
    "bic = np.array(bic)\n",
    "color_iter = itertools.cycle(['navy', 'turquoise', 'cornflowerblue',\n",
    "                              'darkorange'])\n",
    "clf = best_gmm\n",
    "bars = []\n",
    "\n",
    "# Plot the BIC scores\n",
    "plt.figure(figsize=(8, 6))\n",
    "spl = plt.subplot(2, 1, 1)\n",
    "for i, (cv_type, color) in enumerate(zip(cv_types, color_iter)):\n",
    "    xpos = np.array(n_components_range) + .2 * (i - 0.05)\n",
    "    bars.append(plt.bar(xpos, bic[i * len(n_components_range):\n",
    "                                  (i + 1) * len(n_components_range)],\n",
    "                        width=.2, color=color))\n",
    "\n",
    "plt.xticks(n_components_range)\n",
    "#plt.ylim([bic.min() * 1.01 - .01 * bic.max(), bic.max()])\n",
    "plt.title('BIC score per model')\n",
    "xpos = np.mod(bic.argmin(), len(n_components_range)) + .65 +\\\n",
    "    .2 * np.floor(bic.argmin() / len(n_components_range))\n",
    "plt.text(xpos+0.5, bic.min() * 0.97 + .03 * bic.max(), '*', fontsize=14)\n",
    "spl.set_xlabel('Number of components')\n",
    "#spl.legend([b[0] for b in bars], cv_types)\n",
    "\n",
    "# # Plot the winner\n",
    "# splot = plt.subplot(2, 1, 2)\n",
    "# Y_ = clf.predict(trainX)\n",
    "\n",
    "# for i, (mean, cov, color) in enumerate(zip(clf.means_, clf.covariances_,\n",
    "#                                            color_iter)):\n",
    "#     v, w = linalg.eigh(cov)\n",
    "#     if not np.any(Y_ == i):\n",
    "#         continue\n",
    "#     plt.scatter(X[Y_ == i, 5], X[Y_ == i, 6], .8, color=color)\n",
    "\n",
    "#     # Plot an ellipse to show the Gaussian component\n",
    "#     angle = np.arctan2(w[0][1], w[0][0])\n",
    "#     angle = 180. * angle / np.pi  # convert to degrees\n",
    "#     v = 2. * np.sqrt(2.) * np.sqrt(v)\n",
    "#     ell = mpl.patches.Ellipse(mean, v[0], v[1], 180. + angle, color=color)\n",
    "#     ell.set_clip_box(splot.bbox)\n",
    "#     ell.set_alpha(.5)\n",
    "#     splot.add_artist(ell)\n",
    "\n",
    "# plt.xticks(())\n",
    "# plt.yticks(())\n",
    "# plt.title('Selected GMM: full model, 2 components')\n",
    "# plt.subplots_adjust(hspace=.35, bottom=.02)\n",
    "# plt.show()"
   ]
  },
  {
   "cell_type": "markdown",
   "metadata": {},
   "source": [
    "# EM + PCA + NN"
   ]
  },
  {
   "cell_type": "code",
   "execution_count": 32,
   "metadata": {},
   "outputs": [
    {
     "name": "stdout",
     "output_type": "stream",
     "text": [
      "0\n",
      "1\n",
      "2\n",
      "3\n",
      "4\n",
      "5\n",
      "6\n",
      "7\n"
     ]
    }
   ],
   "source": [
    "l_use = np.arange(2,10)\n",
    "\n",
    "train_acc_ica_p_2 = []\n",
    "val_acc_ica_p_2 = []\n",
    "test_acc_ica_p_2 = []\n",
    "\n",
    "for i in range(len(l_use)):\n",
    "    print(i)\n",
    "    gmm = GaussianMixture(n_components=l_use[i],random_state=1)\n",
    "    gmm.fit(trainX_use)\n",
    "    tr_lab = gmm.predict(trainX_use)\n",
    "    test_lab = gmm.predict(testX_S_use)\n",
    "\n",
    "    enc = OneHotEncoder(handle_unknown='ignore')\n",
    "    enc.fit(tr_lab.reshape(-1, 1))\n",
    "    lab_train=enc.transform(tr_lab.reshape(-1, 1)).toarray()\n",
    "    lab_test = enc.transform(test_lab.reshape(-1, 1)).toarray()\n",
    "\n",
    "    r,c = np.shape(trainX_use)\n",
    "    trainX_use_n = np.hstack((trainX_use,lab_train))\n",
    "    testX_use_n = np.hstack((testX_S_use,lab_test))\n",
    "\n",
    "    model = Sequential()\n",
    "    model.add(Dense(250, input_dim=c+l_use[i], kernel_initializer='normal', activation='relu'))\n",
    "    model.add(Dense(36, kernel_initializer='normal', activation='softmax'))\n",
    "    model.compile(loss='categorical_crossentropy', optimizer='adam', metrics=['accuracy'])\n",
    "    # checkpoint\n",
    "\n",
    "    filepath=\"weights.best_leaf.h5\"\n",
    "    checkpoint = ModelCheckpoint(filepath, monitor='val_acc', verbose=0, save_best_only=True, mode='max')\n",
    "    callbacks_list = [checkpoint, TestCallback((testX_use_n,testY)),CSVLogger('1.log')]\n",
    "    hist = model.fit(trainX_use_n[:-82,:],trainY_use[:-82,:], validation_data=(trainX_use_n[-82:,:],trainY_use[-82:,:]), epochs=5000, batch_size=40,verbose=0,callbacks=callbacks_list)\n",
    "\n",
    "    model1 = Sequential()\n",
    "    model1.add(Dense(250, input_dim=c+l_use[i], kernel_initializer='normal', activation='relu'))\n",
    "    model1.add(Dense(36, kernel_initializer='normal', activation='softmax'))\n",
    "    model1.compile(loss='categorical_crossentropy', optimizer='adam', metrics=['accuracy'])\n",
    "    model1.load_weights(\"weights.best_leaf.h5\")\n",
    "\n",
    "\n",
    "    train_pred = convert_out(model1.predict(trainX_use_n[:-82,:]))\n",
    "    train_act = trainY_comp_use[:-82]\n",
    "    train_acc_ica_p_2.append((1-Pred_correct(train_pred,train_act)))\n",
    "\n",
    "    val_pred = convert_out(model1.predict(trainX_use_n[-82:,:]))\n",
    "    val_act = trainY_comp_use[-82:]\n",
    "    val_acc_ica_p_2.append((1-Pred_correct(val_pred,val_act)))\n",
    "\n",
    "    test_pred = convert_out(model1.predict(testX_use_n))\n",
    "    test_acc_ica_p_2.append((1-Pred_correct(test_pred,testY_comp)))\n"
   ]
  },
  {
   "cell_type": "markdown",
   "metadata": {},
   "source": [
    "# EM + PCA + NN Plot"
   ]
  },
  {
   "cell_type": "code",
   "execution_count": 33,
   "metadata": {},
   "outputs": [
    {
     "name": "stdout",
     "output_type": "stream",
     "text": [
      "   Training Set  Validation Set  Testing Set\n",
      "0      4.210526       26.829268    20.588235\n",
      "1      6.315789       26.829268    22.058824\n",
      "2      1.052632       28.048780    25.000000\n",
      "3      4.736842       26.829268    25.000000\n",
      "4      7.368421       29.268293    25.000000\n",
      "5      3.157895       28.048780    22.058824\n",
      "6      9.473684       29.268293    22.058824\n",
      "7      7.894737       26.829268    26.470588\n"
     ]
    },
    {
     "data": {
      "image/png": "[encoded data removed]",
      "text/plain": [
       "<matplotlib.figure.Figure at 0x31aeec50>"
      ]
     },
     "metadata": {},
     "output_type": "display_data"
    }
   ],
   "source": [
    "plt.scatter(np.arange(2,len(train_acc_ica_p_2)+2),np.array(train_acc_ica_p_2)*100,label='Training Set Accuracy')\n",
    "plt.scatter(np.arange(2,len(train_acc_ica_p_2)+2),np.array(val_acc_ica_p_2)*100,label='Validation Set Accuracy')\n",
    "plt.scatter(np.arange(2,len(train_acc_ica_p_2)+2),np.array(test_acc_ica_p_2)*100,label='Testing Set Accuracy')\n",
    "plt.xlabel('Number of Components')\n",
    "plt.ylabel('Misclassification Error (%)')\n",
    "plt.ylim([0,50])\n",
    "plt.legend()\n",
    "plt.grid(True)\n",
    "\n",
    "results_p = pd.DataFrame(data = np.transpose([np.array(train_acc_ica_p_2)*100,np.array(val_acc_ica_p_2)*100,np.array(test_acc_ica_p_2)*100]),columns=['Training Set', 'Validation Set', 'Testing Set'])\n",
    "print(results_p)"
   ]
  },
  {
   "cell_type": "markdown",
   "metadata": {},
   "source": [
    "# Random Projections + NN"
   ]
  },
  {
   "cell_type": "code",
   "execution_count": 34,
   "metadata": {},
   "outputs": [
    {
     "name": "stdout",
     "output_type": "stream",
     "text": [
      "1\n",
      "(272, 1)\n",
      "2\n",
      "(272, 2)\n",
      "3\n",
      "(272, 3)\n",
      "4\n",
      "(272, 4)\n",
      "5\n",
      "(272, 5)\n",
      "6\n",
      "(272, 6)\n",
      "7\n",
      "(272, 7)\n",
      "8\n",
      "(272, 8)\n",
      "9\n",
      "(272, 9)\n",
      "10\n",
      "(272, 10)\n",
      "11\n",
      "(272, 11)\n",
      "12\n",
      "(272, 12)\n",
      "13\n",
      "(272, 13)\n",
      "14\n",
      "(272, 14)\n"
     ]
    }
   ],
   "source": [
    "class TestCallback(Callback):\n",
    "    def __init__(self, test_data):\n",
    "        self.test_data = test_data\n",
    "    def on_epoch_end(self, epoch, logs):\n",
    "        x, y = self.test_data\n",
    "        loss, acc = self.model.evaluate(x, y, verbose=0)\n",
    "        logs['test_acc'] = acc\n",
    "\n",
    "comp_to_check = 14\n",
    "rp_sp = np.zeros((comp_to_check-2,2))\n",
    "\n",
    "train_all = []\n",
    "test_all = []\n",
    "train_acc_rp = []\n",
    "val_acc_rp = []\n",
    "test_acc_rp = []\n",
    "\n",
    "\n",
    "for i in range(1,comp_to_check+1):\n",
    "    print(i)\n",
    "    proj = GaussianRandomProjection(n_components=i,random_state=1)\n",
    "    rp1 = proj.fit(trainX_S)\n",
    "    rp_ = proj.transform(trainX_S)\n",
    "    \n",
    "    trainX_transformed = proj.transform(trainX_S)\n",
    "    testX_transformed = proj.transform(testX_S)\n",
    "    \n",
    "    randMat = proj.components_\n",
    "    X_Proj = rp_.dot(randMat)\n",
    "#     rp_sp[i-2,:] = [i,((X_Proj - trainX_scaled)**2).mean()]\n",
    "\n",
    "    trainX_S_use = trainX_transformed\n",
    "    testX_S_use = testX_transformed\n",
    "    print(np.shape(trainX_S_use))\n",
    "    \n",
    "    trainX_use = trainX_S_use[values,:]\n",
    "    trainY_use = trainY[values,:]\n",
    "\n",
    "    \n",
    "\n",
    "    model = Sequential()\n",
    "    model.add(Dense(250, input_dim=i, kernel_initializer='normal', activation='relu'))\n",
    "    model.add(Dense(36, kernel_initializer='normal', activation='softmax'))\n",
    "    model.compile(loss='categorical_crossentropy', optimizer='adam', metrics=['accuracy'])\n",
    "    # checkpoint\n",
    "    filepath=\"weights.best_leaf.h5\"\n",
    "    checkpoint = ModelCheckpoint(filepath, monitor='val_acc', verbose=0, save_best_only=True, mode='max')\n",
    "    callbacks_list = [checkpoint, TestCallback((testX_S_use,testY)),CSVLogger('1.log')]\n",
    "    hist = model.fit(trainX_use[:-82,:],trainY_use[:-82,:], validation_data=(trainX_use[-82:,:],trainY_use[-82:,:]), epochs=5000, batch_size=40,verbose=0,callbacks=callbacks_list)\n",
    "    \n",
    "    model1 = Sequential()\n",
    "    model1.add(Dense(250, input_dim=i, kernel_initializer='normal', activation='relu'))\n",
    "    model1.add(Dense(36, kernel_initializer='normal', activation='softmax'))\n",
    "    model1.compile(loss='categorical_crossentropy', optimizer='adam', metrics=['accuracy'])\n",
    "    model1.load_weights(\"weights.best_leaf.h5\")\n",
    "\n",
    "\n",
    "    train_pred = convert_out(model1.predict(trainX_use[:-82,:]))\n",
    "    train_act = trainY_comp_use[:-82]\n",
    "    train_acc_rp.append((1-Pred_correct(train_pred,train_act)))\n",
    "\n",
    "    val_pred = convert_out(model1.predict(trainX_use[-82:,:]))\n",
    "    val_act = trainY_comp_use[-82:]\n",
    "    val_acc_rp.append((1-Pred_correct(val_pred,val_act)))\n",
    "\n",
    "    test_pred = convert_out(model1.predict(testX_S_use))\n",
    "    test_acc_rp.append((1-Pred_correct(test_pred,testY_comp)))"
   ]
  },
  {
   "cell_type": "markdown",
   "metadata": {},
   "source": [
    "# Random Projections + NN Plot"
   ]
  },
  {
   "cell_type": "code",
   "execution_count": 35,
   "metadata": {},
   "outputs": [
    {
     "data": {
      "image/png": "[encoded data removed]",
      "text/plain": [
       "<matplotlib.figure.Figure at 0x401b4198>"
      ]
     },
     "metadata": {},
     "output_type": "display_data"
    },
    {
     "name": "stdout",
     "output_type": "stream",
     "text": [
      "            0          1          2\n",
      "0   74.210526  70.731707  89.705882\n",
      "1    7.368421  59.756098  64.705882\n",
      "2   28.421053  48.780488  55.882353\n",
      "3    0.000000  43.902439  50.000000\n",
      "4   10.526316  43.902439  39.705882\n",
      "5   14.210526  37.804878  35.294118\n",
      "6    5.263158  39.024390  32.352941\n",
      "7    7.894737  37.804878  29.411765\n",
      "8   13.684211  34.146341  26.470588\n",
      "9    3.157895  31.707317  25.000000\n",
      "10   2.631579  36.585366  25.000000\n",
      "11   1.578947  35.365854  29.411765\n",
      "12   2.631579  30.487805  22.058824\n",
      "13   5.789474  35.365854  27.941176\n",
      "13\n"
     ]
    }
   ],
   "source": [
    "fig = plt.figure()\n",
    "ax = fig.gca()\n",
    "ax.set_yticks(np.arange(0, 100, 10))\n",
    "ax.set_xticks(np.arange(1,len(train_acc)+1))\n",
    "\n",
    "plt.scatter(np.arange(1,len(train_acc_rp)+1),np.array(train_acc_rp)*100,label='Training Set Accuracy')\n",
    "plt.scatter(np.arange(1,len(train_acc_rp)+1),np.array(val_acc_rp)*100,label='Validation Set Accuracy')\n",
    "plt.scatter(np.arange(1,len(train_acc_rp)+1),np.array(test_acc_rp)*100,label='Testing Set Accuracy')\n",
    "plt.xlabel('Number of Components')\n",
    "plt.ylabel('Misclassification Error (%)')\n",
    "plt.legend()\n",
    "plt.grid(True)\n",
    "plt.show()\n",
    "\n",
    "results_rp = pd.DataFrame(data = np.transpose([np.array(train_acc_rp)*100,np.array(val_acc_rp)*100,np.array(test_acc_rp)*100]))\n",
    "print(results_rp)\n",
    "\n",
    "best_rp = np.where(val_acc_rp==np.min(val_acc_rp))[0]+1\n",
    "print(best_rp[0])\n",
    "\n",
    "# plt.scatter(rp_sp[:,0],rp_sp[:,1])\n",
    "# plt.xlabel('Number of Components')\n",
    "# plt.ylabel('Reconstruction MSE')\n",
    "# plt.show()"
   ]
  },
  {
   "cell_type": "markdown",
   "metadata": {},
   "source": [
    "# K Means + RP"
   ]
  },
  {
   "cell_type": "code",
   "execution_count": 36,
   "metadata": {},
   "outputs": [
    {
     "name": "stdout",
     "output_type": "stream",
     "text": [
      "For n_clusters=2, The Silhouette Coefficient is 0.46658724098264803\n",
      "For n_clusters=3, The Silhouette Coefficient is 0.28164983664650983\n",
      "For n_clusters=4, The Silhouette Coefficient is 0.2968836203056276\n",
      "For n_clusters=5, The Silhouette Coefficient is 0.3187141576113472\n",
      "For n_clusters=6, The Silhouette Coefficient is 0.3250367372307795\n",
      "For n_clusters=7, The Silhouette Coefficient is 0.3164720160025854\n",
      "For n_clusters=8, The Silhouette Coefficient is 0.2954656456719272\n",
      "For n_clusters=9, The Silhouette Coefficient is 0.2828474648117771\n",
      "For n_clusters=10, The Silhouette Coefficient is 0.2675757889868339\n",
      "For n_clusters=11, The Silhouette Coefficient is 0.2657644534567497\n",
      "For n_clusters=12, The Silhouette Coefficient is 0.26545416362849206\n",
      "For n_clusters=13, The Silhouette Coefficient is 0.2907060398956234\n",
      "For n_clusters=14, The Silhouette Coefficient is 0.2485400129838687\n",
      "For n_clusters=15, The Silhouette Coefficient is 0.26956116418152914\n",
      "For n_clusters=16, The Silhouette Coefficient is 0.2788105067403895\n",
      "For n_clusters=17, The Silhouette Coefficient is 0.27111170181667604\n"
     ]
    },
    {
     "name": "stderr",
     "output_type": "stream",
     "text": [
      "No handles with labels found to put in legend.\n"
     ]
    },
    {
     "name": "stdout",
     "output_type": "stream",
     "text": [
      "For n_clusters=18, The Silhouette Coefficient is 0.2929457165598682\n",
      "For n_clusters=19, The Silhouette Coefficient is 0.2687054636581356\n"
     ]
    },
    {
     "data": {
      "image/png": "[encoded data removed]",
      "text/plain": [
       "<matplotlib.figure.Figure at 0x48572f60>"
      ]
     },
     "metadata": {},
     "output_type": "display_data"
    }
   ],
   "source": [
    "proj = GaussianRandomProjection(n_components=best_rp[0],random_state=1)\n",
    "rp1 = proj.fit(trainX_S)\n",
    "rp_ = proj.transform(trainX_S)\n",
    "\n",
    "trainX_transformed = proj.transform(trainX_S)\n",
    "testX_transformed = proj.transform(testX_S)\n",
    "\n",
    "randMat = proj.components_\n",
    "X_Proj = rp_.dot(randMat)\n",
    "#     rp_sp[i-2,:] = [i,((X_Proj - trainX_scaled)**2).mean()]\n",
    "\n",
    "trainX_S_use = trainX_transformed\n",
    "testX_S_use = testX_transformed\n",
    "\n",
    "trainX_use = trainX_S_use[values,:]\n",
    "trainY_use = trainY[values,:]\n",
    "\n",
    "sse = {}\n",
    "for k in range(2, 20):\n",
    "    kmeans = KMeans(n_clusters=k,random_state=1).fit(trainX_use)\n",
    "    #print(data[\"clusters\"])\n",
    "    label = kmeans.labels_\n",
    "    sil_coeff = silhouette_score(trainX_use, label, metric='euclidean')\n",
    "    print(\"For n_clusters={}, The Silhouette Coefficient is {}\".format(k, sil_coeff))\n",
    "    sse[k] = kmeans.inertia_ # Inertia: Sum of distances of samples to their closest cluster center\n",
    "plt.figure()\n",
    "plt.plot(list(sse.keys()), list(sse.values()),'o')\n",
    "plt.xlabel(\"Number of cluster\")\n",
    "plt.ylabel(\"SSE\")\n",
    "plt.xticks(list(sse.keys()))\n",
    "plt.legend()\n",
    "plt.show()\n",
    "    "
   ]
  },
  {
   "cell_type": "markdown",
   "metadata": {},
   "source": [
    "# K Means + RP + NN"
   ]
  },
  {
   "cell_type": "code",
   "execution_count": 37,
   "metadata": {},
   "outputs": [
    {
     "name": "stdout",
     "output_type": "stream",
     "text": [
      "0\n",
      "1\n",
      "2\n",
      "3\n",
      "4\n",
      "5\n",
      "6\n",
      "7\n"
     ]
    }
   ],
   "source": [
    "l_use = np.arange(2,10)\n",
    "\n",
    "train_acc_rp_f = []\n",
    "val_acc_rp_f = []\n",
    "test_acc_rp_f = []\n",
    "\n",
    "for i in range(len(l_use)):\n",
    "    print(i)\n",
    "    km = KMeans(n_clusters=l_use[i],random_state=2)\n",
    "    km.fit(trainX_use)\n",
    "    # print(km.labels_)\n",
    "    # plt.hist(km.labels_,l_use)\n",
    "    # plt.show()\n",
    "    lab_tr = km.predict(trainX_use)\n",
    "    lab_te = km.predict(testX_S_use)\n",
    "\n",
    "    enc = OneHotEncoder(handle_unknown='ignore')\n",
    "    enc.fit(lab_tr.reshape(-1, 1))\n",
    "    lab_train=enc.transform(lab_tr.reshape(-1, 1)).toarray()\n",
    "    lab_test = enc.transform(lab_te.reshape(-1, 1)).toarray()\n",
    "\n",
    "    r,c = np.shape(trainX_use)\n",
    "    trainX_use_n = np.hstack((trainX_use,lab_train))\n",
    "    testX_use_n = np.hstack((testX_S_use,lab_test))\n",
    "\n",
    "    model = Sequential()\n",
    "    model.add(Dense(250, input_dim=c+l_use[i], kernel_initializer='normal', activation='relu'))\n",
    "    model.add(Dense(36, kernel_initializer='normal', activation='softmax'))\n",
    "    model.compile(loss='categorical_crossentropy', optimizer='adam', metrics=['accuracy'])\n",
    "    # checkpoint\n",
    "\n",
    "    filepath=\"weights.best_leaf.h5\"\n",
    "    checkpoint = ModelCheckpoint(filepath, monitor='val_acc', verbose=0, save_best_only=True, mode='max')\n",
    "    callbacks_list = [checkpoint, TestCallback((testX_use_n,testY)),CSVLogger('1.log')]\n",
    "    hist = model.fit(trainX_use_n[:-82,:],trainY_use[:-82,:], validation_data=(trainX_use_n[-82:,:],trainY_use[-82:,:]), epochs=5000, batch_size=40,verbose=0,callbacks=callbacks_list)\n",
    "\n",
    "    model1 = Sequential()\n",
    "    model1.add(Dense(250, input_dim=c+l_use[i], kernel_initializer='normal', activation='relu'))\n",
    "    model1.add(Dense(36, kernel_initializer='normal', activation='softmax'))\n",
    "    model1.compile(loss='categorical_crossentropy', optimizer='adam', metrics=['accuracy'])\n",
    "    model1.load_weights(\"weights.best_leaf.h5\")\n",
    "\n",
    "\n",
    "    train_pred = convert_out(model1.predict(trainX_use_n[:-82,:]))\n",
    "    train_act = trainY_comp_use[:-82]\n",
    "    train_acc_rp_f.append((1-Pred_correct(train_pred,train_act)))\n",
    "\n",
    "    val_pred = convert_out(model1.predict(trainX_use_n[-82:,:]))\n",
    "    val_act = trainY_comp_use[-82:]\n",
    "    val_acc_rp_f.append((1-Pred_correct(val_pred,val_act)))\n",
    "\n",
    "    test_pred = convert_out(model1.predict(testX_use_n))\n",
    "    test_acc_rp_f.append((1-Pred_correct(test_pred,testY_comp)))\n",
    "\n"
   ]
  },
  {
   "cell_type": "markdown",
   "metadata": {},
   "source": [
    "# K Means + RP + NN Plot"
   ]
  },
  {
   "cell_type": "code",
   "execution_count": 38,
   "metadata": {},
   "outputs": [
    {
     "name": "stdout",
     "output_type": "stream",
     "text": [
      "   Training Set  Validation Set  Testing Set\n",
      "0      4.736842       29.268293    23.529412\n",
      "1      4.210526       30.487805    25.000000\n",
      "2      3.684211       30.487805    27.941176\n",
      "3      4.210526       32.926829    23.529412\n",
      "4      4.736842       32.926829    23.529412\n",
      "5      0.526316       35.365854    30.882353\n",
      "6      3.157895       34.146341    29.411765\n",
      "7      2.105263       35.365854    23.529412\n"
     ]
    },
    {
     "data": {
      "image/png": "[encoded data removed]",
      "text/plain": [
       "<matplotlib.figure.Figure at 0x349e7630>"
      ]
     },
     "metadata": {},
     "output_type": "display_data"
    }
   ],
   "source": [
    "fig = plt.figure()\n",
    "ax = fig.gca()\n",
    "ax.set_yticks(np.arange(0, 100, 10))\n",
    "ax.set_xticks(np.arange(1,len(train_acc_rp_f)+1))\n",
    "\n",
    "plt.scatter(np.arange(1,len(train_acc_rp_f)+1),np.array(train_acc_rp_f)*100,label='Training Set Accuracy')\n",
    "plt.scatter(np.arange(1,len(train_acc_rp_f)+1),np.array(val_acc_rp_f)*100,label='Validation Set Accuracy')\n",
    "plt.scatter(np.arange(1,len(train_acc_rp_f)+1),np.array(test_acc_rp_f)*100,label='Testing Set Accuracy')\n",
    "plt.xlabel('Number of Components')\n",
    "plt.ylabel('Misclassification Error (%)')\n",
    "plt.ylim([0,50])\n",
    "plt.legend()\n",
    "plt.grid(True)\n",
    "\n",
    "results_f = pd.DataFrame(data = np.transpose([np.array(train_acc_rp_f)*100,np.array(val_acc_rp_f)*100,np.array(test_acc_rp_f)*100]),columns=['Training Set', 'Validation Set', 'Testing Set'])\n",
    "print(results_f)"
   ]
  },
  {
   "cell_type": "markdown",
   "metadata": {},
   "source": [
    "# EM + RP"
   ]
  },
  {
   "cell_type": "code",
   "execution_count": 39,
   "metadata": {},
   "outputs": [
    {
     "data": {
      "text/plain": [
       "Text(0.5,0,'Number of components')"
      ]
     },
     "execution_count": 39,
     "metadata": {},
     "output_type": "execute_result"
    },
    {
     "data": {
      "image/png": "[encoded data removed]",
      "text/plain": [
       "<matplotlib.figure.Figure at 0x28723a90>"
      ]
     },
     "metadata": {},
     "output_type": "display_data"
    }
   ],
   "source": [
    "lowest_bic = np.infty\n",
    "\n",
    "bic = []\n",
    "n_components_range = range(1, 20)\n",
    "cv_types = ['full']\n",
    "#cv_types = ['spherical', 'tied', 'diag','full']\n",
    "\n",
    "for n_components in n_components_range:\n",
    "    # Fit a Gaussian mixture with EM\n",
    "    gmm = mixture.GaussianMixture(n_components=n_components,random_state=4)\n",
    "    gmm.fit(trainX_use)\n",
    "    bic.append(gmm.bic(trainX_use))\n",
    "    if bic[-1] < lowest_bic:\n",
    "        lowest_bic = bic[-1]\n",
    "        best_gmm = gmm\n",
    "\n",
    "bic = np.array(bic)\n",
    "color_iter = itertools.cycle(['navy', 'turquoise', 'cornflowerblue',\n",
    "                              'darkorange'])\n",
    "clf = best_gmm\n",
    "bars = []\n",
    "\n",
    "# Plot the BIC scores\n",
    "plt.figure(figsize=(8, 6))\n",
    "spl = plt.subplot(2, 1, 1)\n",
    "for i, (cv_type, color) in enumerate(zip(cv_types, color_iter)):\n",
    "    xpos = np.array(n_components_range) + .2 * (i - 0.05)\n",
    "    bars.append(plt.bar(xpos, bic[i * len(n_components_range):\n",
    "                                  (i + 1) * len(n_components_range)],\n",
    "                        width=.2, color=color))\n",
    "\n",
    "plt.xticks(n_components_range)\n",
    "#plt.ylim([bic.min() * 1.01 - .01 * bic.max(), bic.max()])\n",
    "plt.title('BIC score per model')\n",
    "xpos = np.mod(bic.argmin(), len(n_components_range)) + .65 +\\\n",
    "    .2 * np.floor(bic.argmin() / len(n_components_range))\n",
    "plt.text(xpos+0.5, bic.min() * 0.97 + .03 * bic.max(), '*', fontsize=14)\n",
    "spl.set_xlabel('Number of components')\n",
    "#spl.legend([b[0] for b in bars], cv_types)\n",
    "\n",
    "# # Plot the winner\n",
    "# splot = plt.subplot(2, 1, 2)\n",
    "# Y_ = clf.predict(trainX)\n",
    "\n",
    "# for i, (mean, cov, color) in enumerate(zip(clf.means_, clf.covariances_,\n",
    "#                                            color_iter)):\n",
    "#     v, w = linalg.eigh(cov)\n",
    "#     if not np.any(Y_ == i):\n",
    "#         continue\n",
    "#     plt.scatter(X[Y_ == i, 5], X[Y_ == i, 6], .8, color=color)\n",
    "\n",
    "#     # Plot an ellipse to show the Gaussian component\n",
    "#     angle = np.arctan2(w[0][1], w[0][0])\n",
    "#     angle = 180. * angle / np.pi  # convert to degrees\n",
    "#     v = 2. * np.sqrt(2.) * np.sqrt(v)\n",
    "#     ell = mpl.patches.Ellipse(mean, v[0], v[1], 180. + angle, color=color)\n",
    "#     ell.set_clip_box(splot.bbox)\n",
    "#     ell.set_alpha(.5)\n",
    "#     splot.add_artist(ell)\n",
    "\n",
    "# plt.xticks(())\n",
    "# plt.yticks(())\n",
    "# plt.title('Selected GMM: full model, 2 components')\n",
    "# plt.subplots_adjust(hspace=.35, bottom=.02)\n",
    "# plt.show()"
   ]
  },
  {
   "cell_type": "markdown",
   "metadata": {},
   "source": [
    "# EM + RP + NN"
   ]
  },
  {
   "cell_type": "code",
   "execution_count": 40,
   "metadata": {},
   "outputs": [
    {
     "name": "stdout",
     "output_type": "stream",
     "text": [
      "0\n",
      "1\n",
      "2\n",
      "3\n",
      "4\n",
      "5\n",
      "6\n",
      "7\n"
     ]
    }
   ],
   "source": [
    "l_use = np.arange(2,10)\n",
    "\n",
    "train_acc_rp_2 = []\n",
    "val_acc_rp_2 = []\n",
    "test_acc_rp_2 = []\n",
    "\n",
    "for i in range(len(l_use)):\n",
    "    print(i)\n",
    "    gmm = GaussianMixture(n_components=l_use[i],random_state=1)\n",
    "    gmm.fit(trainX_use)\n",
    "    tr_lab = gmm.predict(trainX_use)\n",
    "    test_lab = gmm.predict(testX_S_use)\n",
    "\n",
    "    enc = OneHotEncoder(handle_unknown='ignore')\n",
    "    enc.fit(tr_lab.reshape(-1, 1))\n",
    "    lab_train=enc.transform(tr_lab.reshape(-1, 1)).toarray()\n",
    "    lab_test = enc.transform(test_lab.reshape(-1, 1)).toarray()\n",
    "\n",
    "    r,c = np.shape(trainX_use)\n",
    "    trainX_use_n = np.hstack((trainX_use,lab_train))\n",
    "    testX_use_n = np.hstack((testX_S_use,lab_test))\n",
    "\n",
    "    model = Sequential()\n",
    "    model.add(Dense(250, input_dim=c+l_use[i], kernel_initializer='normal', activation='relu'))\n",
    "    model.add(Dense(36, kernel_initializer='normal', activation='softmax'))\n",
    "    model.compile(loss='categorical_crossentropy', optimizer='adam', metrics=['accuracy'])\n",
    "    # checkpoint\n",
    "\n",
    "    filepath=\"weights.best_leaf.h5\"\n",
    "    checkpoint = ModelCheckpoint(filepath, monitor='val_acc', verbose=0, save_best_only=True, mode='max')\n",
    "    callbacks_list = [checkpoint, TestCallback((testX_use_n,testY)),CSVLogger('1.log')]\n",
    "    hist = model.fit(trainX_use_n[:-82,:],trainY_use[:-82,:], validation_data=(trainX_use_n[-82:,:],trainY_use[-82:,:]), epochs=5000, batch_size=40,verbose=0,callbacks=callbacks_list)\n",
    "\n",
    "    model1 = Sequential()\n",
    "    model1.add(Dense(250, input_dim=c+l_use[i], kernel_initializer='normal', activation='relu'))\n",
    "    model1.add(Dense(36, kernel_initializer='normal', activation='softmax'))\n",
    "    model1.compile(loss='categorical_crossentropy', optimizer='adam', metrics=['accuracy'])\n",
    "    model1.load_weights(\"weights.best_leaf.h5\")\n",
    "\n",
    "\n",
    "    train_pred = convert_out(model1.predict(trainX_use_n[:-82,:]))\n",
    "    train_act = trainY_comp_use[:-82]\n",
    "    train_acc_rp_2.append((1-Pred_correct(train_pred,train_act)))\n",
    "\n",
    "    val_pred = convert_out(model1.predict(trainX_use_n[-82:,:]))\n",
    "    val_act = trainY_comp_use[-82:]\n",
    "    val_acc_rp_2.append((1-Pred_correct(val_pred,val_act)))\n",
    "\n",
    "    test_pred = convert_out(model1.predict(testX_use_n))\n",
    "    test_acc_rp_2.append((1-Pred_correct(test_pred,testY_comp)))\n"
   ]
  },
  {
   "cell_type": "markdown",
   "metadata": {},
   "source": [
    "# EM + RP + NN Plot"
   ]
  },
  {
   "cell_type": "code",
   "execution_count": 41,
   "metadata": {},
   "outputs": [
    {
     "name": "stdout",
     "output_type": "stream",
     "text": [
      "   Training Set  Validation Set  Testing Set\n",
      "0      4.736842       31.707317     4.736842\n",
      "1      4.210526       30.487805     4.210526\n",
      "2     13.157895       30.487805    13.157895\n",
      "3     10.000000       32.926829    10.000000\n",
      "4     13.157895       35.365854    13.157895\n",
      "5      0.526316       32.926829     0.526316\n",
      "6      8.421053       31.707317     8.421053\n",
      "7     16.842105       32.926829    16.842105\n"
     ]
    },
    {
     "data": {
      "image/png": "[encoded data removed]",
      "text/plain": [
       "<matplotlib.figure.Figure at 0x4be7c240>"
      ]
     },
     "metadata": {},
     "output_type": "display_data"
    }
   ],
   "source": [
    "plt.scatter(np.arange(2,len(train_acc_rp_2)+2),np.array(train_acc_rp_2)*100,label='Training Set Accuracy')\n",
    "plt.scatter(np.arange(2,len(train_acc_rp_2)+2),np.array(val_acc_rp_2)*100,label='Validation Set Accuracy')\n",
    "plt.scatter(np.arange(2,len(train_acc_rp_2)+2),np.array(test_acc_rp_2)*100,label='Testing Set Accuracy')\n",
    "plt.xlabel('Number of Components')\n",
    "plt.ylabel('Misclassification Error (%)')\n",
    "plt.ylim([0,50])\n",
    "plt.legend()\n",
    "plt.grid(True)\n",
    "\n",
    "results_f = pd.DataFrame(data = np.transpose([np.array(train_acc_rp_2)*100,np.array(val_acc_rp_2)*100,np.array(train_acc_rp_2)*100]),columns=['Training Set', 'Validation Set', 'Testing Set'])\n",
    "print(results_f)"
   ]
  },
  {
   "cell_type": "markdown",
   "metadata": {},
   "source": [
    "# LDA"
   ]
  },
  {
   "cell_type": "code",
   "execution_count": 42,
   "metadata": {},
   "outputs": [
    {
     "name": "stdout",
     "output_type": "stream",
     "text": [
      "1     0.397186\n",
      "2     0.709383\n",
      "3     0.782636\n",
      "4     0.843916\n",
      "5     0.889321\n",
      "6     0.923656\n",
      "7     0.950969\n",
      "8     0.970464\n",
      "9     0.981183\n",
      "10    0.988081\n",
      "11    0.993109\n",
      "12    0.996373\n",
      "13    0.999141\n",
      "14    1.000000\n",
      "dtype: float64\n"
     ]
    },
    {
     "data": {
      "image/png": "[encoded data removed]",
      "text/plain": [
       "<matplotlib.figure.Figure at 0x538a3e48>"
      ]
     },
     "metadata": {},
     "output_type": "display_data"
    }
   ],
   "source": [
    "clf  = LinearDiscriminantAnalysis()\n",
    "clf.fit(trainX_S, trainY_comp)\n",
    "trainX_transformed = clf.transform(trainX_S)\n",
    "testX_transformed = clf.transform(testX_S)\n",
    "\n",
    "tmp = pd.Series(data = clf.explained_variance_ratio_ ,index = range(1,14+1))\n",
    "\n",
    "\n",
    "mat = np.cumsum(tmp)/np.sum(tmp)\n",
    "print(mat)\n",
    "plt.plot(np.cumsum(tmp)/np.sum(tmp))\n",
    "plt.xlabel('Number of components')\n",
    "plt.ylabel('Reconstruction Error (%)')\n",
    "plt.show()\n",
    "\n"
   ]
  },
  {
   "cell_type": "markdown",
   "metadata": {},
   "source": [
    "# LDA + NN"
   ]
  },
  {
   "cell_type": "code",
   "execution_count": 43,
   "metadata": {},
   "outputs": [
    {
     "name": "stdout",
     "output_type": "stream",
     "text": [
      "1\n",
      "2\n",
      "3\n",
      "4\n",
      "5\n",
      "6\n",
      "7\n",
      "8\n",
      "9\n",
      "10\n",
      "11\n",
      "12\n",
      "13\n",
      "14\n"
     ]
    }
   ],
   "source": [
    "train_all = []\n",
    "test_all = []\n",
    "train_acc_lda = []\n",
    "val_acc_lda = []\n",
    "test_acc_lda = []\n",
    "\n",
    "for i in range(1,15):\n",
    "    print(i)\n",
    "    trainX_S_use = trainX_transformed[:,:i]\n",
    "    testX_S_use = testX_transformed[:,:i]\n",
    "    \n",
    "    trainX_use = trainX_S_use[values,:]\n",
    "    trainY_use = trainY[values,:]\n",
    "\n",
    "    \n",
    "\n",
    "    model = Sequential()\n",
    "    model.add(Dense(250, input_dim=i, kernel_initializer='normal', activation='relu'))\n",
    "    model.add(Dense(36, kernel_initializer='normal', activation='softmax'))\n",
    "    model.compile(loss='categorical_crossentropy', optimizer='adam', metrics=['accuracy'])\n",
    "    # checkpoint\n",
    "    filepath=\"weights.best_leaf.h5\"\n",
    "    checkpoint = ModelCheckpoint(filepath, monitor='val_acc', verbose=0, save_best_only=True, mode='max')\n",
    "    callbacks_list = [checkpoint, TestCallback((testX_S_use,testY)),CSVLogger('1.log')]\n",
    "    hist = model.fit(trainX_use[:-82,:],trainY_use[:-82,:], validation_data=(trainX_use[-82:,:],trainY_use[-82:,:]), epochs=5000, batch_size=40,verbose=0,callbacks=callbacks_list)\n",
    "    \n",
    "    model1 = Sequential()\n",
    "    model1.add(Dense(250, input_dim=i, kernel_initializer='normal', activation='relu'))\n",
    "    model1.add(Dense(36, kernel_initializer='normal', activation='softmax'))\n",
    "    model1.compile(loss='categorical_crossentropy', optimizer='adam', metrics=['accuracy'])\n",
    "    model1.load_weights(\"weights.best_leaf.h5\")\n",
    "\n",
    "\n",
    "    train_pred = convert_out(model1.predict(trainX_use[:-82,:]))\n",
    "    train_act = trainY_comp_use[:-82]\n",
    "    train_acc_lda.append((1-Pred_correct(train_pred,train_act)))\n",
    "\n",
    "    val_pred = convert_out(model1.predict(trainX_use[-82:,:]))\n",
    "    val_act = trainY_comp_use[-82:]\n",
    "    val_acc_lda.append((1-Pred_correct(val_pred,val_act)))\n",
    "\n",
    "    test_pred = convert_out(model1.predict(testX_S_use))\n",
    "    test_acc_lda.append((1-Pred_correct(test_pred,testY_comp)))\n"
   ]
  },
  {
   "cell_type": "markdown",
   "metadata": {},
   "source": [
    "# LDA + NN Plot"
   ]
  },
  {
   "cell_type": "code",
   "execution_count": 44,
   "metadata": {},
   "outputs": [
    {
     "data": {
      "image/png": "[encoded data removed]",
      "text/plain": [
       "<matplotlib.figure.Figure at 0x56ad49b0>"
      ]
     },
     "metadata": {},
     "output_type": "display_data"
    },
    {
     "name": "stdout",
     "output_type": "stream",
     "text": [
      "            0          1          2\n",
      "0   65.263158  67.073171  77.941176\n",
      "1   33.684211  47.560976  66.176471\n",
      "2   19.473684  35.365854  51.470588\n",
      "3   11.052632  32.926829  45.588235\n",
      "4    5.263158  24.390244  26.470588\n",
      "5    2.105263  24.390244  29.411765\n",
      "6   10.000000  26.829268  29.411765\n",
      "7    0.000000  24.390244  23.529412\n",
      "8    6.842105  25.609756  30.882353\n",
      "9    3.684211  24.390244  26.470588\n",
      "10   2.105263  24.390244  29.411765\n",
      "11   5.263158  20.731707  27.941176\n",
      "12   3.684211  23.170732  29.411765\n",
      "13   6.842105  24.390244  25.000000\n",
      "12\n"
     ]
    }
   ],
   "source": [
    "fig = plt.figure()\n",
    "ax = fig.gca()\n",
    "ax.set_yticks(np.arange(0, 100, 10))\n",
    "ax.set_xticks(np.arange(1,len(train_acc_lda)+1))\n",
    "\n",
    "plt.scatter(np.arange(1,len(train_acc_lda)+1),np.array(train_acc_lda)*100,label='Training Set Accuracy')\n",
    "plt.scatter(np.arange(1,len(train_acc_lda)+1),np.array(val_acc_lda)*100,label='Validation Set Accuracy')\n",
    "plt.scatter(np.arange(1,len(train_acc_lda)+1),np.array(test_acc_lda)*100,label='Testing Set Accuracy')\n",
    "plt.xlabel('Number of Components')\n",
    "plt.ylabel('Misclassification Error (%)')\n",
    "plt.legend()\n",
    "plt.grid(True)\n",
    "plt.show()\n",
    "\n",
    "results = pd.DataFrame(data = np.transpose([np.array(train_acc_lda)*100,np.array(val_acc_lda)*100,np.array(test_acc_lda)*100]))\n",
    "print(results)\n",
    "\n",
    "best_ld = np.where(val_acc_lda==np.min(val_acc_lda))[0]+1\n",
    "print(best_ld[0])"
   ]
  },
  {
   "cell_type": "markdown",
   "metadata": {},
   "source": [
    "# LDA + K Means"
   ]
  },
  {
   "cell_type": "code",
   "execution_count": 45,
   "metadata": {},
   "outputs": [
    {
     "name": "stdout",
     "output_type": "stream",
     "text": [
      "For n_clusters=2, The Silhouette Coefficient is 0.4563371328397359\n",
      "For n_clusters=3, The Silhouette Coefficient is 0.44734658162802743\n",
      "For n_clusters=4, The Silhouette Coefficient is 0.2610306724754126\n",
      "For n_clusters=5, The Silhouette Coefficient is 0.2502033284393342\n",
      "For n_clusters=6, The Silhouette Coefficient is 0.254013080168665\n",
      "For n_clusters=7, The Silhouette Coefficient is 0.26879591480830156\n",
      "For n_clusters=8, The Silhouette Coefficient is 0.257305275708404\n",
      "For n_clusters=9, The Silhouette Coefficient is 0.28329941594907987\n",
      "For n_clusters=10, The Silhouette Coefficient is 0.2781711226336477\n",
      "For n_clusters=11, The Silhouette Coefficient is 0.27172185408713173\n",
      "For n_clusters=12, The Silhouette Coefficient is 0.2951785064556951\n",
      "For n_clusters=13, The Silhouette Coefficient is 0.28366654045161327\n",
      "For n_clusters=14, The Silhouette Coefficient is 0.287924557218173\n",
      "For n_clusters=15, The Silhouette Coefficient is 0.26039798852121654\n",
      "For n_clusters=16, The Silhouette Coefficient is 0.27785363737870017\n",
      "For n_clusters=17, The Silhouette Coefficient is 0.29492539060031825\n",
      "For n_clusters=18, The Silhouette Coefficient is 0.28312209893768825\n",
      "For n_clusters=19, The Silhouette Coefficient is 0.2912884980659774\n"
     ]
    },
    {
     "name": "stderr",
     "output_type": "stream",
     "text": [
      "No handles with labels found to put in legend.\n"
     ]
    },
    {
     "data": {
      "image/png": "[encoded data removed]",
      "text/plain": [
       "<matplotlib.figure.Figure at 0x57f9b4e0>"
      ]
     },
     "metadata": {},
     "output_type": "display_data"
    }
   ],
   "source": [
    "trainX_S_use = trainX_transformed[:,:best_ld[0]]\n",
    "testX_S_use = testX_transformed[:,:best_ld[0]]\n",
    "\n",
    "trainX_use = trainX_S_use[values,:]\n",
    "trainY_use = trainY[values,:]\n",
    "\n",
    "sse = {}\n",
    "for k in range(2, 20):\n",
    "    kmeans = KMeans(n_clusters=k,random_state=1).fit(trainX_use)\n",
    "    #print(data[\"clusters\"])\n",
    "    label = kmeans.labels_\n",
    "    sil_coeff = silhouette_score(trainX_use, label, metric='euclidean')\n",
    "    print(\"For n_clusters={}, The Silhouette Coefficient is {}\".format(k, sil_coeff))\n",
    "    sse[k] = kmeans.inertia_ # Inertia: Sum of distances of samples to their closest cluster center\n",
    "plt.figure()\n",
    "plt.plot(list(sse.keys()), list(sse.values()),'o')\n",
    "plt.xlabel(\"Number of cluster\")\n",
    "plt.ylabel(\"SSE\")\n",
    "plt.xticks(list(sse.keys()))\n",
    "plt.legend()\n",
    "plt.show()\n",
    "    "
   ]
  },
  {
   "cell_type": "markdown",
   "metadata": {},
   "source": [
    "# LDA + K Means + NN"
   ]
  },
  {
   "cell_type": "code",
   "execution_count": 46,
   "metadata": {},
   "outputs": [
    {
     "name": "stdout",
     "output_type": "stream",
     "text": [
      "0\n",
      "1\n",
      "2\n",
      "3\n",
      "4\n",
      "5\n",
      "6\n",
      "7\n"
     ]
    }
   ],
   "source": [
    "l_use = np.arange(2,10)\n",
    "\n",
    "train_acc_lda_p = []\n",
    "val_acc_lda_p = []\n",
    "test_acc_lda_p = []\n",
    "\n",
    "for i in range(len(l_use)):\n",
    "    print(i)\n",
    "    km = KMeans(n_clusters=l_use[i],random_state=2)\n",
    "    km.fit(trainX_use)\n",
    "    # print(km.labels_)\n",
    "    # plt.hist(km.labels_,l_use)\n",
    "    # plt.show()\n",
    "    lab_tr = km.predict(trainX_use)\n",
    "    lab_te = km.predict(testX_S_use)\n",
    "\n",
    "    enc = OneHotEncoder(handle_unknown='ignore')\n",
    "    enc.fit(lab_tr.reshape(-1, 1))\n",
    "    lab_train=enc.transform(lab_tr.reshape(-1, 1)).toarray()\n",
    "    lab_test = enc.transform(lab_te.reshape(-1, 1)).toarray()\n",
    "\n",
    "    r,c = np.shape(trainX_use)\n",
    "    trainX_use_n = np.hstack((trainX_use,lab_train))\n",
    "    testX_use_n = np.hstack((testX_S_use,lab_test))\n",
    "\n",
    "    model = Sequential()\n",
    "    model.add(Dense(250, input_dim=c+l_use[i], kernel_initializer='normal', activation='relu'))\n",
    "    model.add(Dense(36, kernel_initializer='normal', activation='softmax'))\n",
    "    model.compile(loss='categorical_crossentropy', optimizer='adam', metrics=['accuracy'])\n",
    "    # checkpoint\n",
    "\n",
    "    filepath=\"weights.best_leaf.h5\"\n",
    "    checkpoint = ModelCheckpoint(filepath, monitor='val_acc', verbose=0, save_best_only=True, mode='max')\n",
    "    callbacks_list = [checkpoint, TestCallback((testX_use_n,testY)),CSVLogger('1.log')]\n",
    "    hist = model.fit(trainX_use_n[:-82,:],trainY_use[:-82,:], validation_data=(trainX_use_n[-82:,:],trainY_use[-82:,:]), epochs=5000, batch_size=40,verbose=0,callbacks=callbacks_list)\n",
    "\n",
    "    model1 = Sequential()\n",
    "    model1.add(Dense(250, input_dim=c+l_use[i], kernel_initializer='normal', activation='relu'))\n",
    "    model1.add(Dense(36, kernel_initializer='normal', activation='softmax'))\n",
    "    model1.compile(loss='categorical_crossentropy', optimizer='adam', metrics=['accuracy'])\n",
    "    model1.load_weights(\"weights.best_leaf.h5\")\n",
    "\n",
    "\n",
    "    train_pred = convert_out(model1.predict(trainX_use_n[:-82,:]))\n",
    "    train_act = trainY_comp_use[:-82]\n",
    "    train_acc_lda_p.append((1-Pred_correct(train_pred,train_act)))\n",
    "\n",
    "    val_pred = convert_out(model1.predict(trainX_use_n[-82:,:]))\n",
    "    val_act = trainY_comp_use[-82:]\n",
    "    val_acc_lda_p.append((1-Pred_correct(val_pred,val_act)))\n",
    "\n",
    "    test_pred = convert_out(model1.predict(testX_use_n))\n",
    "    test_acc_lda_p.append((1-Pred_correct(test_pred,testY_comp)))\n",
    "\n"
   ]
  },
  {
   "cell_type": "markdown",
   "metadata": {},
   "source": [
    "# K Means + NN + LDA Plot"
   ]
  },
  {
   "cell_type": "code",
   "execution_count": 47,
   "metadata": {},
   "outputs": [
    {
     "name": "stdout",
     "output_type": "stream",
     "text": [
      "   Training Set  Validation Set  Testing Set\n",
      "0      6.315789       23.170732    23.529412\n",
      "1      5.263158       23.170732    25.000000\n",
      "2      6.315789       23.170732    26.470588\n",
      "3      6.842105       24.390244    23.529412\n",
      "4      7.368421       24.390244    25.000000\n",
      "5      5.789474       23.170732    25.000000\n",
      "6      6.842105       23.170732    22.058824\n",
      "7      1.052632       21.951220    25.000000\n"
     ]
    },
    {
     "data": {
      "image/png": "[encoded data removed]",
      "text/plain": [
       "<matplotlib.figure.Figure at 0x53bdfa20>"
      ]
     },
     "metadata": {},
     "output_type": "display_data"
    }
   ],
   "source": [
    "fig = plt.figure()\n",
    "ax = fig.gca()\n",
    "ax.set_yticks(np.arange(0, 100, 10))\n",
    "ax.set_xticks(np.arange(1,len(train_acc_lda_p)+1))\n",
    "\n",
    "plt.scatter(np.arange(1,len(train_acc_lda_p)+1),np.array(train_acc_lda_p)*100,label='Training Set Accuracy')\n",
    "plt.scatter(np.arange(1,len(train_acc_lda_p)+1),np.array(val_acc_lda_p)*100,label='Validation Set Accuracy')\n",
    "plt.scatter(np.arange(1,len(test_acc_lda_p)+1),np.array(test_acc_lda_p)*100,label='Testing Set Accuracy')\n",
    "plt.xlabel('Number of Components')\n",
    "plt.ylabel('Misclassification Error (%)')\n",
    "plt.ylim([0,50])\n",
    "plt.legend()\n",
    "plt.grid(True)\n",
    "\n",
    "results_f = pd.DataFrame(data = np.transpose([np.array(train_acc_lda_p)*100,np.array(val_acc_lda_p)*100,np.array(test_acc_lda_p)*100]),columns=['Training Set', 'Validation Set', 'Testing Set'])\n",
    "print(results_f)"
   ]
  },
  {
   "cell_type": "markdown",
   "metadata": {},
   "source": [
    "# EM + LDA"
   ]
  },
  {
   "cell_type": "code",
   "execution_count": 48,
   "metadata": {},
   "outputs": [
    {
     "name": "stdout",
     "output_type": "stream",
     "text": [
      "(272, 12)\n"
     ]
    },
    {
     "data": {
      "text/plain": [
       "Text(0.5,0,'Number of components')"
      ]
     },
     "execution_count": 48,
     "metadata": {},
     "output_type": "execute_result"
    },
    {
     "data": {
      "image/png": "[encoded data removed]",
      "text/plain": [
       "<matplotlib.figure.Figure at 0x4be7c588>"
      ]
     },
     "metadata": {},
     "output_type": "display_data"
    }
   ],
   "source": [
    "lowest_bic = np.infty\n",
    "print(np.shape(trainX_use))\n",
    "bic = []\n",
    "n_components_range = range(1, 20)\n",
    "cv_types = ['full']\n",
    "#cv_types = ['spherical', 'tied', 'diag','full']\n",
    "\n",
    "for n_components in n_components_range:\n",
    "    # Fit a Gaussian mixture with EM\n",
    "    gmm = mixture.GaussianMixture(n_components=n_components,random_state=4)\n",
    "    gmm.fit(trainX_use)\n",
    "    bic.append(gmm.bic(trainX_use))\n",
    "    if bic[-1] < lowest_bic:\n",
    "        lowest_bic = bic[-1]\n",
    "        best_gmm = gmm\n",
    "\n",
    "bic = np.array(bic)\n",
    "color_iter = itertools.cycle(['navy', 'turquoise', 'cornflowerblue',\n",
    "                              'darkorange'])\n",
    "clf = best_gmm\n",
    "bars = []\n",
    "\n",
    "# Plot the BIC scores\n",
    "plt.figure(figsize=(8, 6))\n",
    "spl = plt.subplot(2, 1, 1)\n",
    "for i, (cv_type, color) in enumerate(zip(cv_types, color_iter)):\n",
    "    xpos = np.array(n_components_range) + .2 * (i - 0.05)\n",
    "    bars.append(plt.bar(xpos, bic[i * len(n_components_range):\n",
    "                                  (i + 1) * len(n_components_range)],\n",
    "                        width=.2, color=color))\n",
    "\n",
    "plt.xticks(n_components_range)\n",
    "#plt.ylim([bic.min() * 1.01 - .01 * bic.max(), bic.max()])\n",
    "plt.title('BIC score per model')\n",
    "xpos = np.mod(bic.argmin(), len(n_components_range)) + .65 +\\\n",
    "    .2 * np.floor(bic.argmin() / len(n_components_range))\n",
    "plt.text(xpos+0.5, bic.min() * 0.97 + .03 * bic.max(), '*', fontsize=14)\n",
    "spl.set_xlabel('Number of components')\n",
    "#spl.legend([b[0] for b in bars], cv_types)\n",
    "\n",
    "# # Plot the winner\n",
    "# splot = plt.subplot(2, 1, 2)\n",
    "# Y_ = clf.predict(trainX)\n",
    "\n",
    "# for i, (mean, cov, color) in enumerate(zip(clf.means_, clf.covariances_,\n",
    "#                                            color_iter)):\n",
    "#     v, w = linalg.eigh(cov)\n",
    "#     if not np.any(Y_ == i):\n",
    "#         continue\n",
    "#     plt.scatter(X[Y_ == i, 5], X[Y_ == i, 6], .8, color=color)\n",
    "\n",
    "#     # Plot an ellipse to show the Gaussian component\n",
    "#     angle = np.arctan2(w[0][1], w[0][0])\n",
    "#     angle = 180. * angle / np.pi  # convert to degrees\n",
    "#     v = 2. * np.sqrt(2.) * np.sqrt(v)\n",
    "#     ell = mpl.patches.Ellipse(mean, v[0], v[1], 180. + angle, color=color)\n",
    "#     ell.set_clip_box(splot.bbox)\n",
    "#     ell.set_alpha(.5)\n",
    "#     splot.add_artist(ell)\n",
    "\n",
    "# plt.xticks(())\n",
    "# plt.yticks(())\n",
    "# plt.title('Selected GMM: full model, 2 components')\n",
    "# plt.subplots_adjust(hspace=.35, bottom=.02)\n",
    "# plt.show()"
   ]
  },
  {
   "cell_type": "markdown",
   "metadata": {},
   "source": [
    "# EM + NN + LDA"
   ]
  },
  {
   "cell_type": "code",
   "execution_count": 49,
   "metadata": {},
   "outputs": [
    {
     "name": "stdout",
     "output_type": "stream",
     "text": [
      "0\n",
      "1\n",
      "2\n",
      "3\n",
      "4\n",
      "5\n",
      "6\n",
      "7\n"
     ]
    }
   ],
   "source": [
    "l_use = np.arange(2,10)\n",
    "\n",
    "train_acc_lda_p_2 = []\n",
    "val_acc_lda_p_2 = []\n",
    "test_acc_lda_p_2 = []\n",
    "\n",
    "for i in range(len(l_use)):\n",
    "    print(i)\n",
    "    gmm = GaussianMixture(n_components=l_use[i],random_state=1)\n",
    "    gmm.fit(trainX_use)\n",
    "    tr_lab = gmm.predict(trainX_use)\n",
    "    test_lab = gmm.predict(testX_S_use)\n",
    "\n",
    "    enc = OneHotEncoder(handle_unknown='ignore')\n",
    "    enc.fit(tr_lab.reshape(-1, 1))\n",
    "    lab_train=enc.transform(tr_lab.reshape(-1, 1)).toarray()\n",
    "    lab_test = enc.transform(test_lab.reshape(-1, 1)).toarray()\n",
    "\n",
    "    r,c = np.shape(trainX_use)\n",
    "    trainX_use_n = np.hstack((trainX_use,lab_train))\n",
    "    testX_use_n = np.hstack((testX_S_use,lab_test))\n",
    "\n",
    "    model = Sequential()\n",
    "    model.add(Dense(250, input_dim=c+l_use[i], kernel_initializer='normal', activation='relu'))\n",
    "    model.add(Dense(36, kernel_initializer='normal', activation='softmax'))\n",
    "    model.compile(loss='categorical_crossentropy', optimizer='adam', metrics=['accuracy'])\n",
    "    # checkpoint\n",
    "\n",
    "    filepath=\"weights.best_leaf.h5\"\n",
    "    checkpoint = ModelCheckpoint(filepath, monitor='val_acc', verbose=0, save_best_only=True, mode='max')\n",
    "    callbacks_list = [checkpoint, TestCallback((testX_use_n,testY)),CSVLogger('1.log')]\n",
    "    hist = model.fit(trainX_use_n[:-82,:],trainY_use[:-82,:], validation_data=(trainX_use_n[-82:,:],trainY_use[-82:,:]), epochs=5000, batch_size=40,verbose=0,callbacks=callbacks_list)\n",
    "\n",
    "    model1 = Sequential()\n",
    "    model1.add(Dense(250, input_dim=c+l_use[i], kernel_initializer='normal', activation='relu'))\n",
    "    model1.add(Dense(36, kernel_initializer='normal', activation='softmax'))\n",
    "    model1.compile(loss='categorical_crossentropy', optimizer='adam', metrics=['accuracy'])\n",
    "    model1.load_weights(\"weights.best_leaf.h5\")\n",
    "\n",
    "\n",
    "    train_pred = convert_out(model1.predict(trainX_use_n[:-82,:]))\n",
    "    train_act = trainY_comp_use[:-82]\n",
    "    train_acc_lda_p_2.append((1-Pred_correct(train_pred,train_act)))\n",
    "\n",
    "    val_pred = convert_out(model1.predict(trainX_use_n[-82:,:]))\n",
    "    val_act = trainY_comp_use[-82:]\n",
    "    val_acc_lda_p_2.append((1-Pred_correct(val_pred,val_act)))\n",
    "\n",
    "    test_pred = convert_out(model1.predict(testX_use_n))\n",
    "    test_acc_lda_p_2.append((1-Pred_correct(test_pred,testY_comp)))\n"
   ]
  },
  {
   "cell_type": "markdown",
   "metadata": {},
   "source": [
    "# EM + LDA + NN Plot"
   ]
  },
  {
   "cell_type": "code",
   "execution_count": 50,
   "metadata": {},
   "outputs": [
    {
     "name": "stdout",
     "output_type": "stream",
     "text": [
      "   Training Set  Validation Set  Testing Set\n",
      "0      6.315789       23.170732    25.000000\n",
      "1      5.789474       23.170732    25.000000\n",
      "2      7.894737       19.512195    25.000000\n",
      "3      0.000000       23.170732    20.588235\n",
      "4      5.789474       24.390244    26.470588\n",
      "5      6.842105       25.609756    17.647059\n",
      "6      7.894737       28.048780    23.529412\n",
      "7      6.315789       23.170732    23.529412\n"
     ]
    },
    {
     "data": {
      "image/png": "[encoded data removed]",
      "text/plain": [
       "<matplotlib.figure.Figure at 0x63b3e828>"
      ]
     },
     "metadata": {},
     "output_type": "display_data"
    }
   ],
   "source": [
    "fig = plt.figure()\n",
    "ax = fig.gca()\n",
    "ax.set_yticks(np.arange(0, 100, 10))\n",
    "ax.set_xticks(np.arange(1,len(train_acc_lda_p_2)+1))\n",
    "\n",
    "plt.scatter(np.arange(1,len(train_acc_lda_p_2)+1),np.array(train_acc_lda_p_2)*100,label='Training Set Accuracy')\n",
    "plt.scatter(np.arange(1,len(train_acc_lda_p_2)+1),np.array(val_acc_lda_p_2)*100,label='Validation Set Accuracy')\n",
    "plt.scatter(np.arange(1,len(train_acc_lda_p_2)+1),np.array(test_acc_lda_p_2)*100,label='Testing Set Accuracy')\n",
    "plt.xlabel('Number of Components')\n",
    "plt.ylabel('Misclassification Error (%)')\n",
    "plt.ylim([0,50])\n",
    "plt.legend()\n",
    "plt.grid(True)\n",
    "\n",
    "results_f = pd.DataFrame(data = np.transpose([np.array(train_acc_lda_p_2)*100,np.array(val_acc_lda_p_2)*100,np.array(test_acc_lda_p_2)*100]),columns=['Training Set', 'Validation Set', 'Testing Set'])\n",
    "print(results_f)"
   ]
  }
 ],
 "metadata": {
  "kernelspec": {
   "display_name": "Python 3",
   "language": "python",
   "name": "python3"
  },
  "language_info": {
   "codemirror_mode": {
    "name": "ipython",
    "version": 3
   },
   "file_extension": ".py",
   "mimetype": "text/x-python",
   "name": "python",
   "nbconvert_exporter": "python",
   "pygments_lexer": "ipython3",
   "version": "3.6.5"
  }
 },
 "nbformat": 4,
 "nbformat_minor": 2
}
