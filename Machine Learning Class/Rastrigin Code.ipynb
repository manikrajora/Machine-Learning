{
 "cells": [
  {
   "cell_type": "code",
   "execution_count": 4,
   "metadata": {},
   "outputs": [
    {
     "name": "stderr",
     "output_type": "stream",
     "text": [
      "c:\\users\\manik.rajora\\appdata\\local\\continuum\\anaconda2\\envs\\py27\\lib\\site-packages\\IPython\\kernel\\__init__.py:13: ShimWarning: The `IPython.kernel` package has been deprecated since IPython 4.0.You should import from ipykernel or jupyter_client instead.\n",
      "  \"You should import from ipykernel or jupyter_client instead.\", ShimWarning)\n"
     ]
    }
   ],
   "source": [
    "import numpy as np # linear algebra\n",
    "import pandas as pd # data processing, CSV file I/O (e.g. pd.read_csv)\n",
    "import matplotlib.pyplot as plt\n",
    "import random\n",
    "from sklearn.metrics import accuracy_score, log_loss\n",
    "from scipy import optimize\n",
    "# from keras import losses\n",
    "# from keras import backend as K\n",
    "# import tensorflow as tf\n",
    "from mimicry import mimic    \n",
    "%matplotlib notebook"
   ]
  },
  {
   "cell_type": "markdown",
   "metadata": {},
   "source": [
    "#  Function"
   ]
  },
  {
   "cell_type": "code",
   "execution_count": 75,
   "metadata": {},
   "outputs": [],
   "source": [
    "class MyTakeStep(object):\n",
    "    def __init__(self, stepsize=0.5):\n",
    "        self.stepsize = stepsize\n",
    "    def __call__(self, x):\n",
    "        s = self.stepsize\n",
    "        x[0:] += np.random.uniform(-2.*s, 2.*s)\n",
    "        return x\n",
    "  \n",
    "def rast(x):\n",
    "    n = 10\n",
    "    sum_t = 0\n",
    "    for i in range(n):\n",
    "        sum_t += x[i]**2 - 10*np.cos(2*np.pi*x[i]) \n",
    "    er = sum_t + 10*n\n",
    "    return er\n",
    "\n"
   ]
  },
  {
   "cell_type": "markdown",
   "metadata": {},
   "source": [
    "# SA"
   ]
  },
  {
   "cell_type": "code",
   "execution_count": 79,
   "metadata": {},
   "outputs": [
    {
     "name": "stdout",
     "output_type": "stream",
     "text": [
      "[[-3.5016 -0.6002 -3.9163 -2.0745 -1.3294 -1.5632 -4.0921 -3.626  -0.9387\n",
      "  -4.2715]]\n",
      "[-6.4638e-09 -7.0634e-09 -7.1430e-09 -6.2492e-09 -7.0824e-09 -7.2236e-09\n",
      " -5.8778e-09 -8.5748e-09 -7.2866e-09 -9.9496e-01]\n",
      "                        fun: 0.9949590570933964\n",
      " lowest_optimization_result:       fun: 0.9949590570933964\n",
      " hess_inv: array([[ 2.6594e-03, -2.7897e-05,  1.0536e-04,  7.8840e-05, -2.9932e-05,\n",
      "         4.4703e-05,  1.0434e-04, -1.1122e-05, -1.0496e-05, -3.0980e-05],\n",
      "       [-2.7897e-05,  2.7496e-03, -8.1373e-06,  3.7589e-06,  1.2016e-05,\n",
      "         6.7065e-06,  4.0546e-05,  5.7828e-06, -1.6527e-05, -5.8124e-05],\n",
      "       [ 1.0536e-04, -8.1373e-06,  2.7062e-03,  3.3797e-05,  1.5434e-06,\n",
      "         6.1635e-06,  4.2986e-05, -1.1375e-05, -6.7955e-06, -1.0728e-04],\n",
      "       [ 7.8840e-05,  3.7589e-06,  3.3797e-05,  2.5384e-03,  4.0709e-05,\n",
      "        -6.4709e-06,  9.4079e-05, -3.0796e-05, -9.5287e-06, -3.6580e-05],\n",
      "       [-2.9932e-05,  1.2016e-05,  1.5434e-06,  4.0709e-05,  2.5900e-03,\n",
      "        -3.8026e-05,  4.4614e-05, -1.2165e-05, -6.8834e-06, -1.8539e-05],\n",
      "       [ 4.4703e-05,  6.7065e-06,  6.1635e-06, -6.4709e-06, -3.8026e-05,\n",
      "         2.6795e-03,  4.2969e-05, -5.5575e-06,  1.4949e-06, -6.5897e-06],\n",
      "       [ 1.0434e-04,  4.0546e-05,  4.2986e-05,  9.4079e-05,  4.4614e-05,\n",
      "         4.2969e-05,  2.9555e-03, -7.1491e-05, -4.1800e-05, -7.8086e-05],\n",
      "       [-1.1122e-05,  5.7828e-06, -1.1375e-05, -3.0796e-05, -1.2165e-05,\n",
      "        -5.5575e-06, -7.1491e-05,  2.6289e-03,  1.7260e-05,  2.2826e-05],\n",
      "       [-1.0496e-05, -1.6527e-05, -6.7955e-06, -9.5287e-06, -6.8834e-06,\n",
      "         1.4949e-06, -4.1800e-05,  1.7260e-05,  2.6201e-03,  2.7941e-05],\n",
      "       [-3.0980e-05, -5.8124e-05, -1.0728e-04, -3.6580e-05, -1.8539e-05,\n",
      "        -6.5897e-06, -7.8086e-05,  2.2826e-05,  2.7941e-05,  2.5998e-03]])\n",
      "      jac: array([ 1.9073e-06,  1.9073e-06,  0.0000e+00,  1.9073e-06,  0.0000e+00,\n",
      "        0.0000e+00,  9.5367e-07, -9.5367e-07,  0.0000e+00, -9.5367e-07])\n",
      "  message: 'Optimization terminated successfully.'\n",
      "     nfev: 432\n",
      "      nit: 25\n",
      "     njev: 36\n",
      "   status: 0\n",
      "  success: True\n",
      "        x: array([-6.4638e-09, -7.0634e-09, -7.1430e-09, -6.2492e-09, -7.0824e-09,\n",
      "       -7.2236e-09, -5.8778e-09, -8.5748e-09, -7.2866e-09, -9.9496e-01])\n",
      "                    message: ['requested number of basinhopping iterations completed successfully']\n",
      "      minimization_failures: 1\n",
      "                       nfev: 44605\n",
      "                        nit: 100\n",
      "                       njev: 3717\n",
      "                          x: array([-6.4638e-09, -7.0634e-09, -7.1430e-09, -6.2492e-09, -7.0824e-09,\n",
      "       -7.2236e-09, -5.8778e-09, -8.5748e-09, -7.2866e-09, -9.9496e-01])\n"
     ]
    }
   ],
   "source": [
    "n=10\n",
    "#mytakestep = MyTakeStep()\n",
    "w0 = 5.12*np.random.random((1,n))-5.12\n",
    "print(w0)\n",
    "res = optimize.basinhopping(rast, w0,disp=False)\n",
    "print(res.x) \n",
    "print(res)"
   ]
  },
  {
   "cell_type": "markdown",
   "metadata": {},
   "source": [
    "# GA"
   ]
  },
  {
   "cell_type": "code",
   "execution_count": 80,
   "metadata": {},
   "outputs": [
    {
     "name": "stdout",
     "output_type": "stream",
     "text": [
      "[ 2.7750e-09  1.3170e-09  2.9460e-09  4.4815e-09  4.2382e-09  3.5841e-09\n",
      " -5.2696e-09  6.3788e-10  1.8476e-09 -3.8384e-09]\n",
      "     fun: 0.0\n",
      " message: 'Optimization terminated successfully.'\n",
      "    nfev: 117900\n",
      "     nit: 785\n",
      " success: True\n",
      "       x: array([ 2.7750e-09,  1.3170e-09,  2.9460e-09,  4.4815e-09,  4.2382e-09,\n",
      "        3.5841e-09, -5.2696e-09,  6.3788e-10,  1.8476e-09, -3.8384e-09])\n"
     ]
    }
   ],
   "source": [
    "n = 10\n",
    "bounds = [(-5.12,5.12)]\n",
    "for i in range(n-1):\n",
    "    bounds.append((-5.12,5.12))\n",
    "res = optimize.differential_evolution(rast,bounds,polish=False,disp=False)\n",
    "print(res.x)\n",
    "print(res)"
   ]
  },
  {
   "cell_type": "markdown",
   "metadata": {},
   "source": [
    "# Fmin"
   ]
  },
  {
   "cell_type": "code",
   "execution_count": 70,
   "metadata": {},
   "outputs": [
    {
     "name": "stdout",
     "output_type": "stream",
     "text": [
      "Optimization terminated successfully.\n",
      "         Current function value: 86.560958\n",
      "         Iterations: 1302\n",
      "         Function evaluations: 1823\n",
      "[-1.9899 -0.9949 -2.9848 -2.9849 -4.9747 -3.9798 -2.9848 -0.995  -2.9849\n",
      " -1.99  ]\n"
     ]
    }
   ],
   "source": [
    "res=optimize.fmin(rast,w0,disp=True)\n",
    "print(res)\n"
   ]
  },
  {
   "cell_type": "markdown",
   "metadata": {},
   "source": [
    "# Mimic"
   ]
  },
  {
   "cell_type": "code",
   "execution_count": 73,
   "metadata": {},
   "outputs": [
    {
     "ename": "KeyError",
     "evalue": "'probabilities'",
     "output_type": "error",
     "traceback": [
      "\u001b[1;31m---------------------------------------------------------------------------\u001b[0m",
      "\u001b[1;31mKeyError\u001b[0m                                  Traceback (most recent call last)",
      "\u001b[1;32m<ipython-input-73-9f92b4a7858f>\u001b[0m in \u001b[0;36m<module>\u001b[1;34m()\u001b[0m\n\u001b[0;32m      7\u001b[0m \u001b[1;33m\u001b[0m\u001b[0m\n\u001b[0;32m      8\u001b[0m \u001b[1;32mfor\u001b[0m \u001b[0mi\u001b[0m \u001b[1;32min\u001b[0m \u001b[0mxrange\u001b[0m\u001b[1;33m(\u001b[0m\u001b[1;36m25\u001b[0m\u001b[1;33m)\u001b[0m\u001b[1;33m:\u001b[0m\u001b[1;33m\u001b[0m\u001b[0m\n\u001b[1;32m----> 9\u001b[1;33m     \u001b[0mm\u001b[0m\u001b[1;33m.\u001b[0m\u001b[0mfit\u001b[0m\u001b[1;33m(\u001b[0m\u001b[1;33m)\u001b[0m\u001b[1;33m\u001b[0m\u001b[0m\n\u001b[0m",
      "\u001b[1;32mc:\\users\\manik.rajora\\appdata\\local\\continuum\\anaconda2\\envs\\py27\\lib\\site-packages\\mimicry\\mimic.pyc\u001b[0m in \u001b[0;36mfit\u001b[1;34m(self)\u001b[0m\n\u001b[0;32m     44\u001b[0m         \u001b[0mself\u001b[0m\u001b[1;33m.\u001b[0m\u001b[0mdistribution\u001b[0m \u001b[1;33m=\u001b[0m \u001b[0mDistribution\u001b[0m\u001b[1;33m(\u001b[0m\u001b[0msamples\u001b[0m\u001b[1;33m)\u001b[0m\u001b[1;33m\u001b[0m\u001b[0m\n\u001b[0;32m     45\u001b[0m         self.sample_set = SampleSet(\n\u001b[1;32m---> 46\u001b[1;33m             \u001b[0mself\u001b[0m\u001b[1;33m.\u001b[0m\u001b[0mdistribution\u001b[0m\u001b[1;33m.\u001b[0m\u001b[0mgenerate_samples\u001b[0m\u001b[1;33m(\u001b[0m\u001b[0mself\u001b[0m\u001b[1;33m.\u001b[0m\u001b[0msamples\u001b[0m\u001b[1;33m)\u001b[0m\u001b[1;33m,\u001b[0m\u001b[1;33m\u001b[0m\u001b[0m\n\u001b[0m\u001b[0;32m     47\u001b[0m             \u001b[0mself\u001b[0m\u001b[1;33m.\u001b[0m\u001b[0mfitness_function\u001b[0m\u001b[1;33m,\u001b[0m\u001b[1;33m\u001b[0m\u001b[0m\n\u001b[0;32m     48\u001b[0m         )\n",
      "\u001b[1;32mc:\\users\\manik.rajora\\appdata\\local\\continuum\\anaconda2\\envs\\py27\\lib\\site-packages\\mimicry\\mimic.pyc\u001b[0m in \u001b[0;36mgenerate_samples\u001b[1;34m(self, number_to_generate)\u001b[0m\n\u001b[0;32m     88\u001b[0m         \u001b[0msample_len\u001b[0m \u001b[1;33m=\u001b[0m \u001b[0mlen\u001b[0m\u001b[1;33m(\u001b[0m\u001b[0mself\u001b[0m\u001b[1;33m.\u001b[0m\u001b[0mbayes_net\u001b[0m\u001b[1;33m.\u001b[0m\u001b[0mnode\u001b[0m\u001b[1;33m)\u001b[0m\u001b[1;33m\u001b[0m\u001b[0m\n\u001b[0;32m     89\u001b[0m         \u001b[0msamples\u001b[0m \u001b[1;33m=\u001b[0m \u001b[0mnp\u001b[0m\u001b[1;33m.\u001b[0m\u001b[0mzeros\u001b[0m\u001b[1;33m(\u001b[0m\u001b[1;33m(\u001b[0m\u001b[0mnumber_to_generate\u001b[0m\u001b[1;33m,\u001b[0m \u001b[0msample_len\u001b[0m\u001b[1;33m)\u001b[0m\u001b[1;33m)\u001b[0m\u001b[1;33m\u001b[0m\u001b[0m\n\u001b[1;32m---> 90\u001b[1;33m         \u001b[0mvalues\u001b[0m \u001b[1;33m=\u001b[0m \u001b[0mself\u001b[0m\u001b[1;33m.\u001b[0m\u001b[0mbayes_net\u001b[0m\u001b[1;33m.\u001b[0m\u001b[0mnode\u001b[0m\u001b[1;33m[\u001b[0m\u001b[0mroot\u001b[0m\u001b[1;33m]\u001b[0m\u001b[1;33m[\u001b[0m\u001b[1;34m\"probabilities\"\u001b[0m\u001b[1;33m]\u001b[0m\u001b[1;33m.\u001b[0m\u001b[0mkeys\u001b[0m\u001b[1;33m(\u001b[0m\u001b[1;33m)\u001b[0m\u001b[1;33m\u001b[0m\u001b[0m\n\u001b[0m\u001b[0;32m     91\u001b[0m         \u001b[0mprobabilities\u001b[0m \u001b[1;33m=\u001b[0m \u001b[0mself\u001b[0m\u001b[1;33m.\u001b[0m\u001b[0mbayes_net\u001b[0m\u001b[1;33m.\u001b[0m\u001b[0mnode\u001b[0m\u001b[1;33m[\u001b[0m\u001b[0mroot\u001b[0m\u001b[1;33m]\u001b[0m\u001b[1;33m[\u001b[0m\u001b[1;34m\"probabilities\"\u001b[0m\u001b[1;33m]\u001b[0m\u001b[1;33m.\u001b[0m\u001b[0mvalues\u001b[0m\u001b[1;33m(\u001b[0m\u001b[1;33m)\u001b[0m\u001b[1;33m\u001b[0m\u001b[0m\n\u001b[0;32m     92\u001b[0m         \u001b[0mdist\u001b[0m \u001b[1;33m=\u001b[0m \u001b[0mstats\u001b[0m\u001b[1;33m.\u001b[0m\u001b[0mrv_discrete\u001b[0m\u001b[1;33m(\u001b[0m\u001b[0mname\u001b[0m\u001b[1;33m=\u001b[0m\u001b[1;34m\"dist\"\u001b[0m\u001b[1;33m,\u001b[0m \u001b[0mvalues\u001b[0m\u001b[1;33m=\u001b[0m\u001b[1;33m(\u001b[0m\u001b[0mvalues\u001b[0m\u001b[1;33m,\u001b[0m \u001b[0mprobabilities\u001b[0m\u001b[1;33m)\u001b[0m\u001b[1;33m)\u001b[0m\u001b[1;33m\u001b[0m\u001b[0m\n",
      "\u001b[1;31mKeyError\u001b[0m: 'probabilities'"
     ]
    }
   ],
   "source": [
    "def him2(x):\n",
    "    er = (x[0]**2)**2+(x[0]-7)**2\n",
    "    return er\n",
    "\n",
    "domain = [(-5,5)*5]\n",
    "m = mimic.Mimic(domain, rast, samples=100)\n",
    "\n",
    "for i in xrange(25):\n",
    "    m.fit()"
   ]
  },
  {
   "cell_type": "code",
   "execution_count": 16,
   "metadata": {},
   "outputs": [
    {
     "name": "stdout",
     "output_type": "stream",
     "text": [
      "[0. 1.]\n"
     ]
    }
   ],
   "source": [
    "print(x[1])"
   ]
  },
  {
   "cell_type": "code",
   "execution_count": null,
   "metadata": {},
   "outputs": [],
   "source": [
    "bounds?"
   ]
  },
  {
   "cell_type": "code",
   "execution_count": null,
   "metadata": {},
   "outputs": [],
   "source": []
  },
  {
   "cell_type": "code",
   "execution_count": null,
   "metadata": {},
   "outputs": [],
   "source": []
  }
 ],
 "metadata": {
  "kernelspec": {
   "display_name": "Python 2",
   "language": "python",
   "name": "python2"
  },
  "language_info": {
   "codemirror_mode": {
    "name": "ipython",
    "version": 2
   },
   "file_extension": ".py",
   "mimetype": "text/x-python",
   "name": "python",
   "nbconvert_exporter": "python",
   "pygments_lexer": "ipython2",
   "version": "2.7.15"
  }
 },
 "nbformat": 4,
 "nbformat_minor": 2
}
