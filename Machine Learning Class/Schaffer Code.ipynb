{
 "cells": [
  {
   "cell_type": "code",
   "execution_count": 2,
   "metadata": {},
   "outputs": [],
   "source": [
    "import numpy as np # linear algebra\n",
    "import pandas as pd # data processing, CSV file I/O (e.g. pd.read_csv)\n",
    "import seaborn as sns # visualization\n",
    "import matplotlib.pyplot as plt\n",
    "import random\n",
    "from sklearn.metrics import accuracy_score, log_loss\n",
    "from scipy import optimize\n",
    "from keras import losses\n",
    "from keras import backend as K\n",
    "import tensorflow as tf\n",
    "\n",
    "%matplotlib notebook"
   ]
  },
  {
   "cell_type": "markdown",
   "metadata": {},
   "source": [
    "#  Function"
   ]
  },
  {
   "cell_type": "code",
   "execution_count": 30,
   "metadata": {},
   "outputs": [],
   "source": [
    "class MyTakeStep(object):\n",
    "    def __init__(self, stepsize=0.5):\n",
    "        self.stepsize = stepsize\n",
    "    def __call__(self, x):\n",
    "        s = self.stepsize\n",
    "        x[0:] += np.random.uniform(-2.*s, 2.*s)\n",
    "        return x\n",
    "    \n",
    "def him(x):\n",
    "    er = 0.5 + ((np.sin(x[0]**2-x[1]**2)**2-0.5)/(1+0.001*(x[0]**2+x[1]**2)))\n",
    "    return er\n",
    "\n"
   ]
  },
  {
   "cell_type": "markdown",
   "metadata": {},
   "source": [
    "# SA"
   ]
  },
  {
   "cell_type": "code",
   "execution_count": 41,
   "metadata": {},
   "outputs": [
    {
     "name": "stdout",
     "output_type": "stream",
     "text": [
      "[[-97.8216221  -50.72547849]]\n",
      "[-0.00473324 -0.00483957]\n"
     ]
    }
   ],
   "source": [
    "#mytakestep = MyTakeStep()\n",
    "w0 = 100*np.random.random((1,2))-100\n",
    "#w0 = np.array([100,100])\n",
    "print(w0)\n",
    "res = optimize.basinhopping(him, w0, niter=1000,stepsize=5, T=14,disp=False)\n",
    "print(res.x)                          "
   ]
  },
  {
   "cell_type": "markdown",
   "metadata": {},
   "source": [
    "# GA"
   ]
  },
  {
   "cell_type": "code",
   "execution_count": 36,
   "metadata": {},
   "outputs": [
    {
     "name": "stdout",
     "output_type": "stream",
     "text": [
      "differential_evolution step 1: f(x)= 0.0894873\n",
      "differential_evolution step 2: f(x)= 0.0894873\n",
      "differential_evolution step 3: f(x)= 0.0894873\n",
      "differential_evolution step 4: f(x)= 0.0894873\n",
      "differential_evolution step 5: f(x)= 0.0870498\n",
      "differential_evolution step 6: f(x)= 0.0840107\n",
      "differential_evolution step 7: f(x)= 0.0840107\n",
      "differential_evolution step 8: f(x)= 0.0164203\n",
      "differential_evolution step 9: f(x)= 0.0164203\n",
      "differential_evolution step 10: f(x)= 0.0164203\n",
      "differential_evolution step 11: f(x)= 0.0164203\n",
      "differential_evolution step 12: f(x)= 0.0164203\n",
      "differential_evolution step 13: f(x)= 0.0164203\n",
      "differential_evolution step 14: f(x)= 0.0164203\n",
      "differential_evolution step 15: f(x)= 0.0164203\n",
      "differential_evolution step 16: f(x)= 0.0129909\n",
      "differential_evolution step 17: f(x)= 0.0129909\n",
      "differential_evolution step 18: f(x)= 0.0129909\n",
      "differential_evolution step 19: f(x)= 0.00187441\n",
      "differential_evolution step 20: f(x)= 0.00187441\n",
      "differential_evolution step 21: f(x)= 0.00187441\n",
      "differential_evolution step 22: f(x)= 0.00187441\n",
      "differential_evolution step 23: f(x)= 0.00187441\n",
      "differential_evolution step 24: f(x)= 0.000194013\n",
      "differential_evolution step 25: f(x)= 0.000194013\n",
      "differential_evolution step 26: f(x)= 0.000194013\n",
      "differential_evolution step 27: f(x)= 0.000194013\n",
      "differential_evolution step 28: f(x)= 0.000140225\n",
      "differential_evolution step 29: f(x)= 0.000140225\n",
      "differential_evolution step 30: f(x)= 0.000140225\n",
      "differential_evolution step 31: f(x)= 0.000140225\n",
      "differential_evolution step 32: f(x)= 0.000140225\n",
      "differential_evolution step 33: f(x)= 0.000140225\n",
      "differential_evolution step 34: f(x)= 0.000140225\n",
      "differential_evolution step 35: f(x)= 0.000140225\n",
      "differential_evolution step 36: f(x)= 0.000140225\n",
      "differential_evolution step 37: f(x)= 0.000140225\n",
      "differential_evolution step 38: f(x)= 0.000140225\n",
      "differential_evolution step 39: f(x)= 0.000140225\n",
      "differential_evolution step 40: f(x)= 0.000140225\n",
      "differential_evolution step 41: f(x)= 0.000140225\n",
      "differential_evolution step 42: f(x)= 0.000140225\n",
      "differential_evolution step 43: f(x)= 0.000140225\n",
      "differential_evolution step 44: f(x)= 0.000140225\n",
      "differential_evolution step 45: f(x)= 0.000140225\n",
      "differential_evolution step 46: f(x)= 0.000140225\n",
      "differential_evolution step 47: f(x)= 5.1084e-06\n",
      "differential_evolution step 48: f(x)= 5.1084e-06\n",
      "differential_evolution step 49: f(x)= 5.1084e-06\n",
      "differential_evolution step 50: f(x)= 5.1084e-06\n",
      "differential_evolution step 51: f(x)= 5.1084e-06\n",
      "differential_evolution step 52: f(x)= 1.08174e-07\n",
      "differential_evolution step 53: f(x)= 1.08174e-07\n",
      "differential_evolution step 54: f(x)= 1.08174e-07\n",
      "differential_evolution step 55: f(x)= 1.08174e-07\n",
      "differential_evolution step 56: f(x)= 6.94162e-08\n",
      "differential_evolution step 57: f(x)= 6.94162e-08\n",
      "differential_evolution step 58: f(x)= 1.47484e-09\n",
      "differential_evolution step 59: f(x)= 1.47484e-09\n",
      "differential_evolution step 60: f(x)= 1.47484e-09\n",
      "differential_evolution step 61: f(x)= 1.47484e-09\n",
      "differential_evolution step 62: f(x)= 1.98709e-10\n",
      "differential_evolution step 63: f(x)= 4.2412e-11\n",
      "differential_evolution step 64: f(x)= 4.2412e-11\n",
      "differential_evolution step 65: f(x)= 4.2412e-11\n",
      "differential_evolution step 66: f(x)= 1.36143e-11\n",
      "differential_evolution step 67: f(x)= 1.36143e-11\n",
      "differential_evolution step 68: f(x)= 5.68601e-12\n",
      "differential_evolution step 69: f(x)= 2.00728e-13\n",
      "differential_evolution step 70: f(x)= 2.00728e-13\n",
      "differential_evolution step 71: f(x)= 2.00728e-13\n",
      "differential_evolution step 72: f(x)= 2.00728e-13\n",
      "differential_evolution step 73: f(x)= 1.44995e-13\n",
      "differential_evolution step 74: f(x)= 1.59872e-14\n",
      "differential_evolution step 75: f(x)= 3.10862e-15\n",
      "differential_evolution step 76: f(x)= 3.10862e-15\n",
      "differential_evolution step 77: f(x)= 3.10862e-15\n",
      "differential_evolution step 78: f(x)= 3.10862e-15\n",
      "differential_evolution step 79: f(x)= 4.44089e-16\n",
      "differential_evolution step 80: f(x)= 3.33067e-16\n",
      "differential_evolution step 81: f(x)= 0\n",
      "differential_evolution step 82: f(x)= 0\n",
      "differential_evolution step 83: f(x)= 0\n",
      "differential_evolution step 84: f(x)= 0\n",
      "differential_evolution step 85: f(x)= 0\n",
      "differential_evolution step 86: f(x)= 0\n",
      "differential_evolution step 87: f(x)= 0\n",
      "differential_evolution step 88: f(x)= 0\n",
      "differential_evolution step 89: f(x)= 0\n",
      "differential_evolution step 90: f(x)= 0\n",
      "differential_evolution step 91: f(x)= 0\n",
      "differential_evolution step 92: f(x)= 0\n",
      "[-1.55516511e-07 -4.30680713e-08]\n",
      "     fun: 0.0\n",
      " message: 'Optimization terminated successfully.'\n",
      "    nfev: 3720\n",
      "     nit: 92\n",
      " success: True\n",
      "       x: array([-1.55516511e-07, -4.30680713e-08])\n"
     ]
    }
   ],
   "source": [
    "bounds = [(-100,100), (-100,100)]\n",
    "res = optimize.differential_evolution(him,bounds,polish=False,popsize =20,disp=True)\n",
    "print(res.x)\n",
    "print(res)"
   ]
  },
  {
   "cell_type": "markdown",
   "metadata": {},
   "source": [
    "# Fmin"
   ]
  },
  {
   "cell_type": "code",
   "execution_count": 40,
   "metadata": {},
   "outputs": [
    {
     "name": "stdout",
     "output_type": "stream",
     "text": [
      "Warning: Maximum number of function evaluations has been exceeded.\n",
      "[-11.38418679 -57.0843133 ]\n"
     ]
    }
   ],
   "source": [
    "res=optimize.fmin(him,w0,disp=True)\n",
    "print(res)\n"
   ]
  },
  {
   "cell_type": "code",
   "execution_count": null,
   "metadata": {},
   "outputs": [],
   "source": []
  },
  {
   "cell_type": "code",
   "execution_count": null,
   "metadata": {},
   "outputs": [],
   "source": []
  }
 ],
 "metadata": {
  "kernelspec": {
   "display_name": "Python 3",
   "language": "python",
   "name": "python3"
  },
  "language_info": {
   "codemirror_mode": {
    "name": "ipython",
    "version": 3
   },
   "file_extension": ".py",
   "mimetype": "text/x-python",
   "name": "python",
   "nbconvert_exporter": "python",
   "pygments_lexer": "ipython3",
   "version": "3.6.5"
  }
 },
 "nbformat": 4,
 "nbformat_minor": 2
}
