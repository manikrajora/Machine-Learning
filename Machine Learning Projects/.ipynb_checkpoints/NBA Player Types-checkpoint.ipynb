{
 "cells": [
  {
   "cell_type": "markdown",
   "metadata": {},
   "source": [
    "This is a list of all the libraries that are used in this analysis"
   ]
  },
  {
   "cell_type": "code",
   "execution_count": 31,
   "metadata": {},
   "outputs": [],
   "source": [
    "from basketball_reference_web_scraper import client\n",
    "import pandas as pd\n",
    "import matplotlib.pyplot as plt\n",
    "from sklearn.decomposition import FastICA, PCA\n",
    "from sklearn.mixture import GaussianMixture\n",
    "from sklearn import preprocessing\n",
    "from sklearn.cluster import KMeans\n",
    "from sklearn.model_selection import train_test_split\n",
    "from IPython.display import display, HTML\n",
    "import seaborn as sns\n",
    "from IPython.display import display, HTML\n",
    "from sklearn.metrics import accuracy_score, silhouette_score\n",
    "import numpy as np\n",
    "from scipy.stats import pearsonr"
   ]
  },
  {
   "cell_type": "markdown",
   "metadata": {},
   "source": [
    "Right now the data is imported from two excels which have advanced stats and player totals for the season. This will probably chance in the furture to getting data from basketball-reference.com. I also need to merge the two dataframes and remove duplicates. The duplicates occur when a player is traded from one team to another in the middle of the season."
   ]
  },
  {
   "cell_type": "code",
   "execution_count": 32,
   "metadata": {
    "scrolled": true
   },
   "outputs": [],
   "source": [
    "df_advanced = pd.read_excel('Advanced Stats.xlsx')\n",
    "df_total_stats = pd.read_excel('Total Stats.xlsx')\n",
    "df = df_advanced.merge(df_total_stats, on = ['Player', 'Pos', 'Age', 'Tm', 'G', 'MP', 'Rk'])\n",
    "df.drop_duplicates(['Player'], keep='first',inplace=True)"
   ]
  },
  {
   "cell_type": "markdown",
   "metadata": {},
   "source": [
    "I am going to make a copy of the original df since I will remove some columns (Player name, position, team, age etc.) as they aren't important for analysis. I will need the player name later on to see which players cluster together. There are also some columns with NAs which I will drop as well as players with total time played less than 1000  minutes."
   ]
  },
  {
   "cell_type": "code",
   "execution_count": 33,
   "metadata": {},
   "outputs": [],
   "source": [
    "df.dropna(axis=1,inplace=True)\n",
    "idx = df.index[df['MP']<1000]\n",
    "df.drop(idx,inplace=True)\n",
    "idx_gp = df.index[df['G']<50]\n",
    "df.drop(idx_gp,inplace=True)\n",
    "df_copy = df.copy(deep=True)\n",
    "df.drop(['Pos', 'Rk', 'Tm', 'Player'],axis=1,inplace=True)"
   ]
  },
  {
   "cell_type": "markdown",
   "metadata": {},
   "source": [
    "I am going to split the data into a train/test set. Since I want to keep a track of the training data in the original data frame, I will create a dummy array and split it then use those indices to split the dataframe."
   ]
  },
  {
   "cell_type": "code",
   "execution_count": 34,
   "metadata": {},
   "outputs": [],
   "source": [
    "indices = np.arange(0,np.shape(df)[0])\n",
    "indices_train, indices_test  = train_test_split(indices, test_size=0.0)\n",
    "train_df = df.iloc[indices_train,:]\n",
    "test_df = df.iloc[indices_test,:]\n",
    "train_df_copy = df_copy.iloc[indices_train,:]\n",
    "test_df_copy = df_copy.iloc[indices_test,:]"
   ]
  },
  {
   "cell_type": "markdown",
   "metadata": {},
   "source": [
    "Since there are 37 features, Ill use PCA for dimensionality reduction. But first, the data needs to be standardized"
   ]
  },
  {
   "cell_type": "code",
   "execution_count": 35,
   "metadata": {},
   "outputs": [
    {
     "name": "stderr",
     "output_type": "stream",
     "text": [
      "C:\\Users\\Manik.Rajora\\AppData\\Local\\conda\\conda\\envs\\Py36\\lib\\site-packages\\sklearn\\preprocessing\\data.py:625: DataConversionWarning: Data with input dtype int64, float64 were all converted to float64 by StandardScaler.\n",
      "  return self.partial_fit(X, y)\n",
      "C:\\Users\\Manik.Rajora\\AppData\\Local\\conda\\conda\\envs\\Py36\\lib\\site-packages\\sklearn\\base.py:462: DataConversionWarning: Data with input dtype int64, float64 were all converted to float64 by StandardScaler.\n",
      "  return self.fit(X, **fit_params).transform(X)\n"
     ]
    }
   ],
   "source": [
    "scaler = preprocessing.StandardScaler()\n",
    "train_df_scaled = pd.DataFrame(scaler.fit_transform(train_df),columns=df.columns)"
   ]
  },
  {
   "cell_type": "markdown",
   "metadata": {},
   "source": [
    "For PCA we need to determine the number of compopnents. Here, I used the explained variance ratio to determine the number of components"
   ]
  },
  {
   "cell_type": "code",
   "execution_count": 36,
   "metadata": {},
   "outputs": [
    {
     "data": {
      "image/png": "[encoded data removed]",
      "text/plain": [
       "<Figure size 432x288 with 1 Axes>"
      ]
     },
     "metadata": {
      "needs_background": "light"
     },
     "output_type": "display_data"
    }
   ],
   "source": [
    "evr = []\n",
    "for components in range(1, np.shape(train_df_scaled)[1]):\n",
    "    pca = PCA(n_components=components)\n",
    "    pca.fit(train_df_scaled)\n",
    "    if components == 1:\n",
    "        evr.append(pca.explained_variance_ratio_[-1])\n",
    "    else:\n",
    "        evr.append(evr[-1]+pca.explained_variance_ratio_[-1])\n",
    "\n",
    "plt.scatter(np.arange(1,np.shape(df)[1]),evr)\n",
    "plt.xlabel('Number of components')\n",
    "plt.ylabel('Variance Ratio')\n",
    "plt.show()\n",
    "#     kmeans = KMeans(n_clusters=n_cluster,random_state=1).fit(X_train)\n",
    "#     label = kmeans.labels_\n",
    "#     sil_coeff = silhouette_score(X_train, label, metric='euclidean')\n",
    "#     print(\"For n_clusters={}, The Silhouette Coefficient is {}\".format(n_cluster, sil_coeff))"
   ]
  },
  {
   "cell_type": "markdown",
   "metadata": {},
   "source": [
    "Seems like 16 is a good number of components to use. Now we can check the correlation between the principal components and the original features.\n",
    "\n",
    "Next, we need to determine the number of clusters. We can do this by using the Silhouette Measure and Elbow Method."
   ]
  },
  {
   "cell_type": "code",
   "execution_count": 37,
   "metadata": {},
   "outputs": [
    {
     "name": "stdout",
     "output_type": "stream",
     "text": [
      "For n_clusters=2, The Silhouette Coefficient is 0.32847493288997265\n",
      "For n_clusters=3, The Silhouette Coefficient is 0.2914035559387406\n",
      "For n_clusters=4, The Silhouette Coefficient is 0.19556418547519583\n",
      "For n_clusters=5, The Silhouette Coefficient is 0.18190364547621457\n",
      "For n_clusters=6, The Silhouette Coefficient is 0.1615468573075712\n",
      "For n_clusters=7, The Silhouette Coefficient is 0.1532125684943959\n",
      "For n_clusters=8, The Silhouette Coefficient is 0.12804471899222683\n",
      "For n_clusters=9, The Silhouette Coefficient is 0.11661322200308297\n",
      "For n_clusters=10, The Silhouette Coefficient is 0.11947322098437703\n",
      "For n_clusters=11, The Silhouette Coefficient is 0.11012491581967931\n",
      "For n_clusters=12, The Silhouette Coefficient is 0.11328632279334373\n",
      "For n_clusters=13, The Silhouette Coefficient is 0.11068825970685965\n",
      "For n_clusters=14, The Silhouette Coefficient is 0.11586045328900937\n",
      "For n_clusters=15, The Silhouette Coefficient is 0.12057479390038132\n",
      "For n_clusters=16, The Silhouette Coefficient is 0.11269484795599904\n",
      "For n_clusters=17, The Silhouette Coefficient is 0.12146189421528211\n",
      "For n_clusters=18, The Silhouette Coefficient is 0.109368461855371\n",
      "For n_clusters=19, The Silhouette Coefficient is 0.11412895233662605\n"
     ]
    },
    {
     "name": "stderr",
     "output_type": "stream",
     "text": [
      "No handles with labels found to put in legend.\n"
     ]
    },
    {
     "data": {
      "image/png": "[encoded data removed]",
      "text/plain": [
       "<Figure size 432x288 with 1 Axes>"
      ]
     },
     "metadata": {
      "needs_background": "light"
     },
     "output_type": "display_data"
    }
   ],
   "source": [
    "pca = PCA(n_components=15)\n",
    "reduced_features = pca.fit_transform(train_df_scaled)\n",
    "\n",
    "for n_cluster in range(2, 20):\n",
    "    kmeans = KMeans(n_clusters=n_cluster).fit(reduced_features)\n",
    "    label = kmeans.labels_\n",
    "    sil_coeff = silhouette_score(reduced_features, label, metric='euclidean')\n",
    "    print(\"For n_clusters={}, The Silhouette Coefficient is {}\".format(n_cluster, sil_coeff))\n",
    "    \n",
    "sse = {}\n",
    "for k in range(1, 20):\n",
    "    kmeans = KMeans(n_clusters=k).fit(reduced_features)\n",
    "    #print(data[\"clusters\"])\n",
    "    sse[k] = kmeans.inertia_ # Inertia: Sum of distances of samples to their closest cluster center\n",
    "plt.figure()\n",
    "plt.plot(list(sse.keys()), list(sse.values()),'o')\n",
    "plt.xlabel(\"Number of cluster\")\n",
    "plt.ylabel(\"SSE\")\n",
    "plt.xticks(list(sse.keys()))\n",
    "plt.legend()\n",
    "plt.show()"
   ]
  },
  {
   "cell_type": "markdown",
   "metadata": {},
   "source": [
    "Its a bit hard to interprety the silhouette measure but using the elbow method shows that 13 clusters is a good choice. Now to see what players are grouped together in our clusters"
   ]
  },
  {
   "cell_type": "code",
   "execution_count": 38,
   "metadata": {},
   "outputs": [
    {
     "name": "stderr",
     "output_type": "stream",
     "text": [
      "C:\\Users\\Manik.Rajora\\AppData\\Local\\conda\\conda\\envs\\Py36\\lib\\site-packages\\ipykernel_launcher.py:3: SettingWithCopyWarning: \n",
      "A value is trying to be set on a copy of a slice from a DataFrame.\n",
      "Try using .loc[row_indexer,col_indexer] = value instead\n",
      "\n",
      "See the caveats in the documentation: http://pandas.pydata.org/pandas-docs/stable/indexing.html#indexing-view-versus-copy\n",
      "  This is separate from the ipykernel package so we can avoid doing imports until\n"
     ]
    }
   ],
   "source": [
    "kmeans = KMeans(n_clusters=11).fit(reduced_features)\n",
    "labels = kmeans.labels_ \n",
    "train_df_copy['labels'] = labels\n",
    "names = {}\n",
    "unique_labels = list(set(labels))\n",
    "for i in range(len(unique_labels)):\n",
    "    names[i] = train_df_copy[train_df_copy['labels']==unique_labels[i]]['Player']"
   ]
  },
  {
   "cell_type": "code",
   "execution_count": 46,
   "metadata": {},
   "outputs": [
    {
     "data": {
      "text/plain": [
       "540         Jakob Poeltl\n",
       "678     Hassan Whiteside\n",
       "407         Kevon Looney\n",
       "498          Larry Nance\n",
       "10         Jarrett Allen\n",
       "315          Serge Ibaka\n",
       "652         Myles Turner\n",
       "4            Bam Adebayo\n",
       "548        Dwight Powell\n",
       "448         JaVale McGee\n",
       "503         Nerlens Noel\n",
       "163             Ed Davis\n",
       "567    Mitchell Robinson\n",
       "360       DeAndre Jordan\n",
       "214       Derrick Favors\n",
       "538        Mason Plumlee\n",
       "Name: Player, dtype: object"
      ]
     },
     "metadata": {},
     "output_type": "display_data"
    }
   ],
   "source": [
    "display(names[4])"
   ]
  },
  {
   "cell_type": "code",
   "execution_count": 449,
   "metadata": {},
   "outputs": [
    {
     "data": {
      "text/plain": [
       "array([[-1.84745036e-02,  3.69362624e-01,  7.25547466e-01,\n",
       "         8.81007799e-01,  4.07989452e-01,  5.41571620e-01,\n",
       "         5.28152442e-01,  3.33408198e-01,  2.28577149e-01,\n",
       "         3.85189481e-01,  5.96598820e-01,  8.53609817e-01,\n",
       "         7.72524184e-01,  9.12394818e-01,  7.63148191e-01,\n",
       "         7.53773551e-01,  4.90913446e-01,  8.36124104e-01,\n",
       "         8.90846882e-01,  6.34447834e-01,  8.69901336e-01,\n",
       "         7.60224361e-01,  2.02489579e-01,  2.06402937e-01,\n",
       "         8.79592882e-01,  8.34750573e-01,  8.34550040e-01,\n",
       "         8.61206557e-01,  6.32666292e-01,  8.46395912e-01,\n",
       "         8.28135780e-01,  5.39447004e-01,  5.79650013e-01,\n",
       "         5.98956442e-01,  7.62056233e-01,  6.25296256e-01,\n",
       "         8.55348729e-01],\n",
       "       [ 1.54386366e-01,  1.02565103e-01,  4.05176138e-01,\n",
       "        -1.53007185e-01, -8.02511562e-01, -6.58959471e-01,\n",
       "        -7.59114573e-01,  5.23009196e-01,  1.33538574e-01,\n",
       "        -7.04375015e-01,  4.47754000e-01, -4.26954319e-02,\n",
       "        -2.08456881e-01, -1.06358980e-01, -3.70526589e-01,\n",
       "         2.98504546e-01, -6.46850923e-01, -1.83225262e-01,\n",
       "        -4.55746177e-02,  2.06626536e-01,  3.66728509e-01,\n",
       "         5.58821165e-01,  7.66687784e-01,  7.87414165e-01,\n",
       "         5.43854152e-02,  1.86293409e-01,  2.85411349e-01,\n",
       "         1.95906329e-01, -6.34746913e-01, -3.12712306e-01,\n",
       "        -4.44168463e-01,  5.68859881e-01,  3.39955714e-01,\n",
       "        -5.54288131e-01,  4.36400923e-01, -1.60035701e-01,\n",
       "         4.45013884e-01],\n",
       "       [-3.01158967e-01, -7.03634134e-03,  1.48609540e-02,\n",
       "         6.37744707e-02,  1.51019499e-01,  1.88755504e-01,\n",
       "         1.80051592e-01, -2.45998553e-01, -7.15217730e-01,\n",
       "        -6.41852578e-02,  3.93874656e-01, -9.93254111e-02,\n",
       "        -3.23014091e-01, -1.91025521e-01, -2.39906517e-01,\n",
       "        -1.77386349e-01, -4.56320695e-01, -4.05366002e-01,\n",
       "        -3.43901932e-01, -7.22320701e-02,  2.58187963e-01,\n",
       "         2.48618485e-01, -6.72970558e-02, -5.75017395e-02,\n",
       "         3.20231413e-01,  3.57017064e-01,  2.04675800e-01,\n",
       "         2.13639533e-01,  1.55292690e-01,  1.35067594e-01,\n",
       "         1.50878901e-01, -2.69701891e-01, -5.27279363e-01,\n",
       "        -3.28890596e-02,  8.87374630e-02, -3.15688796e-03,\n",
       "         2.24443608e-01],\n",
       "       [ 1.46110725e-01, -6.91296133e-01, -4.81742844e-01,\n",
       "         3.61787339e-01,  6.09238609e-02,  1.18794122e-01,\n",
       "         1.06393471e-01,  5.59322482e-01,  1.26269861e-01,\n",
       "        -4.86838340e-02,  3.99400981e-01,  8.26593125e-02,\n",
       "        -2.01721897e-01, -9.91223754e-03,  1.48392145e-01,\n",
       "         2.25277444e-01, -5.24661683e-02,  1.25448681e-01,\n",
       "         8.82323781e-02, -3.20612539e-01, -5.20389801e-02,\n",
       "        -9.55527716e-02, -3.05689851e-01, -2.95160838e-01,\n",
       "         8.37278178e-02,  7.60472475e-02,  1.41475791e-01,\n",
       "         1.42121405e-01, -7.83641243e-02, -1.23674751e-01,\n",
       "        -1.16153781e-01,  2.52039782e-01, -1.57892842e-01,\n",
       "        -1.76955003e-01,  1.29031044e-01, -5.07050484e-01,\n",
       "        -4.74937173e-02],\n",
       "       [-3.81573141e-01, -1.20099227e-02,  1.02148557e-01,\n",
       "        -1.29826160e-01, -1.44342429e-03,  1.79300401e-02,\n",
       "         7.39497919e-03,  2.85037918e-01,  4.19670609e-01,\n",
       "         5.65174092e-03,  6.79110554e-02, -3.89396786e-01,\n",
       "         7.60990355e-02, -2.61712740e-01, -3.62458039e-01,\n",
       "        -4.19701842e-01,  1.84482857e-01, -1.85449764e-01,\n",
       "        -1.66066169e-01,  1.24897040e-01,  7.89508454e-04,\n",
       "         2.53570669e-02, -3.70032152e-01, -3.10468155e-01,\n",
       "         1.72738686e-01,  2.41166023e-01, -3.14558155e-02,\n",
       "         3.71097474e-02,  5.80155898e-02,  5.85608277e-02,\n",
       "         6.22060042e-02,  2.86863025e-01,  3.51439144e-01,\n",
       "         2.44831749e-02,  2.93259191e-01,  1.72980977e-01,\n",
       "        -6.19005289e-02],\n",
       "       [-2.66027648e-01, -3.71829180e-01, -1.09462275e-01,\n",
       "         5.48147065e-02, -1.30373170e-01,  6.66147144e-02,\n",
       "        -7.61591082e-03, -1.95437938e-01,  1.74254173e-01,\n",
       "         4.00995088e-01,  2.37028695e-01, -1.78314142e-01,\n",
       "         6.93677100e-02, -1.07693317e-01, -8.76486366e-02,\n",
       "        -3.90305956e-02,  1.40666588e-01,  5.71447731e-02,\n",
       "         1.68849653e-02,  6.84970934e-02,  4.20735236e-02,\n",
       "         1.09069905e-01,  2.46230095e-01,  2.65998249e-01,\n",
       "        -6.72665840e-02, -3.91351145e-02,  5.10030307e-02,\n",
       "         2.79795831e-02, -1.95595870e-01, -1.82055627e-02,\n",
       "        -8.05338895e-02, -2.38889173e-01,  4.25885416e-02,\n",
       "         3.20333378e-01, -5.05889371e-02, -1.24607226e-01,\n",
       "         7.89538886e-02],\n",
       "       [ 6.81205639e-01, -9.79247478e-02,  3.80343430e-02,\n",
       "        -8.51090723e-02, -1.36153242e-01,  2.37513532e-01,\n",
       "         1.07947377e-01,  1.09499174e-01, -1.29036662e-01,\n",
       "         4.97429712e-02,  5.87426174e-02, -1.79500759e-01,\n",
       "         1.69190243e-01, -7.02003370e-02, -1.40918935e-01,\n",
       "        -1.95847450e-01,  7.25571112e-02, -9.65348053e-02,\n",
       "        -5.01961615e-02,  9.18094461e-02, -3.73374277e-02,\n",
       "         9.11543612e-03,  6.18840052e-02,  7.57700128e-02,\n",
       "        -7.05308110e-02, -3.92596571e-02,  7.73257650e-04,\n",
       "         6.20881288e-03, -9.60719308e-02,  2.35690004e-01,\n",
       "         1.36776962e-01,  7.70535590e-02, -9.58627659e-02,\n",
       "         1.04149814e-01,  1.07227517e-01, -4.74783255e-03,\n",
       "        -1.72721092e-02],\n",
       "       [ 2.24679084e-01,  1.30546104e-01,  3.66007141e-02,\n",
       "         3.94629546e-02, -9.19520246e-02, -3.53439561e-01,\n",
       "        -2.67438910e-01,  5.16953430e-02, -1.21813867e-01,\n",
       "         3.50175700e-01, -5.02655966e-03,  6.21615952e-02,\n",
       "         2.02593709e-02,  5.43085902e-02,  5.26075168e-02,\n",
       "        -6.74116938e-02,  1.31350699e-02, -4.19694384e-02,\n",
       "        -4.39313874e-02,  4.24288456e-03,  7.88052423e-02,\n",
       "         2.29683585e-02, -2.02366916e-01, -2.00936938e-01,\n",
       "         1.82188453e-01,  1.64480765e-01,  7.42024648e-03,\n",
       "         2.11421731e-02, -4.91165626e-02, -2.21523008e-01,\n",
       "        -1.76603742e-01,  2.57216452e-02, -9.52131050e-02,\n",
       "         3.70914566e-01, -6.01720087e-02, -2.98995127e-02,\n",
       "         2.80705762e-02],\n",
       "       [ 3.47401055e-01, -6.82556562e-03, -5.57184521e-04,\n",
       "         6.96887328e-02,  1.42859183e-01, -3.39970576e-02,\n",
       "         2.66246435e-02, -2.48540199e-01,  3.80949087e-01,\n",
       "        -6.52878173e-02,  1.06821218e-01, -1.15140945e-02,\n",
       "        -6.70260440e-02, -3.36248772e-02, -3.21598570e-02,\n",
       "        -7.92292363e-03, -1.25967259e-01, -8.23084135e-02,\n",
       "        -8.93502355e-02, -1.48946804e-01,  8.57801539e-02,\n",
       "         9.05502517e-02, -2.08859902e-02, -2.15608975e-02,\n",
       "         1.05709435e-01,  1.30445898e-01,  1.23261899e-02,\n",
       "         1.17690879e-02,  1.56527947e-01, -6.58919406e-02,\n",
       "         6.45101713e-03, -2.57149891e-01,  2.76191840e-01,\n",
       "        -8.92766833e-02, -1.69428954e-01, -2.86872021e-02,\n",
       "         6.10885614e-02],\n",
       "       [-2.33876975e-02,  3.39733832e-01, -1.26504956e-01,\n",
       "        -1.52322463e-03, -4.44088722e-02,  5.77515033e-02,\n",
       "         2.38055612e-02,  3.48971294e-02,  4.74411814e-02,\n",
       "         8.57598136e-02,  1.05137206e-01, -6.19112118e-02,\n",
       "         5.90529471e-02, -2.52814744e-02,  1.17074994e-02,\n",
       "        -4.73171543e-02,  4.03974492e-02, -7.12437707e-03,\n",
       "         1.89167862e-02, -5.81876537e-01, -5.54235467e-02,\n",
       "        -2.27357979e-02,  3.47838202e-02,  7.45014381e-02,\n",
       "        -7.81874584e-02, -7.91935412e-02,  1.59868194e-01,\n",
       "         1.62387434e-01, -1.07251049e-01,  4.22000398e-03,\n",
       "        -3.39217186e-02,  1.39849059e-02, -1.15830709e-02,\n",
       "         3.96287791e-02,  1.13083645e-01,  1.61173404e-01,\n",
       "         4.97154387e-03],\n",
       "       [-7.13210412e-02, -7.74193398e-03,  2.83594746e-02,\n",
       "        -7.50527797e-02, -2.29071462e-01,  1.47926278e-02,\n",
       "        -7.36591967e-02, -1.39223233e-01, -2.75085301e-03,\n",
       "        -1.77580858e-01, -4.69583808e-02,  5.38735041e-02,\n",
       "         2.31623979e-01,  1.23523294e-01,  6.19657852e-02,\n",
       "        -1.20441198e-01,  7.16087621e-02, -4.03853395e-02,\n",
       "         1.55070509e-02, -1.06922400e-03, -2.59080485e-02,\n",
       "        -3.41929809e-02, -1.30455434e-01, -1.15934633e-01,\n",
       "         3.15902278e-02,  3.41454799e-02,  1.97807176e-01,\n",
       "         1.95321117e-01, -1.32817193e-01,  1.12655986e-01,\n",
       "         3.54287599e-02, -1.10776566e-01,  2.23317458e-02,\n",
       "        -6.73924982e-02, -1.20131203e-01, -2.49031463e-01,\n",
       "         1.09076269e-02],\n",
       "       [-6.50834706e-02,  2.01057351e-01,  2.13325221e-02,\n",
       "         6.62354185e-02,  1.62079689e-03,  5.90250600e-02,\n",
       "         4.41493113e-02,  6.77139760e-02, -2.29671076e-02,\n",
       "         2.97353599e-03,  7.00989385e-02, -7.14678127e-02,\n",
       "         1.63299617e-01,  7.82221181e-03,  2.99007853e-02,\n",
       "        -8.27151392e-03,  9.62670788e-03,  2.41735009e-04,\n",
       "        -1.29103870e-02, -1.10986732e-01,  8.93571859e-02,\n",
       "         8.66785867e-02,  5.38281616e-02,  4.20941564e-02,\n",
       "         7.50133274e-02,  8.26994312e-02, -2.60105693e-01,\n",
       "        -2.50498746e-01,  8.56820131e-03,  4.64355780e-02,\n",
       "         3.64242092e-02,  5.72726366e-02,  7.80736761e-03,\n",
       "         4.12240797e-03, -6.67416597e-02, -3.37936849e-01,\n",
       "         7.65915503e-03],\n",
       "       [-7.44113036e-03,  1.58989302e-01,  4.99567393e-02,\n",
       "         5.43442294e-02,  1.71500287e-02,  6.44192036e-02,\n",
       "         4.23716982e-02,  3.14561184e-02,  5.84200354e-02,\n",
       "         1.06071541e-01, -8.11635034e-02,  5.52447430e-02,\n",
       "        -2.10256158e-01, -3.45341930e-02, -4.09603367e-02,\n",
       "         7.45302252e-03, -9.40148846e-02, -5.30156746e-02,\n",
       "        -4.62810954e-02,  9.04313606e-02, -7.17844949e-02,\n",
       "        -4.30660386e-02,  4.99436481e-03,  2.09509582e-02,\n",
       "        -8.26642260e-02, -6.92307106e-02,  1.17245791e-01,\n",
       "         9.14026825e-02,  1.15091734e-02,  5.29450794e-02,\n",
       "         4.21299132e-02,  5.83063526e-02,  8.43427327e-02,\n",
       "         1.02644071e-01,  1.37385601e-03, -2.30888594e-01,\n",
       "        -2.15829375e-02],\n",
       "       [ 1.29067535e-03, -3.74065292e-02, -4.74580101e-03,\n",
       "        -6.86414026e-02,  1.68114106e-01, -1.37249639e-01,\n",
       "        -2.50232899e-02,  1.77519407e-02, -4.56115080e-02,\n",
       "        -1.64684501e-02,  1.72359457e-02, -4.06861940e-02,\n",
       "         1.47216683e-01,  2.30995633e-02, -3.03369126e-02,\n",
       "        -5.65361934e-02,  1.06692191e-02, -3.46052900e-02,\n",
       "         2.68858543e-02, -8.32179337e-03, -3.95132581e-02,\n",
       "        -2.39907076e-03,  4.88936509e-02,  7.49932557e-02,\n",
       "        -6.69329603e-02, -5.34822514e-02,  5.17890683e-02,\n",
       "         9.04441663e-02,  2.08677967e-01, -8.49599573e-02,\n",
       "         1.06798474e-02,  7.14314404e-04, -6.75478326e-03,\n",
       "         1.23726801e-02,  9.63168826e-02, -1.24750227e-01,\n",
       "        -8.19236791e-03],\n",
       "       [-8.45526250e-03,  7.42932805e-02, -6.86545115e-02,\n",
       "         8.79541860e-02,  6.20758639e-02,  4.19346033e-02,\n",
       "         5.34251653e-02,  2.14217276e-02,  2.51573538e-02,\n",
       "         3.48913695e-02,  9.39240836e-02,  2.66237147e-03,\n",
       "         1.20523152e-01,  4.39617810e-02,  1.42194543e-01,\n",
       "        -7.14054879e-02, -7.17558382e-02, -9.44494362e-02,\n",
       "        -1.16598125e-01,  1.45059437e-01, -3.43772929e-02,\n",
       "        -1.89232589e-02,  1.84376225e-02, -1.90756880e-03,\n",
       "        -4.70397641e-02, -2.29496324e-02,  3.06397559e-02,\n",
       "        -1.26436241e-03, -7.59691573e-02, -7.77795303e-02,\n",
       "        -8.22466415e-02,  1.52705315e-02,  5.99925702e-03,\n",
       "        -6.84472131e-02, -1.73379649e-02,  5.70006166e-02,\n",
       "        -1.42390869e-02],\n",
       "       [-4.57970850e-02, -1.26547450e-01,  5.12521518e-02,\n",
       "         2.24081282e-02, -5.36983450e-02, -1.01623169e-03,\n",
       "        -2.28757212e-02,  6.39922151e-02,  1.47427337e-02,\n",
       "         1.34961484e-03, -3.19935341e-02,  8.82912365e-02,\n",
       "         5.55822440e-02,  8.63067282e-02,  2.13935838e-02,\n",
       "        -3.29166581e-02, -1.55772756e-01, -1.18220540e-01,\n",
       "        -5.45647678e-02, -1.01199685e-01, -6.03741761e-03,\n",
       "        -2.21672043e-02,  2.36540049e-02,  1.48191941e-02,\n",
       "        -1.77430632e-02, -3.83472786e-02, -3.97584800e-02,\n",
       "        -3.11190238e-02,  4.87253887e-02,  5.93776614e-02,\n",
       "         5.95929645e-02,  3.75526243e-02,  5.42940987e-02,\n",
       "         1.07153616e-01, -4.64051276e-02,  5.89574519e-02,\n",
       "        -1.05874240e-02]])"
      ]
     },
     "metadata": {},
     "output_type": "display_data"
    }
   ],
   "source": [
    "pca = PCA(n_components=16)\n",
    "reduced_features = pca.fit_transform(train_df_scaled)\n",
    "corr_coeff = np.zeros((np.shape(reduced_features)[1],np.shape(train_df_scaled)[1]))\n",
    "for i in range(np.shape(reduced_features)[1]):\n",
    "    for j in range(np.shape(train_df_scaled)[1]):\n",
    "        corr_coeff[i,j] = pearsonr(train_df_scaled.iloc[:,j],reduced_features[:,i])[0]\n",
    "display(corr_coeff)"
   ]
  },
  {
   "cell_type": "code",
   "execution_count": null,
   "metadata": {},
   "outputs": [],
   "source": []
  }
 ],
 "metadata": {
  "kernelspec": {
   "display_name": "Python 3",
   "language": "python",
   "name": "python3"
  },
  "language_info": {
   "codemirror_mode": {
    "name": "ipython",
    "version": 3
   },
   "file_extension": ".py",
   "mimetype": "text/x-python",
   "name": "python",
   "nbconvert_exporter": "python",
   "pygments_lexer": "ipython3",
   "version": "3.6.6"
  }
 },
 "nbformat": 4,
 "nbformat_minor": 2
}
