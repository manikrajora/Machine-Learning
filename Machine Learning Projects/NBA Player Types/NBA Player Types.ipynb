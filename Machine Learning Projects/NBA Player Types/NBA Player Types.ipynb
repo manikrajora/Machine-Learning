{
 "cells": [
  {
   "cell_type": "markdown",
   "metadata": {},
   "source": [
    "This is a list of all the libraries that are used in this analysis"
   ]
  },
  {
   "cell_type": "code",
   "execution_count": 57,
   "metadata": {},
   "outputs": [],
   "source": [
    "import pandas as pd\n",
    "import matplotlib.pyplot as plt\n",
    "from sklearn.decomposition import FastICA, PCA\n",
    "from sklearn.mixture import GaussianMixture\n",
    "from sklearn import preprocessing\n",
    "from sklearn.cluster import KMeans\n",
    "from sklearn.model_selection import train_test_split\n",
    "from IPython.display import display, HTML\n",
    "import seaborn as sns\n",
    "from IPython.display import display, HTML\n",
    "from sklearn.metrics import accuracy_score, silhouette_score\n",
    "import numpy as np\n",
    "from scipy.stats import pearsonr, percentileofscore"
   ]
  },
  {
   "cell_type": "markdown",
   "metadata": {},
   "source": [
    "Right now the data is imported from two excels which have advanced stats and player totals for the season. This will probably chance in the furture to getting data from basketball-reference.com. I also need to merge the two dataframes and remove duplicates. The duplicates occur when a player is traded from one team to another in the middle of the season."
   ]
  },
  {
   "cell_type": "code",
   "execution_count": 8,
   "metadata": {
    "scrolled": true
   },
   "outputs": [],
   "source": [
    "df_advanced = pd.read_excel('Advanced Stats.xlsx')\n",
    "df_total_stats = pd.read_excel('Total Stats.xlsx')\n",
    "df = df_advanced.merge(df_total_stats, on = ['Player', 'Pos', 'Age', 'Tm', 'G', 'MP', 'Rk'])\n",
    "df.drop_duplicates(['Player'], keep='first',inplace=True)"
   ]
  },
  {
   "cell_type": "markdown",
   "metadata": {},
   "source": [
    "I am going to make a copy of the original df since I will remove some columns (Player name, position, team, age etc.) as they aren't important for analysis. I will need the player name later on to see which players cluster together. There are also some columns with NAs which I will drop as well as players with total time played less than 1000  minutes."
   ]
  },
  {
   "cell_type": "code",
   "execution_count": 9,
   "metadata": {},
   "outputs": [],
   "source": [
    "df.dropna(axis=1,inplace=True)\n",
    "idx = df.index[df['MP']<1000]\n",
    "df.drop(idx,inplace=True)\n",
    "idx_gp = df.index[df['G']<50]\n",
    "df.drop(idx_gp,inplace=True)\n",
    "df_copy = df.copy(deep=True)\n",
    "df.drop(['Pos', 'Rk', 'Tm', 'Player'],axis=1,inplace=True)"
   ]
  },
  {
   "cell_type": "markdown",
   "metadata": {},
   "source": [
    "I am going to split the data into a train/test set. Since I want to keep a track of the training data in the original data frame, I will create a dummy array and split it then use those indices to split the dataframe."
   ]
  },
  {
   "cell_type": "code",
   "execution_count": 10,
   "metadata": {},
   "outputs": [],
   "source": [
    "indices = np.arange(0,np.shape(df)[0])\n",
    "indices_train, indices_test  = train_test_split(indices, test_size=0.0)\n",
    "train_df = df.iloc[indices_train,:]\n",
    "test_df = df.iloc[indices_test,:]\n",
    "train_df_copy = df_copy.iloc[indices_train,:]\n",
    "test_df_copy = df_copy.iloc[indices_test,:]"
   ]
  },
  {
   "cell_type": "markdown",
   "metadata": {},
   "source": [
    "Since there are 37 features, Ill use PCA for dimensionality reduction. But first, the data needs to be standardized"
   ]
  },
  {
   "cell_type": "code",
   "execution_count": 11,
   "metadata": {},
   "outputs": [
    {
     "name": "stderr",
     "output_type": "stream",
     "text": [
      "/anaconda2/envs/Py36/lib/python3.6/site-packages/sklearn/preprocessing/data.py:645: DataConversionWarning: Data with input dtype int64, float64 were all converted to float64 by StandardScaler.\n",
      "  return self.partial_fit(X, y)\n",
      "/anaconda2/envs/Py36/lib/python3.6/site-packages/sklearn/base.py:464: DataConversionWarning: Data with input dtype int64, float64 were all converted to float64 by StandardScaler.\n",
      "  return self.fit(X, **fit_params).transform(X)\n"
     ]
    }
   ],
   "source": [
    "scaler = preprocessing.StandardScaler()\n",
    "train_df_scaled = pd.DataFrame(scaler.fit_transform(train_df),columns=df.columns)"
   ]
  },
  {
   "cell_type": "markdown",
   "metadata": {},
   "source": [
    "For PCA we need to determine the number of compopnents. Here, I used the explained variance ratio to determine the number of components"
   ]
  },
  {
   "cell_type": "code",
   "execution_count": 12,
   "metadata": {},
   "outputs": [
    {
     "data": {
      "image/png": "[encoded data removed]",
      "text/plain": [
       "<Figure size 432x288 with 1 Axes>"
      ]
     },
     "metadata": {
      "needs_background": "light"
     },
     "output_type": "display_data"
    }
   ],
   "source": [
    "evr = []\n",
    "for components in range(1, np.shape(train_df_scaled)[1]):\n",
    "    pca = PCA(n_components=components)\n",
    "    pca.fit(train_df_scaled)\n",
    "    if components == 1:\n",
    "        evr.append(pca.explained_variance_ratio_[-1])\n",
    "    else:\n",
    "        evr.append(evr[-1]+pca.explained_variance_ratio_[-1])\n",
    "\n",
    "plt.scatter(np.arange(1,np.shape(df)[1]),evr)\n",
    "plt.xlabel('Number of components')\n",
    "plt.ylabel('Variance Ratio')\n",
    "plt.show()\n",
    "#     kmeans = KMeans(n_clusters=n_cluster,random_state=1).fit(X_train)\n",
    "#     label = kmeans.labels_\n",
    "#     sil_coeff = silhouette_score(X_train, label, metric='euclidean')\n",
    "#     print(\"For n_clusters={}, The Silhouette Coefficient is {}\".format(n_cluster, sil_coeff))"
   ]
  },
  {
   "cell_type": "markdown",
   "metadata": {},
   "source": [
    "Seems like 16 is a good number of components to use. Now we can check the correlation between the principal components and the original features.\n",
    "\n",
    "Next, we need to determine the number of clusters. We can do this by using the Silhouette Measure and Elbow Method."
   ]
  },
  {
   "cell_type": "code",
   "execution_count": 13,
   "metadata": {},
   "outputs": [
    {
     "name": "stdout",
     "output_type": "stream",
     "text": [
      "For n_clusters=2, The Silhouette Coefficient is 0.32847493288997265\n",
      "For n_clusters=3, The Silhouette Coefficient is 0.2927403407481235\n",
      "For n_clusters=4, The Silhouette Coefficient is 0.19556418547519586\n",
      "For n_clusters=5, The Silhouette Coefficient is 0.20558860331477874\n",
      "For n_clusters=6, The Silhouette Coefficient is 0.15267800976792167\n",
      "For n_clusters=7, The Silhouette Coefficient is 0.16490519394024405\n",
      "For n_clusters=8, The Silhouette Coefficient is 0.12312925422287288\n",
      "For n_clusters=9, The Silhouette Coefficient is 0.12807295558060589\n",
      "For n_clusters=10, The Silhouette Coefficient is 0.11708242488405685\n",
      "For n_clusters=11, The Silhouette Coefficient is 0.11507074875720885\n",
      "For n_clusters=12, The Silhouette Coefficient is 0.11438315898182826\n",
      "For n_clusters=13, The Silhouette Coefficient is 0.11923031038937257\n",
      "For n_clusters=14, The Silhouette Coefficient is 0.11931933925203989\n",
      "For n_clusters=15, The Silhouette Coefficient is 0.11212235091134759\n",
      "For n_clusters=16, The Silhouette Coefficient is 0.1109284292127543\n",
      "For n_clusters=17, The Silhouette Coefficient is 0.10981772515489491\n",
      "For n_clusters=18, The Silhouette Coefficient is 0.10442410693738746\n",
      "For n_clusters=19, The Silhouette Coefficient is 0.11555667210603132\n"
     ]
    },
    {
     "name": "stderr",
     "output_type": "stream",
     "text": [
      "No handles with labels found to put in legend.\n"
     ]
    },
    {
     "data": {
      "image/png": "[encoded data removed]",
      "text/plain": [
       "<Figure size 432x288 with 1 Axes>"
      ]
     },
     "metadata": {
      "needs_background": "light"
     },
     "output_type": "display_data"
    }
   ],
   "source": [
    "pca = PCA(n_components=15)\n",
    "reduced_features = pca.fit_transform(train_df_scaled)\n",
    "\n",
    "for n_cluster in range(2, 20):\n",
    "    kmeans = KMeans(n_clusters=n_cluster).fit(reduced_features)\n",
    "    label = kmeans.labels_\n",
    "    sil_coeff = silhouette_score(reduced_features, label, metric='euclidean')\n",
    "    print(\"For n_clusters={}, The Silhouette Coefficient is {}\".format(n_cluster, sil_coeff))\n",
    "    \n",
    "sse = {}\n",
    "for k in range(1, 20):\n",
    "    kmeans = KMeans(n_clusters=k).fit(reduced_features)\n",
    "    #print(data[\"clusters\"])\n",
    "    sse[k] = kmeans.inertia_ # Inertia: Sum of distances of samples to their closest cluster center\n",
    "plt.figure()\n",
    "plt.plot(list(sse.keys()), list(sse.values()),'o')\n",
    "plt.xlabel(\"Number of cluster\")\n",
    "plt.ylabel(\"SSE\")\n",
    "plt.xticks(list(sse.keys()))\n",
    "plt.legend()\n",
    "plt.show()"
   ]
  },
  {
   "cell_type": "markdown",
   "metadata": {},
   "source": [
    "Its a bit hard to interprety the silhouette measure but using the elbow method shows that 13 clusters is a good choice. Now to see what players are grouped together in our clusters"
   ]
  },
  {
   "cell_type": "code",
   "execution_count": 14,
   "metadata": {},
   "outputs": [
    {
     "name": "stderr",
     "output_type": "stream",
     "text": [
      "/anaconda2/envs/Py36/lib/python3.6/site-packages/ipykernel_launcher.py:3: SettingWithCopyWarning: \n",
      "A value is trying to be set on a copy of a slice from a DataFrame.\n",
      "Try using .loc[row_indexer,col_indexer] = value instead\n",
      "\n",
      "See the caveats in the documentation: http://pandas.pydata.org/pandas-docs/stable/indexing.html#indexing-view-versus-copy\n",
      "  This is separate from the ipykernel package so we can avoid doing imports until\n"
     ]
    }
   ],
   "source": [
    "kmeans = KMeans(n_clusters=11).fit(reduced_features)\n",
    "labels = kmeans.labels_ \n",
    "train_df_copy['labels'] = labels\n",
    "names = {}\n",
    "unique_labels = list(set(labels))\n",
    "for i in range(len(unique_labels)):\n",
    "    names[i] = train_df_copy[train_df_copy['labels']==unique_labels[i]]['Player']"
   ]
  },
  {
   "cell_type": "code",
   "execution_count": 67,
   "metadata": {},
   "outputs": [
    {
     "data": {
      "text/plain": [
       "array(['Age', 'G', 'MP', 'PER', 'ORB%', 'DRB%', 'TRB%', 'AST%', 'STL%',\n",
       "       'BLK%', 'USG%', 'OWS', 'DWS', 'WS', 'WS/48', 'OBPM', 'DBPM', 'BPM',\n",
       "       'VORP', 'GS', 'FG', 'FGA', '3P', '3PA', '2P', '2PA', 'FT', 'FTA',\n",
       "       'ORB', 'DRB', 'TRB', 'AST', 'STL', 'BLK', 'TOV', 'PF', 'PTS'],\n",
       "      dtype=object)"
      ]
     },
     "metadata": {},
     "output_type": "display_data"
    },
    {
     "data": {
      "text/plain": [
       "{0: array([ 2.86123443e+01,  6.74740217e+01,  1.41706482e+03,  1.11253407e+01,\n",
       "         3.51133105e+00,  1.26785754e+01,  8.13143467e+00,  9.05504144e+00,\n",
       "         1.22910476e+00,  1.33715528e+00,  1.49890424e+01,  1.22365263e+00,\n",
       "         1.30254110e+00,  2.52227297e+00,  8.47634510e-02, -8.64643477e-01,\n",
       "        -4.38687428e-01, -1.30931890e+00,  2.35182962e-01,  1.47748208e+01,\n",
       "         1.65086017e+02,  3.79452725e+02,  8.17604900e+01,  2.21617532e+02,\n",
       "         8.33255269e+01,  1.57835193e+02,  5.33805914e+01,  6.94782934e+01,\n",
       "         4.46374878e+01,  1.66666938e+02,  2.11304426e+02,  7.91151639e+01,\n",
       "         3.48665611e+01,  2.26608811e+01,  4.44064409e+01,  1.26546444e+02,\n",
       "         4.65313115e+02]),\n",
       " 1: array([ 2.83155658e+01,  7.77372791e+01,  2.83322230e+03,  2.42482301e+01,\n",
       "         2.35477673e+00,  1.51107214e+01,  8.76299517e+00,  2.77894182e+01,\n",
       "         1.80906338e+00,  1.28801356e+00,  3.17716033e+01,  7.16170510e+00,\n",
       "         2.96270488e+00,  1.01231192e+01,  1.86118727e-01,  6.33422433e+00,\n",
       "        -5.03712578e-01,  5.82136657e+00,  4.90183824e+00,  7.78091286e+01,\n",
       "         6.98735124e+02,  1.53296163e+03,  2.53101342e+02,  6.78749576e+02,\n",
       "         4.45633783e+02,  8.54212050e+02,  4.43123554e+02,  5.25077345e+02,\n",
       "         7.41231410e+01,  4.07563233e+02,  4.81686374e+02,  4.44088353e+02,\n",
       "         1.04835470e+02,  4.63386222e+01,  2.33671397e+02,  1.87064934e+02,\n",
       "         2.09369514e+03]),\n",
       " 2: array([ 2.64072323e+01,  7.51332811e+01,  1.97731931e+03,  1.25656805e+01,\n",
       "         3.39951993e+00,  1.48483877e+01,  9.09733133e+00,  1.32281848e+01,\n",
       "         1.93157245e+00,  1.84458621e+00,  1.63736451e+01,  1.35339065e+00,\n",
       "         2.16627646e+00,  3.51531505e+00,  8.34047303e-02, -8.14518045e-01,\n",
       "         8.27251949e-01,  1.76694206e-02,  1.08991903e+00,  4.69132938e+01,\n",
       "         2.70540557e+02,  6.19727680e+02,  9.68793619e+01,  2.73019544e+02,\n",
       "         1.73661196e+02,  3.46708136e+02,  9.99621913e+01,  1.33735603e+02,\n",
       "         6.34868356e+01,  2.73255889e+02,  3.36742725e+02,  1.92592409e+02,\n",
       "         7.95748417e+01,  4.14981811e+01,  9.52688051e+01,  1.67105943e+02,\n",
       "         7.37922668e+02]),\n",
       " 3: array([ 2.29255909e+01,  6.33362417e+01,  1.38842300e+03,  1.50201988e+01,\n",
       "         7.42505502e+00,  1.88873443e+01,  1.31248320e+01,  9.01809063e+00,\n",
       "         1.19417600e+00,  2.73845890e+00,  2.00020587e+01,  1.08507720e+00,\n",
       "         1.41484086e+00,  2.48188675e+00,  9.00649125e-02, -1.31982270e+00,\n",
       "         1.23337440e-01, -1.20469880e+00,  1.96744369e-01,  2.92539435e+01,\n",
       "         2.51598730e+02,  5.20870169e+02,  4.27893593e+01,  1.30929159e+02,\n",
       "         2.08809371e+02,  3.89941010e+02,  1.12928400e+02,  1.57479703e+02,\n",
       "         1.04513163e+02,  2.57937340e+02,  3.62450502e+02,  6.88151432e+01,\n",
       "         3.15304571e+01,  4.86057982e+01,  8.27972410e+01,  1.50126185e+02,\n",
       "         6.58915219e+02]),\n",
       " 4: array([2.65390191e+01, 7.41521342e+01, 2.10157833e+03, 2.02708305e+01,\n",
       "        1.05489100e+01, 2.31696276e+01, 1.68837648e+01, 1.16293478e+01,\n",
       "        1.36729494e+00, 3.55026217e+00, 2.06864107e+01, 4.14841872e+00,\n",
       "        3.03305476e+00, 7.17864736e+00, 1.66767975e-01, 5.86734560e-01,\n",
       "        1.99118071e+00, 2.57627013e+00, 2.43789058e+00, 6.17102055e+01,\n",
       "        4.36182990e+02, 7.99584410e+02, 2.98162546e+01, 8.83555549e+01,\n",
       "        4.06366736e+02, 7.11228855e+02, 1.85229024e+02, 2.63062999e+02,\n",
       "        1.97850916e+02, 4.50310269e+02, 6.48161185e+02, 1.65815971e+02,\n",
       "        6.11121371e+01, 8.38435524e+01, 1.22589940e+02, 2.00804155e+02,\n",
       "        1.08741126e+03]),\n",
       " 5: array([ 2.64169713e+01,  7.74494567e+01,  2.33338148e+03,  1.49998673e+01,\n",
       "         2.51421006e+00,  1.23221433e+01,  7.43906822e+00,  1.53027189e+01,\n",
       "         1.21059541e+00,  8.83104925e-01,  2.30681384e+01,  2.56220546e+00,\n",
       "         2.15449983e+00,  4.71579688e+00,  9.25990470e-02,  7.05288003e-01,\n",
       "        -1.22998065e+00, -5.29761434e-01,  1.05699176e+00,  6.36177033e+01,\n",
       "         4.65130599e+02,  1.03144735e+03,  1.53612768e+02,  4.09640400e+02,\n",
       "         3.11517831e+02,  6.21806949e+02,  1.83052831e+02,  2.23538906e+02,\n",
       "         5.97288786e+01,  2.77560557e+02,  3.37289436e+02,  2.34478476e+02,\n",
       "         6.18916529e+01,  2.83039413e+01,  1.32306189e+02,  1.64057562e+02,\n",
       "         1.26692680e+03]),\n",
       " 6: array([2.51026792e+01, 7.37721177e+01, 2.53807097e+03, 2.55106157e+01,\n",
       "        9.98590835e+00, 2.97051281e+01, 1.99125130e+01, 2.37206377e+01,\n",
       "        1.79411471e+00, 3.68536423e+00, 2.68454707e+01, 5.95815551e+00,\n",
       "        4.41819215e+00, 1.03786616e+01, 2.08201365e-01, 2.97100489e+00,\n",
       "        3.86069249e+00, 6.84654069e+00, 5.19383405e+00, 7.24571428e+01,\n",
       "        6.09178864e+02, 1.16230983e+03, 6.19649221e+01, 1.94764368e+02,\n",
       "        5.47213942e+02, 9.67545459e+02, 3.37390198e+02, 4.59979125e+02,\n",
       "        2.16453525e+02, 6.60640027e+02, 8.77093552e+02, 3.67069985e+02,\n",
       "        9.42703777e+01, 1.01491272e+02, 2.20479128e+02, 2.18249945e+02,\n",
       "        1.61771285e+03]),\n",
       " 7: array([ 2.69504096e+01,  6.98988971e+01,  2.23776147e+03,  2.00970127e+01,\n",
       "         2.75794043e+00,  1.31440889e+01,  7.97006206e+00,  3.05698491e+01,\n",
       "         1.96399506e+00,  9.95154604e-01,  2.72208945e+01,  4.13382146e+00,\n",
       "         2.31956080e+00,  6.45414415e+00,  1.33629854e-01,  2.77264489e+00,\n",
       "        -3.69493717e-01,  2.39032865e+00,  2.69864483e+00,  6.59572994e+01,\n",
       "         5.04384130e+02,  1.10015517e+03,  1.30882303e+02,  3.65424437e+02,\n",
       "         3.73501827e+02,  7.34730730e+02,  2.83795116e+02,  3.46702175e+02,\n",
       "         5.97335934e+01,  2.85514511e+02,  3.45248104e+02,  4.28014283e+02,\n",
       "         9.07147733e+01,  2.76210769e+01,  1.88943706e+02,  1.45473481e+02,\n",
       "         1.42344568e+03]),\n",
       " 8: array([2.53937658e+01, 7.43457217e+01, 1.43547735e+03, 1.87998708e+01,\n",
       "        1.07305985e+01, 2.21937397e+01, 1.64481785e+01, 1.03394549e+01,\n",
       "        1.74911591e+00, 4.02701793e+00, 1.60628019e+01, 3.48888282e+00,\n",
       "        2.01615138e+00, 5.49360045e+00, 1.70487394e-01, 3.82800675e-01,\n",
       "        2.08532811e+00, 2.47131092e+00, 1.87421234e+00, 2.40520227e+01,\n",
       "        2.33417624e+02, 3.91115508e+02, 1.53976800e+01, 4.42461652e+01,\n",
       "        2.18019944e+02, 3.46869343e+02, 1.00430278e+02, 1.43874969e+02,\n",
       "        1.54231174e+02, 3.11473449e+02, 4.65704623e+02, 1.09742788e+02,\n",
       "        5.50292897e+01, 7.15958358e+01, 7.02377796e+01, 1.91048549e+02,\n",
       "        5.82663206e+02]),\n",
       " 9: array([ 2.53942736e+01,  7.55038290e+01,  1.96222971e+03,  1.15919343e+01,\n",
       "         2.04452093e+00,  1.00136228e+01,  6.00715789e+00,  1.13847611e+01,\n",
       "         1.25644964e+00,  5.77185195e-01,  1.76123351e+01,  1.73729532e+00,\n",
       "         1.13302769e+00,  2.86501718e+00,  6.93333086e-02,  1.67069833e-02,\n",
       "        -1.56599439e+00, -1.55294111e+00,  2.88202274e-01,  3.99437571e+01,\n",
       "         3.00110879e+02,  6.98148519e+02,  1.35103089e+02,  3.59687011e+02,\n",
       "         1.65007790e+02,  3.38461508e+02,  1.06479949e+02,  1.24758851e+02,\n",
       "         3.60124598e+01,  1.78688646e+02,  2.14701105e+02,  1.60096989e+02,\n",
       "         5.24111038e+01,  1.35845111e+01,  8.35177518e+01,  1.49273934e+02,\n",
       "         8.41804795e+02]),\n",
       " 10: array([ 2.62222459e+01,  6.29471179e+01,  1.36676073e+03,  1.20646067e+01,\n",
       "         2.42447603e+00,  1.14496895e+01,  6.93390830e+00,  1.72580423e+01,\n",
       "         1.44066167e+00,  8.47523097e-01,  1.96191708e+01,  2.56940891e-01,\n",
       "         9.34023030e-01,  1.18769241e+00,  5.36085289e-02, -1.38221198e+00,\n",
       "        -1.19318432e+00, -2.58722716e+00, -3.77379423e-01,  1.60520771e+01,\n",
       "         2.15063176e+02,  5.09183925e+02,  5.97552077e+01,  1.79280175e+02,\n",
       "         1.55307968e+02,  3.29903749e+02,  8.34252104e+01,  1.08137328e+02,\n",
       "         2.37507817e+01,  1.34029469e+02,  1.57780250e+02,  1.72531404e+02,\n",
       "         4.11474075e+01,  1.00529590e+01,  8.03250331e+01,  9.97934397e+01,\n",
       "         5.73306769e+02])}"
      ]
     },
     "metadata": {},
     "output_type": "display_data"
    },
    {
     "ename": "NameError",
     "evalue": "name 'st' is not defined",
     "output_type": "error",
     "traceback": [
      "\u001b[0;31m---------------------------------------------------------------------------\u001b[0m",
      "\u001b[0;31mNameError\u001b[0m                                 Traceback (most recent call last)",
      "\u001b[0;32m<ipython-input-67-78ac9ef66d3a>\u001b[0m in \u001b[0;36m<module>\u001b[0;34m\u001b[0m\n\u001b[1;32m      5\u001b[0m \u001b[0mdisplay\u001b[0m\u001b[0;34m(\u001b[0m\u001b[0mtrain_df\u001b[0m\u001b[0;34m.\u001b[0m\u001b[0mcolumns\u001b[0m\u001b[0;34m.\u001b[0m\u001b[0mvalues\u001b[0m\u001b[0;34m)\u001b[0m\u001b[0;34m\u001b[0m\u001b[0;34m\u001b[0m\u001b[0m\n\u001b[1;32m      6\u001b[0m \u001b[0mdisplay\u001b[0m\u001b[0;34m(\u001b[0m\u001b[0moriginal_centers\u001b[0m\u001b[0;34m)\u001b[0m\u001b[0;34m\u001b[0m\u001b[0;34m\u001b[0m\u001b[0m\n\u001b[0;32m----> 7\u001b[0;31m \u001b[0mst\u001b[0m\u001b[0;34m\u001b[0m\u001b[0;34m\u001b[0m\u001b[0m\n\u001b[0m\u001b[1;32m      8\u001b[0m \u001b[0;34m\u001b[0m\u001b[0m\n\u001b[1;32m      9\u001b[0m \u001b[0mpercentiles\u001b[0m \u001b[0;34m=\u001b[0m \u001b[0;34m{\u001b[0m\u001b[0;34m}\u001b[0m\u001b[0;34m\u001b[0m\u001b[0;34m\u001b[0m\u001b[0m\n",
      "\u001b[0;31mNameError\u001b[0m: name 'st' is not defined"
     ]
    }
   ],
   "source": [
    "original_centers = {}\n",
    "\n",
    "for i in range(len(kmeans.cluster_centers_)):\n",
    "    original_centers[i] = scaler.inverse_transform(np.dot(kmeans.cluster_centers_[i], pca.components_))\n",
    "\n",
    "percentiles = {}\n",
    "for i in range(len(kmeans.cluster_centers_)):\n",
    "    percentiles[i] = []\n",
    "    for j in range(len(kmeans.cluster_centers_[0])):\n",
    "        percentiles[i].append(percentileofscore(kmeans.cluster_centers_[:,j],kmeans.cluster_centers_[i,j]))\n",
    "    \n",
    "display(percentiles)"
   ]
  },
  {
   "cell_type": "code",
   "execution_count": 41,
   "metadata": {},
   "outputs": [
    {
     "data": {
      "text/plain": [
       "{0: ['MP',\n",
       "  'PER',\n",
       "  'DRB%',\n",
       "  'TRB%',\n",
       "  'AST%',\n",
       "  'USG%',\n",
       "  'OWS',\n",
       "  'DWS',\n",
       "  'WS',\n",
       "  'WS/48',\n",
       "  'OBPM',\n",
       "  'DBPM',\n",
       "  'BPM',\n",
       "  'VORP',\n",
       "  'GS',\n",
       "  'FG',\n",
       "  'FGA',\n",
       "  '2P',\n",
       "  '2PA',\n",
       "  'FT',\n",
       "  'FTA',\n",
       "  'ORB',\n",
       "  'DRB',\n",
       "  'TRB',\n",
       "  'AST',\n",
       "  'STL',\n",
       "  'BLK',\n",
       "  'TOV',\n",
       "  'PF',\n",
       "  'PTS'],\n",
       " 1: ['ORB%',\n",
       "  'DRB%',\n",
       "  'TRB%',\n",
       "  'AST%',\n",
       "  'BLK%',\n",
       "  'USG%',\n",
       "  'DBPM',\n",
       "  'FGA',\n",
       "  '3P',\n",
       "  '3PA',\n",
       "  'ORB',\n",
       "  'TRB',\n",
       "  'AST',\n",
       "  'BLK',\n",
       "  'PTS'],\n",
       " 2: ['STL%', 'USG%', 'DBPM', 'STL'],\n",
       " 3: ['G', 'MP', 'OBPM', 'PF'],\n",
       " 4: ['AST%', 'STL%', '3P'],\n",
       " 5: ['Age'],\n",
       " 6: ['G'],\n",
       " 7: [],\n",
       " 8: [],\n",
       " 9: ['G', 'GS'],\n",
       " 10: ['PF'],\n",
       " 11: [],\n",
       " 12: [],\n",
       " 13: [],\n",
       " 14: []}"
      ]
     },
     "metadata": {},
     "output_type": "display_data"
    },
    {
     "data": {
      "text/plain": [
       "array([[-2.55003967e-02,  3.43472512e-01,  7.41319348e-01,\n",
       "         8.85479354e-01,  3.83665493e-01,  5.35436785e-01,\n",
       "         5.15376872e-01,  4.30505774e-01,  2.37565176e-01,\n",
       "         3.32389484e-01,  6.38627530e-01,  8.18064101e-01,\n",
       "         7.63157518e-01,  8.97767303e-01,  7.33898530e-01,\n",
       "         7.39798672e-01,  4.70799291e-01,  8.40646824e-01,\n",
       "         8.91817745e-01,  6.58106707e-01,  8.76984358e-01,\n",
       "         7.79367458e-01,  2.25568801e-01,  2.38166668e-01,\n",
       "         8.82808759e-01,  8.43727920e-01,  8.26499694e-01,\n",
       "         8.57688613e-01,  6.01338170e-01,  8.24549638e-01,\n",
       "         8.02719497e-01,  5.90921238e-01,  5.92837375e-01,\n",
       "         5.50467979e-01,  7.83005751e-01,  5.88857378e-01,\n",
       "         8.59831732e-01],\n",
       "       [-1.21682204e-01, -7.30207322e-02, -3.81011429e-01,\n",
       "         1.38842636e-01,  8.15133400e-01,  6.70425089e-01,\n",
       "         7.73974359e-01, -5.29736372e-01, -6.19270040e-02,\n",
       "         7.35023520e-01, -4.55199719e-01,  2.23428641e-02,\n",
       "         2.51793717e-01,  1.10879372e-01,  3.59596761e-01,\n",
       "        -3.29058886e-01,  6.86620592e-01,  1.86466531e-01,\n",
       "         5.80559954e-02, -1.81977722e-01, -3.57452060e-01,\n",
       "        -5.38454337e-01, -7.60869309e-01, -7.79732612e-01,\n",
       "        -5.31647537e-02, -1.84222001e-01, -3.12634698e-01,\n",
       "        -2.12035611e-01,  6.68188245e-01,  3.51464085e-01,\n",
       "         4.83156842e-01, -5.46609123e-01, -2.63175662e-01,\n",
       "         6.15198339e-01, -3.94862507e-01,  2.38663425e-01,\n",
       "        -4.41683306e-01],\n",
       "       [ 2.88157224e-01,  2.80272235e-01,  1.30686244e-01,\n",
       "        -1.62090510e-01, -1.82161497e-01, -1.76627778e-01,\n",
       "        -1.87272651e-01,  8.51111909e-02,  6.16205815e-01,\n",
       "         2.10268568e-02, -4.69771569e-01,  9.34942919e-02,\n",
       "         3.45141081e-01,  2.00543715e-01,  1.99943106e-01,\n",
       "         1.18523595e-01,  4.07308333e-01,  3.43173151e-01,\n",
       "         3.04908283e-01,  1.30331210e-01, -2.27880567e-01,\n",
       "        -1.98760247e-01,  1.84439100e-01,  1.69179906e-01,\n",
       "        -3.40817898e-01, -3.64182843e-01, -2.41139136e-01,\n",
       "        -2.53208508e-01, -1.40352415e-01, -6.90595528e-02,\n",
       "        -9.80373730e-02,  1.85448244e-01,  5.38748000e-01,\n",
       "         3.18177006e-02, -1.32871349e-01,  1.33791264e-01,\n",
       "        -1.94576293e-01],\n",
       "       [ 3.26355845e-01, -5.08149918e-01, -4.48033312e-01,\n",
       "         3.47315305e-01,  3.90359074e-02, -1.35701124e-02,\n",
       "         1.28895383e-02,  3.85154299e-01,  3.65437902e-02,\n",
       "        -2.66768502e-02,  1.51846895e-01,  3.25358282e-01,\n",
       "        -1.44855624e-01,  1.88347677e-01,  3.95639649e-01,\n",
       "         4.04981719e-01, -3.24669484e-02,  2.76751906e-01,\n",
       "         2.24842961e-01, -3.61769227e-01, -1.09189641e-01,\n",
       "        -1.66064371e-01, -1.51143062e-01, -1.70020979e-01,\n",
       "        -5.35003841e-02, -1.02477758e-01,  1.03402855e-01,\n",
       "         6.69894686e-02, -1.08125843e-01, -1.94133519e-01,\n",
       "        -1.77541113e-01,  1.61226894e-01, -1.93250734e-01,\n",
       "        -1.46207985e-01, -6.33455762e-02, -4.96595469e-01,\n",
       "        -7.44569756e-02],\n",
       "       [-2.39370905e-01, -2.59907637e-01, -1.04317893e-01,\n",
       "        -9.22444207e-03, -2.15408776e-02,  7.12601968e-02,\n",
       "         3.46894489e-02,  4.69643234e-01,  5.89924787e-01,\n",
       "        -4.84310097e-02,  1.70306105e-01, -3.48821102e-01,\n",
       "         5.90744085e-02, -2.37791109e-01, -2.68567761e-01,\n",
       "        -3.07207983e-01,  2.00602674e-01, -1.00681852e-01,\n",
       "        -8.18199764e-02, -5.94436730e-02, -4.92999248e-02,\n",
       "        -2.81742498e-02, -4.24318202e-01, -3.55881503e-01,\n",
       "         1.39082272e-01,  1.94563511e-01,  1.46134057e-02,\n",
       "         7.64826804e-02, -1.53193059e-02,  1.62547591e-02,\n",
       "         6.52180545e-03,  3.58812740e-01,  3.78696808e-01,\n",
       "        -7.68898436e-02,  2.97635615e-01, -1.56287252e-02,\n",
       "        -9.31791746e-02],\n",
       "       [-6.40566635e-01, -5.59020288e-02, -4.98331969e-02,\n",
       "         1.02343548e-01,  1.61701136e-02, -2.93018861e-01,\n",
       "        -1.91634520e-01, -1.40777417e-01,  1.59599809e-01,\n",
       "         3.09970524e-01,  3.34948688e-02,  8.72039623e-02,\n",
       "        -9.18632495e-02,  2.84138708e-02,  9.50035417e-02,\n",
       "         9.02340380e-02,  2.73759794e-02,  8.31558469e-02,\n",
       "         2.28619208e-02,  2.05970928e-02,  5.11182662e-02,\n",
       "         2.85759252e-02, -3.06491697e-03, -6.32740139e-03,\n",
       "         5.88903991e-02,  4.06959588e-02,  4.68208991e-02,\n",
       "         3.20625592e-02, -4.62769553e-02, -2.84012830e-01,\n",
       "        -2.21428003e-01, -1.32061055e-01,  7.25944423e-02,\n",
       "         2.34330826e-01, -1.11425305e-01, -1.40052119e-02,\n",
       "         4.74323493e-02],\n",
       "       [ 2.08685313e-01, -4.49746353e-01, -1.09207940e-01,\n",
       "         6.35136679e-03, -1.54253965e-01,  1.67676061e-01,\n",
       "         5.19362225e-02, -1.38795381e-01,  1.14475890e-01,\n",
       "         3.09207033e-01,  2.25317020e-01, -2.18653600e-01,\n",
       "         1.35334870e-01, -1.12612238e-01, -1.25126734e-01,\n",
       "        -8.88201582e-02,  1.40652551e-01,  2.10169288e-02,\n",
       "         2.52812129e-02,  4.01421799e-02,  1.30465547e-02,\n",
       "         8.74041085e-02,  2.57818842e-01,  2.83575583e-01,\n",
       "        -1.03521885e-01, -7.18509574e-02,  6.03725621e-02,\n",
       "         4.64425945e-02, -1.88083231e-01,  8.90477384e-02,\n",
       "         7.02015020e-05, -1.81276001e-01,  1.31118016e-02,\n",
       "         2.71004070e-01,  1.23211992e-02, -8.60823982e-02,\n",
       "         6.15098011e-02],\n",
       "       [ 3.85889627e-01,  1.34679376e-01,  8.08469033e-02,\n",
       "        -1.94848596e-02, -1.00048599e-01, -2.42498282e-01,\n",
       "        -1.96834385e-01,  1.47870663e-01, -2.02607499e-01,\n",
       "         3.15531375e-01, -3.63010396e-02, -1.17662131e-02,\n",
       "         2.60728245e-02,  3.82075908e-03, -2.36322521e-02,\n",
       "        -1.16045592e-01,  6.51831635e-02, -4.73857489e-02,\n",
       "        -4.68530479e-02,  8.93356416e-02,  3.41585538e-02,\n",
       "         1.96237859e-03, -1.84808636e-01, -1.77646215e-01,\n",
       "         1.23136139e-01,  1.17644360e-01,  1.44093021e-03,\n",
       "         1.72595568e-02, -6.49192111e-02, -1.24718378e-01,\n",
       "        -1.12502985e-01,  1.37586576e-01, -1.29940124e-01,\n",
       "         3.44995935e-01,  4.34921519e-02,  1.58426753e-02,\n",
       "        -2.14918831e-03],\n",
       "       [ 3.40866507e-01,  4.39455145e-02,  2.86583793e-02,\n",
       "         8.61006007e-02,  1.33866165e-01, -1.08462474e-01,\n",
       "        -2.69000653e-02, -2.31606282e-01,  3.27888271e-01,\n",
       "        -4.23346075e-02,  8.24547016e-02,  3.51780434e-02,\n",
       "        -3.98435576e-02,  1.10833472e-02, -2.37034580e-04,\n",
       "        -1.26228895e-02, -1.53519055e-01, -1.05996900e-01,\n",
       "        -1.01574385e-01, -1.02098843e-01,  1.01401765e-01,\n",
       "         8.87444452e-02, -4.96982775e-02, -5.90769729e-02,\n",
       "         1.36815403e-01,  1.51936258e-01, -2.20182566e-03,\n",
       "        -1.88048553e-03,  1.75202703e-01, -9.67314934e-02,\n",
       "        -1.00416554e-02, -2.43447828e-01,  2.50242263e-01,\n",
       "        -3.91868886e-02, -1.95164685e-01, -1.03901636e-01,\n",
       "         6.44956433e-02],\n",
       "       [ 2.99296195e-03,  4.29220279e-01, -1.28537250e-01,\n",
       "         4.40737828e-02,  6.58969571e-03,  8.04134323e-02,\n",
       "         5.64033544e-02,  4.50882404e-02,  6.29325033e-02,\n",
       "         1.36006149e-01,  1.25448067e-01, -7.27817549e-02,\n",
       "        -1.89420329e-02, -6.05706331e-02, -9.32509845e-03,\n",
       "        -1.02512015e-02,  1.15522512e-02,  1.40842687e-03,\n",
       "        -2.80977193e-03, -5.41164986e-01, -2.34367507e-02,\n",
       "         1.13359349e-02,  7.43591290e-02,  1.03266632e-01,\n",
       "        -6.04448365e-02, -5.24092371e-02,  9.41282461e-02,\n",
       "         9.33597132e-02, -7.98161982e-02, -1.85492585e-02,\n",
       "        -4.07511511e-02,  1.21138463e-02, -1.81435384e-02,\n",
       "         5.89652683e-02,  9.04524840e-02,  1.03686190e-01,\n",
       "         1.71270337e-02],\n",
       "       [-1.29714542e-01,  1.61940305e-01,  3.55142169e-02,\n",
       "         4.13538247e-03, -1.82194292e-01,  6.14712877e-02,\n",
       "        -2.25701278e-02, -2.59944764e-02, -4.34411142e-02,\n",
       "        -5.98403632e-02,  1.14310439e-02, -2.33415311e-02,\n",
       "         2.71386514e-01,  8.68993890e-02,  5.91080527e-02,\n",
       "        -1.00934670e-01,  7.83436421e-02, -2.44383774e-02,\n",
       "        -2.56769789e-03, -6.64693995e-02,  5.95170586e-02,\n",
       "         5.14802021e-02, -3.47171487e-02, -4.02389716e-02,\n",
       "         8.28458330e-02,  9.20057374e-02, -7.25840043e-02,\n",
       "        -7.42870843e-02, -1.15693716e-01,  1.21278287e-01,\n",
       "         4.81822663e-02, -2.50691518e-02, -2.38872182e-02,\n",
       "         1.37320772e-02, -1.29509646e-01, -4.69297074e-01,\n",
       "         1.96093077e-02],\n",
       "       [-1.02325924e-02,  5.39129355e-02, -1.04074797e-02,\n",
       "         9.51361798e-02,  1.59580319e-01,  2.18084884e-02,\n",
       "         7.22495037e-02,  1.38918924e-01, -8.05764358e-03,\n",
       "         1.12857270e-01,  6.76742056e-02, -8.45514108e-02,\n",
       "        -8.69561926e-02, -9.46802819e-02, -4.08320696e-02,\n",
       "         9.72953479e-02, -4.15480481e-02,  4.56034118e-02,\n",
       "        -2.43933831e-03,  3.51674747e-02,  8.14327460e-02,\n",
       "         8.42714797e-02,  1.20063260e-01,  1.01398926e-01,\n",
       "         3.65343163e-02,  4.22047255e-02, -3.24504371e-01,\n",
       "        -3.20466794e-01,  1.09428357e-01, -4.05812886e-02,\n",
       "         8.08623600e-03,  1.11093031e-01, -8.10150177e-03,\n",
       "         4.04447539e-02,  2.41364958e-02, -9.48991630e-02,\n",
       "        -3.92349503e-03],\n",
       "       [-2.29397973e-03,  1.15043116e-01,  6.21629040e-02,\n",
       "         4.96460784e-02, -1.21204872e-02,  1.04512905e-01,\n",
       "         5.84500739e-02,  2.09115590e-02,  6.68022120e-02,\n",
       "         9.47043754e-02, -8.30385287e-02,  6.49681668e-02,\n",
       "        -2.56018118e-01, -4.73004242e-02, -6.46077359e-02,\n",
       "         1.74454534e-02, -7.11467851e-02, -3.31041691e-02,\n",
       "        -3.43502835e-02,  1.37508020e-01, -6.79350091e-02,\n",
       "        -4.48450475e-02,  6.12148885e-04,  1.08945243e-02,\n",
       "        -7.66773234e-02, -6.44906208e-02,  1.15859472e-01,\n",
       "         8.33334843e-02, -1.72821265e-02,  6.85494827e-02,\n",
       "         4.37039427e-02,  4.77529021e-02,  7.08196293e-02,\n",
       "         8.78032100e-02, -8.13805722e-03, -2.09271431e-01,\n",
       "        -1.99740288e-02],\n",
       "       [-1.05483645e-02, -1.48847716e-03,  4.35242848e-03,\n",
       "        -5.72864747e-02,  1.68162479e-01, -1.19953962e-01,\n",
       "        -1.54055253e-02,  2.87595022e-02, -5.12846651e-02,\n",
       "        -6.63758263e-03,  1.42021064e-02, -4.79457144e-02,\n",
       "         1.33833300e-01,  1.52667694e-02, -2.17384040e-02,\n",
       "        -4.95869190e-02,  2.41521952e-03, -3.58365905e-02,\n",
       "         1.26285758e-02,  4.08391815e-03, -5.96710494e-02,\n",
       "        -1.21002854e-02,  4.63874130e-02,  7.75475112e-02,\n",
       "        -8.83690746e-02, -6.57540025e-02,  6.70919489e-02,\n",
       "         1.01290309e-01,  2.00015319e-01, -7.78171688e-02,\n",
       "         1.21439650e-02,  2.30919412e-02,  1.21118624e-02,\n",
       "         1.73763077e-02,  9.31796440e-02, -1.51444115e-01,\n",
       "        -1.93676314e-02],\n",
       "       [ 8.99158341e-03,  8.96233488e-02, -8.66415734e-02,\n",
       "         7.95552504e-02,  5.60941186e-02,  5.56273315e-02,\n",
       "         6.14844318e-02,  2.59387930e-02,  4.22315830e-02,\n",
       "         3.70830248e-02,  8.97952930e-02, -7.58953231e-03,\n",
       "         9.75455341e-02,  3.01933763e-02,  1.28265450e-01,\n",
       "        -6.74420474e-02, -4.28171471e-02, -7.69322817e-02,\n",
       "        -1.12553673e-01,  1.76809546e-01, -2.64537172e-02,\n",
       "        -1.17130023e-02,  2.26235178e-02, -9.83982910e-04,\n",
       "        -4.01201118e-02, -1.43623206e-02,  2.88670714e-02,\n",
       "        -4.52701611e-03, -8.62136321e-02, -7.06706717e-02,\n",
       "        -8.06698643e-02,  9.15788877e-03, -3.44319052e-02,\n",
       "        -7.73425984e-02, -1.27412389e-02,  3.97136684e-02,\n",
       "        -8.50158920e-03]])"
      ]
     },
     "metadata": {},
     "output_type": "display_data"
    }
   ],
   "source": [
    "cols = df.columns.tolist()\n",
    "corr_coeff = np.zeros((np.shape(reduced_features)[1],np.shape(train_df_scaled)[1]))\n",
    "corr = {}\n",
    "for i in range(np.shape(reduced_features)[1]):\n",
    "    corr[i] = []\n",
    "    for j in range(np.shape(train_df_scaled)[1]):\n",
    "        corr_coeff[i,j] = pearsonr(train_df_scaled.iloc[:,j],reduced_features[:,i])[0]\n",
    "        if (corr_coeff[i,j] >= 0.4) or (corr_coeff[i,j] <= -0.4):\n",
    "            corr[i].append(cols[j])\n",
    "            \n",
    "display(corr)\n",
    "display(corr_coeff)"
   ]
  },
  {
   "cell_type": "code",
   "execution_count": null,
   "metadata": {},
   "outputs": [],
   "source": []
  }
 ],
 "metadata": {
  "kernelspec": {
   "display_name": "Python 3",
   "language": "python",
   "name": "python3"
  },
  "language_info": {
   "codemirror_mode": {
    "name": "ipython",
    "version": 3
   },
   "file_extension": ".py",
   "mimetype": "text/x-python",
   "name": "python",
   "nbconvert_exporter": "python",
   "pygments_lexer": "ipython3",
   "version": "3.6.8"
  }
 },
 "nbformat": 4,
 "nbformat_minor": 2
}
