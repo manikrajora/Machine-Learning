{
 "cells": [
  {
   "cell_type": "markdown",
   "metadata": {},
   "source": [
    "This is a list of all the libraries that are used in this analysis"
   ]
  },
  {
   "cell_type": "code",
   "execution_count": 32,
   "metadata": {},
   "outputs": [],
   "source": [
    "import pandas as pd\n",
    "import matplotlib.pyplot as plt\n",
    "from sklearn.decomposition import FastICA, PCA\n",
    "from sklearn.mixture import GaussianMixture\n",
    "from sklearn import preprocessing\n",
    "from sklearn.cluster import KMeans\n",
    "from sklearn.model_selection import train_test_split\n",
    "from IPython.display import display, HTML\n",
    "import seaborn as sns\n",
    "from IPython.display import display, HTML\n",
    "from sklearn.metrics import accuracy_score, silhouette_score\n",
    "import numpy as np\n",
    "from scipy.stats import pearsonr, percentileofscore\n",
    "from matplotlib import pyplot"
   ]
  },
  {
   "cell_type": "markdown",
   "metadata": {},
   "source": [
    "Right now the data is imported from two excels which have advanced stats and player totals for the season. This will probably chance in the furture to getting data from basketball-reference.com. I also need to merge the two dataframes and remove duplicates. The duplicates occur when a player is traded from one team to another in the middle of the season."
   ]
  },
  {
   "cell_type": "code",
   "execution_count": 3,
   "metadata": {
    "scrolled": true
   },
   "outputs": [],
   "source": [
    "df_advanced = pd.read_excel('Advanced Stats.xlsx')\n",
    "df_total_stats = pd.read_excel('Total Stats.xlsx')\n",
    "df = df_advanced.merge(df_total_stats, on = ['Player', 'Pos', 'Age', 'Tm', 'G', 'MP', 'Rk'])\n",
    "df.drop_duplicates(['Player'], keep='first',inplace=True)"
   ]
  },
  {
   "cell_type": "markdown",
   "metadata": {},
   "source": [
    "I am going to make a copy of the original df since I will remove some columns (Player name, position, team, age etc.) as they aren't important for analysis. I will need the player name later on to see which players cluster together. There are also some columns with NAs which I will drop as well as players with total time played less than 1000  minutes."
   ]
  },
  {
   "cell_type": "code",
   "execution_count": 4,
   "metadata": {},
   "outputs": [],
   "source": [
    "df.dropna(axis=1,inplace=True)\n",
    "idx = df.index[df['MP']<1000]\n",
    "df.drop(idx,inplace=True)\n",
    "idx_gp = df.index[df['G']<50]\n",
    "df.drop(idx_gp,inplace=True)\n",
    "df_copy = df.copy(deep=True)\n",
    "df.drop(['Pos', 'Rk', 'Tm', 'Player'],axis=1,inplace=True)"
   ]
  },
  {
   "cell_type": "markdown",
   "metadata": {},
   "source": [
    "I am going to split the data into a train/test set. Since I want to keep a track of the training data in the original data frame, I will create a dummy array and split it then use those indices to split the dataframe."
   ]
  },
  {
   "cell_type": "code",
   "execution_count": 5,
   "metadata": {},
   "outputs": [],
   "source": [
    "indices = np.arange(0,np.shape(df)[0])\n",
    "indices_train, indices_test  = train_test_split(indices, test_size=0.0)\n",
    "train_df = df.iloc[indices_train,:]\n",
    "test_df = df.iloc[indices_test,:]\n",
    "train_df_copy = df_copy.iloc[indices_train,:]\n",
    "test_df_copy = df_copy.iloc[indices_test,:]"
   ]
  },
  {
   "cell_type": "markdown",
   "metadata": {},
   "source": [
    "Since there are 37 features, Ill use PCA for dimensionality reduction. But first, the data needs to be standardized"
   ]
  },
  {
   "cell_type": "code",
   "execution_count": 6,
   "metadata": {},
   "outputs": [
    {
     "name": "stderr",
     "output_type": "stream",
     "text": [
      "C:\\Users\\Manik.Rajora\\AppData\\Local\\conda\\conda\\envs\\Py36\\lib\\site-packages\\sklearn\\preprocessing\\data.py:625: DataConversionWarning: Data with input dtype int64, float64 were all converted to float64 by StandardScaler.\n",
      "  return self.partial_fit(X, y)\n",
      "C:\\Users\\Manik.Rajora\\AppData\\Local\\conda\\conda\\envs\\Py36\\lib\\site-packages\\sklearn\\base.py:462: DataConversionWarning: Data with input dtype int64, float64 were all converted to float64 by StandardScaler.\n",
      "  return self.fit(X, **fit_params).transform(X)\n"
     ]
    }
   ],
   "source": [
    "scaler = preprocessing.StandardScaler()\n",
    "train_df_scaled = pd.DataFrame(scaler.fit_transform(train_df),columns=df.columns)"
   ]
  },
  {
   "cell_type": "markdown",
   "metadata": {},
   "source": [
    "For PCA we need to determine the number of compopnents. Here, I used the explained variance ratio to determine the number of components"
   ]
  },
  {
   "cell_type": "code",
   "execution_count": 7,
   "metadata": {},
   "outputs": [
    {
     "data": {
      "image/png": "[encoded data removed]",
      "text/plain": [
       "<Figure size 432x288 with 1 Axes>"
      ]
     },
     "metadata": {
      "needs_background": "light"
     },
     "output_type": "display_data"
    }
   ],
   "source": [
    "evr = []\n",
    "for components in range(1, np.shape(train_df_scaled)[1]):\n",
    "    pca = PCA(n_components=components)\n",
    "    pca.fit(train_df_scaled)\n",
    "    if components == 1:\n",
    "        evr.append(pca.explained_variance_ratio_[-1])\n",
    "    else:\n",
    "        evr.append(evr[-1]+pca.explained_variance_ratio_[-1])\n",
    "\n",
    "plt.scatter(np.arange(1,np.shape(df)[1]),evr)\n",
    "plt.xlabel('Number of components')\n",
    "plt.ylabel('Variance Ratio')\n",
    "plt.show()\n",
    "#     kmeans = KMeans(n_clusters=n_cluster,random_state=1).fit(X_train)\n",
    "#     label = kmeans.labels_\n",
    "#     sil_coeff = silhouette_score(X_train, label, metric='euclidean')\n",
    "#     print(\"For n_clusters={}, The Silhouette Coefficient is {}\".format(n_cluster, sil_coeff))"
   ]
  },
  {
   "cell_type": "markdown",
   "metadata": {},
   "source": [
    "Seems like 16 is a good number of components to use. Now we can check the correlation between the principal components and the original features.\n",
    "\n",
    "Next, we need to determine the number of clusters. We can do this by using the Silhouette Measure and Elbow Method."
   ]
  },
  {
   "cell_type": "code",
   "execution_count": 8,
   "metadata": {},
   "outputs": [
    {
     "name": "stdout",
     "output_type": "stream",
     "text": [
      "For n_clusters=2, The Silhouette Coefficient is 0.3284749328899726\n",
      "For n_clusters=3, The Silhouette Coefficient is 0.2927403407481235\n",
      "For n_clusters=4, The Silhouette Coefficient is 0.20438639955694105\n",
      "For n_clusters=5, The Silhouette Coefficient is 0.18866800903948555\n",
      "For n_clusters=6, The Silhouette Coefficient is 0.17072906332680393\n",
      "For n_clusters=7, The Silhouette Coefficient is 0.1311397189125471\n",
      "For n_clusters=8, The Silhouette Coefficient is 0.13146719773804572\n",
      "For n_clusters=9, The Silhouette Coefficient is 0.1167295491835928\n",
      "For n_clusters=10, The Silhouette Coefficient is 0.11365850457503728\n",
      "For n_clusters=11, The Silhouette Coefficient is 0.11578821578567142\n",
      "For n_clusters=12, The Silhouette Coefficient is 0.11771261678566491\n",
      "For n_clusters=13, The Silhouette Coefficient is 0.1149820978975147\n",
      "For n_clusters=14, The Silhouette Coefficient is 0.11470114798856756\n",
      "For n_clusters=15, The Silhouette Coefficient is 0.11748134228482099\n",
      "For n_clusters=16, The Silhouette Coefficient is 0.11288436454142817\n",
      "For n_clusters=17, The Silhouette Coefficient is 0.10703285557252207\n",
      "For n_clusters=18, The Silhouette Coefficient is 0.11778207630986659\n",
      "For n_clusters=19, The Silhouette Coefficient is 0.11844911831682262\n"
     ]
    },
    {
     "name": "stderr",
     "output_type": "stream",
     "text": [
      "No handles with labels found to put in legend.\n"
     ]
    },
    {
     "data": {
      "image/png": "[encoded data removed]",
      "text/plain": [
       "<Figure size 432x288 with 1 Axes>"
      ]
     },
     "metadata": {
      "needs_background": "light"
     },
     "output_type": "display_data"
    }
   ],
   "source": [
    "pca = PCA(n_components=15)\n",
    "reduced_features = pca.fit_transform(train_df_scaled)\n",
    "\n",
    "for n_cluster in range(2, 20):\n",
    "    kmeans = KMeans(n_clusters=n_cluster).fit(reduced_features)\n",
    "    label = kmeans.labels_\n",
    "    sil_coeff = silhouette_score(reduced_features, label, metric='euclidean')\n",
    "    print(\"For n_clusters={}, The Silhouette Coefficient is {}\".format(n_cluster, sil_coeff))\n",
    "    \n",
    "sse = {}\n",
    "for k in range(1, 20):\n",
    "    kmeans = KMeans(n_clusters=k).fit(reduced_features)\n",
    "    #print(data[\"clusters\"])\n",
    "    sse[k] = kmeans.inertia_ # Inertia: Sum of distances of samples to their closest cluster center\n",
    "plt.figure()\n",
    "plt.plot(list(sse.keys()), list(sse.values()),'o')\n",
    "plt.xlabel(\"Number of cluster\")\n",
    "plt.ylabel(\"SSE\")\n",
    "plt.xticks(list(sse.keys()))\n",
    "plt.legend()\n",
    "plt.show()"
   ]
  },
  {
   "cell_type": "markdown",
   "metadata": {},
   "source": [
    "Its a bit hard to interprety the silhouette measure but using the elbow method shows that 11 clusters is a good choice. After clustering I also save the name of each players in each cluster for later reference."
   ]
  },
  {
   "cell_type": "code",
   "execution_count": 47,
   "metadata": {},
   "outputs": [
    {
     "name": "stderr",
     "output_type": "stream",
     "text": [
      "C:\\Users\\Manik.Rajora\\AppData\\Local\\conda\\conda\\envs\\Py36\\lib\\site-packages\\ipykernel_launcher.py:3: SettingWithCopyWarning: \n",
      "A value is trying to be set on a copy of a slice from a DataFrame.\n",
      "Try using .loc[row_indexer,col_indexer] = value instead\n",
      "\n",
      "See the caveats in the documentation: http://pandas.pydata.org/pandas-docs/stable/indexing.html#indexing-view-versus-copy\n",
      "  This is separate from the ipykernel package so we can avoid doing imports until\n"
     ]
    }
   ],
   "source": [
    "kmeans = KMeans(n_clusters=11).fit(reduced_features)\n",
    "labels = kmeans.labels_ \n",
    "train_df_copy['labels'] = labels\n",
    "names = {}\n",
    "unique_labels = list(set(labels))\n",
    "for i in range(len(unique_labels)):\n",
    "    names[i] = train_df_copy[train_df_copy['labels']==unique_labels[i]]['Player']"
   ]
  },
  {
   "cell_type": "markdown",
   "metadata": {},
   "source": [
    "Lets try some visualization. Since the reduced features are hard to interpret I inversed the cluster centers to the original feature values (by unnormalizing). I also calculated the percentile for each feature of each cluster and used a barplot to visualize the features of each cluster"
   ]
  },
  {
   "cell_type": "code",
   "execution_count": 75,
   "metadata": {
    "scrolled": false
   },
   "outputs": [
    {
     "data": {
      "text/plain": [
       "{0: {'Bad': ['Age', 'OWS', 'WS', 'WS/48', 'OBPM', 'BPM', 'VORP'],\n",
       "  'Below Average': ['G', 'MP', 'PER', 'DWS', 'DBPM'],\n",
       "  'Average': ['ORB%',\n",
       "   'DRB%',\n",
       "   'TRB%',\n",
       "   'AST%',\n",
       "   'BLK%',\n",
       "   'GS',\n",
       "   'FG',\n",
       "   'FGA',\n",
       "   '3P',\n",
       "   '3PA',\n",
       "   '2P',\n",
       "   '2PA',\n",
       "   'FT',\n",
       "   'FTA',\n",
       "   'ORB',\n",
       "   'DRB',\n",
       "   'TRB',\n",
       "   'AST',\n",
       "   'STL',\n",
       "   'BLK',\n",
       "   'TOV',\n",
       "   'PF',\n",
       "   'PTS'],\n",
       "  'Above Average': ['STL%', 'USG%'],\n",
       "  'Great': []},\n",
       " 1: {'Bad': ['DBPM'],\n",
       "  'Below Average': ['ORB%', 'DRB%', 'TRB%', 'STL%', 'BLK%', 'WS/48'],\n",
       "  'Average': ['Age', 'WS', 'BPM', 'VORP', 'ORB', 'BLK'],\n",
       "  'Above Average': ['G',\n",
       "   'PER',\n",
       "   'AST%',\n",
       "   'OWS',\n",
       "   'DWS',\n",
       "   'OBPM',\n",
       "   'GS',\n",
       "   '2P',\n",
       "   'DRB',\n",
       "   'TRB',\n",
       "   'AST',\n",
       "   'STL',\n",
       "   'PF'],\n",
       "  'Great': ['MP',\n",
       "   'USG%',\n",
       "   'FG',\n",
       "   'FGA',\n",
       "   '3P',\n",
       "   '3PA',\n",
       "   '2PA',\n",
       "   'FT',\n",
       "   'FTA',\n",
       "   'TOV',\n",
       "   'PTS']},\n",
       " 2: {'Bad': [],\n",
       "  'Below Average': ['3P', '3PA'],\n",
       "  'Average': ['Age', 'G', 'STL%'],\n",
       "  'Above Average': ['AST%', 'GS', 'AST'],\n",
       "  'Great': ['MP',\n",
       "   'PER',\n",
       "   'ORB%',\n",
       "   'DRB%',\n",
       "   'TRB%',\n",
       "   'BLK%',\n",
       "   'USG%',\n",
       "   'OWS',\n",
       "   'DWS',\n",
       "   'WS',\n",
       "   'WS/48',\n",
       "   'OBPM',\n",
       "   'DBPM',\n",
       "   'BPM',\n",
       "   'VORP',\n",
       "   'FG',\n",
       "   'FGA',\n",
       "   '2P',\n",
       "   '2PA',\n",
       "   'FT',\n",
       "   'FTA',\n",
       "   'ORB',\n",
       "   'DRB',\n",
       "   'TRB',\n",
       "   'STL',\n",
       "   'BLK',\n",
       "   'TOV',\n",
       "   'PF',\n",
       "   'PTS']},\n",
       " 3: {'Bad': [],\n",
       "  'Below Average': [],\n",
       "  'Average': ['G', 'ORB%', 'DRB%', 'TRB%', 'BLK%', 'DBPM', 'PF'],\n",
       "  'Above Average': ['Age',\n",
       "   'MP',\n",
       "   'DWS',\n",
       "   'GS',\n",
       "   '3P',\n",
       "   '3PA',\n",
       "   'ORB',\n",
       "   'DRB',\n",
       "   'TRB',\n",
       "   'BLK'],\n",
       "  'Great': ['PER',\n",
       "   'AST%',\n",
       "   'STL%',\n",
       "   'USG%',\n",
       "   'OWS',\n",
       "   'WS',\n",
       "   'WS/48',\n",
       "   'OBPM',\n",
       "   'BPM',\n",
       "   'VORP',\n",
       "   'FG',\n",
       "   'FGA',\n",
       "   '2P',\n",
       "   '2PA',\n",
       "   'FT',\n",
       "   'FTA',\n",
       "   'AST',\n",
       "   'STL',\n",
       "   'TOV',\n",
       "   'PTS']},\n",
       " 4: {'Bad': ['USG%',\n",
       "   'FG',\n",
       "   'FGA',\n",
       "   '2P',\n",
       "   '2PA',\n",
       "   'FT',\n",
       "   'FTA',\n",
       "   'AST',\n",
       "   'TOV',\n",
       "   'PTS'],\n",
       "  'Below Average': ['G',\n",
       "   'MP',\n",
       "   'PER',\n",
       "   'AST%',\n",
       "   'STL%',\n",
       "   'OWS',\n",
       "   'DWS',\n",
       "   'WS',\n",
       "   'OBPM',\n",
       "   'VORP',\n",
       "   'GS',\n",
       "   '3P',\n",
       "   '3PA',\n",
       "   'DRB',\n",
       "   'STL'],\n",
       "  'Average': ['Age', 'DRB%', 'WS/48', 'DBPM', 'BPM', 'TRB', 'PF'],\n",
       "  'Above Average': ['ORB%', 'TRB%', 'BLK%', 'ORB', 'BLK'],\n",
       "  'Great': []},\n",
       " 5: {'Bad': ['3P', '3PA'],\n",
       "  'Below Average': ['Age', 'MP', 'AST%', 'FGA', 'AST', 'STL', 'TOV', 'PTS'],\n",
       "  'Average': ['G', 'STL%', 'USG%', 'DWS', 'GS', 'FG', '2PA', 'FT', 'FTA'],\n",
       "  'Above Average': ['PER',\n",
       "   'OWS',\n",
       "   'WS',\n",
       "   'OBPM',\n",
       "   'DBPM',\n",
       "   'BPM',\n",
       "   'VORP',\n",
       "   '2P',\n",
       "   'DRB',\n",
       "   'TRB',\n",
       "   'PF'],\n",
       "  'Great': ['ORB%', 'DRB%', 'TRB%', 'BLK%', 'WS/48', 'ORB', 'BLK']},\n",
       " 6: {'Bad': ['3P', '3PA'],\n",
       "  'Below Average': [],\n",
       "  'Average': ['Age', 'AST%', 'STL%', 'USG%', 'OBPM', 'AST'],\n",
       "  'Above Average': ['G',\n",
       "   'MP',\n",
       "   'OWS',\n",
       "   'GS',\n",
       "   'FG',\n",
       "   'FGA',\n",
       "   '2PA',\n",
       "   'FT',\n",
       "   'FTA',\n",
       "   'STL',\n",
       "   'TOV',\n",
       "   'PTS'],\n",
       "  'Great': ['PER',\n",
       "   'ORB%',\n",
       "   'DRB%',\n",
       "   'TRB%',\n",
       "   'BLK%',\n",
       "   'DWS',\n",
       "   'WS',\n",
       "   'WS/48',\n",
       "   'DBPM',\n",
       "   'BPM',\n",
       "   'VORP',\n",
       "   '2P',\n",
       "   'ORB',\n",
       "   'DRB',\n",
       "   'TRB',\n",
       "   'BLK',\n",
       "   'PF']},\n",
       " 7: {'Bad': [],\n",
       "  'Below Average': ['PER', 'AST%', 'USG%'],\n",
       "  'Average': ['ORB%',\n",
       "   'DRB%',\n",
       "   'TRB%',\n",
       "   'STL%',\n",
       "   'OWS',\n",
       "   'WS',\n",
       "   'WS/48',\n",
       "   'OBPM',\n",
       "   'DBPM',\n",
       "   'BPM',\n",
       "   'VORP',\n",
       "   'FG',\n",
       "   'FGA',\n",
       "   '2P',\n",
       "   '2PA',\n",
       "   'FT',\n",
       "   'FTA',\n",
       "   'AST',\n",
       "   'TOV',\n",
       "   'PTS'],\n",
       "  'Above Average': ['Age',\n",
       "   'G',\n",
       "   'MP',\n",
       "   'BLK%',\n",
       "   'DWS',\n",
       "   'GS',\n",
       "   '3PA',\n",
       "   'ORB',\n",
       "   'DRB',\n",
       "   'TRB',\n",
       "   'STL',\n",
       "   'BLK',\n",
       "   'PF'],\n",
       "  'Great': ['3P']},\n",
       " 8: {'Bad': [],\n",
       "  'Below Average': ['DRB%', 'TRB%', 'BLK%', 'USG%', 'ORB', 'TRB', 'BLK'],\n",
       "  'Average': ['Age',\n",
       "   'G',\n",
       "   'MP',\n",
       "   'PER',\n",
       "   'ORB%',\n",
       "   'OWS',\n",
       "   'WS',\n",
       "   'WS/48',\n",
       "   'OBPM',\n",
       "   'DBPM',\n",
       "   'GS',\n",
       "   'FG',\n",
       "   'FGA',\n",
       "   '3P',\n",
       "   '3PA',\n",
       "   '2P',\n",
       "   '2PA',\n",
       "   'FT',\n",
       "   'FTA',\n",
       "   'DRB',\n",
       "   'PF',\n",
       "   'PTS'],\n",
       "  'Above Average': ['AST%', 'DWS', 'BPM', 'VORP', 'STL', 'TOV'],\n",
       "  'Great': ['STL%', 'AST']},\n",
       " 9: {'Bad': ['DWS', '2P', 'ORB', 'DRB', 'TRB', 'BLK', 'PF'],\n",
       "  'Below Average': ['G',\n",
       "   'MP',\n",
       "   'PER',\n",
       "   'ORB%',\n",
       "   'DRB%',\n",
       "   'TRB%',\n",
       "   'STL%',\n",
       "   'BLK%',\n",
       "   'USG%',\n",
       "   'OWS',\n",
       "   'WS',\n",
       "   'WS/48',\n",
       "   'OBPM',\n",
       "   'DBPM',\n",
       "   'BPM',\n",
       "   'VORP',\n",
       "   'GS',\n",
       "   'FG',\n",
       "   'FGA',\n",
       "   '2PA',\n",
       "   'FT',\n",
       "   'FTA',\n",
       "   'STL',\n",
       "   'TOV',\n",
       "   'PTS'],\n",
       "  'Average': ['AST%', '3P', '3PA', 'AST'],\n",
       "  'Above Average': ['Age'],\n",
       "  'Great': []},\n",
       " 10: {'Bad': [],\n",
       "  'Below Average': ['ORB%'],\n",
       "  'Average': ['TRB%', 'BLK%', 'DBPM'],\n",
       "  'Above Average': ['Age', 'G', 'DRB%', 'STL%', 'ORB', 'BLK', 'PF'],\n",
       "  'Great': ['MP',\n",
       "   'PER',\n",
       "   'AST%',\n",
       "   'USG%',\n",
       "   'OWS',\n",
       "   'DWS',\n",
       "   'WS',\n",
       "   'WS/48',\n",
       "   'OBPM',\n",
       "   'BPM',\n",
       "   'VORP',\n",
       "   'GS',\n",
       "   'FG',\n",
       "   'FGA',\n",
       "   '3P',\n",
       "   '3PA',\n",
       "   '2P',\n",
       "   '2PA',\n",
       "   'FT',\n",
       "   'FTA',\n",
       "   'DRB',\n",
       "   'TRB',\n",
       "   'AST',\n",
       "   'STL',\n",
       "   'TOV',\n",
       "   'PTS']}}"
      ]
     },
     "metadata": {},
     "output_type": "display_data"
    }
   ],
   "source": [
    "original_centers = {}\n",
    "for i in range(len(kmeans.cluster_centers_)):\n",
    "    original_centers[i] = scaler.inverse_transform(np.dot(kmeans.cluster_centers_[i], pca.components_))\n",
    "\n",
    "categories_all = ['Bad', 'Below Average', 'Average', 'Above Average', 'Great']\n",
    "percentiles = {}\n",
    "categories = {}\n",
    "count = 0\n",
    "sorted_categories = {}\n",
    "for i in range(len(original_centers)):\n",
    "    percentiles[i] = []\n",
    "    categories[i] = []\n",
    "    sorted_categories[i] = {}\n",
    "    for cats in range(len(categories_all)):\n",
    "        sorted_categories[i][categories_all[cats]] = []\n",
    "    for j in range(len(original_centers[0])):\n",
    "        percentiles[i].append(percentileofscore(train_df.iloc[:,j],original_centers[i][j]))\n",
    "        if percentiles[i][-1] >= 0. and percentiles[i][-1] < 20.:\n",
    "            categories[i].append('Bad')\n",
    "            sorted_categories[i]['Bad'].append(train_df.columns.tolist()[j])\n",
    "        elif percentiles[i][-1] >= 20. and percentiles[i][-1] < 40.:\n",
    "            categories[i].append('Below Average')\n",
    "            sorted_categories[i]['Below Average'].append(train_df.columns.tolist()[j])\n",
    "        elif percentiles[i][-1] >= 40. and percentiles[i][-1] < 60.:\n",
    "            categories[i].append('Average')\n",
    "            sorted_categories[i]['Average'].append(train_df.columns.tolist()[j])\n",
    "        elif percentiles[i][-1] >= 60. and percentiles[i][-1] < 80.:\n",
    "            categories[i].append('Above Average')\n",
    "            sorted_categories[i]['Above Average'].append(train_df.columns.tolist()[j])\n",
    "        elif percentiles[i][-1] >= 80. and percentiles[i][-1] <= 100.:\n",
    "            categories[i].append('Great')\n",
    "            sorted_categories[i]['Great'].append(train_df.columns.tolist()[j])\n",
    "display(sorted_categories)\n",
    "# for i in range(len(percentiles)):\n",
    "#     fig, ax = pyplot.subplots(figsize=(15,5))\n",
    "#     fig = sns.barplot(train_df.columns.tolist(),percentiles[i])\n",
    "#     fig.set_xticklabels(fig.get_xticklabels(), rotation=90)\n",
    "#     fig.set(ylim=(0, 100))\n",
    "#     ax.set_title('Cluster '+ str(i))\n",
    "#     ax.set_xlabel('Stat')\n",
    "#     ax.set_ylabel('Percentile')\n"
   ]
  },
  {
   "cell_type": "code",
   "execution_count": 77,
   "metadata": {},
   "outputs": [
    {
     "data": {
      "text/plain": [
       "19     Giannis Antetokounmpo\n",
       "353             Nikola Jokic\n",
       "661           Nikola Vucevic\n",
       "7          LaMarcus Aldridge\n",
       "161            Anthony Davis\n",
       "244              Rudy Gobert\n",
       "200              Joel Embiid\n",
       "188           Andre Drummond\n",
       "647       Karl-Anthony Towns\n",
       "Name: Player, dtype: object"
      ]
     },
     "metadata": {},
     "output_type": "display_data"
    },
    {
     "data": {
      "text/plain": [
       "270         Devin Harris\n",
       "646     Anthony Tolliver\n",
       "325        Frank Jackson\n",
       "420         Shelvin Mack\n",
       "91        Reggie Bullock\n",
       "651          Evan Turner\n",
       "378          Kyle Korver\n",
       "87        Sterling Brown\n",
       "368         Luke Kennard\n",
       "449      Rodney McGruder\n",
       "463          Patty Mills\n",
       "158           Seth Curry\n",
       "549        Norman Powell\n",
       "328       Justin Jackson\n",
       "608            Ish Smith\n",
       "293          George Hill\n",
       "599     Jonathon Simmons\n",
       "476        E'Twaun Moore\n",
       "305          Rodney Hood\n",
       "620         Nik Stauskas\n",
       "89         Jalen Brunson\n",
       "527          Tony Parker\n",
       "218         Yogi Ferrell\n",
       "97            Alec Burks\n",
       "224          Tim Frazier\n",
       "347        Tyler Johnson\n",
       "461        Darius Miller\n",
       "94            Trey Burke\n",
       "402           Jeremy Lin\n",
       "590        Landry Shamet\n",
       "145           Quinn Cook\n",
       "593        Iman Shumpert\n",
       "343        James Johnson\n",
       "231    Langston Galloway\n",
       "50       Marco Belinelli\n",
       "113      DeMarre Carroll\n",
       "115         Vince Carter\n",
       "152       Jamal Crawford\n",
       "569         Derrick Rose\n",
       "560        Austin Rivers\n",
       "70         Avery Bradley\n",
       "256         Gerald Green\n",
       "624     Lance Stephenson\n",
       "615           Tony Snell\n",
       "447       Doug McDermott\n",
       "189         Jared Dudley\n",
       "197      Wayne Ellington\n",
       "Name: Player, dtype: object"
      ]
     },
     "metadata": {},
     "output_type": "display_data"
    },
    {
     "data": {
      "text/plain": [
       "191         Kevin Durant\n",
       "261        Blake Griffin\n",
       "401       Damian Lillard\n",
       "159        Stephen Curry\n",
       "267         James Harden\n",
       "675    Russell Westbrook\n",
       "665         Kemba Walker\n",
       "47          Bradley Beal\n",
       "240          Paul George\n",
       "Name: Player, dtype: object"
      ]
     },
     "metadata": {},
     "output_type": "display_data"
    }
   ],
   "source": [
    "display(names[2])\n",
    "display(names[9])\n",
    "display(names[10])"
   ]
  },
  {
   "cell_type": "code",
   "execution_count": null,
   "metadata": {},
   "outputs": [],
   "source": []
  }
 ],
 "metadata": {
  "kernelspec": {
   "display_name": "Python 3",
   "language": "python",
   "name": "python3"
  },
  "language_info": {
   "codemirror_mode": {
    "name": "ipython",
    "version": 3
   },
   "file_extension": ".py",
   "mimetype": "text/x-python",
   "name": "python",
   "nbconvert_exporter": "python",
   "pygments_lexer": "ipython3",
   "version": "3.6.6"
  }
 },
 "nbformat": 4,
 "nbformat_minor": 2
}
