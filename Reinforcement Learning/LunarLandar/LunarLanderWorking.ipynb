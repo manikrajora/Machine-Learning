{
 "cells": [
  {
   "cell_type": "code",
   "execution_count": 1,
   "metadata": {},
   "outputs": [
    {
     "name": "stderr",
     "output_type": "stream",
     "text": [
      "Using TensorFlow backend.\n"
     ]
    },
    {
     "name": "stdout",
     "output_type": "stream",
     "text": [
      "\u001b[33mWARN: gym.spaces.Box autodetected dtype as <class 'numpy.float32'>. Please provide explicit dtype.\u001b[0m\n"
     ]
    }
   ],
   "source": [
    "import random\n",
    "import math\n",
    "import gym\n",
    "import gym.spaces\n",
    "import numpy as np\n",
    "import matplotlib.pyplot as plt\n",
    "\n",
    "from keras.models import Sequential\n",
    "from keras.layers import Dense, Activation, Flatten\n",
    "from keras.optimizers import *\n",
    "\n",
    "env = gym.make('LunarLander-v2')\n",
    "\n",
    "epsilon = 1\n",
    "Gamma = 0.99\n",
    "max_eps = epsilon\n",
    "min_eps = 0.1\n",
    "LAMBDA = 0.001\n",
    "mem_allowed = 100000\n",
    "mem_all = []\n",
    "batch_size = 100\n",
    "state_num = 8\n",
    "action_num = 4\n",
    "step = 0"
   ]
  },
  {
   "cell_type": "code",
   "execution_count": 2,
   "metadata": {},
   "outputs": [],
   "source": [
    "def explore_Greedy(epsilon,v):\n",
    "    if np.random.rand()<epsilon:\n",
    "        return np.random.randint(0,env.action_space.n)\n",
    "    else:\n",
    "        return np.argmax(v)\n",
    "\n",
    "def eps_reduce(epsilon,min_eps,max_eps,step):\n",
    "    return min_eps + (max_eps - min_eps) * math.exp(-LAMBDA*step)\n",
    "\n",
    "def predict_2(model,data):\n",
    "    return model.predict(data.reshape(1,state_num)).flatten()\n",
    "\n",
    "\n",
    "def experience(exp_all,sample):\n",
    "    return exp_all.append(sample)"
   ]
  },
  {
   "cell_type": "code",
   "execution_count": 10,
   "metadata": {},
   "outputs": [
    {
     "name": "stdout",
     "output_type": "stream",
     "text": [
      "8\n"
     ]
    },
    {
     "ename": "NameError",
     "evalue": "name 'st' is not defined",
     "output_type": "error",
     "traceback": [
      "\u001b[1;31m---------------------------------------------------------------------------\u001b[0m",
      "\u001b[1;31mNameError\u001b[0m                                 Traceback (most recent call last)",
      "\u001b[1;32m<ipython-input-10-bbc8856e2794>\u001b[0m in \u001b[0;36m<module>\u001b[1;34m()\u001b[0m\n\u001b[0;32m      2\u001b[0m \u001b[0maction_num\u001b[0m \u001b[1;33m=\u001b[0m \u001b[0menv\u001b[0m\u001b[1;33m.\u001b[0m\u001b[0menv\u001b[0m\u001b[1;33m.\u001b[0m\u001b[0maction_space\u001b[0m\u001b[1;33m.\u001b[0m\u001b[0mn\u001b[0m\u001b[1;33m\u001b[0m\u001b[0m\n\u001b[0;32m      3\u001b[0m \u001b[0mprint\u001b[0m\u001b[1;33m(\u001b[0m\u001b[0mstate_num\u001b[0m\u001b[1;33m)\u001b[0m\u001b[1;33m\u001b[0m\u001b[0m\n\u001b[1;32m----> 4\u001b[1;33m \u001b[0mst\u001b[0m\u001b[1;33m\u001b[0m\u001b[0m\n\u001b[0m\u001b[0;32m      5\u001b[0m \u001b[0mmodel\u001b[0m \u001b[1;33m=\u001b[0m \u001b[0mSequential\u001b[0m\u001b[1;33m(\u001b[0m\u001b[1;33m)\u001b[0m\u001b[1;33m\u001b[0m\u001b[0m\n\u001b[0;32m      6\u001b[0m \u001b[0mmodel\u001b[0m\u001b[1;33m.\u001b[0m\u001b[0madd\u001b[0m\u001b[1;33m(\u001b[0m\u001b[0mDense\u001b[0m\u001b[1;33m(\u001b[0m\u001b[0moutput_dim\u001b[0m\u001b[1;33m=\u001b[0m\u001b[1;36m120\u001b[0m\u001b[1;33m,\u001b[0m \u001b[0mactivation\u001b[0m\u001b[1;33m=\u001b[0m\u001b[1;34m'relu'\u001b[0m\u001b[1;33m,\u001b[0m \u001b[0minput_dim\u001b[0m\u001b[1;33m=\u001b[0m\u001b[0mstate_num\u001b[0m\u001b[1;33m)\u001b[0m\u001b[1;33m)\u001b[0m\u001b[1;33m\u001b[0m\u001b[0m\n",
      "\u001b[1;31mNameError\u001b[0m: name 'st' is not defined"
     ]
    }
   ],
   "source": [
    "state_num  = env.env.observation_space.shape[0]\n",
    "action_num = env.env.action_space.n    \n",
    "\n",
    "model = Sequential()\n",
    "model.add(Dense(output_dim=120, activation='relu', input_dim=state_num))\n",
    "model.add(Dense(output_dim=60, activation='relu'))\n",
    "model.add(Dense(output_dim=action_num, activation='linear'))\n",
    "opt = RMSprop(lr=0.00025)\n",
    "model.compile(loss='mse', optimizer=opt) \n",
    "Reward_cum=np.zeros(1500)\n",
    "\n",
    "for episode in range(1500):\n",
    "    state = env.reset()\n",
    "    R = 0\n",
    "    state_num  = env.env.observation_space.shape[0]\n",
    "    action_num = env.env.action_space.n    \n",
    "   \n",
    "\n",
    "    while True:\n",
    "        \n",
    "        action = explore_Greedy(epsilon, predict_2(model,state))\n",
    "        \n",
    "        state2, reward, done, info = env.step(action)\n",
    "        \n",
    "        if done: # terminal state\n",
    "            state2 = None\n",
    "            \n",
    "        sample_to_add = ((state,action, reward,state2))\n",
    "        \n",
    "        state = state2\n",
    "        epsilon = eps_reduce(epsilon,min_eps,max_eps,step)        \n",
    "        R += reward\n",
    "        step += 1\n",
    "        \n",
    "        mem_all.append(sample_to_add)\n",
    "        \n",
    "        if len(mem_all)>mem_allowed:\n",
    "            mem_all.pop(0)\n",
    "        \n",
    "        num = np.min([batch_size,len(mem_all)])\n",
    "        batch = random.sample(mem_all,num)\n",
    "\n",
    "        no_next_state = np.zeros(state_num)\n",
    "        states_now = np.array([iter[0] for iter in batch])\n",
    "        states_next = np.array([(no_next_state if iter2[3] is None else iter2[3]) for iter2 in batch])\n",
    "\n",
    "        predict_now = model.predict(states_now)\n",
    "        predict_next = model.predict(states_next)\n",
    "\n",
    "        x = np.zeros((len(batch),state_num))\n",
    "        y = np.zeros((len(batch),action_num))\n",
    "\n",
    "        for i in range(len(batch)):\n",
    "            current_state = batch[i][0]\n",
    "            action_taken = batch[i][1]\n",
    "            reward_received = batch[i][2]\n",
    "            next_state = batch[i][3]\n",
    "\n",
    "            x[i] = current_state\n",
    "\n",
    "            target = predict_now[i]\n",
    "\n",
    "            if next_state is None:\n",
    "                target[action_taken] = reward_received\n",
    "            else:\n",
    "                target[action_taken] = reward_received+ Gamma*np.amax(predict_next[i])\n",
    "\n",
    "            y[i] = target\n",
    "        \n",
    "        model.fit(x,y,batch_size=batch_size,nb_epoch=1,verbose=0)\n",
    "        \n",
    "        #train_model(model,x,y)\n",
    "        \n",
    "        \n",
    "        if done:\n",
    "            break\n",
    "     \n",
    "    Reward_cum[episode]=R\n",
    "    print(\"Reward for episode %s is %s\" % (episode, R))\n",
    "    if episode > 98:\n",
    "        rm = np.mean(Reward_cum[episode-99:episode+1])\n",
    "        print(\"Rolling mean is %s\" %(rm))\n",
    "model.save(\"lunarlander_weights_pzou3.h5\")\n"
   ]
  },
  {
   "cell_type": "code",
   "execution_count": 7,
   "metadata": {},
   "outputs": [
    {
     "name": "stdout",
     "output_type": "stream",
     "text": [
      "\u001b[33mWARN: gym.spaces.Box autodetected dtype as <class 'numpy.float32'>. Please provide explicit dtype.\u001b[0m\n"
     ]
    },
    {
     "name": "stderr",
     "output_type": "stream",
     "text": [
      "C:\\Users\\Manik.Rajora\\AppData\\Local\\Continuum\\anaconda2\\envs\\Py36\\lib\\site-packages\\ipykernel_launcher.py:7: UserWarning: Update your `Dense` call to the Keras 2 API: `Dense(activation=\"relu\", input_dim=8, units=120)`\n",
      "  import sys\n",
      "C:\\Users\\Manik.Rajora\\AppData\\Local\\Continuum\\anaconda2\\envs\\Py36\\lib\\site-packages\\ipykernel_launcher.py:8: UserWarning: Update your `Dense` call to the Keras 2 API: `Dense(activation=\"relu\", units=60)`\n",
      "  \n",
      "C:\\Users\\Manik.Rajora\\AppData\\Local\\Continuum\\anaconda2\\envs\\Py36\\lib\\site-packages\\ipykernel_launcher.py:9: UserWarning: Update your `Dense` call to the Keras 2 API: `Dense(activation=\"linear\", units=4)`\n",
      "  if __name__ == '__main__':\n"
     ]
    },
    {
     "name": "stdout",
     "output_type": "stream",
     "text": [
      "Test Reward: 229.0220773082191\n",
      "Test Reward: 181.53427939472732\n",
      "Test Reward: 223.14366748690549\n",
      "Test Reward: 199.8995435469014\n",
      "Test Reward: 196.40278841243165\n",
      "Test Reward: 234.57093841578737\n",
      "Test Reward: 174.90508944355776\n",
      "Test Reward: 213.91555438671185\n",
      "Test Reward: 212.65991078409627\n",
      "Test Reward: 190.0196116014799\n",
      "Test Reward: 206.5343094237776\n",
      "Test Reward: 221.89989760604732\n",
      "Test Reward: 190.927467325614\n",
      "Test Reward: 193.28697726474493\n",
      "Test Reward: 87.5584516350199\n",
      "Test Reward: 186.86253093908797\n",
      "Test Reward: 174.50141097800662\n",
      "Test Reward: 184.20047432055458\n",
      "Test Reward: 210.69842897941413\n",
      "Test Reward: 219.4903676806149\n",
      "Test Reward: 208.65664659685015\n",
      "Test Reward: 229.88299701192815\n",
      "Test Reward: 156.67854296596278\n",
      "Test Reward: 215.30096100051725\n",
      "Test Reward: 215.82158702038927\n",
      "Test Reward: 198.41371638214292\n",
      "Test Reward: 219.72014256355152\n",
      "Test Reward: 191.93361837106983\n",
      "Test Reward: 202.1011132502686\n",
      "Test Reward: 237.98494296137304\n",
      "Test Reward: 256.35939635953525\n",
      "Test Reward: 200.32370844706978\n",
      "Test Reward: 215.71420247114065\n",
      "Test Reward: 190.12127265970085\n",
      "Test Reward: 202.1306950712849\n",
      "Test Reward: 216.58652888774856\n",
      "Test Reward: 180.7801835181532\n",
      "Test Reward: 224.22823922678376\n",
      "Test Reward: 178.99460059652705\n",
      "Test Reward: 203.7156702041992\n",
      "Test Reward: 184.62991477378648\n",
      "Test Reward: 203.4639871870861\n",
      "Test Reward: 201.0984001383319\n",
      "Test Reward: 204.72024452090972\n",
      "Test Reward: 206.73509566364777\n",
      "Test Reward: 196.70434391641896\n",
      "Test Reward: 105.20963572910763\n",
      "Test Reward: 209.0428785769075\n",
      "Test Reward: 197.1464319594009\n",
      "Test Reward: 205.51696565972978\n",
      "Test Reward: 231.98830339275764\n",
      "Test Reward: 229.38233998417726\n",
      "Test Reward: 233.72797614775243\n",
      "Test Reward: 182.69159966250544\n",
      "Test Reward: 211.93179859215758\n",
      "Test Reward: 202.0373228940623\n",
      "Test Reward: 201.40885530480418\n",
      "Test Reward: 193.5811609852369\n",
      "Test Reward: 217.77125835229225\n",
      "Test Reward: 223.41986012025524\n",
      "Test Reward: 221.43966943564376\n",
      "Test Reward: 218.58173940534675\n",
      "Test Reward: 208.856331756374\n",
      "Test Reward: 176.72366459654964\n",
      "Test Reward: 178.10527878438768\n",
      "Test Reward: 179.76270895591654\n",
      "Test Reward: 218.10539510368898\n",
      "Test Reward: 189.03333763110274\n",
      "Test Reward: 188.93246074713736\n",
      "Test Reward: 166.61497714993615\n",
      "Test Reward: 183.8618045623478\n",
      "Test Reward: 195.78636832403058\n",
      "Test Reward: 228.90254928227534\n",
      "Test Reward: 208.74441592508458\n",
      "Test Reward: 231.51547396944594\n",
      "Test Reward: 171.26981108784292\n",
      "Test Reward: 202.41556798952544\n",
      "Test Reward: 195.92521126623933\n",
      "Test Reward: 193.82403016759056\n",
      "Test Reward: 194.97153978130723\n",
      "Test Reward: 180.23371719005854\n",
      "Test Reward: 183.65727106103589\n",
      "Test Reward: 207.88877320602927\n",
      "Test Reward: 210.21011808134347\n",
      "Test Reward: 228.92947711617586\n",
      "Test Reward: 190.45306049117758\n",
      "Test Reward: 177.36718039146814\n",
      "Test Reward: 226.18155188527487\n",
      "Test Reward: 199.38291163276062\n",
      "Test Reward: 211.4998154855831\n",
      "Test Reward: 183.27096870988612\n",
      "Test Reward: 205.8117822215002\n",
      "Test Reward: 210.25839654108177\n",
      "Test Reward: 61.80017490788711\n",
      "Test Reward: 198.09212222756884\n",
      "Test Reward: 200.70063198526137\n",
      "Test Reward: 94.52078431467555\n",
      "Test Reward: 228.39343568071536\n",
      "Test Reward: 218.97576265189463\n",
      "Test Reward: 180.25565386819176\n"
     ]
    }
   ],
   "source": [
    "\n",
    "model.save(\"lunarlander_weights_pzou3.h5\")\n",
    "\n",
    "R=np.zeros(100)\n",
    "env_ = gym.make(\"LunarLander-v2\")\n",
    "model1 = Sequential()\n",
    "model1.add(Dense(output_dim=120, activation='relu', input_dim=state_num))\n",
    "model1.add(Dense(output_dim=60, activation='relu'))\n",
    "model1.add(Dense(output_dim=action_num, activation='linear'))\n",
    "opt = RMSprop(lr=0.00025)\n",
    "model1.compile(loss='mse', optimizer=opt) \n",
    "model1.load_weights(\"lunarlander_weights_pzou3.h5\")\n",
    "for j in range(100):    \n",
    "    s = env_.reset()\n",
    "    while True:\n",
    "        a=np.argmax(predict_2(model1,s))\n",
    "        s_, r, done, info = env_.step(a)\n",
    "        if done: # terminal state\n",
    "            s_ = None\n",
    "        s = s_\n",
    "        R[j] += r\n",
    "        if done:\n",
    "            break\n",
    "    print(\"Test Reward:\", R[j])"
   ]
  },
  {
   "cell_type": "code",
   "execution_count": 8,
   "metadata": {},
   "outputs": [
    {
     "data": {
      "image/png": "[encoded data removed]",
      "text/plain": [
       "<matplotlib.figure.Figure at 0xd4767f0>"
      ]
     },
     "metadata": {},
     "output_type": "display_data"
    },
    {
     "data": {
      "image/png": "[encoded data removed]",
      "text/plain": [
       "<matplotlib.figure.Figure at 0x15136d68>"
      ]
     },
     "metadata": {},
     "output_type": "display_data"
    }
   ],
   "source": [
    "##training plot\n",
    "x1=range(1,1501)\n",
    "plt.plot(x1,Reward_cum)\n",
    "plt.xlabel('Training episode #')\n",
    "plt.ylabel('Reward')\n",
    "plt.title('Training process with 120-60 structure')\n",
    "plt.show()    \n",
    "\n",
    "##testing plot\n",
    "x=range(1,101)\n",
    "avg_r=np.mean(R)\n",
    "plt.plot(x, R)\n",
    "plt.xlabel('Run #')\n",
    "plt.ylabel('Reward')\n",
    "plt.title('Testing process')\n",
    "plt.text(20,80,'Average reward:')\n",
    "plt.text(20,60,avg_r)\n",
    "plt.show()"
   ]
  },
  {
   "cell_type": "code",
   "execution_count": 9,
   "metadata": {},
   "outputs": [
    {
     "name": "stdout",
     "output_type": "stream",
     "text": [
      "198.70946841632565\n"
     ]
    }
   ],
   "source": [
    "avg_r=np.mean(R)\n",
    "print(avg_r)"
   ]
  },
  {
   "cell_type": "code",
   "execution_count": null,
   "metadata": {},
   "outputs": [],
   "source": []
  }
 ],
 "metadata": {
  "kernelspec": {
   "display_name": "Python 3",
   "language": "python",
   "name": "python3"
  },
  "language_info": {
   "codemirror_mode": {
    "name": "ipython",
    "version": 3
   },
   "file_extension": ".py",
   "mimetype": "text/x-python",
   "name": "python",
   "nbconvert_exporter": "python",
   "pygments_lexer": "ipython3",
   "version": "3.6.5"
  }
 },
 "nbformat": 4,
 "nbformat_minor": 2
}
