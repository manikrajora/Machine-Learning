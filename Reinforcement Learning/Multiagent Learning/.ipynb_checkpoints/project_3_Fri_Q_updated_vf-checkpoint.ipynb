{
 "cells": [
  {
   "cell_type": "code",
   "execution_count": 1,
   "metadata": {},
   "outputs": [],
   "source": [
    "import numpy as np\n",
    "import random\n",
    "from itertools import permutations\n",
    "from itertools import product\n",
    "\n",
    "import math\n",
    "import matplotlib.pyplot as plt\n"
   ]
  },
  {
   "cell_type": "code",
   "execution_count": 2,
   "metadata": {},
   "outputs": [],
   "source": [
    "class soccer_field:\n",
    "    def __init__(self,positions):\n",
    "        self.soccer_grid = np.zeros((2,4))\n",
    "        self.initial_pos = positions\n",
    "        self.done = False\n",
    "        if positions[0,1] == 1:\n",
    "            self.A_has_ball = True\n",
    "            self.B_has_ball = False\n",
    "        else:\n",
    "            self.B_has_ball = True\n",
    "            self.A_has_ball = False\n",
    "        \n",
    "        for i in range(len(positions)):\n",
    "            if positions[i,0] < 4:\n",
    "                self.soccer_grid[0,positions[i,0]] = i+1\n",
    "                col = positions[i,0]\n",
    "                row = 0\n",
    "            else:\n",
    "                self.soccer_grid[1,positions[i,0]-4] = i+1\n",
    "                col = positions[i,0]-4\n",
    "                row = 1\n",
    "                \n",
    "            if i == 0:\n",
    "                self.pos_A = [row,col]\n",
    "            else:\n",
    "                self.pos_B = [row,col]\n",
    "        \n",
    "        self.reward = [0,0]\n",
    "        \n",
    "    def print_sg(self,verbose):\n",
    "        if verbose:\n",
    "            print(self.soccer_grid)\n",
    "    \n",
    "    def initial_state(self):\n",
    "        if self.A_has_ball:\n",
    "            init_pos = [[self.pos_A,self.pos_B],[1,0]]\n",
    "        else:\n",
    "            init_pos = [[self.pos_A,self.pos_B],[0,1]]\n",
    "        return [init_pos]\n",
    "        \n",
    "    def index_error(self,r,c,action):\n",
    "        if action == 1 and c+1<np.shape(self.soccer_grid)[1]:\n",
    "            nex_pos = [r,c+1]\n",
    "            move = True\n",
    "        elif action == 2 and c-1>=0:\n",
    "            move = True\n",
    "            nex_pos = [r,c-1]\n",
    "        elif action == 3 and r+1<np.shape(self.soccer_grid)[0]:\n",
    "            move = True\n",
    "            nex_pos = [r+1,c]\n",
    "        elif action == 4 and r-1>=0:\n",
    "            move = True\n",
    "            nex_pos = [r-1,c]\n",
    "        elif action == 0:\n",
    "            move = True\n",
    "            nex_pos = [r,c]\n",
    "        else:\n",
    "            move = False\n",
    "            nex_pos = [r,c]\n",
    "            \n",
    "        return [move,nex_pos]\n",
    "    \n",
    "    def update_position(self,movements):\n",
    "        for i in range(len(movements)):\n",
    "            if movements[i,0] == 1:\n",
    "                [r,c] = self.pos_A\n",
    "                [move,[r1,c1]] = self.index_error(r,c,movements[i,1])\n",
    "                    \n",
    "                if move:\n",
    "                    if self.soccer_grid[r1,c1] == 0:\n",
    "                        self.pos_A = [r1,c1]\n",
    "                        self.soccer_grid[r1,c1] = 1\n",
    "                        self.soccer_grid[r,c] = 0\n",
    "                    elif self.soccer_grid[r1,c1] != 0 and self.A_has_ball:\n",
    "                        self.A_has_ball = False\n",
    "                        self.B_has_ball = True\n",
    "            else:\n",
    "                [r,c] = self.pos_B\n",
    "                [move,[r1,c1]] = self.index_error(r,c,movements[i,1])\n",
    "                \n",
    "\n",
    "                if move:\n",
    "                    if self.soccer_grid[r1,c1] == 0:\n",
    "                        self.pos_B  = [r1,c1]\n",
    "                        self.soccer_grid[r1,c1] = 2\n",
    "                        self.soccer_grid[r,c] = 0\n",
    "                    elif self.soccer_grid[r1,c1] != 0 and self.B_has_ball:\n",
    "                        self.B_has_ball = False     \n",
    "                        self.A_has_ball = True\n",
    "                        \n",
    "        if self.A_has_ball:\n",
    "            new_pos = [[self.pos_A,self.pos_B],[1,0]]\n",
    "        else:\n",
    "            new_pos = [[self.pos_A,self.pos_B],[0,1]]\n",
    "        \n",
    "        if (self.pos_A[1] == 0 and self.A_has_ball) or (self.pos_B[1] == 0 and self.B_has_ball):\n",
    "            self.reward = [100,-100]\n",
    "            self.done = True\n",
    "        elif (self.pos_A[1] == 3 and self.A_has_ball) or (self.pos_B[1] == 3 and self.B_has_ball):\n",
    "            self.reward = [-100,100]\n",
    "            self.done = True\n",
    "        #print(self.soccer_grid)\n",
    "        #print(self.A_has_ball)\n",
    "        #print(self.reward)\n",
    "        #print(self.done)\n",
    "        return [self.reward,new_pos,self.done]"
   ]
  },
  {
   "cell_type": "code",
   "execution_count": 3,
   "metadata": {},
   "outputs": [],
   "source": [
    "def explore_Greedy(epsilon,v):\n",
    "    if np.random.rand()<=epsilon:\n",
    "        return np.random.randint(0,5)\n",
    "    else:\n",
    "        loc = np.where(v == np.max(v))[0]\n",
    "        if len(loc)>1:\n",
    "            select = random.randint(0,len(loc)-1)\n",
    "            return np.where(v == np.max(v))[0][select]\n",
    "        else:\n",
    "            select = random.randint(0,len(loc)-1)\n",
    "            return np.where(v == np.max(v))[0][select]\n",
    "        \n",
    "    "
   ]
  },
  {
   "cell_type": "code",
   "execution_count": 4,
   "metadata": {},
   "outputs": [],
   "source": [
    "max_alpha = 0.2\n",
    "min_alpha = 0.001\n",
    "max_eps = 1\n",
    "min_eps = 0.001\n",
    "LAMBDA = 0.001\n",
    "LAMBDA_1 = 0.01\n",
    "\n",
    "epsilon = max_eps\n",
    "alpha = max_alpha\n",
    "gamma = 0.9\n",
    "\n",
    "r = [0,0]\n",
    "\n",
    "k = []\n",
    "for i in range(2):\n",
    "    for j in range(4):\n",
    "        k.append([i,j])\n",
    "\n",
    "\n",
    "perm = permutations(k,2)\n",
    "\n",
    "all_seq = []\n",
    "\n",
    "ball = [[0,1],[1,0]]\n",
    "\n",
    "count = 0\n",
    "for i in list(perm):\n",
    "    for j in range(2):\n",
    "        all_seq.append([list(i),ball[j]])\n",
    "\n",
    "\n",
    "z = product([0, 1, 2, 3, 4], repeat = 2)\n",
    "\n",
    "action_list = []\n",
    "for i in list(z):\n",
    "    action_list.append(list(i))\n",
    "\n",
    "Q_A = np.zeros([112,5,5])\n",
    "Q_B = np.zeros([112,5,5])\n",
    "step = 0 \n",
    "done = False\n",
    "s_a = []\n",
    "\n",
    "iteration = 500\n",
    "\n",
    "    \n",
    "    \n",
    "\n",
    "def alpha_reduce_2(step,iteration):\n",
    "    if step <= 0.7*200000:\n",
    "        m = (0.15-0.2)/(0.7*200000)\n",
    "        return m*step+0.2\n",
    "    else:\n",
    "        m = (0.001-0.15)/(300000-0.7*300000)\n",
    "        return m*(step-0.7*300000)+0.15\n",
    "\n",
    "def alpha_reduce_3(step,limit,alpha_max):\n",
    "    limit=700000\n",
    "    if step <= limit:\n",
    "        m = (0.001-alpha_max)/(limit)\n",
    "        return m*step+alpha_max\n",
    "    else:\n",
    "        return 0.001\n",
    "    \n",
    "    \n",
    "def alpha_reduce(min_alpha,max_alpha,step):\n",
    "    return min_alpha + (max_alpha - min_alpha) * math.exp(-LAMBDA_1*step)\n",
    "\n",
    "#for i in range(iteration):\n",
    "limit = 1000000\n",
    "while step < limit:\n",
    "    s_p = np.array([[2,0],[1,1]])\n",
    "    soccer = soccer_field(s_p)\n",
    "    [state_s] = soccer.initial_state()\n",
    "    new_pos=state_s\n",
    "    state = all_seq.index(state_s)\n",
    "    init_state = all_seq.index(state_s)\n",
    "    \n",
    "    done = False\n",
    "    samp = 1\n",
    "    \n",
    "    while not done:\n",
    "        ###\n",
    "        action_A = explore_Greedy(epsilon,Q_A[state])\n",
    "        action_B = explore_Greedy(epsilon,Q_B[state])\n",
    "        ###\n",
    "        first = random.randint(1,2)\n",
    "        prev = Q_A[init_state][4][0]\n",
    "        #print(new_pos[0])\n",
    "        #action_A = np.random.randint(0,5)\n",
    "        #action_B = np.random.randint(0,5)\n",
    "        \n",
    "        #V=fri(Q_A[state,],Q_B[state,])\n",
    "        \n",
    "        \n",
    "        if first == 1:\n",
    "            move = np.array([[1,action_A],[2,action_B]])\n",
    "        else:\n",
    "            move = np.array([[2,action_B],[1,action_A]])\n",
    "        \n",
    "        [r,new_pos,done] = soccer.update_position(move) \n",
    "        state2 = all_seq.index(new_pos)\n",
    "       \n",
    "        a_use = action_list.index([action_A,action_B])\n",
    "        b_use = action_list.index([action_B,action_A])\n",
    "        \n",
    "        if r[0] == 0 or r[1] == 0:\n",
    "            Q_A[state][action_A,action_B] += alpha * ((1-gamma)*r[0] + gamma* np.max(Q_A[state2]) - Q_A[state][action_A,action_B])\n",
    "            Q_B[state][action_B,action_A] += alpha * ((1-gamma)*r[1] + gamma* np.max(Q_B[state2]) - Q_B[state][action_B,action_A])\n",
    "            #Q_A[state,action_A] += alpha * (r[0] + gamma* np.max(Q_A[state2,:]) - Q_A[state,action_A])\n",
    "            #Q_B[state,action_B] += alpha * (r[1] + gamma* np.max(Q_B[state2,:]) - Q_B[state,action_B])\n",
    "            new = Q_A[init_state][4][0]\n",
    "            #if np.linalg.norm(np.array(prev)-np.array(new))>0:\n",
    "            s_a.append([step,np.linalg.norm(np.array(prev)-np.array(new))])\n",
    "\n",
    "            state = state2\n",
    "        else:\n",
    "            #game end\n",
    "            Q_A[state][action_A,action_B] += alpha * ((1-gamma)*r[0] - Q_A[state][action_A,action_B])\n",
    "            Q_B[state][action_B,action_A] += alpha * ((1-gamma)*r[1] - Q_B[state][action_B,action_A])     \n",
    "            new = Q_A[init_state][4][0]\n",
    "            s_a.append([step,np.linalg.norm(np.array(prev)-np.array(new))])\n",
    "            #print(new)\n",
    "            #st\n",
    "            #if np.linalg.norm(np.array(prev)-np.array(new))>0:\n",
    "            s_a.append([step,np.max(np.abs((np.array(prev)-np.array(new))))])\n",
    "                \n",
    "        step += 1\n",
    "        samp = 2\n",
    "        #epsilon = eps_reduce_2(step,iteration)\n",
    "        alpha = alpha_reduce_3(step,limit,max_alpha)\n",
    "        #alpha = alpha_reduce(min_alpha,max_alpha,step)\n",
    "        #alpha = alpha_reduce_2(step,iteration)\n",
    "        ##\n",
    "        #epsilon = alpha_reduce(min_eps,max_eps,step)\n",
    "        ##\n",
    "        #print(step)\n",
    "s_a_use = np.reshape(s_a,[-1,2])"
   ]
  },
  {
   "cell_type": "code",
   "execution_count": 5,
   "metadata": {
    "scrolled": true
   },
   "outputs": [
    {
     "data": {
      "image/png": "[encoded data removed]",
      "text/plain": [
       "<Figure size 432x288 with 1 Axes>"
      ]
     },
     "metadata": {},
     "output_type": "display_data"
    }
   ],
   "source": [
    "s = np.where(s_a_use[:,1]>0)\n",
    "k = s_a_use[np.where(s_a_use[:,1]>=0),1][0]\n",
    "plt.rcParams['agg.path.chunksize'] = 10000\n",
    "#print(k[1000])\n",
    "#print(s_a[850000:])\n",
    "p = np.roll(k, 5000)\n",
    "plt.plot(s_a_use,'-',color='darkblue')\n",
    "plt.ylim([0,0.5])\n",
    "#plt.xlim([0,10e5])\n",
    "plt.xlabel('Simulation Iteration')\n",
    "plt.ylabel('Q-value Difference')\n",
    "plt.title('Friend-Q')\n",
    "plt.show()\n",
    "#print(k)"
   ]
  },
  {
   "cell_type": "code",
   "execution_count": 6,
   "metadata": {},
   "outputs": [
    {
     "name": "stdout",
     "output_type": "stream",
     "text": [
      "[[  9.          10.           9.           9.           9.        ]\n",
      " [  9.           9.50826873   9.           9.           9.        ]\n",
      " [-10.         -10.         -10.         -10.         -10.        ]\n",
      " [  9.           9.           8.55346829   9.           9.        ]\n",
      " [  9.           9.           9.           9.           9.        ]]\n"
     ]
    }
   ],
   "source": [
    "print(Q_B[init_state,])\n"
   ]
  },
  {
   "cell_type": "code",
   "execution_count": 7,
   "metadata": {},
   "outputs": [
    {
     "name": "stdout",
     "output_type": "stream",
     "text": [
      "[[  9.           9.          10.           9.           9.        ]\n",
      " [-10.          -1.099664    10.           9.           9.        ]\n",
      " [  9.           9.          10.           9.           9.        ]\n",
      " [  9.           8.55668058  10.           9.           9.        ]\n",
      " [  9.           9.          10.           9.           9.        ]]\n"
     ]
    }
   ],
   "source": [
    "print(Q_A[init_state])"
   ]
  },
  {
   "cell_type": "code",
   "execution_count": 8,
   "metadata": {},
   "outputs": [
    {
     "name": "stdout",
     "output_type": "stream",
     "text": [
      "[[0, 0], [0, 1], [0, 2], [0, 3], [0, 4], [1, 0], [1, 1], [1, 2], [1, 3], [1, 4], [2, 0], [2, 1], [2, 2], [2, 3], [2, 4], [3, 0], [3, 1], [3, 2], [3, 3], [3, 4], [4, 0], [4, 1], [4, 2], [4, 3], [4, 4]]\n"
     ]
    }
   ],
   "source": [
    "print(action_list)"
   ]
  },
  {
   "cell_type": "code",
   "execution_count": null,
   "metadata": {},
   "outputs": [],
   "source": []
  },
  {
   "cell_type": "code",
   "execution_count": 9,
   "metadata": {},
   "outputs": [
    {
     "name": "stdout",
     "output_type": "stream",
     "text": [
      "[0. 0. 0. 0. 0.]\n"
     ]
    }
   ],
   "source": [
    "Q = np.zeros([122,5,5])\n",
    "print(Q[0][0,])"
   ]
  },
  {
   "cell_type": "code",
   "execution_count": 10,
   "metadata": {},
   "outputs": [
    {
     "name": "stdout",
     "output_type": "stream",
     "text": [
      "10.0\n"
     ]
    }
   ],
   "source": [
    "k = [[1,2,3],[4,5,6]]\n",
    "k = np.zeros([1,5,5])\n",
    "k[0][1,1]= 10\n",
    "print(np.max(k))"
   ]
  },
  {
   "cell_type": "code",
   "execution_count": null,
   "metadata": {},
   "outputs": [],
   "source": []
  }
 ],
 "metadata": {
  "kernelspec": {
   "display_name": "Python 3",
   "language": "python",
   "name": "python3"
  },
  "language_info": {
   "codemirror_mode": {
    "name": "ipython",
    "version": 3
   },
   "file_extension": ".py",
   "mimetype": "text/x-python",
   "name": "python",
   "nbconvert_exporter": "python",
   "pygments_lexer": "ipython3",
   "version": "3.6.5"
  }
 },
 "nbformat": 4,
 "nbformat_minor": 2
}
