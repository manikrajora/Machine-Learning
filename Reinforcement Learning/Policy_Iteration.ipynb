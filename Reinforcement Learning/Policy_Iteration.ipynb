{
 "cells": [
  {
   "cell_type": "code",
   "execution_count": 362,
   "metadata": {},
   "outputs": [],
   "source": [
    "import numpy as np\n",
    "import gym\n",
    "from gym import wrappers\n",
    "import matplotlib.pyplot as plt\n",
    "import time"
   ]
  },
  {
   "cell_type": "code",
   "execution_count": 408,
   "metadata": {},
   "outputs": [],
   "source": [
    "def create_pol(policy,r,c):\n",
    "    count = 0;\n",
    "    pol_v_all = []\n",
    "    pol_v = []\n",
    "    for i in range(r):\n",
    "        for j in range(c):\n",
    "            if policy[count] == 0.:\n",
    "#                 pol_v[i,j] = 'L'\n",
    "                pol_v.append('L')\n",
    "            elif policy[count] == 1.:\n",
    "#                 pol_v[i,j] = 'D'\n",
    "                pol_v.append('D')\n",
    "            elif policy[count] == 2.:\n",
    "#                 pol_v[i,j] = 'R'\n",
    "                pol_v.append('R')\n",
    "            elif policy[count] == 3.:\n",
    "#                 pol_v[i,j] = 'U'\n",
    "                pol_v.append('U')\n",
    "            count += 1\n",
    "        if i == 0:\n",
    "            pol_v_all = np.array(pol_v.copy())\n",
    "        else:\n",
    "            pol_v_all = np.vstack((pol_v_all,pol_v))\n",
    "        pol_v = []\n",
    "    return pol_v_all"
   ]
  },
  {
   "cell_type": "code",
   "execution_count": 374,
   "metadata": {},
   "outputs": [],
   "source": [
    "def run_episode(env, policy, gamma = 1.0, max_steps = 1000, render = False):\n",
    "    \"\"\" Runs an episode and return the total reward \"\"\"\n",
    "    obs = env.reset()\n",
    "    total_reward = 0\n",
    "    step_idx = 0\n",
    "    step_num = 0\n",
    "    while True:\n",
    "        if render:\n",
    "            env.render()\n",
    "        obs, reward, done , _ = env.step(int(policy[obs]))\n",
    "#         total_reward += (gamma ** step_idx * reward)     \n",
    "        total_reward += (reward)\n",
    "        step_idx += 1\n",
    "        step_num += 1\n",
    "        if done or step_num == max_steps:\n",
    "            break\n",
    "    return total_reward\n",
    "\n",
    "\n",
    "def evaluate_policy(env, policy, gamma = 1.0, n = 100):\n",
    "    scores = [run_episode(env, policy, gamma, max_steps = 1000, render = False) for _ in range(n)]\n",
    "    return np.mean(scores)\n",
    "\n",
    "def extract_policy(v, gamma = 1.0):\n",
    "    \"\"\" Extract the policy given a value-function \"\"\"\n",
    "    policy = np.zeros(env.nS)\n",
    "    for s in range(env.nS):\n",
    "        q_sa = np.zeros(env.nA)\n",
    "        for a in range(env.nA):\n",
    "            q_sa[a] = sum([p * (r + gamma * v[s_]) for p, s_, r, _ in  env.P[s][a]])\n",
    "        policy[s] = np.argmax(q_sa)\n",
    "    return policy\n",
    "\n",
    "def compute_policy_v(env, policy, gamma=1.0):\n",
    "    \"\"\" Iteratively evaluate the value-function under policy.\n",
    "    Alternatively, we could formulate a set of linear equations in iterms of v[s] \n",
    "    and solve them to find the value function.\n",
    "    \"\"\"\n",
    "    v = np.zeros(env.nS)\n",
    "    eps = 1e-10\n",
    "    while True:\n",
    "        prev_v = np.copy(v)\n",
    "        for s in range(env.nS):\n",
    "            policy_a = policy[s]\n",
    "            v[s] = sum([p * (r + gamma * prev_v[s_]) for p, s_, r, _ in env.P[s][policy_a]])\n",
    "        if (np.sum((np.fabs(prev_v - v))) <= eps):\n",
    "            # value converged\n",
    "            break\n",
    "    return v\n",
    "\n",
    "def policy_iteration(env, gamma = 1.0):\n",
    "    \"\"\" Policy-Iteration algorithm \"\"\"\n",
    "    policy = np.random.choice(env.nA, size=(env.nS))  # initialize a random policy\n",
    "    max_iterations = 20000\n",
    "    scores_all = []\n",
    "    for i in range(max_iterations):\n",
    "#         start = time.clock()\n",
    "        old_policy_v = compute_policy_v(env, policy, gamma)\n",
    "        new_policy = extract_policy(old_policy_v, gamma)\n",
    "#         print(time.clock() - start)\n",
    "        scores_all.append(evaluate_policy(env, new_policy, gamma))\n",
    "        if (np.all(policy == new_policy)):\n",
    "            print ('Policy-Iteration converged at step %d.' %(i+1))\n",
    "            break\n",
    "        policy = new_policy\n",
    "    return [policy, scores_all]\n"
   ]
  },
  {
   "cell_type": "markdown",
   "metadata": {},
   "source": [
    "# 16x16 Results"
   ]
  },
  {
   "cell_type": "code",
   "execution_count": 375,
   "metadata": {},
   "outputs": [
    {
     "name": "stdout",
     "output_type": "stream",
     "text": [
      "0.1\n",
      "Policy-Iteration converged at step 9.\n",
      "0.9499999999999567\n",
      "Average scores =  0.9499999999999567\n",
      "0.2\n",
      "Policy-Iteration converged at step 15.\n",
      "0.9499999999999567\n",
      "Average scores =  0.9499999999999567\n",
      "0.30000000000000004\n",
      "Policy-Iteration converged at step 10.\n",
      "0.9499999999999567\n",
      "Average scores =  0.9499999999999567\n",
      "0.4\n",
      "Policy-Iteration converged at step 8.\n",
      "0.9499999999999567\n",
      "Average scores =  0.9499999999999567\n",
      "0.5\n",
      "Policy-Iteration converged at step 8.\n",
      "0.9499999999999567\n",
      "Average scores =  0.9499999999999567\n",
      "0.6\n",
      "Policy-Iteration converged at step 7.\n",
      "0.9499999999999567\n",
      "Average scores =  0.9499999999999567\n",
      "0.7000000000000001\n",
      "Policy-Iteration converged at step 6.\n",
      "0.9499999999999567\n",
      "Average scores =  0.9499999999999567\n",
      "0.8\n",
      "Policy-Iteration converged at step 8.\n",
      "0.9499999999999567\n",
      "Average scores =  0.9499999999999567\n",
      "0.9\n",
      "Policy-Iteration converged at step 13.\n",
      "0.9499999999999567\n",
      "Average scores =  0.9499999999999567\n",
      "1.0\n",
      "Policy-Iteration converged at step 18.\n",
      "0.9499999999999567\n",
      "Average scores =  0.9499999999999567\n"
     ]
    }
   ],
   "source": [
    "env_name  = 'FrozenLake16x16-v0'\n",
    "env = gym.make(env_name)\n",
    "env = env.unwrapped\n",
    "sg = []\n",
    "end_score = []\n",
    "g = np.arange(0.1,1.11,0.1)\n",
    "\n",
    "\n",
    "for i in range(len(g)-1):\n",
    "    print(g[i])\n",
    "#     start = time.clock()\n",
    "    [optimal_policy,scores_all] = policy_iteration(env, gamma = g[i])\n",
    "#     print(time.clock() - start)\n",
    "    end_score.append(evaluate_policy(env, optimal_policy, g[i]))\n",
    "    sg.append(scores_all)\n",
    "    print(scores)\n",
    "    print('Average scores = ', np.mean(scores))"
   ]
  },
  {
   "cell_type": "code",
   "execution_count": 406,
   "metadata": {},
   "outputs": [
    {
     "data": {
      "image/png": "[encoded data removed]",
      "text/plain": [
       "<Figure size 432x288 with 1 Axes>"
      ]
     },
     "metadata": {},
     "output_type": "display_data"
    },
    {
     "data": {
      "image/png": "[encoded data removed]",
      "text/plain": [
       "<Figure size 432x288 with 1 Axes>"
      ]
     },
     "metadata": {},
     "output_type": "display_data"
    },
    {
     "name": "stdout",
     "output_type": "stream",
     "text": [
      "[3. 2. 2. 2. 2. 2. 2. 2. 2. 2. 2. 2. 2. 2. 2. 2. 3. 3. 3. 3. 3. 3. 3. 3.\n",
      " 3. 3. 3. 3. 3. 3. 3. 2. 0. 0. 0. 0. 2. 3. 3. 3. 0. 3. 0. 0. 2. 3. 2. 2.\n",
      " 0. 0. 0. 1. 0. 0. 2. 2. 0. 0. 0. 1. 0. 0. 2. 2. 0. 3. 0. 0. 2. 1. 3. 2.\n",
      " 0. 3. 0. 0. 2. 1. 3. 2. 0. 0. 0. 1. 3. 0. 0. 2. 0. 0. 0. 1. 3. 0. 0. 2.\n",
      " 0. 0. 1. 0. 0. 0. 0. 2. 0. 0. 1. 0. 0. 0. 0. 2. 0. 1. 1. 3. 1. 1. 1. 2.\n",
      " 0. 1. 1. 3. 1. 1. 1. 2. 0. 0. 0. 0. 2. 3. 2. 2. 0. 0. 0. 0. 2. 3. 2. 2.\n",
      " 0. 0. 0. 1. 0. 0. 2. 2. 0. 0. 0. 1. 0. 0. 2. 2. 0. 3. 0. 0. 2. 1. 3. 2.\n",
      " 0. 3. 0. 0. 2. 1. 3. 2. 0. 0. 0. 1. 3. 0. 0. 2. 0. 0. 0. 1. 3. 0. 0. 2.\n",
      " 0. 0. 1. 0. 0. 0. 0. 2. 0. 0. 1. 0. 0. 0. 0. 2. 0. 0. 2. 0. 0. 0. 0. 2.\n",
      " 0. 0. 2. 0. 0. 0. 0. 2. 0. 1. 1. 3. 1. 1. 1. 3. 0. 1. 1. 3. 1. 1. 1. 2.\n",
      " 0. 0. 0. 0. 2. 2. 0. 0. 2. 0. 0. 0. 2. 2. 2. 0.]\n",
      "[0.0, 0.09, 0.04, 0.07, 0.1, 0.14, 0.17, 0.19, 0.36, 0.94]\n"
     ]
    }
   ],
   "source": [
    "x_t = np.round(g[0:-1],4)\n",
    "plt.scatter(np.arange(0,len(end_score),1),end_score[0:])\n",
    "plt.xticks(np.arange(0,len(end_score),1),x_t) \n",
    "plt.xlabel('Gamma Value')\n",
    "plt.ylabel('Average Reward')\n",
    "plt.title('Average Reward for Different Gamma Value')\n",
    "plt.show()\n",
    "\n",
    "plt.scatter(np.arange(0,len(sg[-1]),1),sg[-1])\n",
    "plt.title('Average Reward per Iteration')\n",
    "plt.xlabel('Iteration Number')\n",
    "plt.ylabel('Average Reward')\n",
    "plt.show()"
   ]
  },
  {
   "cell_type": "code",
   "execution_count": 358,
   "metadata": {},
   "outputs": [
    {
     "name": "stdout",
     "output_type": "stream",
     "text": [
      "0.9\n",
      "Policy-Iteration converged at step 7.\n",
      "0.9499999999999567\n",
      "Average scores =  0.9499999999999567\n",
      "0.92\n",
      "Policy-Iteration converged at step 6.\n",
      "0.9499999999999567\n",
      "Average scores =  0.9499999999999567\n",
      "0.9400000000000001\n",
      "Policy-Iteration converged at step 7.\n",
      "0.9499999999999567\n",
      "Average scores =  0.9499999999999567\n",
      "0.9600000000000001\n",
      "Policy-Iteration converged at step 7.\n",
      "0.9499999999999567\n",
      "Average scores =  0.9499999999999567\n",
      "0.9800000000000001\n",
      "Policy-Iteration converged at step 9.\n",
      "0.9499999999999567\n",
      "Average scores =  0.9499999999999567\n",
      "1.0\n",
      "Policy-Iteration converged at step 18.\n",
      "0.9499999999999567\n",
      "Average scores =  0.9499999999999567\n"
     ]
    }
   ],
   "source": [
    "env_name  = 'FrozenLake16x16-v0'\n",
    "env = gym.make(env_name)\n",
    "env = env.unwrapped\n",
    "sg = []\n",
    "end_score = []\n",
    "g = np.arange(0.9,1.025,0.02)\n",
    "\n",
    "\n",
    "for i in range(len(g)-1):\n",
    "    print(g[i])\n",
    "    [optimal_policy,scores_all] = policy_iteration(env, gamma = g[i])\n",
    "    end_score.append(evaluate_policy(env, optimal_policy, g[i]))\n",
    "    sg.append(scores_all)\n",
    "    print(scores)\n",
    "    print('Average scores = ', np.mean(scores))"
   ]
  },
  {
   "cell_type": "markdown",
   "metadata": {},
   "source": [
    "# 16x16 Plots"
   ]
  },
  {
   "cell_type": "code",
   "execution_count": 359,
   "metadata": {},
   "outputs": [
    {
     "data": {
      "image/png": "[encoded data removed]",
      "text/plain": [
       "<Figure size 432x288 with 1 Axes>"
      ]
     },
     "metadata": {},
     "output_type": "display_data"
    },
    {
     "data": {
      "image/png": "[encoded data removed]",
      "text/plain": [
       "<Figure size 432x288 with 1 Axes>"
      ]
     },
     "metadata": {},
     "output_type": "display_data"
    },
    {
     "data": {
      "text/plain": [
       "[0.37, 0.38, 0.39, 0.37, 0.52, 0.94]"
      ]
     },
     "execution_count": 359,
     "metadata": {},
     "output_type": "execute_result"
    }
   ],
   "source": [
    "x_t = np.round(g[0:-1],4)\n",
    "plt.scatter(np.arange(0,len(end_score),1),end_score[0:])\n",
    "plt.xticks(np.arange(0,len(end_score),1),x_t) \n",
    "plt.xlabel('Gamma Value')\n",
    "plt.ylabel('Average Reward')\n",
    "plt.title('Average Reward for Different Gamma Value')\n",
    "plt.show()\n",
    "\n",
    "plt.scatter(np.arange(0,len(sg[-1]),1),sg[-1])\n",
    "plt.title('Average Reward per Iteration')\n",
    "plt.xlabel('Iteration Number')\n",
    "plt.ylabel('Average Reward')\n",
    "plt.show()\n",
    "\n",
    "optimal_policy\n",
    "end_score"
   ]
  },
  {
   "cell_type": "markdown",
   "metadata": {},
   "source": [
    "# 4x4 Results"
   ]
  },
  {
   "cell_type": "code",
   "execution_count": 370,
   "metadata": {},
   "outputs": [
    {
     "name": "stdout",
     "output_type": "stream",
     "text": [
      "0.8\n",
      "0.0019669943738733764\n",
      "0.003747566437709793\n",
      "0.0038045857156987495\n",
      "0.003766686674623543\n",
      "Policy-Iteration converged at step 4.\n",
      "0.11357489021230549\n"
     ]
    },
    {
     "ename": "NameError",
     "evalue": "name 'st' is not defined",
     "output_type": "error",
     "traceback": [
      "\u001b[1;31m---------------------------------------------------------------------------\u001b[0m",
      "\u001b[1;31mNameError\u001b[0m                                 Traceback (most recent call last)",
      "\u001b[1;32m<ipython-input-370-1375f79107ae>\u001b[0m in \u001b[0;36m<module>\u001b[1;34m()\u001b[0m\n\u001b[0;32m     11\u001b[0m     \u001b[1;33m[\u001b[0m\u001b[0moptimal_policy\u001b[0m\u001b[1;33m,\u001b[0m\u001b[0mscores_all\u001b[0m\u001b[1;33m]\u001b[0m \u001b[1;33m=\u001b[0m \u001b[0mpolicy_iteration\u001b[0m\u001b[1;33m(\u001b[0m\u001b[0menv\u001b[0m\u001b[1;33m,\u001b[0m \u001b[0mgamma\u001b[0m \u001b[1;33m=\u001b[0m \u001b[0mg_4\u001b[0m\u001b[1;33m[\u001b[0m\u001b[0mi\u001b[0m\u001b[1;33m]\u001b[0m\u001b[1;33m)\u001b[0m\u001b[1;33m\u001b[0m\u001b[0m\n\u001b[0;32m     12\u001b[0m     \u001b[0mprint\u001b[0m\u001b[1;33m(\u001b[0m\u001b[0mtime\u001b[0m\u001b[1;33m.\u001b[0m\u001b[0mclock\u001b[0m\u001b[1;33m(\u001b[0m\u001b[1;33m)\u001b[0m \u001b[1;33m-\u001b[0m \u001b[0mstart\u001b[0m\u001b[1;33m)\u001b[0m\u001b[1;33m\u001b[0m\u001b[0m\n\u001b[1;32m---> 13\u001b[1;33m     \u001b[0mst\u001b[0m\u001b[1;33m\u001b[0m\u001b[0m\n\u001b[0m\u001b[0;32m     14\u001b[0m     \u001b[0mend_score_4\u001b[0m\u001b[1;33m.\u001b[0m\u001b[0mappend\u001b[0m\u001b[1;33m(\u001b[0m\u001b[0mevaluate_policy\u001b[0m\u001b[1;33m(\u001b[0m\u001b[0menv\u001b[0m\u001b[1;33m,\u001b[0m \u001b[0moptimal_policy\u001b[0m\u001b[1;33m,\u001b[0m \u001b[0mg_4\u001b[0m\u001b[1;33m[\u001b[0m\u001b[0mi\u001b[0m\u001b[1;33m]\u001b[0m\u001b[1;33m)\u001b[0m\u001b[1;33m)\u001b[0m\u001b[1;33m\u001b[0m\u001b[0m\n\u001b[0;32m     15\u001b[0m     \u001b[0msg_4\u001b[0m\u001b[1;33m.\u001b[0m\u001b[0mappend\u001b[0m\u001b[1;33m(\u001b[0m\u001b[0mscores_all\u001b[0m\u001b[1;33m)\u001b[0m\u001b[1;33m\u001b[0m\u001b[0m\n",
      "\u001b[1;31mNameError\u001b[0m: name 'st' is not defined"
     ]
    }
   ],
   "source": [
    "env_name  = 'FrozenLake-v0'\n",
    "env = gym.make(env_name)\n",
    "env = env.unwrapped\n",
    "sg_4 = []\n",
    "end_score_4 = []\n",
    "g_4 = np.arange(0.8,1.025,0.02)\n",
    "\n",
    "for i in range(len(g_4)-1):\n",
    "    print(g_4[i])\n",
    "    start = time.clock()\n",
    "    [optimal_policy,scores_all] = policy_iteration(env, gamma = g_4[i])\n",
    "    print(time.clock() - start)\n",
    "    st\n",
    "    end_score_4.append(evaluate_policy(env, optimal_policy, g_4[i]))\n",
    "    sg_4.append(scores_all)\n",
    "    print(scores)\n",
    "    print('Average scores = ', np.mean(scores))"
   ]
  },
  {
   "cell_type": "code",
   "execution_count": 343,
   "metadata": {
    "scrolled": false
   },
   "outputs": [
    {
     "name": "stdout",
     "output_type": "stream",
     "text": [
      "[0.49, 0.8, 0.87, 0.73, 0.85, 0.87, 0.73, 0.78, 0.79, 0.8, 0.78]\n"
     ]
    },
    {
     "data": {
      "image/png": "[encoded data removed]",
      "text/plain": [
       "<Figure size 432x288 with 1 Axes>"
      ]
     },
     "metadata": {},
     "output_type": "display_data"
    },
    {
     "data": {
      "image/png": "[encoded data removed]",
      "text/plain": [
       "<Figure size 432x288 with 1 Axes>"
      ]
     },
     "metadata": {},
     "output_type": "display_data"
    },
    {
     "data": {
      "text/plain": [
       "array([0., 3., 3., 3., 0., 0., 0., 0., 3., 1., 0., 0., 0., 2., 1., 0.])"
      ]
     },
     "execution_count": 343,
     "metadata": {},
     "output_type": "execute_result"
    }
   ],
   "source": [
    "print(end_score_4)\n",
    "x_t = np.round(g_4[0:-1],4)\n",
    "plt.scatter(np.arange(0,len(end_score_4),1),end_score_4[0:])\n",
    "plt.xticks(np.arange(0,len(end_score_4),1),x_t) \n",
    "plt.xlabel('Gamma Value')\n",
    "plt.ylabel('Average Reward')\n",
    "plt.title('Average Reward for Different Gamma Value')\n",
    "plt.show()\n",
    "\n",
    "plt.scatter(np.arange(0,len(sg_4[-1]),1),sg_4[-1])\n",
    "plt.title('Average Reward per Iteration')\n",
    "plt.xlabel('Iteration Number')\n",
    "plt.ylabel('Average Reward')\n",
    "plt.show()\n",
    "\n",
    "optimal_policy"
   ]
  },
  {
   "cell_type": "code",
   "execution_count": 360,
   "metadata": {},
   "outputs": [
    {
     "name": "stdout",
     "output_type": "stream",
     "text": [
      "0.1\n",
      "Policy-Iteration converged at step 3.\n",
      "0.9499999999999567\n",
      "Average scores =  0.9499999999999567\n",
      "0.2\n",
      "Policy-Iteration converged at step 4.\n",
      "0.9499999999999567\n",
      "Average scores =  0.9499999999999567\n",
      "0.30000000000000004\n",
      "Policy-Iteration converged at step 5.\n",
      "0.9499999999999567\n",
      "Average scores =  0.9499999999999567\n",
      "0.4\n",
      "Policy-Iteration converged at step 6.\n",
      "0.9499999999999567\n",
      "Average scores =  0.9499999999999567\n",
      "0.5\n",
      "Policy-Iteration converged at step 3.\n",
      "0.9499999999999567\n",
      "Average scores =  0.9499999999999567\n",
      "0.6\n",
      "Policy-Iteration converged at step 3.\n",
      "0.9499999999999567\n",
      "Average scores =  0.9499999999999567\n",
      "0.7000000000000001\n",
      "Policy-Iteration converged at step 3.\n",
      "0.9499999999999567\n",
      "Average scores =  0.9499999999999567\n",
      "0.8\n",
      "Policy-Iteration converged at step 5.\n",
      "0.9499999999999567\n",
      "Average scores =  0.9499999999999567\n",
      "0.9\n",
      "Policy-Iteration converged at step 5.\n",
      "0.9499999999999567\n",
      "Average scores =  0.9499999999999567\n",
      "1.0\n",
      "Policy-Iteration converged at step 4.\n",
      "0.9499999999999567\n",
      "Average scores =  0.9499999999999567\n"
     ]
    }
   ],
   "source": [
    "env_name  = 'FrozenLake-v0'\n",
    "env = gym.make(env_name)\n",
    "env = env.unwrapped\n",
    "sg_4 = []\n",
    "end_score_4 = []\n",
    "g_4 = np.arange(0.1,1.11,0.1)\n",
    "\n",
    "for i in range(len(g_4)-1):\n",
    "    print(g_4[i])\n",
    "    [optimal_policy,scores_all] = policy_iteration(env, gamma = g_4[i])\n",
    "    end_score_4.append(evaluate_policy(env, optimal_policy, g_4[i]))\n",
    "    sg_4.append(scores_all)\n",
    "    print(scores)\n",
    "    print('Average scores = ', np.mean(scores))"
   ]
  },
  {
   "cell_type": "code",
   "execution_count": 361,
   "metadata": {},
   "outputs": [
    {
     "name": "stdout",
     "output_type": "stream",
     "text": [
      "[0.45, 0.42, 0.53, 0.55, 0.54, 0.38, 0.42, 0.42, 0.77, 0.85]\n"
     ]
    },
    {
     "data": {
      "image/png": "[encoded data removed]",
      "text/plain": [
       "<Figure size 432x288 with 1 Axes>"
      ]
     },
     "metadata": {},
     "output_type": "display_data"
    },
    {
     "data": {
      "image/png": "[encoded data removed]",
      "text/plain": [
       "<Figure size 432x288 with 1 Axes>"
      ]
     },
     "metadata": {},
     "output_type": "display_data"
    },
    {
     "data": {
      "text/plain": [
       "array([0., 3., 3., 3., 0., 0., 0., 0., 3., 1., 0., 0., 0., 2., 1., 0.])"
      ]
     },
     "execution_count": 361,
     "metadata": {},
     "output_type": "execute_result"
    }
   ],
   "source": [
    "print(end_score_4)\n",
    "x_t = np.round(g_4[0:-1],4)\n",
    "plt.scatter(np.arange(0,len(end_score_4),1),end_score_4[0:])\n",
    "plt.xticks(np.arange(0,len(end_score_4),1),x_t) \n",
    "plt.xlabel('Gamma Value')\n",
    "plt.ylabel('Average Reward')\n",
    "plt.title('Average Reward for Different Gamma Value')\n",
    "plt.show()\n",
    "\n",
    "plt.scatter(np.arange(0,len(sg_4[-1]),1),sg_4[-1])\n",
    "plt.title('Average Reward per Iteration')\n",
    "plt.xlabel('Iteration Number')\n",
    "plt.ylabel('Average Reward')\n",
    "plt.show()\n",
    "\n",
    "optimal_policy"
   ]
  },
  {
   "cell_type": "code",
   "execution_count": null,
   "metadata": {},
   "outputs": [],
   "source": []
  }
 ],
 "metadata": {
  "kernelspec": {
   "display_name": "Python 3",
   "language": "python",
   "name": "python3"
  },
  "language_info": {
   "codemirror_mode": {
    "name": "ipython",
    "version": 3
   },
   "file_extension": ".py",
   "mimetype": "text/x-python",
   "name": "python",
   "nbconvert_exporter": "python",
   "pygments_lexer": "ipython3",
   "version": "3.6.5"
  }
 },
 "nbformat": 4,
 "nbformat_minor": 2
}
