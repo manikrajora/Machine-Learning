{
 "cells": [
  {
   "cell_type": "code",
   "execution_count": 1,
   "metadata": {},
   "outputs": [],
   "source": [
    "from __future__ import division\n",
    "import math\n",
    "import numpy as np\n",
    "import matplotlib.pyplot as plt\n",
    "import random"
   ]
  },
  {
   "cell_type": "code",
   "execution_count": null,
   "metadata": {},
   "outputs": [
    {
     "name": "stdout",
     "output_type": "stream",
     "text": [
      "[['D', 'C', 'D', 'E', 'F', 'G'], ['D', 'E', 'F', 'G'], ['D', 'C', 'B', 'C', 'D', 'E', 'F', 'G'], ['D', 'E', 'F', 'G'], ['D', 'E', 'F', 'G'], ['D', 'C', 'D', 'E', 'D', 'E', 'D', 'C', 'B', 'C', 'D', 'C', 'D', 'E', 'D', 'C', 'B', 'A'], ['D', 'C', 'B', 'A'], ['D', 'C', 'B', 'C', 'B', 'A'], ['D', 'C', 'B', 'C', 'B', 'C', 'B', 'A'], ['D', 'E', 'D', 'E', 'F', 'G']]\n"
     ]
    }
   ],
   "source": [
    "def Data_gen(n=10):\n",
    "    TrainSet=[]\n",
    "    States=[\"A\",\"B\",\"C\",\"D\",\"E\",\"F\",\"G\"]\n",
    "    startP=\"D\"\n",
    "    for i in range(n):\n",
    "        curP=startP\n",
    "        seq=[curP]\n",
    "        cur_ind=States.index(curP)\n",
    "        while cur_ind!=0 and cur_ind!=6:\n",
    "            cur_ind=States.index(curP)\n",
    "            rand=random.uniform(0, 1)\n",
    "            if rand<=0.5:\n",
    "                cur_ind+=-1\n",
    "            else:\n",
    "                cur_ind+=1\n",
    "            curP=States[cur_ind]\n",
    "            seq.append(curP)\n",
    "            \n",
    "        TrainSet.append(seq)\n",
    "    return TrainSet\n",
    "\n",
    "Trainset = Data_gen(10)\n",
    "print(Trainset)\n"
   ]
  },
  {
   "cell_type": "code",
   "execution_count": null,
   "metadata": {},
   "outputs": [],
   "source": [
    "def learn_oneset(Trainset,alpha=0.001,lamd=1,w=np.array([0., 0., 0., 0., 0.])):\n",
    "    States=[\"A\",\"B\",\"C\",\"D\",\"E\",\"F\",\"G\"]\n",
    "    X=[np.array([1,0,0,0,0]),np.array([0,1,0,0,0]),np.array([0,0,1,0,0]),np.array([0,0,0,1,0]),np.array([0,0,0,0,1])]\n",
    "    del_a=99\n",
    "    test=1\n",
    "    P_act = np.array([1/6,2/6,3/6,4/6,5/6])\n",
    "\n",
    "    P = []\n",
    "    for s in range(7):\n",
    "        if s == 0:\n",
    "            P.append(0)\n",
    "        elif s == 6:\n",
    "            P.append(1)\n",
    "        else:\n",
    "            px = X[s-1]\n",
    "            P.append(np.dot(np.transpose(px),w))\n",
    "\n",
    "    e = 1100\n",
    "    while e > 10**(-6):\n",
    "        delta_w = [0,0,0,0,0]\n",
    "        for m in range(len(Trainset)):\n",
    "            Trainset_use = Trainset[m]\n",
    "            for i in range(len(Trainset_use)-1):\n",
    "                ind_1 = States.index(Trainset_use[i])\n",
    "                ind_2 = States.index(Trainset_use[i+1])\n",
    "                sum = np.zeros(5)\n",
    "                for j in range(i+1):\n",
    "                    sum += (lamd**(i-j))*X[States.index(Trainset_use[j])-1]\n",
    "                delta_w += alpha*(P[ind_2]-P[ind_1])*sum\n",
    "        e = np.linalg.norm(delta_w)\n",
    "        w += delta_w\n",
    "        for s in range(7):\n",
    "            if s == 0:\n",
    "                P[s] = 0\n",
    "            elif s == 6:\n",
    "                P[s] = 1\n",
    "            else:\n",
    "                px = X[s-1]\n",
    "                P[s] = np.dot(np.transpose(px),w)\n",
    "                \n",
    "    RMSE = np.linalg.norm(P[1:5]-P_act[1:5])/np.sqrt(5)  \n",
    "    return [w,P,RMSE]\n",
    "\n",
    "w=np.array([0., 0., 0., 0., 0.]) \n",
    "RMSE_total = 0\n",
    "\n",
    "lamda = 0\n",
    "iteration = 10\n",
    "RMSE_total = np.zeros(iteration)\n",
    "lamda_all = np.zeros(iteration)\n",
    "for iter in range (iteration):\n",
    "    w=np.array([0., 0., 0., 0., 0.]) \n",
    "    for i in range (100):\n",
    "        Trainset = Data_gen(10)\n",
    "        [weights,P,RMSE] = learn_oneset(Trainset,0.001,lamda,w)\n",
    "        w = weights\n",
    "        RMSE_total[iter] += RMSE\n",
    "    RMSE_total[iter] /= 100\n",
    "    lamda_all[iter]= lamda\n",
    "    lamda += 0.1\n",
    "\n",
    "print RMSE_total    "
   ]
  },
  {
   "cell_type": "code",
   "execution_count": null,
   "metadata": {},
   "outputs": [],
   "source": [
    "plt.plot(lamda_all,RMSE_total)\n",
    "plt.show()"
   ]
  },
  {
   "cell_type": "code",
   "execution_count": null,
   "metadata": {},
   "outputs": [],
   "source": []
  },
  {
   "cell_type": "code",
   "execution_count": null,
   "metadata": {},
   "outputs": [],
   "source": []
  }
 ],
 "metadata": {
  "kernelspec": {
   "display_name": "Python 2",
   "language": "python",
   "name": "python2"
  },
  "language_info": {
   "codemirror_mode": {
    "name": "ipython",
    "version": 2
   },
   "file_extension": ".py",
   "mimetype": "text/x-python",
   "name": "python",
   "nbconvert_exporter": "python",
   "pygments_lexer": "ipython2",
   "version": "2.7.14"
  }
 },
 "nbformat": 4,
 "nbformat_minor": 2
}
