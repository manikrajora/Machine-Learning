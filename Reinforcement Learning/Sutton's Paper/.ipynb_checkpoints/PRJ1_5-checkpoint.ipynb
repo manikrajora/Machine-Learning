{
 "cells": [
  {
   "cell_type": "code",
   "execution_count": 1,
   "metadata": {},
   "outputs": [],
   "source": [
    "from __future__ import division\n",
    "import math\n",
    "import numpy as np\n",
    "import matplotlib.pyplot as plt\n",
    "import random"
   ]
  },
  {
   "cell_type": "code",
   "execution_count": 2,
   "metadata": {},
   "outputs": [],
   "source": [
    "def Data_gen(n=10):\n",
    "    TrainSet=[]\n",
    "    States=[\"A\",\"B\",\"C\",\"D\",\"E\",\"F\",\"G\"]\n",
    "    startP=\"D\"\n",
    "    for i in range(n):\n",
    "        curP=startP\n",
    "        seq=[curP]\n",
    "        cur_ind=States.index(curP)\n",
    "        while cur_ind!=0 and cur_ind!=6:\n",
    "            cur_ind=States.index(curP)\n",
    "            rand=random.uniform(0, 1)\n",
    "            if rand<=0.5:\n",
    "                cur_ind+=-1\n",
    "            else:\n",
    "                cur_ind+=1\n",
    "            curP=States[cur_ind]\n",
    "            seq.append(curP)\n",
    "            \n",
    "        TrainSet.append(seq)\n",
    "    return TrainSet"
   ]
  },
  {
   "cell_type": "code",
   "execution_count": 3,
   "metadata": {
    "scrolled": true
   },
   "outputs": [
    {
     "name": "stdout",
     "output_type": "stream",
     "text": [
      "[[0.18257419 0.16905171 0.16866545 0.17493245 0.18295067 0.19117593\n",
      "  0.19868051 0.2035626  0.21070049 0.21406584 0.21702719 0.21772958\n",
      "  0.21975631]\n",
      " [0.18257419 0.15666014 0.1448937  0.15061615 0.15574573 0.1669906\n",
      "  0.16952797 0.17872806 0.18338464 0.18831249 0.19222572 0.19008615\n",
      "  0.19512416]\n",
      " [0.18257419 0.14136085 0.12449151 0.15615212 0.17921904 0.22033579\n",
      "  0.21986723 0.24076129 0.24460527 0.2511413  0.26119863 0.26971865\n",
      "  0.28074755]\n",
      " [0.18257419 0.18626556 0.23294484 0.2803627  0.33887357 0.36029707\n",
      "  0.40916479 0.44552619 0.52137593 0.         0.         0.\n",
      "  0.        ]]\n"
     ]
    }
   ],
   "source": [
    "def learn_oneset(Trainset,alpha,lamd,w):\n",
    "    States=[\"A\",\"B\",\"C\",\"D\",\"E\",\"F\",\"G\"]\n",
    "    X=[np.array([1,0,0,0,0]),np.array([0,1,0,0,0]),np.array([0,0,1,0,0]),np.array([0,0,0,1,0]),np.array([0,0,0,0,1])]\n",
    "    test=1\n",
    "    P_act = np.array([1/6,2/6,3/6,4/6,5/6])\n",
    "\n",
    "    P = np.zeros(7)\n",
    "    for s in range(7):\n",
    "        if s == 0:\n",
    "            P[s] = 0.0\n",
    "        elif s == 6:\n",
    "            P[s] = 1.0\n",
    "        else:\n",
    "            px = X[s-1]\n",
    "            P[s] = np.dot(np.transpose(px),w)\n",
    "    \n",
    "    \n",
    "    for m in range(len(Trainset)):\n",
    "        Trainset_use = Trainset[m]\n",
    "        for i in range(len(Trainset_use)-1):\n",
    "            delta_w = np.zeros(5)\n",
    "            ind_1 = States.index(Trainset_use[i])\n",
    "            ind_2 = States.index(Trainset_use[i+1])\n",
    "            sum = np.zeros(5)\n",
    "            for j in range(i+1):\n",
    "                sum += (lamd**(i-j))*X[States.index(Trainset_use[j])-1]\n",
    "            delta_w += alpha*(P[ind_2]-P[ind_1])*sum\n",
    "        w += delta_w\n",
    "        for s in range(7):\n",
    "            if s == 0:\n",
    "                P[s] = 0\n",
    "            elif s == 6:\n",
    "                P[s] = 1\n",
    "            else:\n",
    "                px = X[s-1]\n",
    "                P[s] = np.dot(np.transpose(px),w)\n",
    "\n",
    "                \n",
    "    RMSE = np.linalg.norm(P[1:5]-P_act[1:5])/np.sqrt(5)  \n",
    "    return [w,P,RMSE]\n",
    "\n",
    "\n",
    "alpha1 = np.array([0.0, 0.05, 0.1, 0.15, 0.2, 0.25, 0.3, 0.35, 0.4, 0.45, 0.5, 0.55, 0.6])\n",
    "alpha2 = np.array([0.0, 0.05, 0.1, 0.15, 0.2, 0.25, 0.3, 0.35, 0.4])\n",
    "lamda = np.array([0.0, 0.3, 0.8, 1.0])\n",
    "#lamda = np.array([0.1, 0.3])\n",
    "\n",
    "RMSE_total = np.zeros([len(lamda),len(alpha1)])\n",
    "\n",
    "for iter in range(len(lamda)):\n",
    "    if lamda[iter] < 1.0:\n",
    "        alpha_use = alpha1\n",
    "    else: \n",
    "        alpha_use = alpha2\n",
    "\n",
    "    for iter2 in range(len(alpha_use)):\n",
    "        w = np.array([0.5,0.5,0.5,0.5,0.5])\n",
    "        for i in range (100):\n",
    "            Trainset = Data_gen(10)\n",
    "            w = np.array([0.5,0.5,0.5,0.5,0.5])\n",
    "            [weights,P,RMSE] = learn_oneset(Trainset,alpha_use[iter2],lamda[iter],w)\n",
    "            RMSE_total[iter,iter2] += RMSE\n",
    "    RMSE_total[iter,] /= 100\n",
    "        \n",
    "print RMSE_total    "
   ]
  },
  {
   "cell_type": "code",
   "execution_count": 4,
   "metadata": {},
   "outputs": [
    {
     "data": {
      "image/png": "[encoded data removed]",
      "text/plain": [
       "<matplotlib.figure.Figure at 0x793e048>"
      ]
     },
     "metadata": {},
     "output_type": "display_data"
    }
   ],
   "source": [
    "plt.plot(alpha1,RMSE_total[0,], marker='o')\n",
    "plt.plot(alpha1,RMSE_total[1,], marker='o')\n",
    "plt.plot(alpha1,RMSE_total[2,], marker='o')\n",
    "plt.plot(alpha2,RMSE_total[3,0:9], marker='o')\n",
    "plt.legend(['lamda = 0.0','lamda = 0.3', 'lamda = 0.8', 'lamda = 1.0'], loc='upper left')\n",
    "plt.xlabel('alpha')\n",
    "plt.ylabel('RMSE')\n",
    "plt.show()\n"
   ]
  },
  {
   "cell_type": "code",
   "execution_count": null,
   "metadata": {},
   "outputs": [],
   "source": []
  },
  {
   "cell_type": "code",
   "execution_count": null,
   "metadata": {},
   "outputs": [],
   "source": []
  }
 ],
 "metadata": {
  "kernelspec": {
   "display_name": "Python 2",
   "language": "python",
   "name": "python2"
  },
  "language_info": {
   "codemirror_mode": {
    "name": "ipython",
    "version": 2
   },
   "file_extension": ".py",
   "mimetype": "text/x-python",
   "name": "python",
   "nbconvert_exporter": "python",
   "pygments_lexer": "ipython2",
   "version": "2.7.14"
  }
 },
 "nbformat": 4,
 "nbformat_minor": 2
}
