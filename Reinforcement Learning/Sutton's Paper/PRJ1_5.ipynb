{
 "cells": [
  {
   "cell_type": "code",
   "execution_count": 1,
   "metadata": {},
   "outputs": [],
   "source": [
    "from __future__ import division\n",
    "import math\n",
    "import numpy as np\n",
    "import matplotlib.pyplot as plt\n",
    "import random"
   ]
  },
  {
   "cell_type": "code",
   "execution_count": 2,
   "metadata": {},
   "outputs": [
    {
     "name": "stdout",
     "output_type": "stream",
     "text": [
      "[['D', 'C', 'B', 'C', 'B', 'A'], ['D', 'E', 'F', 'G'], ['D', 'E', 'D', 'E', 'D', 'C', 'D', 'C', 'B', 'C', 'D', 'E', 'F', 'E', 'F', 'G'], ['D', 'E', 'F', 'E', 'D', 'C', 'B', 'C', 'B', 'C', 'B', 'C', 'D', 'C', 'B', 'C', 'D', 'E', 'F', 'G'], ['D', 'C', 'B', 'A']]\n"
     ]
    }
   ],
   "source": [
    "def Data_gen(n=10):\n",
    "    TrainSet=[]\n",
    "    States=[\"A\",\"B\",\"C\",\"D\",\"E\",\"F\",\"G\"]\n",
    "    startP=\"D\"\n",
    "    for i in range(n):\n",
    "        curP=startP\n",
    "        seq=[curP]\n",
    "        cur_ind=States.index(curP)\n",
    "        while cur_ind!=0 and cur_ind!=6:\n",
    "            cur_ind=States.index(curP)\n",
    "            rand=random.uniform(0, 1)\n",
    "            if rand<=0.5:\n",
    "                cur_ind+=-1\n",
    "            else:\n",
    "                cur_ind+=1\n",
    "            curP=States[cur_ind]\n",
    "            seq.append(curP)\n",
    "            \n",
    "        TrainSet.append(seq)\n",
    "    return TrainSet\n",
    "\n",
    "print Data_gen(5)"
   ]
  },
  {
   "cell_type": "code",
   "execution_count": 3,
   "metadata": {
    "scrolled": true
   },
   "outputs": [],
   "source": [
    "def learn_oneset(Trainset,alpha,lamd,w):\n",
    "    States=[\"A\",\"B\",\"C\",\"D\",\"E\",\"F\",\"G\"]\n",
    "    X=[np.array([1,0,0,0,0]),np.array([0,1,0,0,0]),np.array([0,0,1,0,0]),np.array([0,0,0,1,0]),np.array([0,0,0,0,1])]\n",
    "    test=1\n",
    "    P_act = np.array([1/6,2/6,3/6,4/6,5/6])\n",
    "\n",
    "    P = np.zeros(7)\n",
    "    for s in range(7):\n",
    "        if s == 0:\n",
    "            P[s] = 0.0\n",
    "        elif s == 6:\n",
    "            P[s] = 1.0\n",
    "        else:\n",
    "            px = X[s-1]\n",
    "            P[s] = np.dot(np.transpose(px),w)\n",
    "    \n",
    "    delta_w = np.zeros(5)\n",
    "    for m in range(len(Trainset)):\n",
    "        Trainset_use = Trainset[m]\n",
    "        delta_w = np.zeros(5)\n",
    "        for i in range(len(Trainset_use)-1):\n",
    "            ind_1 = States.index(Trainset_use[i])\n",
    "            ind_2 = States.index(Trainset_use[i+1])\n",
    "            s1 = np.zeros(5)\n",
    "            for j in range(i+1):\n",
    "                s1 += (lamd**(i-j))*X[States.index(Trainset_use[j])-1]\n",
    "            delta_w += alpha*(P[ind_2]-P[ind_1])*s1\n",
    "        w += delta_w\n",
    "        for s in range(7):\n",
    "            if s == 0:\n",
    "                P[s] = 0\n",
    "            elif s == 6:\n",
    "                P[s] = 1\n",
    "            else:\n",
    "                px = X[s-1]\n",
    "                P[s] = np.dot(np.transpose(px),w)\n",
    "        delta_w = np.zeros(5)\n",
    "                \n",
    "    RMSE = np.linalg.norm(P[1:6]-P_act)/np.sqrt(5)  \n",
    "    return [w,P,RMSE]\n",
    "\n",
    "\n",
    "alpha1 = np.arange(0,0.6,0.05)\n",
    "lamda = np.array([0.0, 0.1, 0.2, 0.3, 0.4, 0.5, 0.6, 0.7, 0.8, 0.9, 1.0])\n",
    "#alpha1 = np.arange(0,1,0.01)\n",
    "#lamda = np.array([0.0])\n",
    "#lamda = np.array([0.1, 0.3])\n",
    "lamda_alpha = np.zeros([3,11])\n",
    "RMSE_total = np.zeros([len(lamda),len(alpha1)])\n",
    "Trainset = []\n",
    "for i in range (100):\n",
    "    data = Data_gen(10)\n",
    "    Trainset.append(data)\n",
    "\n",
    "for iter in range(len(lamda)):\n",
    "    alpha_use = alpha1\n",
    "    lamda_alpha[0,iter]=lamda[iter]\n",
    "    for iter2 in range(len(alpha_use)):\n",
    "        w = np.array([0.5,0.5,0.5,0.5,0.5])\n",
    "        RMSE_all = np.zeros(100)\n",
    "        for i in range (100):\n",
    "            w = np.array([0.5,0.5,0.5,0.5,0.5])\n",
    "            [weights,P,RMSE] = learn_oneset(Trainset[i],alpha_use[iter2],lamda[iter],w)       \n",
    "            #RMSE_total[iter,iter2] += RMSE\n",
    "            RMSE_all[i] += RMSE\n",
    "        #RMSE_total[iter,iter2] /= 100\n",
    "        RMSE_total[iter,iter2] = np.mean(RMSE_all)\n",
    "        if iter2 > 0 and RMSE_total[iter,iter2] < lamda_alpha[2,iter]:\n",
    "            lamda_alpha[2,iter] = RMSE_total[iter,iter2]\n",
    "            lamda_alpha[1,iter] = alpha_use[iter2]\n",
    "        elif iter2 == 0:\n",
    "            lamda_alpha[1,iter] = alpha_use[iter2]\n",
    "            lamda_alpha[2,iter] = RMSE_total[iter,iter2]\n"
   ]
  },
  {
   "cell_type": "code",
   "execution_count": 4,
   "metadata": {
    "scrolled": true
   },
   "outputs": [
    {
     "data": {
      "image/png": "[encoded data removed]",
      "text/plain": [
       "<matplotlib.figure.Figure at 0x7c4fc50>"
      ]
     },
     "metadata": {},
     "output_type": "display_data"
    }
   ],
   "source": [
    "plt.plot(lamda_alpha[0,],lamda_alpha[2,], marker='o')\n",
    "plt.xlabel('lamda')\n",
    "plt.ylabel('RMSE using best alpha')\n",
    "plt.show()\n"
   ]
  },
  {
   "cell_type": "code",
   "execution_count": 5,
   "metadata": {},
   "outputs": [
    {
     "name": "stdout",
     "output_type": "stream",
     "text": [
      "[[0.23570226 0.17517033 0.13168796 0.10416963 0.09305335 0.10373842\n",
      "  0.15088801 0.275296   0.57728481 1.28852158 2.91031391 6.43094604]\n",
      " [0.23570226 0.17234451 0.12812118 0.10139524 0.09132432 0.0986445\n",
      "  0.12836977 0.19838521 0.3582041  0.71228662 1.47948865 3.07006431]\n",
      " [0.23570226 0.16941374 0.12469666 0.09925457 0.09129557 0.09875057\n",
      "  0.12099365 0.16602639 0.25933475 0.45651168 0.85824678 1.65269008]\n",
      " [0.23570226 0.16638704 0.1215346  0.09797639 0.09291082 0.10225223\n",
      "  0.12151004 0.15454947 0.21666701 0.3385911  0.57198543 1.00443373]\n",
      " [0.23570226 0.16329961 0.11884689 0.09795086 0.09651388 0.10848235\n",
      "  0.12718314 0.15432759 0.20062213 0.28436747 0.43540627 0.69728175]\n",
      " [0.23570226 0.16023281 0.11699503 0.0997967  0.1027156  0.11757618\n",
      "  0.13696384 0.16139529 0.1997984  0.26438402 0.37395473 0.55325772]\n",
      " [0.23570226 0.15735615 0.1166043  0.1044846  0.11246481 0.13019336\n",
      "  0.15086048 0.17478769 0.20990496 0.26583524 0.35531541 0.495217  ]\n",
      " [0.23570226 0.15503142 0.11880737 0.11357844 0.12709905 0.14767278\n",
      "  0.17028114 0.19554105 0.23034695 0.28416215 0.36678095 0.4902415 ]\n",
      " [0.23570226 0.15412985 0.12583047 0.12977064 0.14923553 0.17342849\n",
      "  0.19954601 0.22896957 0.26734609 0.32458781 0.40958102 0.5323468 ]\n",
      " [0.23570226 0.15732319 0.14338625 0.16063654 0.18936152 0.2222489\n",
      "  0.25831373 0.29909619 0.34966541 0.41850802 0.51652328 0.65888175]\n",
      " [0.23570226 0.18252733 0.21528139 0.27096967 0.33063418 0.39569491\n",
      "  0.47799492 0.583775   0.71970309 0.90342888 1.16091549 1.56359287]]\n"
     ]
    }
   ],
   "source": [
    "print RMSE_total"
   ]
  },
  {
   "cell_type": "code",
   "execution_count": null,
   "metadata": {},
   "outputs": [],
   "source": []
  },
  {
   "cell_type": "code",
   "execution_count": null,
   "metadata": {},
   "outputs": [],
   "source": []
  },
  {
   "cell_type": "code",
   "execution_count": null,
   "metadata": {},
   "outputs": [],
   "source": []
  }
 ],
 "metadata": {
  "kernelspec": {
   "display_name": "Python 2",
   "language": "python",
   "name": "python2"
  },
  "language_info": {
   "codemirror_mode": {
    "name": "ipython",
    "version": 2
   },
   "file_extension": ".py",
   "mimetype": "text/x-python",
   "name": "python",
   "nbconvert_exporter": "python",
   "pygments_lexer": "ipython2",
   "version": "2.7.14"
  }
 },
 "nbformat": 4,
 "nbformat_minor": 2
}
